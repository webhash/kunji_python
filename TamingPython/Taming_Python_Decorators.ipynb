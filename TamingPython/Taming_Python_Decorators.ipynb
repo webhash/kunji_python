{
 "cells": [
  {
   "cell_type": "code",
   "execution_count": 1,
   "metadata": {},
   "outputs": [
    {
     "name": "stdout",
     "output_type": "stream",
     "text": [
      "Hello World!!!\n",
      "\n",
      "We are using python with version as  3.9.0\n"
     ]
    }
   ],
   "source": [
    "print(note := \"Hello World!!!\")\n",
    "print()\n",
    "import platform\n",
    "print(note := \"We are using python with version as \" , platform.python_version())"
   ]
  },
  {
   "cell_type": "markdown",
   "metadata": {},
   "source": [
    "## We first look at the unpacking behaviour  "
   ]
  },
  {
   "cell_type": "code",
   "execution_count": 2,
   "metadata": {},
   "outputs": [
    {
     "name": "stdout",
     "output_type": "stream",
     "text": [
      "s t r i n g\n",
      "s e t\n",
      "t u p l e\n",
      "d i c t\n"
     ]
    }
   ],
   "source": [
    "s, t, r, i, n, g = \"string\"\n",
    "print(s, t, r, i, n, g)\n",
    "\n",
    "# there is no concept of order for set \n",
    "S, E, T = {'s', 'e', 't'}\n",
    "print(S, E, T)\n",
    "\n",
    "t, u, p, l, e = ('t', 'u', 'p', 'l', 'e')\n",
    "print(t, u, p, l, e)\n",
    "\n",
    "d, i, c, t = {'d': 1, 'i': 2, 'c': 3, 't': 4}\n",
    "print(d, i, c, t)\n"
   ]
  },
  {
   "cell_type": "code",
   "execution_count": 3,
   "metadata": {},
   "outputs": [
    {
     "name": "stdout",
     "output_type": "stream",
     "text": [
      "but we have to ensure that we have same number of variables as the number of item(or length) in iteratable\n",
      "\n",
      "or else we shall get ValueError \n",
      "\n",
      "but many times we do not know the length before hand\n",
      "\n",
      "\n",
      "This is a key thing to remember, that many a time we do not know the length of things before hand\n"
     ]
    }
   ],
   "source": [
    "\n",
    "print(note := 'but we have to ensure that we have same number of variables as the number of item(or length) \\\n",
    "in iteratable')\n",
    "print()\n",
    "print(note := 'or else we shall get ValueError ')\n",
    "print()\n",
    "print(note := 'but many times we do not know the length before hand')\n",
    "print()\n",
    "print()\n",
    "print(note := 'This is a key thing to remember, that many a time we do not know the length of things before hand')\n",
    "\n",
    "# s, t, r, i, n = \"string\"\n"
   ]
  },
  {
   "cell_type": "code",
   "execution_count": 4,
   "metadata": {},
   "outputs": [
    {
     "name": "stdout",
     "output_type": "stream",
     "text": [
      "we can use the * to let python do the magic i.e creating a list of all the remainder of values and assign it to starred variable\n",
      "name of this magic is unpacking\n",
      "\n",
      "<class 'str'>\n",
      "<class 'list'>\n",
      "s ['t', 'r', 'i', 'n', 'g']\n"
     ]
    }
   ],
   "source": [
    "print( note := 'we can use the * to let python do the magic i.e creating a list of all the remainder of values \\\n",
    "and assign it to starred variable')\n",
    "print(note := 'name of this magic is unpacking')\n",
    "print()\n",
    "\n",
    "s, *tring = 'string'\n",
    "print(type(s))\n",
    "print(type(tring))\n",
    "print(s, tring)"
   ]
  },
  {
   "cell_type": "code",
   "execution_count": 5,
   "metadata": {},
   "outputs": [
    {
     "name": "stdout",
     "output_type": "stream",
     "text": [
      "regardless of the input data we convert the things to list\n",
      "\n",
      "<class 'str'>\n",
      "<class 'list'>\n",
      "s ['e', 't']\n"
     ]
    }
   ],
   "source": [
    "print(note := \"regardless of the input data we convert the things to list\")\n",
    "print()\n",
    "\n",
    "s, *et = {'s', 'e', 't'}\n",
    "print(type(s))\n",
    "print(type(et))\n",
    "print(s, et)"
   ]
  },
  {
   "cell_type": "code",
   "execution_count": 6,
   "metadata": {},
   "outputs": [
    {
     "name": "stdout",
     "output_type": "stream",
     "text": [
      "we can also have *variable in middle , but we can have only one of them at same level\n",
      "\n",
      "<class 'str'>\n",
      "<class 'list'>\n",
      "<class 'str'>\n",
      "t ['u', 'p', 'l'] e\n"
     ]
    }
   ],
   "source": [
    "print(note := 'we can also have *variable in middle , but we can have only one of them at same level')\n",
    "print()\n",
    "\n",
    "t, *u, ple = ('t', 'u', 'p', 'l', 'e')\n",
    "print(type(t))\n",
    "print(type(u))\n",
    "print(type(ple))\n",
    "print(t, u, ple)"
   ]
  },
  {
   "cell_type": "code",
   "execution_count": 7,
   "metadata": {},
   "outputs": [
    {
     "name": "stdout",
     "output_type": "stream",
     "text": [
      "<class 'str'>\n",
      "<class 'list'>\n",
      "d ['i', 'c', 't']\n",
      "\n",
      "as you noticed that single * unpacks only the keys of the dict\n"
     ]
    }
   ],
   "source": [
    "d, *ict = {'d': 1, 'i': 2, 'c': 3, 't': 4}\n",
    "print(type(d))\n",
    "print(type(ict))\n",
    "print(d, ict)\n",
    "print()\n",
    "print(note := 'as you noticed that single * unpacks only the keys of the dict')\n"
   ]
  },
  {
   "cell_type": "code",
   "execution_count": 8,
   "metadata": {},
   "outputs": [
    {
     "name": "stdout",
     "output_type": "stream",
     "text": [
      "as tring et, u and ict are list, below statement shall create list of list\n",
      "\n",
      "[['t', 'r', 'i', 'n', 'g'], ['e', 't'], ['u', 'p', 'l'], ['i', 'c', 't']]\n"
     ]
    }
   ],
   "source": [
    "print(note := 'as tring et, u and ict are list, below statement shall create list of list')\n",
    "print()\n",
    "l = [tring, et, u, ict]\n",
    "print(l)\n"
   ]
  },
  {
   "cell_type": "code",
   "execution_count": 9,
   "metadata": {},
   "outputs": [
    {
     "name": "stdout",
     "output_type": "stream",
     "text": [
      "we can use the * to unpack the lists\n",
      "\n",
      "['t', 'r', 'i', 'n', 'g', 'e', 't', 'u', 'p', 'l', 'i', 'c', 't']\n"
     ]
    }
   ],
   "source": [
    "print(note := 'we can use the * to unpack the lists')\n",
    "print()\n",
    "l = [*tring, *et, *u, *ict]\n",
    "print(l)"
   ]
  },
  {
   "cell_type": "code",
   "execution_count": 10,
   "metadata": {},
   "outputs": [
    {
     "name": "stdout",
     "output_type": "stream",
     "text": [
      "as python also support nested unpacking, we can have things like below\n",
      "\n",
      "we mentioned that we can have only one * at one level, here we can see the real example, x,y,z is inner level and can use *\n",
      "\n",
      "1 [2, 3] s ['m', 'o', 'r', 'e', 'm', 'a', 'g', 'i', 'c'] s\n"
     ]
    }
   ],
   "source": [
    "print(note := 'as python also support nested unpacking, we can have things like below')\n",
    "print()\n",
    "print(note := 'we mentioned that we can have only one * at one level, \\\n",
    "here we can see the real example, x,y,z is inner level and can use *')\n",
    "print()\n",
    "a, *b, (x, *y, z) = [1, 2, 3, 'smoremagics']\n",
    "print(a, b, x, y, z)\n"
   ]
  },
  {
   "cell_type": "code",
   "execution_count": 11,
   "metadata": {},
   "outputs": [
    {
     "name": "stdout",
     "output_type": "stream",
     "text": [
      "we can use the unpacking to create sets too\n",
      "\n",
      "{'wrong', 'right', 'yes', 'no', 'maybe'}\n",
      "but as sets are not ordered data structure, do not expect any order in result\n"
     ]
    }
   ],
   "source": [
    "print(note := 'we can use the unpacking to create sets too')\n",
    "print()\n",
    "s1 = {'yes', 'no', 'maybe'}\n",
    "s2 = {'right', 'wrong'}\n",
    "\n",
    "S = {*s1, *s2}\n",
    "print(S)\n",
    "print(note := 'but as sets are not ordered data structure, do not expect any order in result')\n"
   ]
  },
  {
   "cell_type": "code",
   "execution_count": 12,
   "metadata": {},
   "outputs": [
    {
     "name": "stdout",
     "output_type": "stream",
     "text": [
      "remember that when we unpack a dict only the keys are returned\n",
      "\n",
      "we get the keys and thus create  set and not a dict\n",
      "{'wrong', 'right', 'yes', 'no', 'maybe'}\n",
      "<class 'set'>\n"
     ]
    }
   ],
   "source": [
    "print(note := 'remember that when we unpack a dict only the keys are returned')\n",
    "d1 = {'yes': 1, 'no': 0, 'maybe': 2}\n",
    "d2 = {'right': -1, 'wrong': -2}\n",
    "print()\n",
    "\n",
    "print(note := 'we get the keys and thus create  set and not a dict')\n",
    "D = {*d1, *d2}\n",
    "print(D)\n",
    "print(type(D))"
   ]
  },
  {
   "cell_type": "code",
   "execution_count": 13,
   "metadata": {},
   "outputs": [
    {
     "name": "stdout",
     "output_type": "stream",
     "text": [
      "if you want to get both key,values from the dict we have to use double * i.e. **\n",
      "\n",
      "{'yes': 1, 'no': 0, 'maybe': 2, 'right': -1, 'wrong': -2}\n",
      "<class 'dict'>\n",
      "\n",
      "so basically you can merge dicts via this approach\n"
     ]
    }
   ],
   "source": [
    "print(note := 'if you want to get both key,values from the dict we have to use double * i.e. **')\n",
    "print()\n",
    "D = {**d1, **d2}\n",
    "print(D)\n",
    "print(type(D))\n",
    "print()\n",
    "print(note := 'so basically you can merge dicts via this approach')"
   ]
  },
  {
   "cell_type": "markdown",
   "metadata": {},
   "source": [
    "## Now we see unpacking behaviour in context of function "
   ]
  },
  {
   "cell_type": "code",
   "execution_count": 14,
   "metadata": {},
   "outputs": [
    {
     "name": "stdout",
     "output_type": "stream",
     "text": [
      "so now we know that in python * and ** have special meaning\n",
      "when we use * and ** while passing the parameters to the function,python also does something magical\n"
     ]
    }
   ],
   "source": [
    "print(note:= 'so now we know that in python * and ** have special meaning')\n",
    "print(note:= 'when we use * and ** while passing the parameters to the function,\\\n",
    "python also does something magical')"
   ]
  },
  {
   "cell_type": "code",
   "execution_count": 15,
   "metadata": {},
   "outputs": [
    {
     "name": "stdout",
     "output_type": "stream",
     "text": [
      "a simple problem statement : many a times function consumes multiple arguments\n",
      "it could become messy to deal with each of them\n",
      "\n",
      "but don`t worry python has solution for that ...say hello to  *\n",
      "\n",
      "love\n",
      "life\n",
      "<class 'tuple'>\n",
      "(1, 2, 3, 4, 5, 6, 7, 8)\n",
      "total sum is  36\n"
     ]
    }
   ],
   "source": [
    "print(note:= 'a simple problem statement : many a times function consumes multiple arguments')\n",
    "print(note:= 'it could become messy to deal with each of them')\n",
    "print()\n",
    "print(note := 'but don`t worry python has solution for that ...say hello to  *')\n",
    "print()\n",
    "def sums(foo, bar, *args):\n",
    "    print(foo)\n",
    "    print(bar)\n",
    "    print(type(args))\n",
    "    print(args)\n",
    "    s = sum(args)\n",
    "    print('total sum is ', s)\n",
    "\n",
    "\n",
    "sums('love', 'life', 1,2,3,4,5,6,7,8)"
   ]
  },
  {
   "cell_type": "code",
   "execution_count": 16,
   "metadata": {},
   "outputs": [
    {
     "name": "stdout",
     "output_type": "stream",
     "text": [
      "although iteratable unpacking returns a list, in context of function it returns tuple\n",
      "\n",
      "understanding difference between mutable and immutable is critical ... we can tackle this topic in future talks\n",
      "\n"
     ]
    }
   ],
   "source": [
    "print(note := 'although iteratable unpacking returns a list, \\\n",
    "in context of function it returns tuple')\n",
    "print()\n",
    "\n",
    "print(\"understanding difference between mutable and immutable is critical ... \\\n",
    "we can tackle this topic in future talks\")\n",
    "print()"
   ]
  },
  {
   "cell_type": "code",
   "execution_count": 17,
   "metadata": {},
   "outputs": [
    {
     "name": "stdout",
     "output_type": "stream",
     "text": [
      "one can use any valid param name instead of args, but sticking to standard nomenclature makes your code readable\n",
      "\n",
      "<class 'tuple'>\n",
      "(1, 2, 3, 4, 5, 6, 7, 8)\n",
      "total sum is  36\n"
     ]
    }
   ],
   "source": [
    "print( note := 'one can use any valid param name instead of args, but sticking to standard nomenclature \\\n",
    "makes your code readable')\n",
    "print()\n",
    "def sums_1(*anything):\n",
    "    print(type(anything))\n",
    "    print(anything)\n",
    "    s = sum(anything)\n",
    "    print('total sum is ', s)\n",
    "\n",
    "\n",
    "sums_1(1,2,3,4,5,6,7,8)"
   ]
  },
  {
   "cell_type": "code",
   "execution_count": 18,
   "metadata": {},
   "outputs": [
    {
     "name": "stdout",
     "output_type": "stream",
     "text": [
      "lets quickly have a look at the below function\n",
      "\n",
      "this function works for all the following scenarios\n"
     ]
    }
   ],
   "source": [
    "print(note := 'lets quickly have a look at the below function')\n",
    "print()\n",
    "\n",
    "def sum_3(*args, flag=False):\n",
    "    if len(args):\n",
    "        print(args)\n",
    "        print('total sum is ', sum(args))\n",
    "    if flag:\n",
    "        print('we raise the flag')\n",
    "\n",
    "print(note := 'this function works for all the following scenarios')\n",
    "\n",
    "sum_3()"
   ]
  },
  {
   "cell_type": "code",
   "execution_count": 19,
   "metadata": {},
   "outputs": [
    {
     "name": "stdout",
     "output_type": "stream",
     "text": [
      "we can pass just the flag value\n",
      "\n",
      "we raise the flag\n"
     ]
    }
   ],
   "source": [
    "print(note := 'we can pass just the flag value')\n",
    "print()\n",
    "sum_3(flag=True)\n"
   ]
  },
  {
   "cell_type": "code",
   "execution_count": 20,
   "metadata": {},
   "outputs": [
    {
     "name": "stdout",
     "output_type": "stream",
     "text": [
      "we can pass arguments and skip the flag variable\n",
      "\n",
      "(1, 2, 3, 4, 5)\n",
      "total sum is  15\n"
     ]
    }
   ],
   "source": [
    "print(note := 'we can pass arguments and skip the flag variable')\n",
    "print()\n",
    "sum_3(1, 2, 3, 4, 5)\n"
   ]
  },
  {
   "cell_type": "code",
   "execution_count": 21,
   "metadata": {},
   "outputs": [
    {
     "name": "stdout",
     "output_type": "stream",
     "text": [
      "and lastly we can pass both the args and flag\n",
      "\n",
      "(1, 2, 3, 4, 5)\n",
      "total sum is  15\n",
      "we raise the flag\n"
     ]
    }
   ],
   "source": [
    "print(note := 'and lastly we can pass both the args and flag')\n",
    "print()\n",
    "sum_3(1, 2, 3, 4, 5, flag=True)"
   ]
  },
  {
   "cell_type": "code",
   "execution_count": 22,
   "metadata": {},
   "outputs": [
    {
     "name": "stdout",
     "output_type": "stream",
     "text": [
      "remember the double asterisks ? yes **\n",
      "** can be used to consume both the param name and the argument value passed by the user.\n",
      "\n",
      "<class 'dict'>\n",
      "{'flag': False, 'a': 1, 'b': 2, 'c': 3, 'd': 4, 'e': 5}\n",
      "total sum is  0\n"
     ]
    }
   ],
   "source": [
    "\n",
    "print(note := 'remember the double asterisks ? yes **')\n",
    "print(note := '** can be used to consume both the param name and the argument value passed by the user.')\n",
    "print()\n",
    "\n",
    "def sum_4(**kwargs):\n",
    "    if len(kwargs):\n",
    "        print(type(kwargs))\n",
    "        print(kwargs)\n",
    "        sum = 0\n",
    "        if 'flag' in kwargs:\n",
    "            if kwargs['flag']:\n",
    "                for i in kwargs:\n",
    "                    sum += kwargs[i]\n",
    "        print('total sum is ', sum)\n",
    "\n",
    "sum_4(flag=False, a=1, b=2, c=3, d=4, e=5)"
   ]
  },
  {
   "cell_type": "code",
   "execution_count": 23,
   "metadata": {},
   "outputs": [
    {
     "name": "stdout",
     "output_type": "stream",
     "text": [
      "we can also pass the position arguments, but they should be before kwargs, or else we shall get error\n",
      "\n",
      "{'flag': True, 'a': 1, 'b': 2, 'c': 3, 'd': 4, 'e': 5}\n",
      "total sum is  46\n"
     ]
    }
   ],
   "source": [
    "print(note := 'we can also pass the position arguments, but they should be before kwargs, \\\n",
    "or else we shall get error')\n",
    "print()\n",
    "def sum_5(x, y, **kwargs):\n",
    "    sum = x + y\n",
    "    if len(kwargs):\n",
    "        print(kwargs)\n",
    "        if 'flag' in kwargs:\n",
    "            if kwargs['flag']:\n",
    "                for i in kwargs:\n",
    "                    sum += kwargs[i]\n",
    "        print('total sum is ', sum)\n",
    "\n",
    "\n",
    "sum_5(10, 20, flag=True, a=1, b=2, c=3, d=4, e=5)"
   ]
  },
  {
   "cell_type": "code",
   "execution_count": 24,
   "metadata": {},
   "outputs": [
    {
     "name": "stdout",
     "output_type": "stream",
     "text": [
      "and finally we can use both the * and ** to get the positional parameters and named parameters\n",
      "\n",
      "<class 'tuple'>\n",
      "30\n",
      "<class 'dict'>\n",
      "{'flag': True, 'a': 1, 'b': 2, 'c': 3, 'd': 4}\n",
      "total sum is  41\n"
     ]
    }
   ],
   "source": [
    "print(note:= 'and finally we can use both the * and ** to get the positional parameters and named parameters')\n",
    "print()\n",
    "\n",
    "def sum_f(*args, **kwargs):\n",
    "    print(type(args))\n",
    "    s = sum(args)\n",
    "    print(s)\n",
    "    if len(kwargs):\n",
    "        print(type(kwargs))\n",
    "        print(kwargs)\n",
    "        if 'flag' in kwargs:\n",
    "            if kwargs['flag']:\n",
    "                for i in kwargs:\n",
    "                    s += kwargs[i]\n",
    "        print('total sum is ', s)\n",
    "\n",
    "\n",
    "sum_f(10, 20, flag=True, a=1, b=2, c=3, d=4)"
   ]
  },
  {
   "cell_type": "code",
   "execution_count": 25,
   "metadata": {},
   "outputs": [
    {
     "name": "stdout",
     "output_type": "stream",
     "text": [
      "so we have understood how we can create a function thatcan consume any valid parameters thrown at it\n"
     ]
    }
   ],
   "source": [
    "print( note:= \"so we have understood how we can create a function that\\\n",
    "can consume any valid parameters thrown at it\")\n"
   ]
  },
  {
   "cell_type": "markdown",
   "metadata": {},
   "source": [
    "## Now lets Learn what it means for a function to be first class object "
   ]
  },
  {
   "cell_type": "code",
   "execution_count": 26,
   "metadata": {},
   "outputs": [
    {
     "name": "stdout",
     "output_type": "stream",
     "text": [
      "we are inside the something function\n"
     ]
    },
    {
     "data": {
      "text/plain": [
       "'yay'"
      ]
     },
     "execution_count": 26,
     "metadata": {},
     "output_type": "execute_result"
    }
   ],
   "source": [
    "# __name__ can be used to get the name of the function as string\n",
    "def something():\n",
    "    print(note := 'we are inside the ' + something.__name__ + ' function')\n",
    "    return 'yay'\n",
    "\n",
    "something()"
   ]
  },
  {
   "cell_type": "code",
   "execution_count": 27,
   "metadata": {},
   "outputs": [
    {
     "name": "stdout",
     "output_type": "stream",
     "text": [
      "In python function are first class object, means they can be passed around as variable or assigned to other variables\n",
      "\n",
      "Type of something is  <class 'function'>\n"
     ]
    }
   ],
   "source": [
    "print(note := 'In python function are first class object, \\\n",
    "means they can be passed around as \\\n",
    "variable or assigned to other variables')\n",
    "print()\n",
    "print('Type of something is ', type(something))\n",
    "\n",
    "new_something = something\n"
   ]
  },
  {
   "cell_type": "code",
   "execution_count": 28,
   "metadata": {},
   "outputs": [
    {
     "name": "stdout",
     "output_type": "stream",
     "text": [
      "Type of new_something is  <class 'function'>\n",
      "Both function points to the same memory address\n",
      "\n",
      "0x7f93904a2b80\n",
      "0x7f93904a2b80\n"
     ]
    }
   ],
   "source": [
    "print('Type of new_something is ', type(new_something))\n",
    "print('Both function points to the same memory address')\n",
    "print()\n",
    "print(hex(id(new_something)))\n",
    "print(hex(id(something)))\n",
    "assert hex(id(new_something)) == hex(id(something))\n",
    "\n"
   ]
  },
  {
   "cell_type": "code",
   "execution_count": 29,
   "metadata": {},
   "outputs": [
    {
     "name": "stdout",
     "output_type": "stream",
     "text": [
      "if we call new_something it would call the something function\n",
      "\n",
      "we are inside the something function\n",
      "\n",
      "__name__ variable would still refer to original function name \n"
     ]
    }
   ],
   "source": [
    "print(note := 'if we call new_something it would call the something function')\n",
    "print()\n",
    "new_something()\n",
    "print()\n",
    "print(note := '__name__ variable would still refer to original function name ')"
   ]
  },
  {
   "cell_type": "code",
   "execution_count": 30,
   "metadata": {},
   "outputs": [
    {
     "name": "stdout",
     "output_type": "stream",
     "text": [
      "We can pass function as variable to other functions\n",
      "\n",
      "I am C\n",
      "I am A\n",
      "I am B\n"
     ]
    }
   ],
   "source": [
    "print(note := 'We can pass function as variable to other functions')\n",
    "print()\n",
    "def func_a():\n",
    "    return \"I am A\"\n",
    "\n",
    "\n",
    "def func_b():\n",
    "    return \"I am B\"\n",
    "\n",
    "\n",
    "def main_func(*fun):\n",
    "    print(\"I am C\")\n",
    "    for f in fun:\n",
    "        print(f())\n",
    "\n",
    "\n",
    "main_func(func_a, func_b)"
   ]
  },
  {
   "cell_type": "code",
   "execution_count": 31,
   "metadata": {},
   "outputs": [
    {
     "name": "stdout",
     "output_type": "stream",
     "text": [
      "bit tangential ... but python also supports the lamdas\n",
      "yay!!!\n"
     ]
    }
   ],
   "source": [
    "print(note := 'bit tangential ... but python also supports the lamdas')\n",
    "\n",
    "some_func = lambda some: print(some)\n",
    "\n",
    "some_func('yay!!!')"
   ]
  },
  {
   "cell_type": "code",
   "execution_count": 32,
   "metadata": {},
   "outputs": [
    {
     "name": "stdout",
     "output_type": "stream",
     "text": [
      "lambda is a nameless function, the variable points to the lambda function created\n",
      "\n",
      "<class 'function'>\n"
     ]
    }
   ],
   "source": [
    "f = lambda x, y: x ** y\n",
    "print(note := 'lambda is a nameless function, the variable points to the lambda function created')\n",
    "print()\n",
    "print(type(f))"
   ]
  },
  {
   "cell_type": "code",
   "execution_count": 33,
   "metadata": {},
   "outputs": [
    {
     "name": "stdout",
     "output_type": "stream",
     "text": [
      "we can call this function by using the variable passing required parameters\n",
      "\n",
      "8\n"
     ]
    }
   ],
   "source": [
    "print(note := 'we can call this function by using the variable passing required parameters')\n",
    "print()\n",
    "print(f(2, 3))\n",
    "assert f(2, 2) == 4"
   ]
  },
  {
   "cell_type": "code",
   "execution_count": 34,
   "metadata": {},
   "outputs": [
    {
     "name": "stdout",
     "output_type": "stream",
     "text": [
      "lambdas also allows default parameters\n",
      "\n",
      "4\n"
     ]
    }
   ],
   "source": [
    "print(note := 'lambdas also allows default parameters')\n",
    "print()\n",
    "f = lambda x, y=2: x ** y\n",
    "print(f(2))\n",
    "assert f(2) == 4"
   ]
  },
  {
   "cell_type": "code",
   "execution_count": 35,
   "metadata": {},
   "outputs": [
    {
     "name": "stdout",
     "output_type": "stream",
     "text": [
      "check the below function, here we pass two variable, first one is used as an argument to the lambda function that is passed as second parameter\n",
      "\n",
      "4\n"
     ]
    }
   ],
   "source": [
    "print(note := 'check the below function, here we pass two variable, \\\n",
    "first one is used as an argument to the lambda function that is passed as second parameter')\n",
    "print()\n",
    "\n",
    "def use_lambda(x, lm):\n",
    "    print(lm(x))\n",
    "\n",
    "\n",
    "use_lambda(2, f)"
   ]
  },
  {
   "cell_type": "code",
   "execution_count": 36,
   "metadata": {},
   "outputs": [
    {
     "name": "stdout",
     "output_type": "stream",
     "text": [
      "higher order function is a function that takes function as argument and can return function as a result\n",
      "\n",
      "map and filter are example of such functions\n",
      "\n",
      "here is an example of map for you\n"
     ]
    },
    {
     "data": {
      "text/plain": [
       "[4, 16, 64]"
      ]
     },
     "execution_count": 36,
     "metadata": {},
     "output_type": "execute_result"
    }
   ],
   "source": [
    "print(note := 'higher order function is a function that takes function as argument \\\n",
    "and can return function as a result')\n",
    "print()\n",
    "print(note := 'map and filter are example of such functions')\n",
    "print()\n",
    "print(note := 'here is an example of map for you')\n",
    "m = map(f, [2, 4, 8])\n",
    "list(m)"
   ]
  },
  {
   "cell_type": "markdown",
   "metadata": {},
   "source": [
    "## Now we will look at the scopes "
   ]
  },
  {
   "cell_type": "code",
   "execution_count": 37,
   "metadata": {},
   "outputs": [
    {
     "name": "stdout",
     "output_type": "stream",
     "text": [
      "Lets first have a look at the global and local scopes before we go into closures\n",
      "scope of the variable is determined by where it is defined\n",
      "\n",
      "Above function will access the global variable as it was not found inside its own code block\n",
      "\n",
      "I'm Local\n",
      "I'm global\n"
     ]
    }
   ],
   "source": [
    "print(note := \"Lets first have a look at the global and local scopes before we go into closures\")\n",
    "print(note := \"scope of the variable is determined by where it is defined\")\n",
    "print()\n",
    "this_is_global = \"I'm global\"\n",
    "\n",
    "\n",
    "def some_func():\n",
    "    this_is_local = \"I'm Local\"\n",
    "    print(this_is_local)\n",
    "    print(this_is_global)\n",
    "\n",
    "print(note := 'Above function will access the global variable as it was not found inside its own code block')\n",
    "print()\n",
    "\n",
    "some_func()"
   ]
  },
  {
   "cell_type": "code",
   "execution_count": 38,
   "metadata": {},
   "outputs": [
    {
     "name": "stdout",
     "output_type": "stream",
     "text": [
      "so python keep on search for variable definition from inner to outer scope\n",
      "and if nothing is found till the top level python will raise its hand and throw error\n",
      "\n"
     ]
    },
    {
     "data": {
      "text/plain": [
       "'\\ndef will_err():\\n    print(this_is_not_defined_any_where)\\n'"
      ]
     },
     "execution_count": 38,
     "metadata": {},
     "output_type": "execute_result"
    }
   ],
   "source": [
    "print(note := 'so python keep on search for variable definition from inner to outer scope')\n",
    "print(note := 'and if nothing is found till the top level python will raise its hand and throw error')\n",
    "print()\n",
    "\n",
    "\"\"\"\n",
    "def will_err():\n",
    "    print(this_is_not_defined_any_where)\n",
    "\"\"\"\n"
   ]
  },
  {
   "cell_type": "code",
   "execution_count": 39,
   "metadata": {},
   "outputs": [
    {
     "name": "stdout",
     "output_type": "stream",
     "text": [
      "I'm Local\n",
      "I'm not global\n",
      "\n",
      "In the above function, we created a local variable with the same name as the global variable\n",
      "but python does not know you want to refer to something beyond the current scope\n",
      "and thus we shall see the local values printed\n",
      "\n"
     ]
    }
   ],
   "source": [
    "def some_func_2():\n",
    "    this_is_local = \"I'm Local\"\n",
    "    this_is_global = \"I'm not global\"\n",
    "    print(this_is_local)\n",
    "    print(this_is_global)\n",
    "\n",
    "some_func_2()\n",
    "print()\n",
    "print( note := \"In the above function, we created a local variable with the same name as the global variable\")\n",
    "print( note := \"but python does not know you want to refer to something beyond the current scope\")\n",
    "print( note := \"and thus we shall see the local values printed\")\n",
    "print()\n"
   ]
  },
  {
   "cell_type": "code",
   "execution_count": 40,
   "metadata": {},
   "outputs": [
    {
     "name": "stdout",
     "output_type": "stream",
     "text": [
      "as expected the value of the global variable remains unchanged\n",
      "\n",
      "I'm global\n"
     ]
    }
   ],
   "source": [
    "print( note := \"as expected the value of the global variable remains unchanged\")\n",
    "print()\n",
    "print(this_is_global)"
   ]
  },
  {
   "cell_type": "code",
   "execution_count": 41,
   "metadata": {},
   "outputs": [
    {
     "name": "stdout",
     "output_type": "stream",
     "text": [
      "If we want to modify the global variable within the local context, python provides the global keyword\n",
      "\n",
      "we can use the locals function to check the variable that exists in local scope\n",
      "{'this_is_local': \"I'm Local\", 'note': 'we can use the locals function to check the variable that exists in local scope'}\n",
      "I'm Local\n",
      "I'm global\n",
      "I'm global now\n"
     ]
    }
   ],
   "source": [
    "print(note := \"If we want to modify the global variable within the local context, \\\n",
    "python provides the global keyword\")\n",
    "\n",
    "this_is_new_global = \"I am something\"\n",
    "\n",
    "print()\n",
    "\n",
    "def some_func_3():\n",
    "    global this_is_global_too\n",
    "    global this_is_new_global\n",
    "    this_is_local = \"I'm Local\"\n",
    "    this_is_global_too = \"new global is created\"\n",
    "    this_is_new_global = \"I'm global now\"\n",
    "    print( note:= \"we can use the locals function to check the variable that exists in local scope\")\n",
    "    print(locals())\n",
    "    print(this_is_local)\n",
    "    print(this_is_global)\n",
    "    print(this_is_new_global)\n",
    "\n",
    "some_func_3()"
   ]
  },
  {
   "cell_type": "code",
   "execution_count": 42,
   "metadata": {},
   "outputs": [
    {
     "name": "stdout",
     "output_type": "stream",
     "text": [
      "As you can see that the global value was modified by the above function\n",
      "I'm global now\n"
     ]
    }
   ],
   "source": [
    "print(note:= \"As you can see that the global value was modified by the above function\")\n",
    "print(this_is_new_global)\n"
   ]
  },
  {
   "cell_type": "code",
   "execution_count": 43,
   "metadata": {},
   "outputs": [
    {
     "name": "stdout",
     "output_type": "stream",
     "text": [
      "In the above function we also created a new global variable which was not defined before the function call\n",
      "\n",
      "magic of global keyword is that it creates this new variable inglobal scope and can be referenced by others later, if required\n",
      "\n",
      "new global is created\n"
     ]
    }
   ],
   "source": [
    "print(note := \"In the above function we also created a new global variable which \\\n",
    "was not defined before the function call\")\n",
    "print()\n",
    "print(note := \"magic of global keyword is that it creates this new variable in\\\n",
    "global scope and can be referenced by others later, if required\")\n",
    "print()\n",
    "print(this_is_global_too)"
   ]
  },
  {
   "cell_type": "code",
   "execution_count": 44,
   "metadata": {},
   "outputs": [
    {
     "name": "stdout",
     "output_type": "stream",
     "text": [
      "del command can be used to delete a variable\n",
      "\n",
      "we can use the globals function to check the variable that exists in global scope\n",
      "\n",
      "\n",
      "locals and globals also comes handy when u want todelete a variable and want to confirm if they already exists because if they do not you will get error so check before delete\n"
     ]
    }
   ],
   "source": [
    "print(note := \"del command can be used to delete a variable\")\n",
    "print()\n",
    "print(note:= 'we can use the globals function to check the variable that exists in global scope')\n",
    "print()\n",
    "if 'this_is_global' in globals():\n",
    "    del this_is_global\n",
    "print()\n",
    "print(note:= 'locals and globals also comes handy when u want to\\\n",
    "delete a variable and want to confirm if they already exists \\\n",
    "because if they do not you will get error so check before delete')\n",
    "# del this_is_global"
   ]
  },
  {
   "cell_type": "code",
   "execution_count": 45,
   "metadata": {},
   "outputs": [
    {
     "name": "stdout",
     "output_type": "stream",
     "text": [
      "we can have function defined within function, called nested function\n",
      "in those scenarios python search for the outer function for a variable referenced given its not available in current context\n",
      "\n",
      "and will throw error if nothing is found till the main level global scope\n",
      "\n",
      "if we assign value to the within inner function, to a variable defined in outer function then the outer value will be masked\n",
      "\n",
      "we are inside the function_in, and can access the local_out\n",
      "Im local to function_out\n",
      "\n",
      "but this out belongs to function_in\n",
      "\n",
      "this is out\n"
     ]
    }
   ],
   "source": [
    "print(note := \"we can have function defined within function, called nested function\")\n",
    "print(note := \"in those scenarios python search for the outer function for a variable \\\n",
    "referenced given its not available in current context\")\n",
    "print()\n",
    "print(note := \"and will throw error if nothing is found till the main level global scope\")\n",
    "print()\n",
    "print(note := \"if we assign value to the within inner function, to a variable defined \\\n",
    "in outer function then the outer value will be masked\")\n",
    "print()\n",
    "\n",
    "def function_out():\n",
    "    local_out = 'Im local to function_out'\n",
    "    out = \"this is out\"\n",
    "\n",
    "    def function_in():\n",
    "        print(\"we are inside the function_in, and can access the local_out\")\n",
    "        print(local_out)\n",
    "        print()\n",
    "        out = \"but this out belongs to function_in\"\n",
    "        print(out)\n",
    "        print()\n",
    "        \n",
    "    function_in()\n",
    "    print(out)\n",
    "\n",
    "\n",
    "function_out()"
   ]
  },
  {
   "cell_type": "code",
   "execution_count": 46,
   "metadata": {},
   "outputs": [
    {
     "name": "stdout",
     "output_type": "stream",
     "text": [
      "now we finally come to the thing that is important to us for our discussion\n",
      "python also has the keyword nonlocal for the scenarios when we want to change the variable in outer scope\n",
      "\n",
      "we are inside the function_in, and can access the local_out\n",
      "im local to function out\n",
      "\n",
      "this is new out\n",
      "\n",
      "this is new out\n"
     ]
    }
   ],
   "source": [
    "print(note := \"now we finally come to the thing that is important to us for our discussion\")\n",
    "print(note := \"python also has the keyword nonlocal for the scenarios \\\n",
    "when we want to change the variable in outer scope\")\n",
    "\n",
    "print()\n",
    "\n",
    "def function_out_2():\n",
    "    local_out = 'im local to function out'\n",
    "    out = \"this is out\"\n",
    "\n",
    "    def function_in():\n",
    "        print(\"we are inside the function_in, and can access the local_out\")\n",
    "        print(local_out)\n",
    "        print()\n",
    "        nonlocal out\n",
    "        out = \"this is new out\"\n",
    "        print(out)\n",
    "        print()\n",
    "\n",
    "    function_in()\n",
    "    print(out)\n",
    "    \n",
    "function_out_2()"
   ]
  },
  {
   "cell_type": "markdown",
   "metadata": {},
   "source": [
    "## now lets have look at closures "
   ]
  },
  {
   "cell_type": "code",
   "execution_count": 47,
   "metadata": {},
   "outputs": [
    {
     "name": "stdout",
     "output_type": "stream",
     "text": [
      "but how does python takes care of these variables internally???\n",
      "\n",
      "lets create a function that contains a variable and another inner function\n",
      "inner function access the variable defined in out function\n",
      "and we return the inner function\n",
      "\n",
      "address of the out function is  0x7f93904e8a60\n"
     ]
    }
   ],
   "source": [
    "print(note := \"but how does python takes care of these variables internally???\")\n",
    "print()\n",
    "print(note := \"lets create a function that contains a variable and another inner function\")\n",
    "print(note := \"inner function access the variable defined in out function\")\n",
    "print(note := \"and we return the inner function\")\n",
    "print()\n",
    "\n",
    "def out():\n",
    "    versions = ['v1.0', 'v1.1']\n",
    "    print(\"we are in out\")\n",
    "    print()\n",
    "    print(\"address of versions variable is \")\n",
    "    print(hex(id(versions)))\n",
    "    print()\n",
    "    \n",
    "    def inside():\n",
    "        print(\"we are in inside\")\n",
    "        print()\n",
    "        print(\"address of versions variable is \")\n",
    "        print(hex(id(versions)))\n",
    "        versions.append('v1.2')\n",
    "        print()\n",
    "        print(versions)\n",
    "        \n",
    "    print(versions)\n",
    "    print()\n",
    "    print(\"address of the inside function is \", hex(id(inside)))\n",
    "    return inside\n",
    "\n",
    "print(\"address of the out function is \", hex(id(out)))"
   ]
  },
  {
   "cell_type": "code",
   "execution_count": 48,
   "metadata": {},
   "outputs": [
    {
     "name": "stdout",
     "output_type": "stream",
     "text": [
      "we are in out\n",
      "\n",
      "address of versions variable is \n",
      "0x7f9390406280\n",
      "\n",
      "['v1.0', 'v1.1']\n",
      "\n",
      "address of the inside function is  0x7f93904e8160\n"
     ]
    }
   ],
   "source": [
    "r = out()"
   ]
  },
  {
   "cell_type": "code",
   "execution_count": 49,
   "metadata": {},
   "outputs": [
    {
     "name": "stdout",
     "output_type": "stream",
     "text": [
      "Cell objects are used to implement variables referenced by multiple scopes.\n",
      "For each such variable, a cell object is created to store the value\n",
      "cell refers to the address of the versions in outer variable\n",
      "\n",
      "(<cell at 0x7f93904de190: list object at 0x7f9390406280>,)\n"
     ]
    }
   ],
   "source": [
    "print(note := \"Cell objects are used to implement variables referenced by multiple scopes.\")\n",
    "print(note := \"For each such variable, a cell object is created to store the value\")\n",
    "print(note := 'cell refers to the address of the versions in outer variable')\n",
    "print()\n",
    "print(r.__closure__)\n"
   ]
  },
  {
   "cell_type": "code",
   "execution_count": 50,
   "metadata": {},
   "outputs": [
    {
     "name": "stdout",
     "output_type": "stream",
     "text": [
      "we can see the name of variable \"versions\" in the co_freevars portion of the __code__\n",
      "('versions',)\n",
      "\n",
      "and we can access the value of variable via cell_contents\n",
      "versions = ['v1.0', 'v1.1']\n"
     ]
    }
   ],
   "source": [
    "print(note := 'we can see the name of variable \"versions\" in the co_freevars portion of the __code__')\n",
    "print(r.__code__.co_freevars)\n",
    "print()\n",
    "print(note := 'and we can access the value of variable via cell_contents')\n",
    "print(r.__code__.co_freevars[0], \"=\", r.__closure__[0].cell_contents)"
   ]
  },
  {
   "cell_type": "code",
   "execution_count": 51,
   "metadata": {},
   "outputs": [
    {
     "name": "stdout",
     "output_type": "stream",
     "text": [
      "lets call the inner function and see the updated list\n",
      "we are in inside\n",
      "\n",
      "address of versions variable is \n",
      "0x7f9390406280\n",
      "\n",
      "['v1.0', 'v1.1', 'v1.2']\n"
     ]
    }
   ],
   "source": [
    "print(note := 'lets call the inner function and see the updated list')\n",
    "r()"
   ]
  },
  {
   "cell_type": "code",
   "execution_count": 52,
   "metadata": {},
   "outputs": [
    {
     "name": "stdout",
     "output_type": "stream",
     "text": [
      "Lets have a look at another example\n"
     ]
    }
   ],
   "source": [
    "print(note := \"Lets have a look at another example\")\n",
    "\n",
    "\n",
    "def out_1():\n",
    "    version = 0\n",
    "\n",
    "    def inc_v_1():\n",
    "        nonlocal version\n",
    "        version += 1\n",
    "        return version\n",
    "\n",
    "    def inc_v_2():\n",
    "        nonlocal version\n",
    "        version *= 2\n",
    "        return version\n",
    "\n",
    "    return inc_v_1, inc_v_2\n",
    "\n",
    "\n",
    "a, b = out_1()\n"
   ]
  },
  {
   "cell_type": "code",
   "execution_count": 53,
   "metadata": {},
   "outputs": [
    {
     "name": "stdout",
     "output_type": "stream",
     "text": [
      "we shall see the same closure information for both the inner function returned as they access the same variable\n",
      "\n",
      "(<cell at 0x7f93904eb670: int object at 0x7f938c721910>,)\n",
      "('version',)\n",
      "\n",
      "(<cell at 0x7f93904eb670: int object at 0x7f938c721910>,)\n",
      "('version',)\n",
      "\n"
     ]
    }
   ],
   "source": [
    "print(note := \"we shall see the same closure information for both \\\n",
    "the inner function returned as they access the same variable\")\n",
    "print()\n",
    "\n",
    "print(a.__closure__)\n",
    "print(a.__code__.co_freevars)\n",
    "print()\n",
    "\n",
    "print(b.__closure__)\n",
    "print(b.__code__.co_freevars)\n",
    "print()\n"
   ]
  },
  {
   "cell_type": "code",
   "execution_count": 54,
   "metadata": {},
   "outputs": [
    {
     "name": "stdout",
     "output_type": "stream",
     "text": [
      "1\n",
      "2\n",
      "3\n",
      "6\n",
      "7\n",
      "14\n"
     ]
    }
   ],
   "source": [
    "print(a())\n",
    "print(b())\n",
    "print(a())\n",
    "print(b())\n",
    "print(a())\n",
    "print(b())"
   ]
  },
  {
   "cell_type": "code",
   "execution_count": 55,
   "metadata": {},
   "outputs": [
    {
     "name": "stdout",
     "output_type": "stream",
     "text": [
      "We are almost there!!!\n",
      "\n",
      "Lets make a more complex scenario with closures\n",
      "\n",
      "We define a counter function that consumes a function,it returns an innner function and also has an internal variable\n",
      "\n",
      "Inner function uses generic agrument approach so thatit can handle anything that is thrown at it\n",
      "\n"
     ]
    }
   ],
   "source": [
    "print(note := \"We are almost there!!!\")\n",
    "print()\n",
    "print(note := \"Lets make a more complex scenario with closures\")\n",
    "print()\n",
    "print(note := \"We define a counter function that consumes a function,\\\n",
    "it returns an innner function and also has an internal variable\")\n",
    "print()\n",
    "print(note := \"Inner function uses generic agrument approach so that\\\n",
    "it can handle anything that is thrown at it\")\n",
    "print()\n",
    "\n",
    "\n",
    "def counter(fn):\n",
    "    count = 0\n",
    "\n",
    "    # fn is also local to inner function\n",
    "    def inner(*args, **kwargs):\n",
    "        nonlocal count\n",
    "        count += 1\n",
    "        print('Function ', fn.__name__, ' called ', count, ' times')\n",
    "        return fn(*args, **kwargs)\n",
    "\n",
    "    print(note := 'address of inner function is ')\n",
    "    print(hex(id(inner)))\n",
    "    return inner\n",
    "\n",
    "\n",
    "def multiply(x, y=1):\n",
    "    return x * y"
   ]
  },
  {
   "cell_type": "code",
   "execution_count": 56,
   "metadata": {},
   "outputs": [
    {
     "name": "stdout",
     "output_type": "stream",
     "text": [
      "the multiply function has below address\n",
      "0x7f93904e0310\n",
      "\n",
      "original multiply function just prints the results\n",
      "2\n",
      "\n",
      "below is the name as expected of the multiply function\n",
      "multiply\n",
      "\n"
     ]
    }
   ],
   "source": [
    "print(note := 'the multiply function has below address')\n",
    "print(hex(id(multiply)))\n",
    "print()\n",
    "print(note := 'original multiply function just prints the results')\n",
    "print(multiply(1, 2))\n",
    "print()\n",
    "print(note := 'below is the name as expected of the multiply function')\n",
    "print(multiply.__name__)\n",
    "print()"
   ]
  },
  {
   "cell_type": "code",
   "execution_count": 57,
   "metadata": {},
   "outputs": [
    {
     "name": "stdout",
     "output_type": "stream",
     "text": [
      "after we pass the multiply to counter, we shall have a new multiply\n",
      "address of inner function is \n",
      "0x7f93904e03a0\n",
      "\n",
      "we shall have a new address for the multiplicty function\n",
      "0x7f93904e03a0\n",
      "\n",
      "new multiplicity shall have a new name\n",
      "inner\n"
     ]
    }
   ],
   "source": [
    "print(note := 'after we pass the multiply to counter, we shall have a new multiply')\n",
    "multiply = counter(multiply)\n",
    "print()\n",
    "print(note := 'we shall have a new address for the multiplicty function')\n",
    "print(hex(id(multiply)))\n",
    "print()\n",
    "print(note := 'new multiplicity shall have a new name')\n",
    "print(multiply.__name__)"
   ]
  },
  {
   "cell_type": "code",
   "execution_count": 58,
   "metadata": {},
   "outputs": [
    {
     "name": "stdout",
     "output_type": "stream",
     "text": [
      "and now the new  multiply function prints the results and also the counter\n",
      "Function  multiply  called  1  times\n",
      "2\n",
      "Function  multiply  called  2  times\n",
      "8\n",
      "Function  multiply  called  3  times\n",
      "15\n",
      "Function  multiply  called  4  times\n",
      "24\n"
     ]
    }
   ],
   "source": [
    "print(note := 'and now the new  multiply function prints the results and also the counter')\n",
    "print(multiply(1, 2))\n",
    "print(multiply(2, 4))\n",
    "print(multiply(3, 5))\n",
    "print(multiply(4, 6))"
   ]
  },
  {
   "cell_type": "markdown",
   "metadata": {},
   "source": [
    "## and finally here comes the decorators "
   ]
  },
  {
   "cell_type": "code",
   "execution_count": 59,
   "metadata": {},
   "outputs": [
    {
     "name": "stdout",
     "output_type": "stream",
     "text": [
      "now lets have a look at decorators\n",
      "we have already seen decorators in classes, like @classmethod, @staticmethod\n",
      "\n",
      "the way we used multiply = counter(multiply) to apply counter to the multiple function\n",
      "python supports the @ option to do that same, beautifully\n",
      "so decorators are sort of syntatical sugar for the concept of closure\n",
      "\n",
      "address of inner function is \n",
      "0x7f93904fd1f0\n",
      "\n",
      "now the add function itself has the counter feature enabled on it\n",
      "Function  add  called  1  times\n",
      "3\n"
     ]
    }
   ],
   "source": [
    "print(note := \"now lets have a look at decorators\")\n",
    "print(note := \"we have already seen decorators in classes, like @classmethod, @staticmethod\")\n",
    "print()\n",
    "print(note := 'the way we used multiply = counter(multiply) to apply counter to the multiple function')\n",
    "print(note := 'python supports the @ option to do that same, beautifully')\n",
    "print(note := 'so decorators are sort of syntatical sugar for the concept of closure')\n",
    "print()\n",
    "\n",
    "@counter\n",
    "def add(a, b=0):\n",
    "    return a + b\n",
    "\n",
    "print()\n",
    "print(note := 'now the add function itself has the counter feature enabled on it')\n",
    "print(add(1, 2))"
   ]
  },
  {
   "cell_type": "code",
   "execution_count": 60,
   "metadata": {},
   "outputs": [
    {
     "name": "stdout",
     "output_type": "stream",
     "text": [
      "but look our name information got updated even with decorator\n",
      "which is no good and can make debugging hard !!!\n",
      "\n",
      "inner\n"
     ]
    }
   ],
   "source": [
    "print(note := 'but look our name information got updated even with decorator')\n",
    "print(note := 'which is no good and can make debugging hard !!!')\n",
    "print()\n",
    "print(add.__name__)"
   ]
  },
  {
   "cell_type": "code",
   "execution_count": 61,
   "metadata": {},
   "outputs": [
    {
     "name": "stdout",
     "output_type": "stream",
     "text": [
      "but dont worry we can use the wraps functionality \n"
     ]
    },
    {
     "data": {
      "text/plain": [
       "'we say... HELLO WORLD!!!'"
      ]
     },
     "execution_count": 61,
     "metadata": {},
     "output_type": "execute_result"
    }
   ],
   "source": [
    "print(note := 'but dont worry we can use the wraps functionality ')\n",
    "\n",
    "from functools import wraps\n",
    "\n",
    "\n",
    "def wesay(func):\n",
    "    @wraps(func)\n",
    "    def wrapper(*args, **kwargs):\n",
    "        ret = func(*args, **kwargs)\n",
    "        ret = \"we say... \" + ret.upper()\n",
    "        return ret\n",
    "\n",
    "    return wrapper\n",
    "\n",
    "\n",
    "@wesay\n",
    "def hello(whom):\n",
    "    return \"Hello {to}\".format(to=whom)\n",
    "\n",
    "hello('world!!!')\n"
   ]
  },
  {
   "cell_type": "code",
   "execution_count": 62,
   "metadata": {},
   "outputs": [
    {
     "name": "stdout",
     "output_type": "stream",
     "text": [
      "we decorated the function and the function name remains the same as the original one\n"
     ]
    },
    {
     "data": {
      "text/plain": [
       "'hello'"
      ]
     },
     "execution_count": 62,
     "metadata": {},
     "output_type": "execute_result"
    }
   ],
   "source": [
    "print(note := 'we decorated the function and the function name remains the same as the original one')\n",
    "hello.__name__"
   ]
  },
  {
   "cell_type": "code",
   "execution_count": 63,
   "metadata": {},
   "outputs": [
    {
     "name": "stdout",
     "output_type": "stream",
     "text": [
      "Now lets have a look at two real world scenarios of decorators that we might want to use\n",
      "\n",
      "First one ....\n",
      "we will create a decorator that can be used to time any of the function\n",
      "\n",
      "Done with function  loop_me  in  0.013115776000000245  seconds.\n"
     ]
    },
    {
     "data": {
      "text/plain": [
       "94857547500"
      ]
     },
     "execution_count": 63,
     "metadata": {},
     "output_type": "execute_result"
    }
   ],
   "source": [
    "print(note := \"Now lets have a look at two real world scenarios of decorators that we might want to use\")\n",
    "print()\n",
    "print(note := \"First one ....\")\n",
    "print(note := \"we will create a decorator that can be used to time any of the function\")\n",
    "print()\n",
    "\n",
    "from time import perf_counter\n",
    "from functools import wraps\n",
    "\n",
    "\n",
    "def time_me(func):\n",
    "    @wraps(func)\n",
    "    def wrapper(*args, **kwargs):\n",
    "        start_time = perf_counter()\n",
    "        ret = func(*args, **kwargs)\n",
    "        end_time = perf_counter()\n",
    "        run_time = end_time - start_time\n",
    "        print(\"Done with function \", func.__name__ ,  \" in \", run_time , \" seconds.\")\n",
    "        return ret\n",
    "\n",
    "    return wrapper\n",
    "\n",
    "\n",
    "@time_me\n",
    "def loop_me(n_times):\n",
    "    s = 0 \n",
    "    for i in range(n_times):\n",
    "        s+=sum([(i*j)** 2 for j in range(1000)])\n",
    "    return s\n",
    "\n",
    "loop_me(10)"
   ]
  },
  {
   "cell_type": "code",
   "execution_count": 64,
   "metadata": {},
   "outputs": [
    {
     "name": "stdout",
     "output_type": "stream",
     "text": [
      "Second one ....\n",
      "\n",
      "We will create decorator for generic error handling that can be used with any of the function\n",
      "\n",
      "parameter passed are  \n",
      "args: 1, 1\n",
      "kwargs: flag = True\n",
      "we have our own exception handler !!!\n"
     ]
    },
    {
     "data": {
      "text/plain": [
       "1.0"
      ]
     },
     "execution_count": 64,
     "metadata": {},
     "output_type": "execute_result"
    }
   ],
   "source": [
    "print(note := \"Second one ....\")\n",
    "print()\n",
    "print(note := \"We will create decorator for generic error handling that can be used with any of the function\")\n",
    "print()\n",
    "\n",
    "from functools import wraps\n",
    "from time import gmtime, strftime\n",
    "\n",
    "\n",
    "def expception_handler(func):\n",
    "    \n",
    "    \n",
    "    @wraps(func)\n",
    "    def wrapper(*args, **kwargs):\n",
    "\n",
    "        sig = \"\"\n",
    "        # Stringify the arguments\n",
    "        if args:\n",
    "            sig += '\\nargs: '\n",
    "            sig += ', '.join([str(arg) for arg in args])\n",
    "        if kwargs:\n",
    "            sig += '\\nkwargs: '\n",
    "            sig += ', '.join([str(k) + ' = ' + str(v) for k, v in kwargs.items()])\n",
    "        \n",
    "        print('parameter passed are ', sig)\n",
    "        print('we have our own exception handler !!!')\n",
    "        # Try running the function\n",
    "        try:\n",
    "            return func(*args, **kwargs)\n",
    "        except Exception as e:\n",
    "            print(\"Time: \", strftime(\"%a, %d %b %Y %H:%M:%S +0000\", gmtime()))\n",
    "            print(\"Arguments: \", sig)\n",
    "            print(\"Error:\")\n",
    "            print()\n",
    "            raise\n",
    "\n",
    "    return wrapper\n",
    "\n",
    "\n",
    "@expception_handler\n",
    "def division(a, b, flag=False):\n",
    "    if flag:\n",
    "        return a / b\n",
    "\n",
    "division(1, 1, flag=True)"
   ]
  },
  {
   "cell_type": "code",
   "execution_count": 65,
   "metadata": {},
   "outputs": [
    {
     "name": "stdout",
     "output_type": "stream",
     "text": [
      "we can apply multiple decorator for a single function\n",
      "\n",
      "lets first look at a non-decorator approach\n",
      "\n",
      "Calling  in1 using second_d\n",
      "Calling  ofunc using first_d\n"
     ]
    },
    {
     "data": {
      "text/plain": [
       "4"
      ]
     },
     "execution_count": 65,
     "metadata": {},
     "output_type": "execute_result"
    }
   ],
   "source": [
    "print( note:= 'we can apply multiple decorator for a single function')\n",
    "print()\n",
    "print( note:= 'lets first look at a non-decorator approach')\n",
    "print()\n",
    "\n",
    "def first_d(f):\n",
    "    def in1(*args, **kwargs):\n",
    "        print(\"Calling \", f.__name__, \"using first_d\")\n",
    "        return f(*args, **kwargs)\n",
    "    return in1\n",
    "\n",
    "def second_d(f):\n",
    "    def in2(*args, **kwargs):\n",
    "        print(\"Calling \", f.__name__, \"using second_d\")\n",
    "        return f(*args, **kwargs)\n",
    "    return in2\n",
    "\n",
    "def ofunc(x):\n",
    "    return 2*x\n",
    "\n",
    "nfunc = second_d(first_d(ofunc))\n",
    "nfunc(2)"
   ]
  },
  {
   "cell_type": "code",
   "execution_count": 66,
   "metadata": {},
   "outputs": [
    {
     "name": "stdout",
     "output_type": "stream",
     "text": [
      "now lets stack the decorators\n",
      "\n",
      "Calling  in1 using second_d\n",
      "Calling  decfunc using first_d\n"
     ]
    },
    {
     "data": {
      "text/plain": [
       "4"
      ]
     },
     "execution_count": 66,
     "metadata": {},
     "output_type": "execute_result"
    }
   ],
   "source": [
    "print( note:= 'now lets stack the decorators')\n",
    "print()\n",
    "\n",
    "@second_d\n",
    "@first_d\n",
    "def decfunc(x):\n",
    "    return 2*x\n",
    "\n",
    "decfunc(2)"
   ]
  },
  {
   "cell_type": "markdown",
   "metadata": {},
   "source": [
    "## That's all folks!!!"
   ]
  },
  {
   "cell_type": "code",
   "execution_count": 71,
   "metadata": {},
   "outputs": [
    {
     "name": "stdout",
     "output_type": "stream",
     "text": [
      "Things we have not touched here in this presentation\n",
      "\n",
      "1. Currying - the concept \n",
      "2. Passing parameters to decorators - uses concept of currying\n",
      "\n",
      "These are further advanced topic\n",
      "\n",
      "We can have another session to touch these topics, but for this presentation the goal was to make you understand what decorators are by builing things from the first step\n",
      "\n",
      "and I hope now you all have a better understanding of decorators!! \n",
      "\n",
      "\n",
      "That's all folks!!!\n"
     ]
    }
   ],
   "source": [
    "print( note := 'Things we have not touched here in this presentation')\n",
    "print()\n",
    "print( note := '1. Currying - the concept ')\n",
    "print( note := '2. Passing parameters to decorators - uses concept of currying')\n",
    "print()\n",
    "print( note := 'These are further advanced topic')\n",
    "print()\n",
    "\n",
    "print( note := 'We can have another session to touch these topics, \\\n",
    "but for this presentation the goal was to make you understand what decorators are by builing things from the first step')\n",
    "print()\n",
    "print(note := 'and I hope now you all have a better understanding of decorators!! ')\n",
    "print()\n",
    "print()\n",
    "print(\"That's all folks!!!\")"
   ]
  },
  {
   "cell_type": "code",
   "execution_count": null,
   "metadata": {},
   "outputs": [],
   "source": []
  }
 ],
 "metadata": {
  "kernelspec": {
   "display_name": "Python 3",
   "language": "python",
   "name": "python3"
  },
  "language_info": {
   "codemirror_mode": {
    "name": "ipython",
    "version": 3
   },
   "file_extension": ".py",
   "mimetype": "text/x-python",
   "name": "python",
   "nbconvert_exporter": "python",
   "pygments_lexer": "ipython3",
   "version": "3.9.0"
  }
 },
 "nbformat": 4,
 "nbformat_minor": 4
}
