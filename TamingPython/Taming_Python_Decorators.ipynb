{
 "cells": [
  {
   "cell_type": "code",
   "execution_count": 39,
   "metadata": {},
   "outputs": [
    {
     "name": "stdout",
     "output_type": "stream",
     "text": [
      "Hello World!!!\n",
      "We are using python with version as  3.9.0\n"
     ]
    }
   ],
   "source": [
    "print(note := \"Hello World!!!\")\n",
    "import platform\n",
    "print(note := \"We are using python with version as \" , platform.python_version())"
   ]
  },
  {
   "cell_type": "markdown",
   "metadata": {},
   "source": [
    "## We first look at the unpacking behaviour  "
   ]
  },
  {
   "cell_type": "code",
   "execution_count": 2,
   "metadata": {},
   "outputs": [
    {
     "name": "stdout",
     "output_type": "stream",
     "text": [
      "s t r i n g\n",
      "s t e\n",
      "t u p l e\n",
      "d i c t\n"
     ]
    }
   ],
   "source": [
    "s, t, r, i, n, g = \"string\"\n",
    "print(s, t, r, i, n, g)\n",
    "\n",
    "S, E, T = {'s', 'e', 't'}\n",
    "print(S, E, T)\n",
    "\n",
    "t, u, p, l, e = ('t', 'u', 'p', 'l', 'e')\n",
    "print(t, u, p, l, e)\n",
    "\n",
    "d, i, c, t = {'d': 1, 'i': 2, 'c': 3, 't': 4}\n",
    "print(d, i, c, t)\n"
   ]
  },
  {
   "cell_type": "code",
   "execution_count": 3,
   "metadata": {},
   "outputs": [
    {
     "name": "stdout",
     "output_type": "stream",
     "text": [
      "but we have to ensure that we have same number of variables as the number of item(or length) in iteratable\n",
      "or else we shall get ValueError \n",
      "but many times we do not know the length before hand\n",
      "this is a key thing to remember, that many a time we do not know the length of things before hand\n"
     ]
    }
   ],
   "source": [
    "\n",
    "print(note := 'but we have to ensure that we have same number of variables as the number of item(or length) \\\n",
    "in iteratable')\n",
    "print(note := 'or else we shall get ValueError ')\n",
    "print(note := 'but many times we do not know the length before hand')\n",
    "print(note := 'this is a key thing to remember, that many a time we do not know the length of things before hand')\n",
    "\n",
    "# s, t, r, i, n = \"string\"\n"
   ]
  },
  {
   "cell_type": "code",
   "execution_count": 4,
   "metadata": {},
   "outputs": [
    {
     "name": "stdout",
     "output_type": "stream",
     "text": [
      "we can use the * to let python do the magic i.e creating a list of all the remainder of values and assign it to starred variable\n",
      "name of this magic is unpacking\n",
      "\n",
      "<class 'str'>\n",
      "<class 'list'>\n",
      "s ['t', 'r', 'i', 'n', 'g']\n"
     ]
    }
   ],
   "source": [
    "\n",
    "print( note := 'we can use the * to let python do the magic i.e creating a list of all the remainder of values \\\n",
    "and assign it to starred variable')\n",
    "print(note := 'name of this magic is unpacking')\n",
    "print()\n",
    "\n",
    "s, *tring = 'string'\n",
    "print(type(s))\n",
    "print(type(tring))\n",
    "print(s, tring)\n"
   ]
  },
  {
   "cell_type": "code",
   "execution_count": 5,
   "metadata": {},
   "outputs": [
    {
     "name": "stdout",
     "output_type": "stream",
     "text": [
      "\n",
      "<class 'str'>\n",
      "<class 'list'>\n",
      "s ['t', 'e']\n",
      "regardless of the input data we convert the things to list\n"
     ]
    }
   ],
   "source": [
    "\n",
    "print()\n",
    "s, *et = {'s', 'e', 't'}\n",
    "print(type(s))\n",
    "print(type(et))\n",
    "print(s, et)\n",
    "print(note := \"regardless of the input data we convert the things to list\")"
   ]
  },
  {
   "cell_type": "code",
   "execution_count": 6,
   "metadata": {},
   "outputs": [
    {
     "name": "stdout",
     "output_type": "stream",
     "text": [
      "we can also have *variable in middle , but we can have only one of them at same level\n",
      "<class 'str'>\n",
      "<class 'list'>\n",
      "<class 'str'>\n",
      "t ['u', 'p', 'l'] e\n"
     ]
    }
   ],
   "source": [
    "print(note := 'we can also have *variable in middle , but we can have only one of them at same level')\n",
    "t, *u, ple = ('t', 'u', 'p', 'l', 'e')\n",
    "print(type(t))\n",
    "print(type(u))\n",
    "print(type(ple))\n",
    "print(t, u, ple)\n"
   ]
  },
  {
   "cell_type": "code",
   "execution_count": 7,
   "metadata": {},
   "outputs": [
    {
     "name": "stdout",
     "output_type": "stream",
     "text": [
      "<class 'str'>\n",
      "<class 'list'>\n",
      "d ['i', 'c', 't']\n",
      "as you noticed that single * unpacks only the keys of the dict\n"
     ]
    }
   ],
   "source": [
    "d, *ict = {'d': 1, 'i': 2, 'c': 3, 't': 4}\n",
    "print(type(d))\n",
    "print(type(ict))\n",
    "print(d, ict)\n",
    "print(note := 'as you noticed that single * unpacks only the keys of the dict')\n"
   ]
  },
  {
   "cell_type": "code",
   "execution_count": 8,
   "metadata": {},
   "outputs": [
    {
     "name": "stdout",
     "output_type": "stream",
     "text": [
      "as tring et, u and ict are list, below statement shall create list of list\n",
      "[['t', 'r', 'i', 'n', 'g'], ['t', 'e'], ['u', 'p', 'l'], ['i', 'c', 't']]\n"
     ]
    }
   ],
   "source": [
    "print(note := 'as tring et, u and ict are list, below statement shall create list of list')\n",
    "l = [tring, et, u, ict]\n",
    "print(l)\n",
    "\n"
   ]
  },
  {
   "cell_type": "code",
   "execution_count": 9,
   "metadata": {},
   "outputs": [
    {
     "name": "stdout",
     "output_type": "stream",
     "text": [
      "as python also support nested unpacking, we can have things like below\n",
      "we mentioned that we can have only one * at one level, here we can see the real example, x,y,z is inner level and can use *\n",
      "1 [2, 3] s ['m', 'o', 'r', 'e', 'm', 'a', 'g', 'i', 'c'] s\n"
     ]
    }
   ],
   "source": [
    "print(note := 'as python also support nested unpacking, we can have things like below')\n",
    "print(note := 'we mentioned that we can have only one * at one level, \\\n",
    "here we can see the real example, x,y,z is inner level and can use *')\n",
    "a, *b, (x, *y, z) = [1, 2, 3, 'smoremagics']\n",
    "print(a, b, x, y, z)\n"
   ]
  },
  {
   "cell_type": "code",
   "execution_count": 10,
   "metadata": {},
   "outputs": [
    {
     "name": "stdout",
     "output_type": "stream",
     "text": [
      "we can use the * to unpack the lists\n",
      "voila\n",
      "['t', 'r', 'i', 'n', 'g', 't', 'e', 'u', 'p', 'l', 'i', 'c', 't']\n"
     ]
    }
   ],
   "source": [
    "print(note := 'we can use the * to unpack the lists')\n",
    "l = [*tring, *et, *u, *ict]\n",
    "print(note := 'voila')\n",
    "print(l)"
   ]
  },
  {
   "cell_type": "code",
   "execution_count": 11,
   "metadata": {},
   "outputs": [
    {
     "name": "stdout",
     "output_type": "stream",
     "text": [
      "\n",
      "we can use the unpacking to create sets too\n",
      "{'right', 'no', 'maybe', 'wrong', 'yes'}\n",
      "but as sets are not ordered data structure, do not expect any order in result\n"
     ]
    }
   ],
   "source": [
    "print()\n",
    "print(note := 'we can use the unpacking to create sets too')\n",
    "s1 = {'yes', 'no', 'maybe'}\n",
    "s2 = {'right', 'wrong'}\n",
    "\n",
    "S = {*s1, *s2}\n",
    "print(S)\n",
    "print(note := 'but as sets are not ordered data structure, do not expect any order in result')\n"
   ]
  },
  {
   "cell_type": "code",
   "execution_count": 12,
   "metadata": {},
   "outputs": [
    {
     "name": "stdout",
     "output_type": "stream",
     "text": [
      "remember that when we unpack a dict only the keys are returned\n",
      "\n",
      "we get the keys and thus create  set and not a dict\n",
      "{'right', 'no', 'maybe', 'wrong', 'yes'}\n",
      "<class 'set'>\n",
      "\n"
     ]
    }
   ],
   "source": [
    "print(note := 'remember that when we unpack a dict only the keys are returned')\n",
    "d1 = {'yes': 1, 'no': 0, 'maybe': 2}\n",
    "d2 = {'right': -1, 'wrong': -2}\n",
    "print()\n",
    "\n",
    "print(note := 'we get the keys and thus create  set and not a dict')\n",
    "D = {*d1, *d2}\n",
    "print(D)\n",
    "print(type(D))\n",
    "print()"
   ]
  },
  {
   "cell_type": "code",
   "execution_count": 13,
   "metadata": {},
   "outputs": [
    {
     "name": "stdout",
     "output_type": "stream",
     "text": [
      "\n",
      "if you want to get both key,values from the dict we have to use double * i.e. **\n",
      "{'yes': 1, 'no': 0, 'maybe': 2, 'right': -1, 'wrong': -2}\n",
      "<class 'dict'>\n"
     ]
    }
   ],
   "source": [
    "print()\n",
    "print(note := 'if you want to get both key,values from the dict we have to use double * i.e. **')\n",
    "D = {**d1, **d2}\n",
    "print(D)\n",
    "print(type(D))"
   ]
  },
  {
   "cell_type": "markdown",
   "metadata": {},
   "source": [
    "## Now we see unpacking behaviour in context of function "
   ]
  },
  {
   "cell_type": "code",
   "execution_count": 14,
   "metadata": {},
   "outputs": [
    {
     "name": "stdout",
     "output_type": "stream",
     "text": [
      "so now we know that in python * and ** have special meaning\n",
      "when we use * and ** while passing the parameters to the function, python also does something magical\n"
     ]
    }
   ],
   "source": [
    "print(note:= 'so now we know that in python * and ** have special meaning')\n",
    "print(note:= 'when we use * and ** while passing the parameters to the function, python also does something magical')"
   ]
  },
  {
   "cell_type": "code",
   "execution_count": 15,
   "metadata": {},
   "outputs": [
    {
     "name": "stdout",
     "output_type": "stream",
     "text": [
      "a simple problem statement : many a times function consumes multiple arguments\n",
      "it could become messy to deal with each of them\n",
      "but don`t worry python has solution for that ...say hello to  *\n",
      "love\n",
      "life\n",
      "<class 'tuple'>\n",
      "(1, 2, 3, 4, 5, 6, 7, 8)\n",
      "total sum is  36\n"
     ]
    }
   ],
   "source": [
    "print(note:= 'a simple problem statement : many a times function consumes multiple arguments')\n",
    "print(note:= 'it could become messy to deal with each of them')\n",
    "\n",
    "print(note := 'but don`t worry python has solution for that ...say hello to  *')\n",
    "\n",
    "def sums(foo, bar, *args):\n",
    "    print(foo)\n",
    "    print(bar)\n",
    "    print(type(args))\n",
    "    print(args)\n",
    "    s = sum(args)\n",
    "    print('total sum is ', s)\n",
    "\n",
    "\n",
    "sums('love', 'life', 1,2,3,4,5,6,7,8)"
   ]
  },
  {
   "cell_type": "code",
   "execution_count": 16,
   "metadata": {},
   "outputs": [
    {
     "name": "stdout",
     "output_type": "stream",
     "text": [
      "although iteratable unpacking returns a list, in context of function it returns tuple, which makes sense as python won`t want you to change the arguments passed by user\n",
      "\n",
      "understanding difference between mutable and immutable is critical ... we will tackle this topic later \n"
     ]
    }
   ],
   "source": [
    "print(note := 'although iteratable unpacking returns a list, \\\n",
    "in context of function it returns tuple, \\\n",
    "which makes sense as python won`t want you to change the arguments passed by user')\n",
    "print()\n",
    "\n",
    "print(\"understanding difference between mutable and immutable is critical ... \\\n",
    "we will tackle this topic later \")"
   ]
  },
  {
   "cell_type": "code",
   "execution_count": 17,
   "metadata": {},
   "outputs": [
    {
     "name": "stdout",
     "output_type": "stream",
     "text": [
      "one can use any valid param name instead of args, but sticking to standard nomenclature makes your code readable\n",
      "<class 'tuple'>\n",
      "(1, 2, 3, 4, 5, 6, 7, 8)\n",
      "total sum is  36\n"
     ]
    }
   ],
   "source": [
    "print( note := 'one can use any valid param name instead of args, but sticking to standard nomenclature \\\n",
    "makes your code readable')\n",
    "\n",
    "def sums_1(*anything):\n",
    "    print(type(anything))\n",
    "    print(anything)\n",
    "    s = sum(anything)\n",
    "    print('total sum is ', s)\n",
    "\n",
    "\n",
    "sums_1(1,2,3,4,5,6,7,8)"
   ]
  },
  {
   "cell_type": "code",
   "execution_count": 18,
   "metadata": {},
   "outputs": [
    {
     "name": "stdout",
     "output_type": "stream",
     "text": [
      "Lets first have a look at the global and local scopes before we go into closures\n",
      "scope of the variable is determined by where it is defined\n"
     ]
    }
   ],
   "source": [
    "print(note := \"Lets first have a look at the global and local scopes before we go into closures\")\n",
    "print(note := \"scope of the variable is determined by where it is defined\")"
   ]
  },
  {
   "cell_type": "code",
   "execution_count": 19,
   "metadata": {},
   "outputs": [
    {
     "name": "stdout",
     "output_type": "stream",
     "text": [
      "lets quickly have a look at the below function\n",
      "this function works for all the following scenarios\n"
     ]
    }
   ],
   "source": [
    "print(note := 'lets quickly have a look at the below function')\n",
    "\n",
    "\n",
    "def sum_3(*args, flag=False):\n",
    "    if len(args):\n",
    "        print(type(args))\n",
    "        print(args)\n",
    "        print('total sum is ', sum(args))\n",
    "    if flag:\n",
    "        print('we raise the flag')\n",
    "\n",
    "print(note := 'this function works for all the following scenarios')\n",
    "\n",
    "sum_3()\n"
   ]
  },
  {
   "cell_type": "code",
   "execution_count": 20,
   "metadata": {},
   "outputs": [
    {
     "name": "stdout",
     "output_type": "stream",
     "text": [
      "we can pass just the flag value\n",
      "we raise the flag\n"
     ]
    }
   ],
   "source": [
    "print(note := 'we can pass just the flag value')\n",
    "sum_3(flag=True)\n"
   ]
  },
  {
   "cell_type": "code",
   "execution_count": 21,
   "metadata": {},
   "outputs": [
    {
     "name": "stdout",
     "output_type": "stream",
     "text": [
      "we can pass arguments and skip the flag variable\n",
      "<class 'tuple'>\n",
      "(1, 2, 3, 4, 5)\n",
      "total sum is  15\n"
     ]
    }
   ],
   "source": [
    "print(note := 'we can pass arguments and skip the flag variable')\n",
    "sum_3(1, 2, 3, 4, 5)\n"
   ]
  },
  {
   "cell_type": "code",
   "execution_count": 22,
   "metadata": {},
   "outputs": [
    {
     "name": "stdout",
     "output_type": "stream",
     "text": [
      "and lastly we can pass both the args and flag\n",
      "<class 'tuple'>\n",
      "(1, 2, 3, 4, 5)\n",
      "total sum is  15\n",
      "we raise the flag\n"
     ]
    }
   ],
   "source": [
    "print(note := 'and lastly we can pass both the args and flag')\n",
    "sum_3(1, 2, 3, 4, 5, flag=True)"
   ]
  },
  {
   "cell_type": "code",
   "execution_count": 23,
   "metadata": {},
   "outputs": [
    {
     "name": "stdout",
     "output_type": "stream",
     "text": [
      "remember the double asterisks ? yes **\n",
      "** can be used to consume both the param name and the argument value passed by the user.\n",
      "<class 'dict'>\n",
      "{'flag': False, 'a': 1, 'b': 2, 'c': 3, 'd': 4, 'e': 5}\n",
      "total sum is  0\n"
     ]
    }
   ],
   "source": [
    "\n",
    "print(note := 'remember the double asterisks ? yes **')\n",
    "print(note := '** can be used to consume both the param name and the argument value passed by the user.')\n",
    "\n",
    "\n",
    "def sum_4(**kwargs):\n",
    "    if len(kwargs):\n",
    "        print(type(kwargs))\n",
    "        print(kwargs)\n",
    "        sum = 0\n",
    "        if 'flag' in kwargs:\n",
    "            if kwargs['flag']:\n",
    "                for i in kwargs:\n",
    "                    sum += kwargs[i]\n",
    "        print('total sum is ', sum)\n",
    "\n",
    "sum_4(flag=False, a=1, b=2, c=3, d=4, e=5)"
   ]
  },
  {
   "cell_type": "code",
   "execution_count": 38,
   "metadata": {},
   "outputs": [
    {
     "name": "stdout",
     "output_type": "stream",
     "text": [
      "we can also pass the position arguments, but they should be before kwargs, or else we shall get error\n",
      "<class 'dict'>\n",
      "{'flag': True, 'a': 1, 'b': 2, 'c': 3, 'd': 4, 'e': 5}\n",
      "total sum is  46\n"
     ]
    }
   ],
   "source": [
    "print(note := 'we can also pass the position arguments, but they should be before kwargs, \\\n",
    "or else we shall get error')\n",
    "\n",
    "def sum_5(x, y, **kwargs):\n",
    "    sum = x + y\n",
    "    if len(kwargs):\n",
    "        print(type(kwargs))\n",
    "        print(kwargs)\n",
    "        if 'flag' in kwargs:\n",
    "            if kwargs['flag']:\n",
    "                for i in kwargs:\n",
    "                    sum += kwargs[i]\n",
    "        print('total sum is ', sum)\n",
    "\n",
    "\n",
    "sum_5(10, 20, flag=True, a=1, b=2, c=3, d=4, e=5)"
   ]
  },
  {
   "cell_type": "code",
   "execution_count": 25,
   "metadata": {},
   "outputs": [
    {
     "name": "stdout",
     "output_type": "stream",
     "text": [
      "and finally we can use both the * and ** to get the positional parameters and named parameters\n",
      "we can also pass the position arguments, but they should be before kwargs\n",
      "<class 'tuple'>\n",
      "30\n",
      "<class 'dict'>\n",
      "{'flag': True, 'a': 1, 'b': 2, 'c': 3, 'd': 4}\n",
      "total sum is  41\n"
     ]
    }
   ],
   "source": [
    "print(note:= 'and finally we can use both the * and ** to get the positional parameters and named parameters')\n",
    "print(note := 'we can also pass the position arguments, but they should be before kwargs')\n",
    "\n",
    "\n",
    "def sum_f(*args, **kwargs):\n",
    "    print(type(args))\n",
    "    s = sum(args)\n",
    "    print(s)\n",
    "    if len(kwargs):\n",
    "        print(type(kwargs))\n",
    "        print(kwargs)\n",
    "        if 'flag' in kwargs:\n",
    "            if kwargs['flag']:\n",
    "                for i in kwargs:\n",
    "                    s += kwargs[i]\n",
    "        print('total sum is ', s)\n",
    "\n",
    "\n",
    "sum_f(10, 20, flag=True, a=1, b=2, c=3, d=4)"
   ]
  },
  {
   "cell_type": "code",
   "execution_count": 26,
   "metadata": {},
   "outputs": [
    {
     "name": "stdout",
     "output_type": "stream",
     "text": [
      "so we have understood how we can create a function that can consume any valid parameters thrown at it\n"
     ]
    }
   ],
   "source": [
    "print( note:= \"so we have understood how we can create a function that can consume any valid parameters thrown at it\")\n"
   ]
  },
  {
   "cell_type": "markdown",
   "metadata": {},
   "source": [
    "## Now we will look at the scopes "
   ]
  },
  {
   "cell_type": "code",
   "execution_count": 29,
   "metadata": {},
   "outputs": [
    {
     "name": "stdout",
     "output_type": "stream",
     "text": [
      "Lets first have a look at the global and local scopes before we go into closures\n",
      "scope of the variable is determined by where it is defined\n",
      "I'm Local\n",
      "I'm global\n"
     ]
    }
   ],
   "source": [
    "print(note := \"Lets first have a look at the global and local scopes before we go into closures\")\n",
    "print(note := \"scope of the variable is determined by where it is defined\")\n",
    "\n",
    "this_is_global = \"I'm global\"\n",
    "\n",
    "\n",
    "def some_func():\n",
    "    this_is_local = \"I'm Local\"\n",
    "    print(this_is_local)\n",
    "    print(this_is_global)\n",
    "\n",
    "print(note := 'Above function will access the global variable as it was not found inside its own code block')\n",
    "\n",
    "some_func()"
   ]
  },
  {
   "cell_type": "code",
   "execution_count": 35,
   "metadata": {},
   "outputs": [
    {
     "name": "stdout",
     "output_type": "stream",
     "text": [
      "so python keep on search for variable definition from inner to outer scope\n",
      "and if nothing is found till the top level python will raise its hand and throw error\n",
      "I'm Local\n",
      "I'm not global\n",
      "above function used use the local variable and not access the global defined\n"
     ]
    }
   ],
   "source": [
    "print(note := 'so python keep on search for variable definition from inner to outer scope')\n",
    "print(note := 'and if nothing is found till the top level python will raise its hand and throw error')\n",
    "\n",
    "\"\"\"\n",
    "def will_err():\n",
    "    print(this_is_not_defined_any_where)\n",
    "\"\"\"\n",
    "def some_func_2():\n",
    "    this_is_local = \"I'm Local\"\n",
    "    this_is_global = \"I'm not global\"\n",
    "    print(this_is_local)\n",
    "    print(this_is_global)\n",
    "\n",
    "some_func_2()\n",
    "\n"
   ]
  },
  {
   "cell_type": "code",
   "execution_count": 36,
   "metadata": {},
   "outputs": [
    {
     "name": "stdout",
     "output_type": "stream",
     "text": [
      "In the above function, we created a local variable with the same name as the global variable\n",
      "and thus we shall see the local values printed\n",
      "as expected the value of the global variable remains unchanged\n",
      "I'm global\n"
     ]
    }
   ],
   "source": [
    "print( note := \"In the above function, we created a local variable with the same name as the global variable\")\n",
    "print( note := \"and thus we shall see the local values printed\")\n",
    "\n",
    "print( note := \"as expected the value of the global variable remains unchanged\")\n",
    "print(this_is_global)\n"
   ]
  },
  {
   "cell_type": "code",
   "execution_count": null,
   "metadata": {},
   "outputs": [],
   "source": []
  }
 ],
 "metadata": {
  "kernelspec": {
   "display_name": "Python 3",
   "language": "python",
   "name": "python3"
  },
  "language_info": {
   "codemirror_mode": {
    "name": "ipython",
    "version": 3
   },
   "file_extension": ".py",
   "mimetype": "text/x-python",
   "name": "python",
   "nbconvert_exporter": "python",
   "pygments_lexer": "ipython3",
   "version": "3.9.0"
  }
 },
 "nbformat": 4,
 "nbformat_minor": 4
}
