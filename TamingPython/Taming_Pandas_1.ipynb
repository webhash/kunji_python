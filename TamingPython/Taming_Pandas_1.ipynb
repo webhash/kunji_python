{
 "cells": [
  {
   "cell_type": "code",
   "execution_count": 1,
   "metadata": {},
   "outputs": [
    {
     "name": "stdout",
     "output_type": "stream",
     "text": [
      "3.9.0\n",
      "some basics of numpy before we jump on to pandas\n"
     ]
    }
   ],
   "source": [
    "import numpy as np\n",
    "import pandas as pd\n",
    "import platform\n",
    "print(platform.python_version())\n",
    "\n",
    "\n",
    "print(note:= \"some basics of numpy before we jump on to pandas\")\n"
   ]
  },
  {
   "cell_type": "code",
   "execution_count": 2,
   "metadata": {},
   "outputs": [
    {
     "name": "stdout",
     "output_type": "stream",
     "text": [
      "this is python based list\n",
      "python list can have diff type of data like string,  int, float, char etc etc etc\n",
      "\n",
      "we shall see the data as its own type\n",
      "['a', 1, 1.2, '3', 'welcome']\n"
     ]
    }
   ],
   "source": [
    "print( note:= \"this is python based list\")\n",
    "print( note:= \"python list can have diff type of data like string,  int, float, char etc etc etc\") \n",
    "sample_list = ['a', 1 , 1.2 , '3', 'welcome']\n",
    "\n",
    "print()\n",
    "print(note:=\"we shall see the data as its own type\")\n",
    "print(sample_list)"
   ]
  },
  {
   "cell_type": "code",
   "execution_count": 3,
   "metadata": {},
   "outputs": [
    {
     "name": "stdout",
     "output_type": "stream",
     "text": [
      "we shall see the data as string type as we have mixed data type\n",
      "['a' '1' '1.2' '3' 'welcome']\n"
     ]
    }
   ],
   "source": [
    "print(note:='we shall see the data as string type as we have mixed data type')\n",
    "print(sr := np.array(sample_list))"
   ]
  },
  {
   "cell_type": "code",
   "execution_count": 4,
   "metadata": {},
   "outputs": [
    {
     "name": "stdout",
     "output_type": "stream",
     "text": [
      "we can get the dimention of array through shape attribue of arrays\n",
      "(5,)\n"
     ]
    }
   ],
   "source": [
    "print(note:= \"we can get the dimention of array through shape attribue of arrays\")\n",
    "print(sr.shape) "
   ]
  },
  {
   "cell_type": "code",
   "execution_count": 5,
   "metadata": {},
   "outputs": [
    {
     "name": "stdout",
     "output_type": "stream",
     "text": [
      "we can get  type of array\n",
      "<U7\n"
     ]
    }
   ],
   "source": [
    "print(note:= \"we can get  type of array\")\n",
    "print(sr.dtype)"
   ]
  },
  {
   "cell_type": "code",
   "execution_count": 6,
   "metadata": {},
   "outputs": [
    {
     "name": "stdout",
     "output_type": "stream",
     "text": [
      "if we use only int data, we shall see the respective in type\n",
      "int64\n"
     ]
    }
   ],
   "source": [
    "print(note := \"if we use only int data, we shall see the respective in type\")\n",
    "i1r = np.array([1,2,3])\n",
    "print(i1r.dtype)"
   ]
  },
  {
   "cell_type": "code",
   "execution_count": 7,
   "metadata": {},
   "outputs": [
    {
     "name": "stdout",
     "output_type": "stream",
     "text": [
      "we can use indexing\n",
      "1 2 3\n"
     ]
    }
   ],
   "source": [
    "print(note:= \"we can use indexing\")\n",
    "print(i1r[0], i1r[1], i1r[2])"
   ]
  },
  {
   "cell_type": "code",
   "execution_count": 8,
   "metadata": {},
   "outputs": [
    {
     "name": "stdout",
     "output_type": "stream",
     "text": [
      "we can create list within list, which is sort of a matrix\n",
      "(3, 3)\n",
      "int64\n"
     ]
    }
   ],
   "source": [
    "print(note := \"we can create list within list, which is sort of a matrix\")\n",
    "i2r = np.array([[1,2,3],[4,5,6],[7,8,9]])\n",
    "print(i2r.shape)\n",
    "print(i2r.dtype)"
   ]
  },
  {
   "cell_type": "code",
   "execution_count": 9,
   "metadata": {},
   "outputs": [
    {
     "name": "stdout",
     "output_type": "stream",
     "text": [
      "we can use indexing\n",
      "[1 2 3] [4 5 6] [2 3] [4 5] [4 5]\n",
      "\n",
      "[7 8 9]\n",
      "\n",
      "[[1 2 3]\n",
      " [4 5 6]\n",
      " [7 8 9]]\n"
     ]
    }
   ],
   "source": [
    "print(note:= \"we can use indexing\")\n",
    "# : indexing follow the the patterm of range, start is includes, end is not included'\n",
    "print(i2r[0], i2r[1], i2r[0,1:3], i2r[1,0:2], i2r[1,0:2])\n",
    "print()\n",
    "print(i2r[2,:])\n",
    "print()\n",
    "print(i2r[:,:])"
   ]
  },
  {
   "cell_type": "code",
   "execution_count": 10,
   "metadata": {},
   "outputs": [
    {
     "name": "stdout",
     "output_type": "stream",
     "text": [
      "True\n",
      "False\n"
     ]
    }
   ],
   "source": [
    "#returns true if any value is true or non-zero\n",
    "print(i2r.any())\n",
    "zero = i2r - i2r \n",
    "print(zero.any())"
   ]
  },
  {
   "cell_type": "code",
   "execution_count": 11,
   "metadata": {},
   "outputs": [
    {
     "name": "stdout",
     "output_type": "stream",
     "text": [
      "True\n",
      "we can do scalar operations on np array\n",
      "False\n"
     ]
    }
   ],
   "source": [
    "#returns true if all the values are true or non-zero\n",
    "print(i2r.all())\n",
    "print(note:= \"we can do scalar operations on np array\")\n",
    "i2r = i2r - 1\n",
    "print(i2r.all())"
   ]
  },
  {
   "cell_type": "code",
   "execution_count": 12,
   "metadata": {},
   "outputs": [
    {
     "name": "stdout",
     "output_type": "stream",
     "text": [
      "36\n"
     ]
    }
   ],
   "source": [
    "# sum returns sum of the array\n",
    "print(i2r.sum())"
   ]
  },
  {
   "cell_type": "code",
   "execution_count": 13,
   "metadata": {},
   "outputs": [
    {
     "name": "stdout",
     "output_type": "stream",
     "text": [
      "we can specify axis information in many of numpy functions\n",
      "\n",
      "[ 9 12 15]\n",
      "\n",
      "[ 3 12 21]\n"
     ]
    }
   ],
   "source": [
    "print(note := \"we can specify axis information in many of numpy functions\")\n",
    "print()\n",
    "# 0 is each coloums \n",
    "print(i2r.sum(0))\n",
    "print()\n",
    "# 1 is rows \n",
    "print(i2r.sum(1))"
   ]
  },
  {
   "cell_type": "code",
   "execution_count": 14,
   "metadata": {},
   "outputs": [
    {
     "name": "stdout",
     "output_type": "stream",
     "text": [
      "4.0\n"
     ]
    }
   ],
   "source": [
    "# we can get mean\n",
    "print(i2r.mean())"
   ]
  },
  {
   "cell_type": "code",
   "execution_count": 15,
   "metadata": {},
   "outputs": [
    {
     "name": "stdout",
     "output_type": "stream",
     "text": [
      "[3. 4. 5.]\n",
      "\n",
      "[1. 4. 7.]\n"
     ]
    }
   ],
   "source": [
    "# mean also supports the axis info\n",
    "print(i2r.mean(0))\n",
    "print()\n",
    "print(i2r.mean(1))"
   ]
  },
  {
   "cell_type": "code",
   "execution_count": 16,
   "metadata": {},
   "outputs": [
    {
     "name": "stdout",
     "output_type": "stream",
     "text": [
      "2.581988897471611\n"
     ]
    }
   ],
   "source": [
    "# we can also get std \n",
    "print(i2r.std())\n"
   ]
  },
  {
   "cell_type": "code",
   "execution_count": 17,
   "metadata": {},
   "outputs": [
    {
     "name": "stdout",
     "output_type": "stream",
     "text": [
      "[2.44948974 2.44948974 2.44948974]\n",
      "\n",
      "[0.81649658 0.81649658 0.81649658]\n"
     ]
    }
   ],
   "source": [
    "# std also supports the axis information\n",
    "print(i2r.std(0))\n",
    "print()\n",
    "print(i2r.std(1))"
   ]
  },
  {
   "cell_type": "code",
   "execution_count": 18,
   "metadata": {},
   "outputs": [
    {
     "name": "stdout",
     "output_type": "stream",
     "text": [
      "np has arange function to create range of values\n",
      "[ 0  1  2  3  4  5  6  7  8  9 10 11 12 13 14 15 16 17 18 19 20 21 22 23\n",
      " 24 25 26 27 28 29 30 31 32 33 34 35 36 37 38 39]\n"
     ]
    }
   ],
   "source": [
    "print(note:= \"np has arange function to create range of values\")\n",
    "n1r = np.arange(0, 40)\n",
    "print(n1r)"
   ]
  },
  {
   "cell_type": "code",
   "execution_count": 19,
   "metadata": {},
   "outputs": [
    {
     "name": "stdout",
     "output_type": "stream",
     "text": [
      "it also has reshape function to shape the values\n",
      "[[ 0  2  4  6  8]\n",
      " [10 12 14 16 18]\n",
      " [20 22 24 26 28]\n",
      " [30 32 34 36 38]]\n"
     ]
    }
   ],
   "source": [
    "print(note:= \"it also has reshape function to shape the values\")\n",
    "n2r = np.arange(0,40,2).reshape(4,5)\n",
    "print(n2r)"
   ]
  },
  {
   "cell_type": "code",
   "execution_count": 20,
   "metadata": {},
   "outputs": [
    {
     "name": "stdout",
     "output_type": "stream",
     "text": [
      "[[[ 0  2]\n",
      "  [ 4  6]\n",
      "  [ 8 10]\n",
      "  [12 14]\n",
      "  [16 18]]\n",
      "\n",
      " [[20 22]\n",
      "  [24 26]\n",
      "  [28 30]\n",
      "  [32 34]\n",
      "  [36 38]]]\n"
     ]
    }
   ],
   "source": [
    "# the way you want !!!\n",
    "n3r = np.arange(0,40,2).reshape(2,5,2)\n",
    "print(n3r)"
   ]
  },
  {
   "cell_type": "code",
   "execution_count": 21,
   "metadata": {},
   "outputs": [
    {
     "name": "stdout",
     "output_type": "stream",
     "text": [
      "[[ 0.74967232  1.07002155  2.09854485 -1.6225968  -0.81362517]\n",
      " [ 0.17373693  0.35435876  1.09133242 -0.68463918 -0.61942004]\n",
      " [-0.44343363 -0.49688101  0.62710486 -0.88137442 -1.57035669]\n",
      " [ 0.1957441  -1.40392937 -0.4378541   0.97903103  1.88980787]]\n"
     ]
    }
   ],
   "source": [
    "# np also has support to generate random number\n",
    "nr = np.random.randn(20).reshape(4,5)\n",
    "print(nr)"
   ]
  },
  {
   "cell_type": "markdown",
   "metadata": {},
   "source": [
    "## PANDAS"
   ]
  },
  {
   "cell_type": "markdown",
   "metadata": {},
   "source": [
    "### basic of series"
   ]
  },
  {
   "cell_type": "code",
   "execution_count": 22,
   "metadata": {},
   "outputs": [
    {
     "name": "stdout",
     "output_type": "stream",
     "text": [
      "0    11\n",
      "1    12\n",
      "2    31\n",
      "3    41\n",
      "4    15\n",
      "5    61\n",
      "6    17\n",
      "7    80\n",
      "dtype: int64\n"
     ]
    }
   ],
   "source": [
    "# lets first have a quick look at series\n",
    "# series is like an array but is indexed\n",
    "\n",
    "iis = pd.Series([11,12,31,41,15,61,17,80])\n",
    "print(iis)"
   ]
  },
  {
   "cell_type": "code",
   "execution_count": 23,
   "metadata": {},
   "outputs": [
    {
     "name": "stdout",
     "output_type": "stream",
     "text": [
      "0    11\n",
      "1    12\n",
      "2    31\n",
      "3    41\n",
      "4    15\n",
      "5    61\n",
      "6    17\n",
      "7    80\n",
      "dtype: object\n"
     ]
    }
   ],
   "source": [
    "# and unlike numpy we can have mixed data types \n",
    "ms = pd.Series([11,12,'31',41,15,61,'17',80])\n",
    "print(ms)"
   ]
  },
  {
   "cell_type": "code",
   "execution_count": 24,
   "metadata": {},
   "outputs": [
    {
     "data": {
      "text/plain": [
       "array([11, 12, '31', 41, 15, 61, '17', 80], dtype=object)"
      ]
     },
     "execution_count": 24,
     "metadata": {},
     "output_type": "execute_result"
    }
   ],
   "source": [
    "# we can get the values\n",
    "# and notice that data still is in original type as passed\n",
    "ms.values"
   ]
  },
  {
   "cell_type": "code",
   "execution_count": 25,
   "metadata": {},
   "outputs": [
    {
     "name": "stdout",
     "output_type": "stream",
     "text": [
      "RangeIndex(start=0, stop=8, step=1)\n",
      "\n"
     ]
    },
    {
     "data": {
      "text/plain": [
       "pandas.core.indexes.range.RangeIndex"
      ]
     },
     "execution_count": 25,
     "metadata": {},
     "output_type": "execute_result"
    }
   ],
   "source": [
    "# we can get the indexs\n",
    "print(ms.index)\n",
    "print()\n",
    "# index have important role in pandas as we can use them more numerous operations \n",
    "type(ms.index)"
   ]
  },
  {
   "cell_type": "code",
   "execution_count": 26,
   "metadata": {},
   "outputs": [
    {
     "name": "stdout",
     "output_type": "stream",
     "text": [
      "int64\n",
      "<class 'numpy.dtype'>\n",
      "object\n",
      "<class 'numpy.dtype'>\n"
     ]
    }
   ],
   "source": [
    "#we can determine the type of data\n",
    "print(iis.dtype)\n",
    "# not the type is from numpy class \n",
    "# pandas uses numpy internally \n",
    "print(type(iis.dtype))\n",
    "print(ms.dtype)\n",
    "print(type(ms.dtype))"
   ]
  },
  {
   "cell_type": "code",
   "execution_count": 27,
   "metadata": {},
   "outputs": [
    {
     "data": {
      "text/plain": [
       "8"
      ]
     },
     "execution_count": 27,
     "metadata": {},
     "output_type": "execute_result"
    }
   ],
   "source": [
    "#we can determine the size of data\n",
    "ms.size"
   ]
  },
  {
   "cell_type": "code",
   "execution_count": 28,
   "metadata": {},
   "outputs": [
    {
     "data": {
      "text/plain": [
       "(8,)"
      ]
     },
     "execution_count": 28,
     "metadata": {},
     "output_type": "execute_result"
    }
   ],
   "source": [
    "# or shape \n",
    "ms.shape"
   ]
  },
  {
   "cell_type": "code",
   "execution_count": 29,
   "metadata": {},
   "outputs": [
    {
     "name": "stdout",
     "output_type": "stream",
     "text": [
      "64\n"
     ]
    }
   ],
   "source": [
    "#we can get the number of bytes used to store the data \n",
    "print(ms.nbytes)"
   ]
  },
  {
   "cell_type": "code",
   "execution_count": 30,
   "metadata": {},
   "outputs": [
    {
     "name": "stdout",
     "output_type": "stream",
     "text": [
      "61\n",
      "17\n",
      "<class 'int'>\n",
      "<class 'str'>\n"
     ]
    }
   ],
   "source": [
    "# we can use the index to access the values \n",
    "print(ms[5])\n",
    "print(ms[6])\n",
    "print(type(ms[5]))\n",
    "print(type(ms[6]))"
   ]
  },
  {
   "cell_type": "code",
   "execution_count": 31,
   "metadata": {},
   "outputs": [
    {
     "data": {
      "text/plain": [
       "3    41\n",
       "5    61\n",
       "7    80\n",
       "dtype: int64"
      ]
     },
     "execution_count": 31,
     "metadata": {},
     "output_type": "execute_result"
    }
   ],
   "source": [
    "# we can also get values based on conditions\n",
    "iis[iis > 40]"
   ]
  },
  {
   "cell_type": "code",
   "execution_count": 32,
   "metadata": {},
   "outputs": [],
   "source": [
    "# but this will fail , as str and int can't be compared with >\n",
    "# ms[ms>40]"
   ]
  },
  {
   "cell_type": "code",
   "execution_count": 33,
   "metadata": {},
   "outputs": [
    {
     "name": "stdout",
     "output_type": "stream",
     "text": [
      "usa    100.30\n",
      "ind     80.64\n",
      "bra     50.70\n",
      "frc     10.83\n",
      "rus     10.82\n",
      "dtype: float64\n"
     ]
    }
   ],
   "source": [
    "# we can use our own indexes rather than using the default index values\n",
    "# here is the number covid cases in million and respective countries as index\n",
    "cd = pd.Series([100.3, 80.64, 50.7, 10.83, 10.82], index=['usa','ind','bra','frc','rus'])\n",
    "# this is how pandas are beautiful, rather than relying on index like in excel we can have representative \n",
    "print(cd)"
   ]
  },
  {
   "cell_type": "code",
   "execution_count": 34,
   "metadata": {},
   "outputs": [
    {
     "data": {
      "text/plain": [
       "countries\n",
       "usa    100.30\n",
       "ind     80.64\n",
       "bra     50.70\n",
       "frc     10.83\n",
       "rus     10.82\n",
       "Name: covid_cases, dtype: float64"
      ]
     },
     "execution_count": 34,
     "metadata": {},
     "output_type": "execute_result"
    }
   ],
   "source": [
    "# we can name our series \n",
    "cd.name = 'covid_cases'\n",
    "# we can also name the index\n",
    "cd.index.name = 'countries'\n",
    "cd"
   ]
  },
  {
   "cell_type": "code",
   "execution_count": 35,
   "metadata": {},
   "outputs": [
    {
     "data": {
      "text/plain": [
       "Index(['usa', 'ind', 'bra', 'frc', 'rus'], dtype='object', name='countries')"
      ]
     },
     "execution_count": 35,
     "metadata": {},
     "output_type": "execute_result"
    }
   ],
   "source": [
    "cd.index"
   ]
  },
  {
   "cell_type": "code",
   "execution_count": 36,
   "metadata": {},
   "outputs": [
    {
     "data": {
      "text/plain": [
       "True"
      ]
     },
     "execution_count": 36,
     "metadata": {},
     "output_type": "execute_result"
    }
   ],
   "source": [
    "# we can check if key exists in index, with \"in\"\n",
    "'ind' in cd.index"
   ]
  },
  {
   "cell_type": "code",
   "execution_count": 37,
   "metadata": {},
   "outputs": [
    {
     "data": {
      "text/plain": [
       "False"
      ]
     },
     "execution_count": 37,
     "metadata": {},
     "output_type": "execute_result"
    }
   ],
   "source": [
    "'chn' in cd.index"
   ]
  },
  {
   "cell_type": "code",
   "execution_count": 38,
   "metadata": {},
   "outputs": [
    {
     "data": {
      "text/plain": [
       "'usa'"
      ]
     },
     "execution_count": 38,
     "metadata": {},
     "output_type": "execute_result"
    }
   ],
   "source": [
    "index_p = cd.index\n",
    "# we can get the indexes via int index\n",
    "index_p[0]"
   ]
  },
  {
   "cell_type": "code",
   "execution_count": 39,
   "metadata": {},
   "outputs": [],
   "source": [
    "# this would fail\n",
    "# index are immutable \n",
    "#index_p[0] = 'temp'"
   ]
  },
  {
   "cell_type": "code",
   "execution_count": 40,
   "metadata": {},
   "outputs": [
    {
     "data": {
      "text/plain": [
       "Index(['usa', 'ind'], dtype='object', name='countries')"
      ]
     },
     "execution_count": 40,
     "metadata": {},
     "output_type": "execute_result"
    }
   ],
   "source": [
    "# we can use the list like slicing \n",
    "index_p[:2]"
   ]
  },
  {
   "cell_type": "code",
   "execution_count": 41,
   "metadata": {},
   "outputs": [
    {
     "data": {
      "text/plain": [
       "'rus'"
      ]
     },
     "execution_count": 41,
     "metadata": {},
     "output_type": "execute_result"
    }
   ],
   "source": [
    "index_p[-1]"
   ]
  },
  {
   "cell_type": "code",
   "execution_count": 42,
   "metadata": {},
   "outputs": [],
   "source": [
    "# what would this print?\n",
    "# index_p[:-1]"
   ]
  },
  {
   "cell_type": "code",
   "execution_count": 43,
   "metadata": {},
   "outputs": [
    {
     "data": {
      "text/plain": [
       "countries\n",
       "usa    100.30\n",
       "ind     80.64\n",
       "frc     10.83\n",
       "rus     10.82\n",
       "esp       NaN\n",
       "bra     50.70\n",
       "Name: covid_cases, dtype: float64"
      ]
     },
     "execution_count": 43,
     "metadata": {},
     "output_type": "execute_result"
    }
   ],
   "source": [
    "# as index are immutable and can't be changed directly \n",
    "# we need to use reindex if we want to change them \n",
    "# if new index is added we shall NaN\n",
    "ncd = cd.reindex(['usa','ind','frc', 'rus', 'esp', 'bra'])\n",
    "ncd"
   ]
  },
  {
   "cell_type": "code",
   "execution_count": 44,
   "metadata": {},
   "outputs": [
    {
     "data": {
      "text/plain": [
       "countries\n",
       "usa    100.3\n",
       "ind    80.64\n",
       "frc    10.83\n",
       "rus    10.82\n",
       "esp        0\n",
       "bra     50.7\n",
       "Name: covid_cases, dtype: object"
      ]
     },
     "execution_count": 44,
     "metadata": {},
     "output_type": "execute_result"
    }
   ],
   "source": [
    "# we can use fill_value to specify the default falue if index is not already present\n",
    "ncd = cd.reindex(['usa','ind','frc', 'rus', 'esp', 'bra'], fill_value='0')\n",
    "ncd"
   ]
  },
  {
   "cell_type": "code",
   "execution_count": 45,
   "metadata": {},
   "outputs": [
    {
     "data": {
      "text/plain": [
       "{'usa': 100.3,\n",
       " 'ind': 80.64,\n",
       " 'frc': 10.83,\n",
       " 'rus': 10.82,\n",
       " 'esp': '0',\n",
       " 'bra': 50.7}"
      ]
     },
     "execution_count": 45,
     "metadata": {},
     "output_type": "execute_result"
    }
   ],
   "source": [
    "#we can convert the series to a python dict \n",
    "pcd = ncd.to_dict()\n",
    "pcd"
   ]
  },
  {
   "cell_type": "code",
   "execution_count": 46,
   "metadata": {},
   "outputs": [
    {
     "data": {
      "text/plain": [
       "usa    100.3\n",
       "ind    80.64\n",
       "frc    10.83\n",
       "rus    10.82\n",
       "esp        0\n",
       "bra     50.7\n",
       "dtype: object"
      ]
     },
     "execution_count": 46,
     "metadata": {},
     "output_type": "execute_result"
    }
   ],
   "source": [
    "#we can pass a dict to series to create a series\n",
    "bcd = pd.Series(pcd)\n",
    "# the extra info that we added like name of index etc will be lost \n",
    "bcd"
   ]
  },
  {
   "cell_type": "code",
   "execution_count": 47,
   "metadata": {},
   "outputs": [
    {
     "data": {
      "text/plain": [
       "usa    100.3\n",
       "ind    80.64\n",
       "bra     50.7\n",
       "frc    10.83\n",
       "rus    10.82\n",
       "esp        0\n",
       "chn      NaN\n",
       "dtype: object"
      ]
     },
     "execution_count": 47,
     "metadata": {},
     "output_type": "execute_result"
    }
   ],
   "source": [
    "# we can also specify our own index/keys while passing the dict\n",
    "nbcd = pd.Series(pcd, index=['usa','ind','bra','frc','rus','esp','chn'])\n",
    "nbcd"
   ]
  },
  {
   "cell_type": "code",
   "execution_count": 48,
   "metadata": {},
   "outputs": [
    {
     "data": {
      "text/plain": [
       "usa    False\n",
       "ind    False\n",
       "bra    False\n",
       "frc    False\n",
       "rus    False\n",
       "esp    False\n",
       "chn     True\n",
       "dtype: bool"
      ]
     },
     "execution_count": 48,
     "metadata": {},
     "output_type": "execute_result"
    }
   ],
   "source": [
    "# as chn was not part of the dict already we got a new key with NaN value\n",
    "# we can check if we have null values in our series\n",
    "pd.isnull(nbcd)"
   ]
  },
  {
   "cell_type": "code",
   "execution_count": 49,
   "metadata": {},
   "outputs": [
    {
     "data": {
      "text/plain": [
       "usa     True\n",
       "ind     True\n",
       "bra     True\n",
       "frc     True\n",
       "rus     True\n",
       "esp     True\n",
       "chn    False\n",
       "dtype: bool"
      ]
     },
     "execution_count": 49,
     "metadata": {},
     "output_type": "execute_result"
    }
   ],
   "source": [
    "# we can also use notnull to check what all values are not null in the series\n",
    "pd.notnull(nbcd)"
   ]
  },
  {
   "cell_type": "markdown",
   "metadata": {},
   "source": [
    "### basics of dataframe"
   ]
  },
  {
   "cell_type": "code",
   "execution_count": 50,
   "metadata": {},
   "outputs": [
    {
     "data": {
      "text/html": [
       "<div>\n",
       "<style scoped>\n",
       "    .dataframe tbody tr th:only-of-type {\n",
       "        vertical-align: middle;\n",
       "    }\n",
       "\n",
       "    .dataframe tbody tr th {\n",
       "        vertical-align: top;\n",
       "    }\n",
       "\n",
       "    .dataframe thead th {\n",
       "        text-align: right;\n",
       "    }\n",
       "</style>\n",
       "<table border=\"1\" class=\"dataframe\">\n",
       "  <thead>\n",
       "    <tr style=\"text-align: right;\">\n",
       "      <th></th>\n",
       "      <th>year</th>\n",
       "      <th>batsman</th>\n",
       "      <th>batsman country</th>\n",
       "      <th>bowler</th>\n",
       "      <th>bowler country</th>\n",
       "    </tr>\n",
       "  </thead>\n",
       "  <tbody>\n",
       "    <tr>\n",
       "      <th>0</th>\n",
       "      <td>2019</td>\n",
       "      <td>virat kohli</td>\n",
       "      <td>india</td>\n",
       "      <td>Pat Cummins</td>\n",
       "      <td>australia</td>\n",
       "    </tr>\n",
       "    <tr>\n",
       "      <th>1</th>\n",
       "      <td>2018</td>\n",
       "      <td>virat kohli</td>\n",
       "      <td>india</td>\n",
       "      <td>Kagiso Rabada</td>\n",
       "      <td>South Africa</td>\n",
       "    </tr>\n",
       "    <tr>\n",
       "      <th>2</th>\n",
       "      <td>2017</td>\n",
       "      <td>steve smith</td>\n",
       "      <td>australia</td>\n",
       "      <td>James Anderson</td>\n",
       "      <td>England</td>\n",
       "    </tr>\n",
       "    <tr>\n",
       "      <th>3</th>\n",
       "      <td>2016</td>\n",
       "      <td>steve smith</td>\n",
       "      <td>australia</td>\n",
       "      <td>James Anderson</td>\n",
       "      <td>India</td>\n",
       "    </tr>\n",
       "    <tr>\n",
       "      <th>4</th>\n",
       "      <td>2015</td>\n",
       "      <td>steve smith</td>\n",
       "      <td>australia</td>\n",
       "      <td>Ravichandran Ashwin</td>\n",
       "      <td>India</td>\n",
       "    </tr>\n",
       "  </tbody>\n",
       "</table>\n",
       "</div>"
      ],
      "text/plain": [
       "   year      batsman batsman country               bowler bowler country\n",
       "0  2019  virat kohli           india          Pat Cummins      australia\n",
       "1  2018  virat kohli           india        Kagiso Rabada   South Africa\n",
       "2  2017  steve smith       australia       James Anderson        England\n",
       "3  2016  steve smith       australia       James Anderson          India\n",
       "4  2015  steve smith       australia  Ravichandran Ashwin          India"
      ]
     },
     "execution_count": 50,
     "metadata": {},
     "output_type": "execute_result"
    }
   ],
   "source": [
    "# lets first have a quick look at dataframe\n",
    "rank_dict = { \\\n",
    "             'year' : [2019,2018,2017,2016,2015], \\\n",
    "             'batsman':['virat kohli', 'virat kohli', 'steve smith', 'steve smith', 'steve smith' ],\\\n",
    "             'batsman country': ['india', 'india', 'australia', 'australia', 'australia'],\\\n",
    "             'bowler': ['Pat Cummins', 'Kagiso Rabada', 'James Anderson', 'James Anderson', 'Ravichandran Ashwin' ],\\\n",
    "            'bowler country':['australia', 'South Africa', 'England', 'India', 'India' ]\\\n",
    "            }\n",
    "# we can pass a dict that contains key as the coloum name and list as the respective values \n",
    "icc_ranking = pd.DataFrame(rank_dict)\n",
    "icc_ranking"
   ]
  },
  {
   "cell_type": "code",
   "execution_count": 51,
   "metadata": {},
   "outputs": [
    {
     "data": {
      "text/plain": [
       "Index(['year', 'batsman', 'batsman country', 'bowler', 'bowler country'], dtype='object')"
      ]
     },
     "execution_count": 51,
     "metadata": {},
     "output_type": "execute_result"
    }
   ],
   "source": [
    "# pandas automatically adds the indexes as shown above\n",
    "# we can get the coloum names of the dataframe \n",
    "icc_ranking.columns"
   ]
  },
  {
   "cell_type": "code",
   "execution_count": 52,
   "metadata": {},
   "outputs": [
    {
     "data": {
      "text/html": [
       "<div>\n",
       "<style scoped>\n",
       "    .dataframe tbody tr th:only-of-type {\n",
       "        vertical-align: middle;\n",
       "    }\n",
       "\n",
       "    .dataframe tbody tr th {\n",
       "        vertical-align: top;\n",
       "    }\n",
       "\n",
       "    .dataframe thead th {\n",
       "        text-align: right;\n",
       "    }\n",
       "</style>\n",
       "<table border=\"1\" class=\"dataframe\">\n",
       "  <thead>\n",
       "    <tr style=\"text-align: right;\">\n",
       "      <th></th>\n",
       "      <th>year</th>\n",
       "      <th>batsman</th>\n",
       "      <th>batsman country</th>\n",
       "      <th>bowler</th>\n",
       "      <th>bowler country</th>\n",
       "    </tr>\n",
       "  </thead>\n",
       "  <tbody>\n",
       "    <tr>\n",
       "      <th>19</th>\n",
       "      <td>2019</td>\n",
       "      <td>virat kohli</td>\n",
       "      <td>india</td>\n",
       "      <td>Pat Cummins</td>\n",
       "      <td>australia</td>\n",
       "    </tr>\n",
       "    <tr>\n",
       "      <th>18</th>\n",
       "      <td>2018</td>\n",
       "      <td>virat kohli</td>\n",
       "      <td>india</td>\n",
       "      <td>Kagiso Rabada</td>\n",
       "      <td>South Africa</td>\n",
       "    </tr>\n",
       "    <tr>\n",
       "      <th>17</th>\n",
       "      <td>2017</td>\n",
       "      <td>steve smith</td>\n",
       "      <td>australia</td>\n",
       "      <td>James Anderson</td>\n",
       "      <td>England</td>\n",
       "    </tr>\n",
       "    <tr>\n",
       "      <th>16</th>\n",
       "      <td>2016</td>\n",
       "      <td>steve smith</td>\n",
       "      <td>australia</td>\n",
       "      <td>James Anderson</td>\n",
       "      <td>India</td>\n",
       "    </tr>\n",
       "    <tr>\n",
       "      <th>15</th>\n",
       "      <td>2015</td>\n",
       "      <td>steve smith</td>\n",
       "      <td>australia</td>\n",
       "      <td>Ravichandran Ashwin</td>\n",
       "      <td>India</td>\n",
       "    </tr>\n",
       "  </tbody>\n",
       "</table>\n",
       "</div>"
      ],
      "text/plain": [
       "    year      batsman batsman country               bowler bowler country\n",
       "19  2019  virat kohli           india          Pat Cummins      australia\n",
       "18  2018  virat kohli           india        Kagiso Rabada   South Africa\n",
       "17  2017  steve smith       australia       James Anderson        England\n",
       "16  2016  steve smith       australia       James Anderson          India\n",
       "15  2015  steve smith       australia  Ravichandran Ashwin          India"
      ]
     },
     "execution_count": 52,
     "metadata": {},
     "output_type": "execute_result"
    }
   ],
   "source": [
    "# we can also provide index names \n",
    "icc_ranking = pd.DataFrame(rank_dict, index=['19','18','17','16','15'])\n",
    "icc_ranking"
   ]
  },
  {
   "cell_type": "code",
   "execution_count": 53,
   "metadata": {},
   "outputs": [
    {
     "data": {
      "text/plain": [
       "19    2019\n",
       "18    2018\n",
       "17    2017\n",
       "16    2016\n",
       "15    2015\n",
       "Name: year, dtype: int64"
      ]
     },
     "execution_count": 53,
     "metadata": {},
     "output_type": "execute_result"
    }
   ],
   "source": [
    "# we can use the coloum names to get the data \n",
    "icc_ranking.year"
   ]
  },
  {
   "cell_type": "code",
   "execution_count": 54,
   "metadata": {},
   "outputs": [
    {
     "data": {
      "text/plain": [
       "19    virat kohli\n",
       "18    virat kohli\n",
       "17    steve smith\n",
       "16    steve smith\n",
       "15    steve smith\n",
       "Name: batsman, dtype: object"
      ]
     },
     "execution_count": 54,
     "metadata": {},
     "output_type": "execute_result"
    }
   ],
   "source": [
    "# or we can use \n",
    "icc_ranking['batsman']"
   ]
  },
  {
   "cell_type": "code",
   "execution_count": 55,
   "metadata": {},
   "outputs": [
    {
     "data": {
      "text/plain": [
       "19       australia\n",
       "18    South Africa\n",
       "17         England\n",
       "16           India\n",
       "15           India\n",
       "Name: bowler country, dtype: object"
      ]
     },
     "execution_count": 55,
     "metadata": {},
     "output_type": "execute_result"
    }
   ],
   "source": [
    "# for column name that has the spaces in middle we have to use the index approach \n",
    "# so always use index approach \n",
    "icc_ranking['bowler country']"
   ]
  },
  {
   "cell_type": "code",
   "execution_count": 56,
   "metadata": {},
   "outputs": [
    {
     "data": {
      "text/html": [
       "<div>\n",
       "<style scoped>\n",
       "    .dataframe tbody tr th:only-of-type {\n",
       "        vertical-align: middle;\n",
       "    }\n",
       "\n",
       "    .dataframe tbody tr th {\n",
       "        vertical-align: top;\n",
       "    }\n",
       "\n",
       "    .dataframe thead th {\n",
       "        text-align: right;\n",
       "    }\n",
       "</style>\n",
       "<table border=\"1\" class=\"dataframe\">\n",
       "  <thead>\n",
       "    <tr style=\"text-align: right;\">\n",
       "      <th></th>\n",
       "      <th>year</th>\n",
       "      <th>batsman</th>\n",
       "      <th>batsman country</th>\n",
       "      <th>bowler</th>\n",
       "      <th>bowler country</th>\n",
       "    </tr>\n",
       "  </thead>\n",
       "  <tbody>\n",
       "    <tr>\n",
       "      <th>19</th>\n",
       "      <td>2019</td>\n",
       "      <td>virat kohli</td>\n",
       "      <td>india</td>\n",
       "      <td>Pat Cummins</td>\n",
       "      <td>australia</td>\n",
       "    </tr>\n",
       "    <tr>\n",
       "      <th>18</th>\n",
       "      <td>2018</td>\n",
       "      <td>virat kohli</td>\n",
       "      <td>india</td>\n",
       "      <td>Kagiso Rabada</td>\n",
       "      <td>South Africa</td>\n",
       "    </tr>\n",
       "  </tbody>\n",
       "</table>\n",
       "</div>"
      ],
      "text/plain": [
       "    year      batsman batsman country         bowler bowler country\n",
       "19  2019  virat kohli           india    Pat Cummins      australia\n",
       "18  2018  virat kohli           india  Kagiso Rabada   South Africa"
      ]
     },
     "execution_count": 56,
     "metadata": {},
     "output_type": "execute_result"
    }
   ],
   "source": [
    "# we can also retrive some values from dataframe \n",
    "# in this case 2 values from the start\n",
    "icc_ranking.head(2)"
   ]
  },
  {
   "cell_type": "code",
   "execution_count": 57,
   "metadata": {},
   "outputs": [
    {
     "data": {
      "text/html": [
       "<div>\n",
       "<style scoped>\n",
       "    .dataframe tbody tr th:only-of-type {\n",
       "        vertical-align: middle;\n",
       "    }\n",
       "\n",
       "    .dataframe tbody tr th {\n",
       "        vertical-align: top;\n",
       "    }\n",
       "\n",
       "    .dataframe thead th {\n",
       "        text-align: right;\n",
       "    }\n",
       "</style>\n",
       "<table border=\"1\" class=\"dataframe\">\n",
       "  <thead>\n",
       "    <tr style=\"text-align: right;\">\n",
       "      <th></th>\n",
       "      <th>year</th>\n",
       "      <th>batsman</th>\n",
       "      <th>batsman country</th>\n",
       "      <th>bowler</th>\n",
       "      <th>bowler country</th>\n",
       "    </tr>\n",
       "  </thead>\n",
       "  <tbody>\n",
       "    <tr>\n",
       "      <th>16</th>\n",
       "      <td>2016</td>\n",
       "      <td>steve smith</td>\n",
       "      <td>australia</td>\n",
       "      <td>James Anderson</td>\n",
       "      <td>India</td>\n",
       "    </tr>\n",
       "    <tr>\n",
       "      <th>15</th>\n",
       "      <td>2015</td>\n",
       "      <td>steve smith</td>\n",
       "      <td>australia</td>\n",
       "      <td>Ravichandran Ashwin</td>\n",
       "      <td>India</td>\n",
       "    </tr>\n",
       "  </tbody>\n",
       "</table>\n",
       "</div>"
      ],
      "text/plain": [
       "    year      batsman batsman country               bowler bowler country\n",
       "16  2016  steve smith       australia       James Anderson          India\n",
       "15  2015  steve smith       australia  Ravichandran Ashwin          India"
      ]
     },
     "execution_count": 57,
     "metadata": {},
     "output_type": "execute_result"
    }
   ],
   "source": [
    "# in this case 2 values from the start\n",
    "icc_ranking.tail(2)"
   ]
  },
  {
   "cell_type": "code",
   "execution_count": 58,
   "metadata": {},
   "outputs": [
    {
     "data": {
      "text/plain": [
       "year                         2016\n",
       "batsman               steve smith\n",
       "batsman country         australia\n",
       "bowler             James Anderson\n",
       "bowler country              India\n",
       "Name: 16, dtype: object"
      ]
     },
     "execution_count": 58,
     "metadata": {},
     "output_type": "execute_result"
    }
   ],
   "source": [
    "# we can also extract data at particular index with the help of iloc\n",
    "icc_ranking.iloc[3]"
   ]
  },
  {
   "cell_type": "code",
   "execution_count": 59,
   "metadata": {},
   "outputs": [
    {
     "data": {
      "text/html": [
       "<div>\n",
       "<style scoped>\n",
       "    .dataframe tbody tr th:only-of-type {\n",
       "        vertical-align: middle;\n",
       "    }\n",
       "\n",
       "    .dataframe tbody tr th {\n",
       "        vertical-align: top;\n",
       "    }\n",
       "\n",
       "    .dataframe thead th {\n",
       "        text-align: right;\n",
       "    }\n",
       "</style>\n",
       "<table border=\"1\" class=\"dataframe\">\n",
       "  <thead>\n",
       "    <tr style=\"text-align: right;\">\n",
       "      <th></th>\n",
       "      <th>year</th>\n",
       "      <th>batsman</th>\n",
       "      <th>batsman country</th>\n",
       "      <th>bowler</th>\n",
       "      <th>bowler country</th>\n",
       "    </tr>\n",
       "  </thead>\n",
       "  <tbody>\n",
       "    <tr>\n",
       "      <th>19</th>\n",
       "      <td>2019</td>\n",
       "      <td>virat kohli</td>\n",
       "      <td>india</td>\n",
       "      <td>Pat Cummins</td>\n",
       "      <td>australia</td>\n",
       "    </tr>\n",
       "    <tr>\n",
       "      <th>17</th>\n",
       "      <td>2017</td>\n",
       "      <td>steve smith</td>\n",
       "      <td>australia</td>\n",
       "      <td>James Anderson</td>\n",
       "      <td>England</td>\n",
       "    </tr>\n",
       "    <tr>\n",
       "      <th>15</th>\n",
       "      <td>2015</td>\n",
       "      <td>steve smith</td>\n",
       "      <td>australia</td>\n",
       "      <td>Ravichandran Ashwin</td>\n",
       "      <td>India</td>\n",
       "    </tr>\n",
       "  </tbody>\n",
       "</table>\n",
       "</div>"
      ],
      "text/plain": [
       "    year      batsman batsman country               bowler bowler country\n",
       "19  2019  virat kohli           india          Pat Cummins      australia\n",
       "17  2017  steve smith       australia       James Anderson        England\n",
       "15  2015  steve smith       australia  Ravichandran Ashwin          India"
      ]
     },
     "execution_count": 59,
     "metadata": {},
     "output_type": "execute_result"
    }
   ],
   "source": [
    "# we can also select multiple index\n",
    "icc_ranking.iloc[['0','2','4']]"
   ]
  },
  {
   "cell_type": "code",
   "execution_count": 60,
   "metadata": {},
   "outputs": [
    {
     "data": {
      "text/html": [
       "<div>\n",
       "<style scoped>\n",
       "    .dataframe tbody tr th:only-of-type {\n",
       "        vertical-align: middle;\n",
       "    }\n",
       "\n",
       "    .dataframe tbody tr th {\n",
       "        vertical-align: top;\n",
       "    }\n",
       "\n",
       "    .dataframe thead th {\n",
       "        text-align: right;\n",
       "    }\n",
       "</style>\n",
       "<table border=\"1\" class=\"dataframe\">\n",
       "  <thead>\n",
       "    <tr style=\"text-align: right;\">\n",
       "      <th></th>\n",
       "      <th>year</th>\n",
       "      <th>batsman</th>\n",
       "      <th>batsman country</th>\n",
       "    </tr>\n",
       "  </thead>\n",
       "  <tbody>\n",
       "    <tr>\n",
       "      <th>19</th>\n",
       "      <td>2019</td>\n",
       "      <td>virat kohli</td>\n",
       "      <td>india</td>\n",
       "    </tr>\n",
       "    <tr>\n",
       "      <th>18</th>\n",
       "      <td>2018</td>\n",
       "      <td>virat kohli</td>\n",
       "      <td>india</td>\n",
       "    </tr>\n",
       "    <tr>\n",
       "      <th>17</th>\n",
       "      <td>2017</td>\n",
       "      <td>steve smith</td>\n",
       "      <td>australia</td>\n",
       "    </tr>\n",
       "    <tr>\n",
       "      <th>16</th>\n",
       "      <td>2016</td>\n",
       "      <td>steve smith</td>\n",
       "      <td>australia</td>\n",
       "    </tr>\n",
       "    <tr>\n",
       "      <th>15</th>\n",
       "      <td>2015</td>\n",
       "      <td>steve smith</td>\n",
       "      <td>australia</td>\n",
       "    </tr>\n",
       "  </tbody>\n",
       "</table>\n",
       "</div>"
      ],
      "text/plain": [
       "    year      batsman batsman country\n",
       "19  2019  virat kohli           india\n",
       "18  2018  virat kohli           india\n",
       "17  2017  steve smith       australia\n",
       "16  2016  steve smith       australia\n",
       "15  2015  steve smith       australia"
      ]
     },
     "execution_count": 60,
     "metadata": {},
     "output_type": "execute_result"
    }
   ],
   "source": [
    "# we can also extract multiple columns from the data frame\n",
    "# this basically creates a new dataframe with selected coloums\n",
    "pd.DataFrame(icc_ranking, columns=['year', 'batsman', 'batsman country'])"
   ]
  },
  {
   "cell_type": "code",
   "execution_count": 61,
   "metadata": {},
   "outputs": [
    {
     "data": {
      "text/html": [
       "<div>\n",
       "<style scoped>\n",
       "    .dataframe tbody tr th:only-of-type {\n",
       "        vertical-align: middle;\n",
       "    }\n",
       "\n",
       "    .dataframe tbody tr th {\n",
       "        vertical-align: top;\n",
       "    }\n",
       "\n",
       "    .dataframe thead th {\n",
       "        text-align: right;\n",
       "    }\n",
       "</style>\n",
       "<table border=\"1\" class=\"dataframe\">\n",
       "  <thead>\n",
       "    <tr style=\"text-align: right;\">\n",
       "      <th></th>\n",
       "      <th>year</th>\n",
       "      <th>bowler</th>\n",
       "      <th>bowler country</th>\n",
       "      <th>notdefined</th>\n",
       "    </tr>\n",
       "  </thead>\n",
       "  <tbody>\n",
       "    <tr>\n",
       "      <th>19</th>\n",
       "      <td>2019</td>\n",
       "      <td>Pat Cummins</td>\n",
       "      <td>australia</td>\n",
       "      <td>NaN</td>\n",
       "    </tr>\n",
       "    <tr>\n",
       "      <th>18</th>\n",
       "      <td>2018</td>\n",
       "      <td>Kagiso Rabada</td>\n",
       "      <td>South Africa</td>\n",
       "      <td>NaN</td>\n",
       "    </tr>\n",
       "    <tr>\n",
       "      <th>17</th>\n",
       "      <td>2017</td>\n",
       "      <td>James Anderson</td>\n",
       "      <td>England</td>\n",
       "      <td>NaN</td>\n",
       "    </tr>\n",
       "    <tr>\n",
       "      <th>16</th>\n",
       "      <td>2016</td>\n",
       "      <td>James Anderson</td>\n",
       "      <td>India</td>\n",
       "      <td>NaN</td>\n",
       "    </tr>\n",
       "    <tr>\n",
       "      <th>15</th>\n",
       "      <td>2015</td>\n",
       "      <td>Ravichandran Ashwin</td>\n",
       "      <td>India</td>\n",
       "      <td>NaN</td>\n",
       "    </tr>\n",
       "  </tbody>\n",
       "</table>\n",
       "</div>"
      ],
      "text/plain": [
       "    year               bowler bowler country  notdefined\n",
       "19  2019          Pat Cummins      australia         NaN\n",
       "18  2018        Kagiso Rabada   South Africa         NaN\n",
       "17  2017       James Anderson        England         NaN\n",
       "16  2016       James Anderson          India         NaN\n",
       "15  2015  Ravichandran Ashwin          India         NaN"
      ]
     },
     "execution_count": 61,
     "metadata": {},
     "output_type": "execute_result"
    }
   ],
   "source": [
    "# we can also extract multiple columns from the data frame\n",
    "# if we pass a coloum name that does not exists we shall get NaN values\n",
    "pd.DataFrame(icc_ranking, columns=['year', 'bowler', 'bowler country', 'notdefined'])"
   ]
  },
  {
   "cell_type": "code",
   "execution_count": 62,
   "metadata": {},
   "outputs": [
    {
     "data": {
      "text/html": [
       "<div>\n",
       "<style scoped>\n",
       "    .dataframe tbody tr th:only-of-type {\n",
       "        vertical-align: middle;\n",
       "    }\n",
       "\n",
       "    .dataframe tbody tr th {\n",
       "        vertical-align: top;\n",
       "    }\n",
       "\n",
       "    .dataframe thead th {\n",
       "        text-align: right;\n",
       "    }\n",
       "</style>\n",
       "<table border=\"1\" class=\"dataframe\">\n",
       "  <thead>\n",
       "    <tr style=\"text-align: right;\">\n",
       "      <th></th>\n",
       "      <th>cl1</th>\n",
       "      <th>cl2</th>\n",
       "      <th>cl3</th>\n",
       "      <th>cl4</th>\n",
       "      <th>cl5</th>\n",
       "    </tr>\n",
       "  </thead>\n",
       "  <tbody>\n",
       "    <tr>\n",
       "      <th>first</th>\n",
       "      <td>-0.157623</td>\n",
       "      <td>-1.414416</td>\n",
       "      <td>0.675708</td>\n",
       "      <td>0.549411</td>\n",
       "      <td>1.665969</td>\n",
       "    </tr>\n",
       "    <tr>\n",
       "      <th>second</th>\n",
       "      <td>-0.492437</td>\n",
       "      <td>0.685788</td>\n",
       "      <td>0.215040</td>\n",
       "      <td>0.252677</td>\n",
       "      <td>-0.997441</td>\n",
       "    </tr>\n",
       "    <tr>\n",
       "      <th>third</th>\n",
       "      <td>0.075487</td>\n",
       "      <td>0.560347</td>\n",
       "      <td>-0.242204</td>\n",
       "      <td>-0.564074</td>\n",
       "      <td>0.122896</td>\n",
       "    </tr>\n",
       "    <tr>\n",
       "      <th>fourth</th>\n",
       "      <td>0.466901</td>\n",
       "      <td>0.131506</td>\n",
       "      <td>-1.734850</td>\n",
       "      <td>-2.421723</td>\n",
       "      <td>-0.738227</td>\n",
       "    </tr>\n",
       "  </tbody>\n",
       "</table>\n",
       "</div>"
      ],
      "text/plain": [
       "             cl1       cl2       cl3       cl4       cl5\n",
       "first  -0.157623 -1.414416  0.675708  0.549411  1.665969\n",
       "second -0.492437  0.685788  0.215040  0.252677 -0.997441\n",
       "third   0.075487  0.560347 -0.242204 -0.564074  0.122896\n",
       "fourth  0.466901  0.131506 -1.734850 -2.421723 -0.738227"
      ]
     },
     "execution_count": 62,
     "metadata": {},
     "output_type": "execute_result"
    }
   ],
   "source": [
    "# let us create a Dataframe from numbers and provide user defined index and coloum names\n",
    "df = pd.DataFrame(np.random.randn(20).reshape(4,5), index = ['first','second', 'third','fourth'], columns=['cl1', 'cl2', 'cl3','cl4','cl5'])\n",
    "df"
   ]
  },
  {
   "cell_type": "code",
   "execution_count": 63,
   "metadata": {},
   "outputs": [
    {
     "data": {
      "text/html": [
       "<div>\n",
       "<style scoped>\n",
       "    .dataframe tbody tr th:only-of-type {\n",
       "        vertical-align: middle;\n",
       "    }\n",
       "\n",
       "    .dataframe tbody tr th {\n",
       "        vertical-align: top;\n",
       "    }\n",
       "\n",
       "    .dataframe thead th {\n",
       "        text-align: right;\n",
       "    }\n",
       "</style>\n",
       "<table border=\"1\" class=\"dataframe\">\n",
       "  <thead>\n",
       "    <tr style=\"text-align: right;\">\n",
       "      <th></th>\n",
       "      <th>cl1</th>\n",
       "      <th>cl2</th>\n",
       "      <th>cl3</th>\n",
       "      <th>cl4</th>\n",
       "      <th>cl5</th>\n",
       "    </tr>\n",
       "  </thead>\n",
       "  <tbody>\n",
       "    <tr>\n",
       "      <th>first</th>\n",
       "      <td>-0.157623</td>\n",
       "      <td>-1.414416</td>\n",
       "      <td>0.675708</td>\n",
       "      <td>0.549411</td>\n",
       "      <td>1.665969</td>\n",
       "    </tr>\n",
       "    <tr>\n",
       "      <th>second</th>\n",
       "      <td>-0.492437</td>\n",
       "      <td>0.685788</td>\n",
       "      <td>0.215040</td>\n",
       "      <td>0.252677</td>\n",
       "      <td>-0.997441</td>\n",
       "    </tr>\n",
       "    <tr>\n",
       "      <th>third</th>\n",
       "      <td>0.075487</td>\n",
       "      <td>0.560347</td>\n",
       "      <td>-0.242204</td>\n",
       "      <td>-0.564074</td>\n",
       "      <td>0.122896</td>\n",
       "    </tr>\n",
       "    <tr>\n",
       "      <th>fourth</th>\n",
       "      <td>0.466901</td>\n",
       "      <td>0.131506</td>\n",
       "      <td>-1.734850</td>\n",
       "      <td>-2.421723</td>\n",
       "      <td>-0.738227</td>\n",
       "    </tr>\n",
       "    <tr>\n",
       "      <th>fifth</th>\n",
       "      <td>10.000000</td>\n",
       "      <td>10.000000</td>\n",
       "      <td>10.000000</td>\n",
       "      <td>10.000000</td>\n",
       "      <td>10.000000</td>\n",
       "    </tr>\n",
       "  </tbody>\n",
       "</table>\n",
       "</div>"
      ],
      "text/plain": [
       "              cl1        cl2        cl3        cl4        cl5\n",
       "first   -0.157623  -1.414416   0.675708   0.549411   1.665969\n",
       "second  -0.492437   0.685788   0.215040   0.252677  -0.997441\n",
       "third    0.075487   0.560347  -0.242204  -0.564074   0.122896\n",
       "fourth   0.466901   0.131506  -1.734850  -2.421723  -0.738227\n",
       "fifth   10.000000  10.000000  10.000000  10.000000  10.000000"
      ]
     },
     "execution_count": 63,
     "metadata": {},
     "output_type": "execute_result"
    }
   ],
   "source": [
    "# we can reindex the DataFrame\n",
    "# and can use the fill_value option \n",
    "ndf = pd.DataFrame.reindex(df, index = ['first','second', 'third','fourth', 'fifth'], fill_value=10)\n",
    "ndf"
   ]
  },
  {
   "cell_type": "code",
   "execution_count": 64,
   "metadata": {},
   "outputs": [
    {
     "data": {
      "text/html": [
       "<div>\n",
       "<style scoped>\n",
       "    .dataframe tbody tr th:only-of-type {\n",
       "        vertical-align: middle;\n",
       "    }\n",
       "\n",
       "    .dataframe tbody tr th {\n",
       "        vertical-align: top;\n",
       "    }\n",
       "\n",
       "    .dataframe thead th {\n",
       "        text-align: right;\n",
       "    }\n",
       "</style>\n",
       "<table border=\"1\" class=\"dataframe\">\n",
       "  <thead>\n",
       "    <tr style=\"text-align: right;\">\n",
       "      <th></th>\n",
       "      <th>cl1</th>\n",
       "      <th>cl2</th>\n",
       "      <th>cl3</th>\n",
       "      <th>cl4</th>\n",
       "      <th>cl5</th>\n",
       "      <th>cl6</th>\n",
       "    </tr>\n",
       "  </thead>\n",
       "  <tbody>\n",
       "    <tr>\n",
       "      <th>first</th>\n",
       "      <td>-0.157623</td>\n",
       "      <td>-1.414416</td>\n",
       "      <td>0.675708</td>\n",
       "      <td>0.549411</td>\n",
       "      <td>1.665969</td>\n",
       "      <td>10.0</td>\n",
       "    </tr>\n",
       "    <tr>\n",
       "      <th>second</th>\n",
       "      <td>-0.492437</td>\n",
       "      <td>0.685788</td>\n",
       "      <td>0.215040</td>\n",
       "      <td>0.252677</td>\n",
       "      <td>-0.997441</td>\n",
       "      <td>10.0</td>\n",
       "    </tr>\n",
       "    <tr>\n",
       "      <th>third</th>\n",
       "      <td>0.075487</td>\n",
       "      <td>0.560347</td>\n",
       "      <td>-0.242204</td>\n",
       "      <td>-0.564074</td>\n",
       "      <td>0.122896</td>\n",
       "      <td>10.0</td>\n",
       "    </tr>\n",
       "    <tr>\n",
       "      <th>fourth</th>\n",
       "      <td>0.466901</td>\n",
       "      <td>0.131506</td>\n",
       "      <td>-1.734850</td>\n",
       "      <td>-2.421723</td>\n",
       "      <td>-0.738227</td>\n",
       "      <td>10.0</td>\n",
       "    </tr>\n",
       "    <tr>\n",
       "      <th>fifth</th>\n",
       "      <td>10.000000</td>\n",
       "      <td>10.000000</td>\n",
       "      <td>10.000000</td>\n",
       "      <td>10.000000</td>\n",
       "      <td>10.000000</td>\n",
       "      <td>10.0</td>\n",
       "    </tr>\n",
       "  </tbody>\n",
       "</table>\n",
       "</div>"
      ],
      "text/plain": [
       "              cl1        cl2        cl3        cl4        cl5   cl6\n",
       "first   -0.157623  -1.414416   0.675708   0.549411   1.665969  10.0\n",
       "second  -0.492437   0.685788   0.215040   0.252677  -0.997441  10.0\n",
       "third    0.075487   0.560347  -0.242204  -0.564074   0.122896  10.0\n",
       "fourth   0.466901   0.131506  -1.734850  -2.421723  -0.738227  10.0\n",
       "fifth   10.000000  10.000000  10.000000  10.000000  10.000000  10.0"
      ]
     },
     "execution_count": 64,
     "metadata": {},
     "output_type": "execute_result"
    }
   ],
   "source": [
    "# we can reindex by using the dataframe object too\n",
    "# we can also change the coloums \n",
    "ndf = df.reindex(index = ['first','second', 'third','fourth', 'fifth'], columns = ['cl1', 'cl2', 'cl3','cl4','cl5', 'cl6'], fill_value=10)\n",
    "ndf"
   ]
  },
  {
   "cell_type": "markdown",
   "metadata": {},
   "source": [
    "###  more of series "
   ]
  },
  {
   "cell_type": "code",
   "execution_count": null,
   "metadata": {},
   "outputs": [],
   "source": []
  },
  {
   "cell_type": "markdown",
   "metadata": {},
   "source": [
    "###  more of dataframe "
   ]
  },
  {
   "cell_type": "code",
   "execution_count": null,
   "metadata": {},
   "outputs": [],
   "source": []
  }
 ],
 "metadata": {
  "kernelspec": {
   "display_name": "Python 3",
   "language": "python",
   "name": "python3"
  },
  "language_info": {
   "codemirror_mode": {
    "name": "ipython",
    "version": 3
   },
   "file_extension": ".py",
   "mimetype": "text/x-python",
   "name": "python",
   "nbconvert_exporter": "python",
   "pygments_lexer": "ipython3",
   "version": "3.9.0"
  }
 },
 "nbformat": 4,
 "nbformat_minor": 4
}
