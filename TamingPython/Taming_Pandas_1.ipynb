{
 "cells": [
  {
   "cell_type": "code",
   "execution_count": 1,
   "metadata": {},
   "outputs": [
    {
     "name": "stdout",
     "output_type": "stream",
     "text": [
      "3.9.0\n",
      "some basics of numpy before we jump on to pandas\n"
     ]
    }
   ],
   "source": [
    "import numpy as np\n",
    "import pandas as pd\n",
    "import platform\n",
    "print(platform.python_version())\n",
    "\n",
    "\n",
    "print(note:= \"some basics of numpy before we jump on to pandas\")\n"
   ]
  },
  {
   "cell_type": "code",
   "execution_count": 2,
   "metadata": {},
   "outputs": [
    {
     "name": "stdout",
     "output_type": "stream",
     "text": [
      "this is python based list\n",
      "python list can have diff type of data like string,  int, float, char etc etc etc\n",
      "\n",
      "we shall see the data as its own type\n",
      "['a', 1, 1.2, '3', 'welcome']\n"
     ]
    }
   ],
   "source": [
    "print( note:= \"this is python based list\")\n",
    "print()\n",
    "print( note:= \"python list can have diff type of data like string,  int, float, char etc etc etc\") \n",
    "print()\n",
    "sample_list = ['a', 1 , 1.2 , '3', 'welcome']\n",
    "\n",
    "print()\n",
    "print(note:=\"we shall see the data as its own type\")\n",
    "print()\n",
    "print(sample_list)"
   ]
  },
  {
   "cell_type": "code",
   "execution_count": 3,
   "metadata": {},
   "outputs": [
    {
     "name": "stdout",
     "output_type": "stream",
     "text": [
      "we shall see the data as string type as we have mixed data type\n",
      "['a' '1' '1.2' '3' 'welcome']\n"
     ]
    }
   ],
   "source": [
    "print(note:='we shall see the data as string type as we have mixed data type')\n",
    "print()\n",
    "print(sr := np.array(sample_list))"
   ]
  },
  {
   "cell_type": "code",
   "execution_count": 4,
   "metadata": {},
   "outputs": [
    {
     "name": "stdout",
     "output_type": "stream",
     "text": [
      "we can get the dimention of array through shape attribue of arrays\n",
      "(5,)\n"
     ]
    }
   ],
   "source": [
    "print(note:= \"we can get the dimention of array through shape attribue of arrays\")\n",
    "print()\n",
    "print(sr.shape) "
   ]
  },
  {
   "cell_type": "code",
   "execution_count": 5,
   "metadata": {},
   "outputs": [
    {
     "name": "stdout",
     "output_type": "stream",
     "text": [
      "we can get  type of array\n",
      "<U7\n"
     ]
    }
   ],
   "source": [
    "print(note:= \"we can get  type of array\")\n",
    "print()\n",
    "print(sr.dtype)"
   ]
  },
  {
   "cell_type": "code",
   "execution_count": 6,
   "metadata": {},
   "outputs": [
    {
     "name": "stdout",
     "output_type": "stream",
     "text": [
      "if we use only int data, we shall see the respective in type\n",
      "int64\n"
     ]
    }
   ],
   "source": [
    "print(note := \"if we use only int data, we shall see the respective in type\")\n",
    "print()\n",
    "i1r = np.array([1,2,3])\n",
    "print(i1r.dtype)"
   ]
  },
  {
   "cell_type": "code",
   "execution_count": 7,
   "metadata": {},
   "outputs": [
    {
     "name": "stdout",
     "output_type": "stream",
     "text": [
      "we can use indexing\n",
      "1 2 3\n"
     ]
    }
   ],
   "source": [
    "print(note:= \"we can use indexing\")\n",
    "print()\n",
    "print(i1r[0], i1r[1], i1r[2])"
   ]
  },
  {
   "cell_type": "code",
   "execution_count": 8,
   "metadata": {},
   "outputs": [
    {
     "name": "stdout",
     "output_type": "stream",
     "text": [
      "we can create list within list, which is sort of a matrix\n",
      "(3, 3)\n",
      "int64\n"
     ]
    }
   ],
   "source": [
    "print(note := \"we can create list within list, which is sort of a matrix\")\n",
    "print()\n",
    "i2r = np.array([[1,2,3],[4,5,6],[7,8,9]])\n",
    "print(i2r.shape)\n",
    "print(i2r.dtype)"
   ]
  },
  {
   "cell_type": "code",
   "execution_count": 9,
   "metadata": {},
   "outputs": [
    {
     "name": "stdout",
     "output_type": "stream",
     "text": [
      "we can use indexing\n",
      " : indexing follow the the patterm of range, start is includes, end is not included\n",
      "[1 2 3] [4 5 6] [2 3] [4 5] [4 5]\n",
      "\n",
      "[7 8 9]\n",
      "\n",
      "[[1 2 3]\n",
      " [4 5 6]\n",
      " [7 8 9]]\n"
     ]
    }
   ],
   "source": [
    "print(note := \"we can use indexing\")\n",
    "print(note := \"indexing follow the the patterm of range, start is includes, end is not included\")\n",
    "print()\n",
    "print(i2r[0], i2r[1], i2r[0,1:3], i2r[1,0:2], i2r[1,0:2])\n",
    "print()\n",
    "print(i2r[2,:])\n",
    "print()\n",
    "print(i2r[:,:])"
   ]
  },
  {
   "cell_type": "code",
   "execution_count": 10,
   "metadata": {},
   "outputs": [
    {
     "name": "stdout",
     "output_type": "stream",
     "text": [
      "returns true if any value is true or non-zero\n",
      "True\n",
      "False\n"
     ]
    }
   ],
   "source": [
    "print(note := \"returns true if any value is true or non-zero\")\n",
    "print()\n",
    "print(i2r.any())\n",
    "zero = i2r - i2r \n",
    "print(zero.any())"
   ]
  },
  {
   "cell_type": "code",
   "execution_count": 11,
   "metadata": {},
   "outputs": [
    {
     "name": "stdout",
     "output_type": "stream",
     "text": [
      "returns true if all the values are true or non-zero\n",
      "True\n",
      "we can do scalar operations on np array\n",
      "False\n"
     ]
    }
   ],
   "source": [
    "print(note := \"returns true if all the values are true or non-zero\")\n",
    "print()\n",
    "print(i2r.all())\n",
    "print()\n",
    "print(note:= \"we can do scalar operations on np array\")\n",
    "print()\n",
    "i2r = i2r - 1\n",
    "print()\n",
    "print(i2r.all())"
   ]
  },
  {
   "cell_type": "code",
   "execution_count": 12,
   "metadata": {},
   "outputs": [
    {
     "name": "stdout",
     "output_type": "stream",
     "text": [
      "sum returns sum of the array\n",
      "\n",
      "36\n"
     ]
    }
   ],
   "source": [
    "print(note := \"sum returns sum of the array\")\n",
    "print()\n",
    "print(i2r.sum())"
   ]
  },
  {
   "cell_type": "code",
   "execution_count": 13,
   "metadata": {},
   "outputs": [
    {
     "name": "stdout",
     "output_type": "stream",
     "text": [
      "we can specify axis information in many of numpy functions\n",
      "\n",
      " 0 is each coloums\n",
      "[ 9 12 15]\n",
      "\n",
      " 1 is rows \n",
      "[ 3 12 21]\n"
     ]
    }
   ],
   "source": [
    "print(note := \"we can specify axis information in many of numpy functions\")\n",
    "print()\n",
    "print(note := \" 0 is each coloums\") \n",
    "print(i2r.sum(0))\n",
    "print()\n",
    "print(note := \" 1 is rows \")\n",
    "print(i2r.sum(1))"
   ]
  },
  {
   "cell_type": "code",
   "execution_count": 14,
   "metadata": {},
   "outputs": [
    {
     "name": "stdout",
     "output_type": "stream",
     "text": [
      " we can get mean\n",
      "4.0\n"
     ]
    }
   ],
   "source": [
    "print(note := \" we can get mean\")\n",
    "print()\n",
    "print(i2r.mean())"
   ]
  },
  {
   "cell_type": "code",
   "execution_count": 15,
   "metadata": {},
   "outputs": [
    {
     "name": "stdout",
     "output_type": "stream",
     "text": [
      " mean also supports the axis info\n",
      "[3. 4. 5.]\n",
      "\n",
      "[1. 4. 7.]\n"
     ]
    }
   ],
   "source": [
    "print(note := \" mean also supports the axis info\")\n",
    "print()\n",
    "print(i2r.mean(0))\n",
    "print()\n",
    "print(i2r.mean(1))"
   ]
  },
  {
   "cell_type": "code",
   "execution_count": 16,
   "metadata": {},
   "outputs": [
    {
     "name": "stdout",
     "output_type": "stream",
     "text": [
      " we can also get std \n",
      "2.581988897471611\n"
     ]
    }
   ],
   "source": [
    "print(note := \" we can also get std \")\n",
    "print()\n",
    "print(i2r.std())\n"
   ]
  },
  {
   "cell_type": "code",
   "execution_count": 17,
   "metadata": {},
   "outputs": [
    {
     "name": "stdout",
     "output_type": "stream",
     "text": [
      " std also supports the axis information\n",
      "[2.44948974 2.44948974 2.44948974]\n",
      "\n",
      "[0.81649658 0.81649658 0.81649658]\n"
     ]
    }
   ],
   "source": [
    "print(note := \" std also supports the axis information\")\n",
    "print()\n",
    "print(i2r.std(0))\n",
    "print()\n",
    "print(i2r.std(1))"
   ]
  },
  {
   "cell_type": "code",
   "execution_count": 18,
   "metadata": {},
   "outputs": [
    {
     "name": "stdout",
     "output_type": "stream",
     "text": [
      "np has arange function to create range of values\n",
      "[ 0  1  2  3  4  5  6  7  8  9 10 11 12 13 14 15 16 17 18 19 20 21 22 23\n",
      " 24 25 26 27 28 29 30 31 32 33 34 35 36 37 38 39]\n"
     ]
    }
   ],
   "source": [
    "print(note:= \"np has arange function to create range of values\")\n",
    "print()\n",
    "n1r = np.arange(0, 40)\n",
    "print(n1r)"
   ]
  },
  {
   "cell_type": "code",
   "execution_count": 19,
   "metadata": {},
   "outputs": [
    {
     "name": "stdout",
     "output_type": "stream",
     "text": [
      "it also has reshape function to shape the values\n",
      "[[ 0  2  4  6  8]\n",
      " [10 12 14 16 18]\n",
      " [20 22 24 26 28]\n",
      " [30 32 34 36 38]]\n"
     ]
    }
   ],
   "source": [
    "print(note:= \"it also has reshape function to shape the values\")\n",
    "print()\n",
    "n2r = np.arange(0,40,2).reshape(4,5)\n",
    "print(n2r)"
   ]
  },
  {
   "cell_type": "code",
   "execution_count": 20,
   "metadata": {},
   "outputs": [
    {
     "name": "stdout",
     "output_type": "stream",
     "text": [
      " the way you want !!!\n",
      "[[[ 0  2]\n",
      "  [ 4  6]\n",
      "  [ 8 10]\n",
      "  [12 14]\n",
      "  [16 18]]\n",
      "\n",
      " [[20 22]\n",
      "  [24 26]\n",
      "  [28 30]\n",
      "  [32 34]\n",
      "  [36 38]]]\n"
     ]
    }
   ],
   "source": [
    "print(note := \" the way you want !!!\")\n",
    "print()\n",
    "n3r = np.arange(0,40,2).reshape(2,5,2)\n",
    "print(n3r)"
   ]
  },
  {
   "cell_type": "code",
   "execution_count": 21,
   "metadata": {},
   "outputs": [
    {
     "name": "stdout",
     "output_type": "stream",
     "text": [
      " np also has support to generate random number\n",
      "[[-1.67115058  0.96496225  0.2466056  -1.8299813   1.94511684]\n",
      " [ 0.13767294  0.99608854  2.05523223 -0.35069595 -0.68030287]\n",
      " [ 0.0231339   1.11486665 -0.19553908  1.59478897 -1.10120814]\n",
      " [ 1.34475786 -0.04549877  2.5800583   0.27733615  0.81811174]]\n"
     ]
    }
   ],
   "source": [
    "print(note := \" np also has support to generate random number\")\n",
    "print()\n",
    "nr = np.random.randn(20).reshape(4,5)\n",
    "print(nr)"
   ]
  },
  {
   "cell_type": "markdown",
   "metadata": {},
   "source": [
    "## PANDAS"
   ]
  },
  {
   "cell_type": "markdown",
   "metadata": {},
   "source": [
    "### basic of series"
   ]
  },
  {
   "cell_type": "code",
   "execution_count": 22,
   "metadata": {},
   "outputs": [
    {
     "name": "stdout",
     "output_type": "stream",
     "text": [
      " lets first have a quick look at series\n",
      " series is like an array but is indexed\n",
      "0    11\n",
      "1    12\n",
      "2    31\n",
      "3    41\n",
      "4    15\n",
      "5    61\n",
      "6    17\n",
      "7    80\n",
      "dtype: int64\n"
     ]
    }
   ],
   "source": [
    "print(note := \" lets first have a quick look at series\")\n",
    "print()\n",
    "print(note := \" series is like an array but is indexed\")\n",
    "print()\n",
    "iis = pd.Series([11,12,31,41,15,61,17,80])\n",
    "print(iis)"
   ]
  },
  {
   "cell_type": "code",
   "execution_count": 23,
   "metadata": {},
   "outputs": [
    {
     "name": "stdout",
     "output_type": "stream",
     "text": [
      " and unlike numpy we can have mixed data types \n",
      "0    11\n",
      "1    12\n",
      "2    31\n",
      "3    41\n",
      "4    15\n",
      "5    61\n",
      "6    17\n",
      "7    80\n",
      "dtype: object\n"
     ]
    }
   ],
   "source": [
    "print(note := \" and unlike numpy we can have mixed data types \")\n",
    "print()\n",
    "ms = pd.Series([11,12,'31',41,15,61,'17',80])\n",
    "print(ms)"
   ]
  },
  {
   "cell_type": "code",
   "execution_count": 24,
   "metadata": {},
   "outputs": [
    {
     "name": "stdout",
     "output_type": "stream",
     "text": [
      " we can get the values\n",
      " and notice that data still is in original type as passed\n"
     ]
    },
    {
     "data": {
      "text/plain": [
       "array([11, 12, '31', 41, 15, 61, '17', 80], dtype=object)"
      ]
     },
     "execution_count": 24,
     "metadata": {},
     "output_type": "execute_result"
    }
   ],
   "source": [
    "print(note := \" we can get the values\")\n",
    "print(note := \" and notice that data still is in original type as passed\")\n",
    "print()\n",
    "ms.values"
   ]
  },
  {
   "cell_type": "code",
   "execution_count": 25,
   "metadata": {},
   "outputs": [
    {
     "name": "stdout",
     "output_type": "stream",
     "text": [
      " we can get the indexs\n",
      "RangeIndex(start=0, stop=8, step=1)\n",
      "\n",
      " index have important role in pandas as we can use them more numerous operations\n"
     ]
    },
    {
     "data": {
      "text/plain": [
       "pandas.core.indexes.range.RangeIndex"
      ]
     },
     "execution_count": 25,
     "metadata": {},
     "output_type": "execute_result"
    }
   ],
   "source": [
    "print(note := \" we can get the indexs\")\n",
    "print(ms.index)\n",
    "print()\n",
    "print(note := \" index have important role in pandas as we can use them in numerous operations\") \n",
    "type(ms.index)"
   ]
  },
  {
   "cell_type": "code",
   "execution_count": 114,
   "metadata": {},
   "outputs": [
    {
     "name": "stdout",
     "output_type": "stream",
     "text": [
      "we can determine the type of data\n",
      "\n",
      "int64\n",
      " not the type is from numpy class \n",
      " pandas uses numpy internally \n",
      "\n",
      "<class 'numpy.dtype'>\n",
      "\n",
      "object\n",
      "\n",
      "<class 'numpy.dtype'>\n"
     ]
    }
   ],
   "source": [
    "print(note := \"we can determine the type of data\")\n",
    "print()\n",
    "print(iis.dtype)\n",
    "print(note := \" not the type is from numpy class \")\n",
    "print(note := \" pandas uses numpy internally \")\n",
    "print()\n",
    "print(type(iis.dtype))\n",
    "print()\n",
    "print(ms.dtype)\n",
    "print()\n",
    "print(type(ms.dtype))"
   ]
  },
  {
   "cell_type": "code",
   "execution_count": 27,
   "metadata": {},
   "outputs": [
    {
     "name": "stdout",
     "output_type": "stream",
     "text": [
      "we can determine the size of data\n"
     ]
    },
    {
     "data": {
      "text/plain": [
       "8"
      ]
     },
     "execution_count": 27,
     "metadata": {},
     "output_type": "execute_result"
    }
   ],
   "source": [
    "print(note := \"we can determine the size of data\")\n",
    "print()\n",
    "ms.size"
   ]
  },
  {
   "cell_type": "code",
   "execution_count": 115,
   "metadata": {},
   "outputs": [
    {
     "name": "stdout",
     "output_type": "stream",
     "text": [
      " or shape \n",
      "\n"
     ]
    },
    {
     "data": {
      "text/plain": [
       "(8,)"
      ]
     },
     "execution_count": 115,
     "metadata": {},
     "output_type": "execute_result"
    }
   ],
   "source": [
    "print(note := \" or shape \")\n",
    "print()\n",
    "ms.shape"
   ]
  },
  {
   "cell_type": "code",
   "execution_count": 116,
   "metadata": {},
   "outputs": [
    {
     "name": "stdout",
     "output_type": "stream",
     "text": [
      "we can get the number of bytes used to store the data \n",
      "\n",
      "64\n"
     ]
    }
   ],
   "source": [
    "print(note := \"we can get the number of bytes used to store the data \")\n",
    "print()\n",
    "print(ms.nbytes)"
   ]
  },
  {
   "cell_type": "code",
   "execution_count": 30,
   "metadata": {},
   "outputs": [
    {
     "name": "stdout",
     "output_type": "stream",
     "text": [
      " we can use the index to access the values \n",
      "61\n",
      "17\n",
      "<class 'int'>\n",
      "<class 'str'>\n"
     ]
    }
   ],
   "source": [
    "print(note := \" we can use the index to access the values \")\n",
    "print()\n",
    "print(ms[5])\n",
    "print()\n",
    "print(ms[6])\n",
    "print()\n",
    "print(type(ms[5]))\n",
    "print()\n",
    "print(type(ms[6]))"
   ]
  },
  {
   "cell_type": "code",
   "execution_count": 31,
   "metadata": {},
   "outputs": [
    {
     "name": "stdout",
     "output_type": "stream",
     "text": [
      " we can also get values based on conditions\n"
     ]
    },
    {
     "data": {
      "text/plain": [
       "3    41\n",
       "5    61\n",
       "7    80\n",
       "dtype: int64"
      ]
     },
     "execution_count": 31,
     "metadata": {},
     "output_type": "execute_result"
    }
   ],
   "source": [
    "print(note := \" we can also get values based on conditions\")\n",
    "print()\n",
    "iis[iis > 40]"
   ]
  },
  {
   "cell_type": "code",
   "execution_count": 32,
   "metadata": {},
   "outputs": [
    {
     "name": "stdout",
     "output_type": "stream",
     "text": [
      " but this will fail , as str and int can't be compared with >\n"
     ]
    }
   ],
   "source": [
    "print(note := \" but this will fail , as str and int can't be compared with >\")\n",
    "print()\n",
    "#ms[ms>40]"
   ]
  },
  {
   "cell_type": "code",
   "execution_count": 118,
   "metadata": {},
   "outputs": [
    {
     "name": "stdout",
     "output_type": "stream",
     "text": [
      " we can use our own indexes rather than using the default index values\n",
      "\n",
      " here is the number covid cases in million and respective countries as index\n",
      "\n",
      " this is how pandas are beautiful, rather than relying on index like in excel we can have representative\n",
      "\n",
      "usa    100.30\n",
      "ind     80.64\n",
      "bra     50.70\n",
      "frc     10.83\n",
      "rus     10.82\n",
      "dtype: float64\n"
     ]
    }
   ],
   "source": [
    "print(note := \" we can use our own indexes rather than using the default index values\")\n",
    "print()\n",
    "print(note := \" here is the number covid cases in million and respective countries as index\")\n",
    "print()\n",
    "cd = pd.Series([100.3, 80.64, 50.7, 10.83, 10.82], index=['usa','ind','bra','frc','rus'])\n",
    "print(note := \" this is how pandas are beautiful, \\\n",
    "rather than relying on index like in excel we can have representative\") \n",
    "print()\n",
    "print(cd)"
   ]
  },
  {
   "cell_type": "code",
   "execution_count": 34,
   "metadata": {},
   "outputs": [
    {
     "name": "stdout",
     "output_type": "stream",
     "text": [
      " we can name our series \n",
      " we can also name the index\n"
     ]
    },
    {
     "data": {
      "text/plain": [
       "countries\n",
       "usa    100.30\n",
       "ind     80.64\n",
       "bra     50.70\n",
       "frc     10.83\n",
       "rus     10.82\n",
       "Name: covid_cases, dtype: float64"
      ]
     },
     "execution_count": 34,
     "metadata": {},
     "output_type": "execute_result"
    }
   ],
   "source": [
    "print(note := \" we can name our series \")\n",
    "print()\n",
    "cd.name = 'covid_cases'\n",
    "print(note := \" we can also name the index\")\n",
    "print()\n",
    "cd.index.name = 'countries'\n",
    "cd"
   ]
  },
  {
   "cell_type": "code",
   "execution_count": 35,
   "metadata": {},
   "outputs": [
    {
     "data": {
      "text/plain": [
       "Index(['usa', 'ind', 'bra', 'frc', 'rus'], dtype='object', name='countries')"
      ]
     },
     "execution_count": 35,
     "metadata": {},
     "output_type": "execute_result"
    }
   ],
   "source": [
    "cd.index"
   ]
  },
  {
   "cell_type": "code",
   "execution_count": 36,
   "metadata": {},
   "outputs": [
    {
     "name": "stdout",
     "output_type": "stream",
     "text": [
      " we can check if key exists in index, with in\n"
     ]
    },
    {
     "data": {
      "text/plain": [
       "True"
      ]
     },
     "execution_count": 36,
     "metadata": {},
     "output_type": "execute_result"
    }
   ],
   "source": [
    "print(note := \" we can check if key exists in index, with in\")\n",
    "print()\n",
    "'ind' in cd.index"
   ]
  },
  {
   "cell_type": "code",
   "execution_count": 37,
   "metadata": {},
   "outputs": [
    {
     "data": {
      "text/plain": [
       "False"
      ]
     },
     "execution_count": 37,
     "metadata": {},
     "output_type": "execute_result"
    }
   ],
   "source": [
    "'chn' in cd.index"
   ]
  },
  {
   "cell_type": "code",
   "execution_count": 119,
   "metadata": {},
   "outputs": [
    {
     "name": "stdout",
     "output_type": "stream",
     "text": [
      " we can get the indexes via int index\n",
      "\n"
     ]
    },
    {
     "data": {
      "text/plain": [
       "'usa'"
      ]
     },
     "execution_count": 119,
     "metadata": {},
     "output_type": "execute_result"
    }
   ],
   "source": [
    "index_p = cd.index\n",
    "print(note := \" we can get the indexes via int index\")\n",
    "print()\n",
    "index_p[0]"
   ]
  },
  {
   "cell_type": "code",
   "execution_count": 39,
   "metadata": {},
   "outputs": [
    {
     "name": "stdout",
     "output_type": "stream",
     "text": [
      " this would fail\n",
      " index are immutable\n"
     ]
    }
   ],
   "source": [
    "print(note := \" this would fail\")\n",
    "print()\n",
    "print(note := \" index are immutable\") \n",
    "print()\n",
    "#index_p[0] = 'temp'"
   ]
  },
  {
   "cell_type": "code",
   "execution_count": 40,
   "metadata": {},
   "outputs": [
    {
     "name": "stdout",
     "output_type": "stream",
     "text": [
      " we can use the list like slicing \n"
     ]
    },
    {
     "data": {
      "text/plain": [
       "Index(['usa', 'ind'], dtype='object', name='countries')"
      ]
     },
     "execution_count": 40,
     "metadata": {},
     "output_type": "execute_result"
    }
   ],
   "source": [
    "print(note := \" we can use the list like slicing \")\n",
    "print()\n",
    "index_p[:2]"
   ]
  },
  {
   "cell_type": "code",
   "execution_count": 41,
   "metadata": {},
   "outputs": [
    {
     "data": {
      "text/plain": [
       "'rus'"
      ]
     },
     "execution_count": 41,
     "metadata": {},
     "output_type": "execute_result"
    }
   ],
   "source": [
    "index_p[-1]"
   ]
  },
  {
   "cell_type": "code",
   "execution_count": 42,
   "metadata": {},
   "outputs": [
    {
     "name": "stdout",
     "output_type": "stream",
     "text": [
      " what would this print?\n",
      " index_p[:-1]\n"
     ]
    }
   ],
   "source": [
    "print(note := \" what would this print?\")\n",
    "print()\n",
    "print(note := \" index_p[:-1]\")"
   ]
  },
  {
   "cell_type": "code",
   "execution_count": 43,
   "metadata": {},
   "outputs": [
    {
     "name": "stdout",
     "output_type": "stream",
     "text": [
      " as index are immutable and can't be changed directly \n",
      " we need to use reindex if we want to change them \n",
      " if new index is added we shall NaN\n"
     ]
    },
    {
     "data": {
      "text/plain": [
       "countries\n",
       "usa    100.30\n",
       "ind     80.64\n",
       "frc     10.83\n",
       "rus     10.82\n",
       "esp       NaN\n",
       "bra     50.70\n",
       "Name: covid_cases, dtype: float64"
      ]
     },
     "execution_count": 43,
     "metadata": {},
     "output_type": "execute_result"
    }
   ],
   "source": [
    "print(note := \" as index are immutable and can't be changed directly \")\n",
    "print()\n",
    "print(note := \" we need to use reindex if we want to change them \")\n",
    "print()\n",
    "print(note := \" if new index is added we shall NaN\")\n",
    "print()\n",
    "ncd = cd.reindex(['usa','ind','frc', 'rus', 'esp', 'bra'])\n",
    "ncd"
   ]
  },
  {
   "cell_type": "code",
   "execution_count": 44,
   "metadata": {},
   "outputs": [
    {
     "name": "stdout",
     "output_type": "stream",
     "text": [
      " we can use fill_value to specify the default falue if index is not already present\n"
     ]
    },
    {
     "data": {
      "text/plain": [
       "countries\n",
       "usa    100.3\n",
       "ind    80.64\n",
       "frc    10.83\n",
       "rus    10.82\n",
       "esp        0\n",
       "bra     50.7\n",
       "Name: covid_cases, dtype: object"
      ]
     },
     "execution_count": 44,
     "metadata": {},
     "output_type": "execute_result"
    }
   ],
   "source": [
    "print(note := \" we can use fill_value to specify the default falue if index is not already present\")\n",
    "print()\n",
    "ncd = cd.reindex(['usa','ind','frc', 'rus', 'esp', 'bra'], fill_value='0')\n",
    "ncd"
   ]
  },
  {
   "cell_type": "code",
   "execution_count": 45,
   "metadata": {},
   "outputs": [
    {
     "name": "stdout",
     "output_type": "stream",
     "text": [
      "we can convert the series to a python dict \n"
     ]
    },
    {
     "data": {
      "text/plain": [
       "{'usa': 100.3,\n",
       " 'ind': 80.64,\n",
       " 'frc': 10.83,\n",
       " 'rus': 10.82,\n",
       " 'esp': '0',\n",
       " 'bra': 50.7}"
      ]
     },
     "execution_count": 45,
     "metadata": {},
     "output_type": "execute_result"
    }
   ],
   "source": [
    "print(note := \"we can convert the series to a python dict \")\n",
    "print()\n",
    "pcd = ncd.to_dict()\n",
    "pcd"
   ]
  },
  {
   "cell_type": "code",
   "execution_count": 120,
   "metadata": {},
   "outputs": [
    {
     "name": "stdout",
     "output_type": "stream",
     "text": [
      "we can pass a dict to series to create a series\n",
      "\n",
      "\n",
      " the extra info that we added like name of index etc will be lost \n",
      "\n"
     ]
    },
    {
     "data": {
      "text/plain": [
       "usa    100.3\n",
       "ind    80.64\n",
       "frc    10.83\n",
       "rus    10.82\n",
       "esp        0\n",
       "bra     50.7\n",
       "dtype: object"
      ]
     },
     "execution_count": 120,
     "metadata": {},
     "output_type": "execute_result"
    }
   ],
   "source": [
    "print(note := \"we can pass a dict to series to create a series\")\n",
    "print()\n",
    "bcd = pd.Series(pcd)\n",
    "print()\n",
    "print(note := \" the extra info that we added like name of index etc will be lost \")\n",
    "print()\n",
    "bcd"
   ]
  },
  {
   "cell_type": "code",
   "execution_count": 47,
   "metadata": {},
   "outputs": [
    {
     "name": "stdout",
     "output_type": "stream",
     "text": [
      " we can also specify our own index/keys while passing the dict\n"
     ]
    },
    {
     "data": {
      "text/plain": [
       "usa    100.3\n",
       "ind    80.64\n",
       "bra     50.7\n",
       "frc    10.83\n",
       "rus    10.82\n",
       "esp        0\n",
       "chn      NaN\n",
       "dtype: object"
      ]
     },
     "execution_count": 47,
     "metadata": {},
     "output_type": "execute_result"
    }
   ],
   "source": [
    "print(note := \" we can also specify our own index/keys while passing the dict\")\n",
    "print()\n",
    "nbcd = pd.Series(pcd, index=['usa','ind','bra','frc','rus','esp','chn'])\n",
    "nbcd"
   ]
  },
  {
   "cell_type": "code",
   "execution_count": 121,
   "metadata": {},
   "outputs": [
    {
     "name": "stdout",
     "output_type": "stream",
     "text": [
      " as chn was not part of the dict already we got a new key with NaN value\n",
      "\n",
      " we can check if we have null values in our series\n",
      "\n"
     ]
    },
    {
     "data": {
      "text/plain": [
       "usa    False\n",
       "ind    False\n",
       "bra    False\n",
       "frc    False\n",
       "rus    False\n",
       "esp    False\n",
       "chn     True\n",
       "dtype: bool"
      ]
     },
     "execution_count": 121,
     "metadata": {},
     "output_type": "execute_result"
    }
   ],
   "source": [
    "print(note := \" as chn was not part of the dict already we got a new key with NaN value\")\n",
    "print()\n",
    "print(note := \" we can check if we have null values in our series\")\n",
    "print()\n",
    "pd.isnull(nbcd)"
   ]
  },
  {
   "cell_type": "code",
   "execution_count": 122,
   "metadata": {},
   "outputs": [
    {
     "name": "stdout",
     "output_type": "stream",
     "text": [
      " we can also use notnull to check what all values are not null in the series\n",
      "\n"
     ]
    },
    {
     "data": {
      "text/plain": [
       "usa     True\n",
       "ind     True\n",
       "bra     True\n",
       "frc     True\n",
       "rus     True\n",
       "esp     True\n",
       "chn    False\n",
       "dtype: bool"
      ]
     },
     "execution_count": 122,
     "metadata": {},
     "output_type": "execute_result"
    }
   ],
   "source": [
    "print(note := \" we can also use notnull to check what all values are not null in the series\")\n",
    "print()\n",
    "pd.notnull(nbcd)"
   ]
  },
  {
   "cell_type": "markdown",
   "metadata": {},
   "source": [
    "### basics of dataframe"
   ]
  },
  {
   "cell_type": "code",
   "execution_count": 123,
   "metadata": {},
   "outputs": [
    {
     "name": "stdout",
     "output_type": "stream",
     "text": [
      " lets first have a quick look at dataframe\n",
      "\n",
      "\n",
      " we can pass a dict that contains key as the coloum name and list as the respective values \n",
      "\n"
     ]
    },
    {
     "data": {
      "text/html": [
       "<div>\n",
       "<style scoped>\n",
       "    .dataframe tbody tr th:only-of-type {\n",
       "        vertical-align: middle;\n",
       "    }\n",
       "\n",
       "    .dataframe tbody tr th {\n",
       "        vertical-align: top;\n",
       "    }\n",
       "\n",
       "    .dataframe thead th {\n",
       "        text-align: right;\n",
       "    }\n",
       "</style>\n",
       "<table border=\"1\" class=\"dataframe\">\n",
       "  <thead>\n",
       "    <tr style=\"text-align: right;\">\n",
       "      <th></th>\n",
       "      <th>year</th>\n",
       "      <th>batsman</th>\n",
       "      <th>batsman country</th>\n",
       "      <th>bowler</th>\n",
       "      <th>bowler country</th>\n",
       "    </tr>\n",
       "  </thead>\n",
       "  <tbody>\n",
       "    <tr>\n",
       "      <th>0</th>\n",
       "      <td>2019</td>\n",
       "      <td>virat kohli</td>\n",
       "      <td>india</td>\n",
       "      <td>Pat Cummins</td>\n",
       "      <td>australia</td>\n",
       "    </tr>\n",
       "    <tr>\n",
       "      <th>1</th>\n",
       "      <td>2018</td>\n",
       "      <td>virat kohli</td>\n",
       "      <td>india</td>\n",
       "      <td>Kagiso Rabada</td>\n",
       "      <td>South Africa</td>\n",
       "    </tr>\n",
       "    <tr>\n",
       "      <th>2</th>\n",
       "      <td>2017</td>\n",
       "      <td>steve smith</td>\n",
       "      <td>australia</td>\n",
       "      <td>James Anderson</td>\n",
       "      <td>England</td>\n",
       "    </tr>\n",
       "    <tr>\n",
       "      <th>3</th>\n",
       "      <td>2016</td>\n",
       "      <td>steve smith</td>\n",
       "      <td>australia</td>\n",
       "      <td>James Anderson</td>\n",
       "      <td>India</td>\n",
       "    </tr>\n",
       "    <tr>\n",
       "      <th>4</th>\n",
       "      <td>2015</td>\n",
       "      <td>steve smith</td>\n",
       "      <td>australia</td>\n",
       "      <td>Ravichandran Ashwin</td>\n",
       "      <td>India</td>\n",
       "    </tr>\n",
       "  </tbody>\n",
       "</table>\n",
       "</div>"
      ],
      "text/plain": [
       "   year      batsman batsman country               bowler bowler country\n",
       "0  2019  virat kohli           india          Pat Cummins      australia\n",
       "1  2018  virat kohli           india        Kagiso Rabada   South Africa\n",
       "2  2017  steve smith       australia       James Anderson        England\n",
       "3  2016  steve smith       australia       James Anderson          India\n",
       "4  2015  steve smith       australia  Ravichandran Ashwin          India"
      ]
     },
     "execution_count": 123,
     "metadata": {},
     "output_type": "execute_result"
    }
   ],
   "source": [
    "print(note := \" lets first have a quick look at dataframe\")\n",
    "print()\n",
    "rank_dict = { \\\n",
    "             'year' : [2019,2018,2017,2016,2015], \\\n",
    "             'batsman':['virat kohli', 'virat kohli', 'steve smith', 'steve smith', 'steve smith' ],\\\n",
    "             'batsman country': ['india', 'india', 'australia', 'australia', 'australia'],\\\n",
    "             'bowler': ['Pat Cummins', 'Kagiso Rabada', 'James Anderson', 'James Anderson', 'Ravichandran Ashwin' ],\\\n",
    "            'bowler country':['australia', 'South Africa', 'England', 'India', 'India' ]\\\n",
    "            }\n",
    "print()\n",
    "print(note := \" we can pass a dict that contains key as the coloum name and list as the respective values \")\n",
    "print()\n",
    "icc_ranking = pd.DataFrame(rank_dict)\n",
    "icc_ranking"
   ]
  },
  {
   "cell_type": "code",
   "execution_count": 51,
   "metadata": {},
   "outputs": [
    {
     "name": "stdout",
     "output_type": "stream",
     "text": [
      " pandas automatically adds the indexes as shown above\n",
      " we can get the coloum names of the dataframe \n"
     ]
    },
    {
     "data": {
      "text/plain": [
       "Index(['year', 'batsman', 'batsman country', 'bowler', 'bowler country'], dtype='object')"
      ]
     },
     "execution_count": 51,
     "metadata": {},
     "output_type": "execute_result"
    }
   ],
   "source": [
    "print(note := \" pandas automatically adds the indexes as shown above\")\n",
    "print()\n",
    "print(note := \" we can get the coloum names of the dataframe \")\n",
    "print()\n",
    "icc_ranking.columns"
   ]
  },
  {
   "cell_type": "code",
   "execution_count": 52,
   "metadata": {},
   "outputs": [
    {
     "name": "stdout",
     "output_type": "stream",
     "text": [
      " we can also provide index names \n"
     ]
    },
    {
     "data": {
      "text/html": [
       "<div>\n",
       "<style scoped>\n",
       "    .dataframe tbody tr th:only-of-type {\n",
       "        vertical-align: middle;\n",
       "    }\n",
       "\n",
       "    .dataframe tbody tr th {\n",
       "        vertical-align: top;\n",
       "    }\n",
       "\n",
       "    .dataframe thead th {\n",
       "        text-align: right;\n",
       "    }\n",
       "</style>\n",
       "<table border=\"1\" class=\"dataframe\">\n",
       "  <thead>\n",
       "    <tr style=\"text-align: right;\">\n",
       "      <th></th>\n",
       "      <th>year</th>\n",
       "      <th>batsman</th>\n",
       "      <th>batsman country</th>\n",
       "      <th>bowler</th>\n",
       "      <th>bowler country</th>\n",
       "    </tr>\n",
       "  </thead>\n",
       "  <tbody>\n",
       "    <tr>\n",
       "      <th>19</th>\n",
       "      <td>2019</td>\n",
       "      <td>virat kohli</td>\n",
       "      <td>india</td>\n",
       "      <td>Pat Cummins</td>\n",
       "      <td>australia</td>\n",
       "    </tr>\n",
       "    <tr>\n",
       "      <th>18</th>\n",
       "      <td>2018</td>\n",
       "      <td>virat kohli</td>\n",
       "      <td>india</td>\n",
       "      <td>Kagiso Rabada</td>\n",
       "      <td>South Africa</td>\n",
       "    </tr>\n",
       "    <tr>\n",
       "      <th>17</th>\n",
       "      <td>2017</td>\n",
       "      <td>steve smith</td>\n",
       "      <td>australia</td>\n",
       "      <td>James Anderson</td>\n",
       "      <td>England</td>\n",
       "    </tr>\n",
       "    <tr>\n",
       "      <th>16</th>\n",
       "      <td>2016</td>\n",
       "      <td>steve smith</td>\n",
       "      <td>australia</td>\n",
       "      <td>James Anderson</td>\n",
       "      <td>India</td>\n",
       "    </tr>\n",
       "    <tr>\n",
       "      <th>15</th>\n",
       "      <td>2015</td>\n",
       "      <td>steve smith</td>\n",
       "      <td>australia</td>\n",
       "      <td>Ravichandran Ashwin</td>\n",
       "      <td>India</td>\n",
       "    </tr>\n",
       "  </tbody>\n",
       "</table>\n",
       "</div>"
      ],
      "text/plain": [
       "    year      batsman batsman country               bowler bowler country\n",
       "19  2019  virat kohli           india          Pat Cummins      australia\n",
       "18  2018  virat kohli           india        Kagiso Rabada   South Africa\n",
       "17  2017  steve smith       australia       James Anderson        England\n",
       "16  2016  steve smith       australia       James Anderson          India\n",
       "15  2015  steve smith       australia  Ravichandran Ashwin          India"
      ]
     },
     "execution_count": 52,
     "metadata": {},
     "output_type": "execute_result"
    }
   ],
   "source": [
    "print(note := \" we can also provide index names \")\n",
    "print()\n",
    "icc_ranking = pd.DataFrame(rank_dict, index=['19','18','17','16','15'])\n",
    "icc_ranking"
   ]
  },
  {
   "cell_type": "code",
   "execution_count": 53,
   "metadata": {},
   "outputs": [
    {
     "name": "stdout",
     "output_type": "stream",
     "text": [
      " we can use the coloum names to get the data \n"
     ]
    },
    {
     "data": {
      "text/plain": [
       "19    2019\n",
       "18    2018\n",
       "17    2017\n",
       "16    2016\n",
       "15    2015\n",
       "Name: year, dtype: int64"
      ]
     },
     "execution_count": 53,
     "metadata": {},
     "output_type": "execute_result"
    }
   ],
   "source": [
    "print(note := \" we can use the coloum names to get the data \")\n",
    "print()\n",
    "icc_ranking.year"
   ]
  },
  {
   "cell_type": "code",
   "execution_count": 54,
   "metadata": {},
   "outputs": [
    {
     "name": "stdout",
     "output_type": "stream",
     "text": [
      " or we can use \n"
     ]
    },
    {
     "data": {
      "text/plain": [
       "19    virat kohli\n",
       "18    virat kohli\n",
       "17    steve smith\n",
       "16    steve smith\n",
       "15    steve smith\n",
       "Name: batsman, dtype: object"
      ]
     },
     "execution_count": 54,
     "metadata": {},
     "output_type": "execute_result"
    }
   ],
   "source": [
    "print(note := \" or we can use \")\n",
    "print()\n",
    "icc_ranking['batsman']"
   ]
  },
  {
   "cell_type": "code",
   "execution_count": 55,
   "metadata": {},
   "outputs": [
    {
     "name": "stdout",
     "output_type": "stream",
     "text": [
      " for column name that has the spaces in middle we have to use the index approach \n",
      " so always use index approach \n"
     ]
    },
    {
     "data": {
      "text/plain": [
       "19       australia\n",
       "18    South Africa\n",
       "17         England\n",
       "16           India\n",
       "15           India\n",
       "Name: bowler country, dtype: object"
      ]
     },
     "execution_count": 55,
     "metadata": {},
     "output_type": "execute_result"
    }
   ],
   "source": [
    "print(note := \" for column name that has the spaces in middle we have to use the index approach \")\n",
    "print()\n",
    "print(note := \" so always use index approach \")\n",
    "print()\n",
    "icc_ranking['bowler country']"
   ]
  },
  {
   "cell_type": "code",
   "execution_count": 56,
   "metadata": {},
   "outputs": [
    {
     "name": "stdout",
     "output_type": "stream",
     "text": [
      " we can also retrive some values from dataframe \n",
      " in this case 2 values from the start\n"
     ]
    },
    {
     "data": {
      "text/html": [
       "<div>\n",
       "<style scoped>\n",
       "    .dataframe tbody tr th:only-of-type {\n",
       "        vertical-align: middle;\n",
       "    }\n",
       "\n",
       "    .dataframe tbody tr th {\n",
       "        vertical-align: top;\n",
       "    }\n",
       "\n",
       "    .dataframe thead th {\n",
       "        text-align: right;\n",
       "    }\n",
       "</style>\n",
       "<table border=\"1\" class=\"dataframe\">\n",
       "  <thead>\n",
       "    <tr style=\"text-align: right;\">\n",
       "      <th></th>\n",
       "      <th>year</th>\n",
       "      <th>batsman</th>\n",
       "      <th>batsman country</th>\n",
       "      <th>bowler</th>\n",
       "      <th>bowler country</th>\n",
       "    </tr>\n",
       "  </thead>\n",
       "  <tbody>\n",
       "    <tr>\n",
       "      <th>19</th>\n",
       "      <td>2019</td>\n",
       "      <td>virat kohli</td>\n",
       "      <td>india</td>\n",
       "      <td>Pat Cummins</td>\n",
       "      <td>australia</td>\n",
       "    </tr>\n",
       "    <tr>\n",
       "      <th>18</th>\n",
       "      <td>2018</td>\n",
       "      <td>virat kohli</td>\n",
       "      <td>india</td>\n",
       "      <td>Kagiso Rabada</td>\n",
       "      <td>South Africa</td>\n",
       "    </tr>\n",
       "  </tbody>\n",
       "</table>\n",
       "</div>"
      ],
      "text/plain": [
       "    year      batsman batsman country         bowler bowler country\n",
       "19  2019  virat kohli           india    Pat Cummins      australia\n",
       "18  2018  virat kohli           india  Kagiso Rabada   South Africa"
      ]
     },
     "execution_count": 56,
     "metadata": {},
     "output_type": "execute_result"
    }
   ],
   "source": [
    "print(note := \" we can also retrive some values from dataframe \")\n",
    "print()\n",
    "print(note := \" in this case 2 values from the start\")\n",
    "print()\n",
    "icc_ranking.head(2)"
   ]
  },
  {
   "cell_type": "code",
   "execution_count": 57,
   "metadata": {},
   "outputs": [
    {
     "name": "stdout",
     "output_type": "stream",
     "text": [
      " in this case 2 values from the start\n"
     ]
    },
    {
     "data": {
      "text/html": [
       "<div>\n",
       "<style scoped>\n",
       "    .dataframe tbody tr th:only-of-type {\n",
       "        vertical-align: middle;\n",
       "    }\n",
       "\n",
       "    .dataframe tbody tr th {\n",
       "        vertical-align: top;\n",
       "    }\n",
       "\n",
       "    .dataframe thead th {\n",
       "        text-align: right;\n",
       "    }\n",
       "</style>\n",
       "<table border=\"1\" class=\"dataframe\">\n",
       "  <thead>\n",
       "    <tr style=\"text-align: right;\">\n",
       "      <th></th>\n",
       "      <th>year</th>\n",
       "      <th>batsman</th>\n",
       "      <th>batsman country</th>\n",
       "      <th>bowler</th>\n",
       "      <th>bowler country</th>\n",
       "    </tr>\n",
       "  </thead>\n",
       "  <tbody>\n",
       "    <tr>\n",
       "      <th>16</th>\n",
       "      <td>2016</td>\n",
       "      <td>steve smith</td>\n",
       "      <td>australia</td>\n",
       "      <td>James Anderson</td>\n",
       "      <td>India</td>\n",
       "    </tr>\n",
       "    <tr>\n",
       "      <th>15</th>\n",
       "      <td>2015</td>\n",
       "      <td>steve smith</td>\n",
       "      <td>australia</td>\n",
       "      <td>Ravichandran Ashwin</td>\n",
       "      <td>India</td>\n",
       "    </tr>\n",
       "  </tbody>\n",
       "</table>\n",
       "</div>"
      ],
      "text/plain": [
       "    year      batsman batsman country               bowler bowler country\n",
       "16  2016  steve smith       australia       James Anderson          India\n",
       "15  2015  steve smith       australia  Ravichandran Ashwin          India"
      ]
     },
     "execution_count": 57,
     "metadata": {},
     "output_type": "execute_result"
    }
   ],
   "source": [
    "print(note := \" in this case 2 values from the start\")\n",
    "print()\n",
    "icc_ranking.tail(2)"
   ]
  },
  {
   "cell_type": "code",
   "execution_count": 58,
   "metadata": {},
   "outputs": [
    {
     "name": "stdout",
     "output_type": "stream",
     "text": [
      " we can also extract data at particular index with the help of iloc\n",
      " iloc is integer index-based. So here, we have to specify rows and columns by their integer index.\n"
     ]
    },
    {
     "data": {
      "text/plain": [
       "year                         2016\n",
       "batsman               steve smith\n",
       "batsman country         australia\n",
       "bowler             James Anderson\n",
       "bowler country              India\n",
       "Name: 16, dtype: object"
      ]
     },
     "execution_count": 58,
     "metadata": {},
     "output_type": "execute_result"
    }
   ],
   "source": [
    "print(note := \" we can also extract data at particular index with the help of iloc\")\n",
    "print()\n",
    "print(note := \" iloc is integer index-based. So here, we have to specify rows and columns by their integer index.\")\n",
    "print()\n",
    "icc_ranking.iloc[3]"
   ]
  },
  {
   "cell_type": "code",
   "execution_count": 59,
   "metadata": {},
   "outputs": [
    {
     "name": "stdout",
     "output_type": "stream",
     "text": [
      " we can also select multiple index\n"
     ]
    },
    {
     "data": {
      "text/html": [
       "<div>\n",
       "<style scoped>\n",
       "    .dataframe tbody tr th:only-of-type {\n",
       "        vertical-align: middle;\n",
       "    }\n",
       "\n",
       "    .dataframe tbody tr th {\n",
       "        vertical-align: top;\n",
       "    }\n",
       "\n",
       "    .dataframe thead th {\n",
       "        text-align: right;\n",
       "    }\n",
       "</style>\n",
       "<table border=\"1\" class=\"dataframe\">\n",
       "  <thead>\n",
       "    <tr style=\"text-align: right;\">\n",
       "      <th></th>\n",
       "      <th>year</th>\n",
       "      <th>batsman</th>\n",
       "      <th>batsman country</th>\n",
       "      <th>bowler</th>\n",
       "      <th>bowler country</th>\n",
       "    </tr>\n",
       "  </thead>\n",
       "  <tbody>\n",
       "    <tr>\n",
       "      <th>19</th>\n",
       "      <td>2019</td>\n",
       "      <td>virat kohli</td>\n",
       "      <td>india</td>\n",
       "      <td>Pat Cummins</td>\n",
       "      <td>australia</td>\n",
       "    </tr>\n",
       "    <tr>\n",
       "      <th>17</th>\n",
       "      <td>2017</td>\n",
       "      <td>steve smith</td>\n",
       "      <td>australia</td>\n",
       "      <td>James Anderson</td>\n",
       "      <td>England</td>\n",
       "    </tr>\n",
       "    <tr>\n",
       "      <th>15</th>\n",
       "      <td>2015</td>\n",
       "      <td>steve smith</td>\n",
       "      <td>australia</td>\n",
       "      <td>Ravichandran Ashwin</td>\n",
       "      <td>India</td>\n",
       "    </tr>\n",
       "  </tbody>\n",
       "</table>\n",
       "</div>"
      ],
      "text/plain": [
       "    year      batsman batsman country               bowler bowler country\n",
       "19  2019  virat kohli           india          Pat Cummins      australia\n",
       "17  2017  steve smith       australia       James Anderson        England\n",
       "15  2015  steve smith       australia  Ravichandran Ashwin          India"
      ]
     },
     "execution_count": 59,
     "metadata": {},
     "output_type": "execute_result"
    }
   ],
   "source": [
    "print(note := \" we can also select multiple index\")\n",
    "print()\n",
    "icc_ranking.iloc[[0,2,4]]"
   ]
  },
  {
   "cell_type": "code",
   "execution_count": 60,
   "metadata": {},
   "outputs": [
    {
     "name": "stdout",
     "output_type": "stream",
     "text": [
      " we can also select coloums based on index\n"
     ]
    },
    {
     "data": {
      "text/html": [
       "<div>\n",
       "<style scoped>\n",
       "    .dataframe tbody tr th:only-of-type {\n",
       "        vertical-align: middle;\n",
       "    }\n",
       "\n",
       "    .dataframe tbody tr th {\n",
       "        vertical-align: top;\n",
       "    }\n",
       "\n",
       "    .dataframe thead th {\n",
       "        text-align: right;\n",
       "    }\n",
       "</style>\n",
       "<table border=\"1\" class=\"dataframe\">\n",
       "  <thead>\n",
       "    <tr style=\"text-align: right;\">\n",
       "      <th></th>\n",
       "      <th>batsman</th>\n",
       "      <th>batsman country</th>\n",
       "    </tr>\n",
       "  </thead>\n",
       "  <tbody>\n",
       "    <tr>\n",
       "      <th>19</th>\n",
       "      <td>virat kohli</td>\n",
       "      <td>india</td>\n",
       "    </tr>\n",
       "    <tr>\n",
       "      <th>17</th>\n",
       "      <td>steve smith</td>\n",
       "      <td>australia</td>\n",
       "    </tr>\n",
       "    <tr>\n",
       "      <th>15</th>\n",
       "      <td>steve smith</td>\n",
       "      <td>australia</td>\n",
       "    </tr>\n",
       "  </tbody>\n",
       "</table>\n",
       "</div>"
      ],
      "text/plain": [
       "        batsman batsman country\n",
       "19  virat kohli           india\n",
       "17  steve smith       australia\n",
       "15  steve smith       australia"
      ]
     },
     "execution_count": 60,
     "metadata": {},
     "output_type": "execute_result"
    }
   ],
   "source": [
    "print(note := \" we can also select coloums based on index\")\n",
    "print()\n",
    "icc_ranking.iloc[[0,2,4],[1,2]]"
   ]
  },
  {
   "cell_type": "code",
   "execution_count": 61,
   "metadata": {},
   "outputs": [
    {
     "name": "stdout",
     "output_type": "stream",
     "text": [
      " some notes about iloc vs loc \n",
      " On the other hand loc is label-based, which means that we have to specify the name of the rows and \n",
      " columns that we need to filter out.\n"
     ]
    },
    {
     "data": {
      "text/html": [
       "<div>\n",
       "<style scoped>\n",
       "    .dataframe tbody tr th:only-of-type {\n",
       "        vertical-align: middle;\n",
       "    }\n",
       "\n",
       "    .dataframe tbody tr th {\n",
       "        vertical-align: top;\n",
       "    }\n",
       "\n",
       "    .dataframe thead th {\n",
       "        text-align: right;\n",
       "    }\n",
       "</style>\n",
       "<table border=\"1\" class=\"dataframe\">\n",
       "  <thead>\n",
       "    <tr style=\"text-align: right;\">\n",
       "      <th></th>\n",
       "      <th>year</th>\n",
       "      <th>batsman</th>\n",
       "      <th>batsman country</th>\n",
       "      <th>bowler</th>\n",
       "      <th>bowler country</th>\n",
       "    </tr>\n",
       "  </thead>\n",
       "  <tbody>\n",
       "    <tr>\n",
       "      <th>19</th>\n",
       "      <td>2019</td>\n",
       "      <td>virat kohli</td>\n",
       "      <td>india</td>\n",
       "      <td>Pat Cummins</td>\n",
       "      <td>australia</td>\n",
       "    </tr>\n",
       "    <tr>\n",
       "      <th>18</th>\n",
       "      <td>2018</td>\n",
       "      <td>virat kohli</td>\n",
       "      <td>india</td>\n",
       "      <td>Kagiso Rabada</td>\n",
       "      <td>South Africa</td>\n",
       "    </tr>\n",
       "  </tbody>\n",
       "</table>\n",
       "</div>"
      ],
      "text/plain": [
       "    year      batsman batsman country         bowler bowler country\n",
       "19  2019  virat kohli           india    Pat Cummins      australia\n",
       "18  2018  virat kohli           india  Kagiso Rabada   South Africa"
      ]
     },
     "execution_count": 61,
     "metadata": {},
     "output_type": "execute_result"
    }
   ],
   "source": [
    "print(note := \" some notes about iloc vs loc \")\n",
    "print()\n",
    "print(note := \" On the other hand loc is label-based, which means that we have to specify the name of the rows and \")\n",
    "print()\n",
    "print(note := \" columns that we need to filter out.\")\n",
    "\n",
    "icc_ranking.loc[icc_ranking['batsman']=='virat kohli']"
   ]
  },
  {
   "cell_type": "code",
   "execution_count": 62,
   "metadata": {},
   "outputs": [
    {
     "name": "stdout",
     "output_type": "stream",
     "text": [
      " we can use & \n"
     ]
    },
    {
     "data": {
      "text/html": [
       "<div>\n",
       "<style scoped>\n",
       "    .dataframe tbody tr th:only-of-type {\n",
       "        vertical-align: middle;\n",
       "    }\n",
       "\n",
       "    .dataframe tbody tr th {\n",
       "        vertical-align: top;\n",
       "    }\n",
       "\n",
       "    .dataframe thead th {\n",
       "        text-align: right;\n",
       "    }\n",
       "</style>\n",
       "<table border=\"1\" class=\"dataframe\">\n",
       "  <thead>\n",
       "    <tr style=\"text-align: right;\">\n",
       "      <th></th>\n",
       "      <th>year</th>\n",
       "      <th>batsman</th>\n",
       "      <th>batsman country</th>\n",
       "      <th>bowler</th>\n",
       "      <th>bowler country</th>\n",
       "    </tr>\n",
       "  </thead>\n",
       "  <tbody>\n",
       "    <tr>\n",
       "      <th>18</th>\n",
       "      <td>2018</td>\n",
       "      <td>virat kohli</td>\n",
       "      <td>india</td>\n",
       "      <td>Kagiso Rabada</td>\n",
       "      <td>South Africa</td>\n",
       "    </tr>\n",
       "  </tbody>\n",
       "</table>\n",
       "</div>"
      ],
      "text/plain": [
       "    year      batsman batsman country         bowler bowler country\n",
       "18  2018  virat kohli           india  Kagiso Rabada   South Africa"
      ]
     },
     "execution_count": 62,
     "metadata": {},
     "output_type": "execute_result"
    }
   ],
   "source": [
    "print(note := \" we can use & \")\n",
    "print()\n",
    "icc_ranking.loc[(icc_ranking['batsman']=='virat kohli') & (icc_ranking['year']==2018)]"
   ]
  },
  {
   "cell_type": "code",
   "execution_count": 63,
   "metadata": {},
   "outputs": [
    {
     "name": "stdout",
     "output_type": "stream",
     "text": [
      " we can also filter the coloums to be printed \n"
     ]
    },
    {
     "data": {
      "text/html": [
       "<div>\n",
       "<style scoped>\n",
       "    .dataframe tbody tr th:only-of-type {\n",
       "        vertical-align: middle;\n",
       "    }\n",
       "\n",
       "    .dataframe tbody tr th {\n",
       "        vertical-align: top;\n",
       "    }\n",
       "\n",
       "    .dataframe thead th {\n",
       "        text-align: right;\n",
       "    }\n",
       "</style>\n",
       "<table border=\"1\" class=\"dataframe\">\n",
       "  <thead>\n",
       "    <tr style=\"text-align: right;\">\n",
       "      <th></th>\n",
       "      <th>batsman</th>\n",
       "      <th>batsman country</th>\n",
       "    </tr>\n",
       "  </thead>\n",
       "  <tbody>\n",
       "    <tr>\n",
       "      <th>19</th>\n",
       "      <td>virat kohli</td>\n",
       "      <td>india</td>\n",
       "    </tr>\n",
       "    <tr>\n",
       "      <th>18</th>\n",
       "      <td>virat kohli</td>\n",
       "      <td>india</td>\n",
       "    </tr>\n",
       "    <tr>\n",
       "      <th>17</th>\n",
       "      <td>steve smith</td>\n",
       "      <td>australia</td>\n",
       "    </tr>\n",
       "  </tbody>\n",
       "</table>\n",
       "</div>"
      ],
      "text/plain": [
       "        batsman batsman country\n",
       "19  virat kohli           india\n",
       "18  virat kohli           india\n",
       "17  steve smith       australia"
      ]
     },
     "execution_count": 63,
     "metadata": {},
     "output_type": "execute_result"
    }
   ],
   "source": [
    "print(note := \" we can also filter the coloums to be printed \")\n",
    "print()\n",
    "icc_ranking.loc[icc_ranking['year'] >= 2017, ['batsman', 'batsman country']]"
   ]
  },
  {
   "cell_type": "code",
   "execution_count": 64,
   "metadata": {},
   "outputs": [
    {
     "name": "stdout",
     "output_type": "stream",
     "text": [
      " we can also extract multiple columns from the data frame\n",
      " this basically creates a new dataframe with selected coloums\n"
     ]
    },
    {
     "data": {
      "text/html": [
       "<div>\n",
       "<style scoped>\n",
       "    .dataframe tbody tr th:only-of-type {\n",
       "        vertical-align: middle;\n",
       "    }\n",
       "\n",
       "    .dataframe tbody tr th {\n",
       "        vertical-align: top;\n",
       "    }\n",
       "\n",
       "    .dataframe thead th {\n",
       "        text-align: right;\n",
       "    }\n",
       "</style>\n",
       "<table border=\"1\" class=\"dataframe\">\n",
       "  <thead>\n",
       "    <tr style=\"text-align: right;\">\n",
       "      <th></th>\n",
       "      <th>year</th>\n",
       "      <th>batsman</th>\n",
       "      <th>batsman country</th>\n",
       "    </tr>\n",
       "  </thead>\n",
       "  <tbody>\n",
       "    <tr>\n",
       "      <th>19</th>\n",
       "      <td>2019</td>\n",
       "      <td>virat kohli</td>\n",
       "      <td>india</td>\n",
       "    </tr>\n",
       "    <tr>\n",
       "      <th>18</th>\n",
       "      <td>2018</td>\n",
       "      <td>virat kohli</td>\n",
       "      <td>india</td>\n",
       "    </tr>\n",
       "    <tr>\n",
       "      <th>17</th>\n",
       "      <td>2017</td>\n",
       "      <td>steve smith</td>\n",
       "      <td>australia</td>\n",
       "    </tr>\n",
       "    <tr>\n",
       "      <th>16</th>\n",
       "      <td>2016</td>\n",
       "      <td>steve smith</td>\n",
       "      <td>australia</td>\n",
       "    </tr>\n",
       "    <tr>\n",
       "      <th>15</th>\n",
       "      <td>2015</td>\n",
       "      <td>steve smith</td>\n",
       "      <td>australia</td>\n",
       "    </tr>\n",
       "  </tbody>\n",
       "</table>\n",
       "</div>"
      ],
      "text/plain": [
       "    year      batsman batsman country\n",
       "19  2019  virat kohli           india\n",
       "18  2018  virat kohli           india\n",
       "17  2017  steve smith       australia\n",
       "16  2016  steve smith       australia\n",
       "15  2015  steve smith       australia"
      ]
     },
     "execution_count": 64,
     "metadata": {},
     "output_type": "execute_result"
    }
   ],
   "source": [
    "print(note := \" we can also extract multiple columns from the data frame\")\n",
    "print()\n",
    "print(note := \" this basically creates a new dataframe with selected coloums\")\n",
    "print()\n",
    "pd.DataFrame(icc_ranking, columns=['year', 'batsman', 'batsman country'])"
   ]
  },
  {
   "cell_type": "code",
   "execution_count": 65,
   "metadata": {},
   "outputs": [
    {
     "name": "stdout",
     "output_type": "stream",
     "text": [
      " we can also extract multiple columns from the data frame\n",
      " if we pass a coloum name that does not exists we shall get NaN values\n"
     ]
    },
    {
     "data": {
      "text/html": [
       "<div>\n",
       "<style scoped>\n",
       "    .dataframe tbody tr th:only-of-type {\n",
       "        vertical-align: middle;\n",
       "    }\n",
       "\n",
       "    .dataframe tbody tr th {\n",
       "        vertical-align: top;\n",
       "    }\n",
       "\n",
       "    .dataframe thead th {\n",
       "        text-align: right;\n",
       "    }\n",
       "</style>\n",
       "<table border=\"1\" class=\"dataframe\">\n",
       "  <thead>\n",
       "    <tr style=\"text-align: right;\">\n",
       "      <th></th>\n",
       "      <th>year</th>\n",
       "      <th>bowler</th>\n",
       "      <th>bowler country</th>\n",
       "      <th>notdefined</th>\n",
       "    </tr>\n",
       "  </thead>\n",
       "  <tbody>\n",
       "    <tr>\n",
       "      <th>19</th>\n",
       "      <td>2019</td>\n",
       "      <td>Pat Cummins</td>\n",
       "      <td>australia</td>\n",
       "      <td>NaN</td>\n",
       "    </tr>\n",
       "    <tr>\n",
       "      <th>18</th>\n",
       "      <td>2018</td>\n",
       "      <td>Kagiso Rabada</td>\n",
       "      <td>South Africa</td>\n",
       "      <td>NaN</td>\n",
       "    </tr>\n",
       "    <tr>\n",
       "      <th>17</th>\n",
       "      <td>2017</td>\n",
       "      <td>James Anderson</td>\n",
       "      <td>England</td>\n",
       "      <td>NaN</td>\n",
       "    </tr>\n",
       "    <tr>\n",
       "      <th>16</th>\n",
       "      <td>2016</td>\n",
       "      <td>James Anderson</td>\n",
       "      <td>India</td>\n",
       "      <td>NaN</td>\n",
       "    </tr>\n",
       "    <tr>\n",
       "      <th>15</th>\n",
       "      <td>2015</td>\n",
       "      <td>Ravichandran Ashwin</td>\n",
       "      <td>India</td>\n",
       "      <td>NaN</td>\n",
       "    </tr>\n",
       "  </tbody>\n",
       "</table>\n",
       "</div>"
      ],
      "text/plain": [
       "    year               bowler bowler country  notdefined\n",
       "19  2019          Pat Cummins      australia         NaN\n",
       "18  2018        Kagiso Rabada   South Africa         NaN\n",
       "17  2017       James Anderson        England         NaN\n",
       "16  2016       James Anderson          India         NaN\n",
       "15  2015  Ravichandran Ashwin          India         NaN"
      ]
     },
     "execution_count": 65,
     "metadata": {},
     "output_type": "execute_result"
    }
   ],
   "source": [
    "print(note := \" we can also extract multiple columns from the data frame\")\n",
    "print()\n",
    "print(note := \" if we pass a coloum name that does not exists we shall get NaN values\")\n",
    "print()\n",
    "pd.DataFrame(icc_ranking, columns=['year', 'bowler', 'bowler country', 'notdefined'])"
   ]
  },
  {
   "cell_type": "code",
   "execution_count": 66,
   "metadata": {},
   "outputs": [
    {
     "name": "stdout",
     "output_type": "stream",
     "text": [
      " let us create a Dataframe from numbers and provide user defined index and coloum names\n"
     ]
    },
    {
     "data": {
      "text/html": [
       "<div>\n",
       "<style scoped>\n",
       "    .dataframe tbody tr th:only-of-type {\n",
       "        vertical-align: middle;\n",
       "    }\n",
       "\n",
       "    .dataframe tbody tr th {\n",
       "        vertical-align: top;\n",
       "    }\n",
       "\n",
       "    .dataframe thead th {\n",
       "        text-align: right;\n",
       "    }\n",
       "</style>\n",
       "<table border=\"1\" class=\"dataframe\">\n",
       "  <thead>\n",
       "    <tr style=\"text-align: right;\">\n",
       "      <th></th>\n",
       "      <th>cl1</th>\n",
       "      <th>cl2</th>\n",
       "      <th>cl3</th>\n",
       "      <th>cl4</th>\n",
       "      <th>cl5</th>\n",
       "    </tr>\n",
       "  </thead>\n",
       "  <tbody>\n",
       "    <tr>\n",
       "      <th>first</th>\n",
       "      <td>-1.382272</td>\n",
       "      <td>-0.286808</td>\n",
       "      <td>0.503992</td>\n",
       "      <td>-1.352474</td>\n",
       "      <td>-0.535485</td>\n",
       "    </tr>\n",
       "    <tr>\n",
       "      <th>second</th>\n",
       "      <td>0.343436</td>\n",
       "      <td>0.198736</td>\n",
       "      <td>-0.009042</td>\n",
       "      <td>0.899137</td>\n",
       "      <td>0.924316</td>\n",
       "    </tr>\n",
       "    <tr>\n",
       "      <th>third</th>\n",
       "      <td>0.909569</td>\n",
       "      <td>-0.535093</td>\n",
       "      <td>-2.672892</td>\n",
       "      <td>-1.813985</td>\n",
       "      <td>-2.176855</td>\n",
       "    </tr>\n",
       "    <tr>\n",
       "      <th>fourth</th>\n",
       "      <td>0.214363</td>\n",
       "      <td>0.364521</td>\n",
       "      <td>0.588193</td>\n",
       "      <td>-0.492224</td>\n",
       "      <td>2.099656</td>\n",
       "    </tr>\n",
       "  </tbody>\n",
       "</table>\n",
       "</div>"
      ],
      "text/plain": [
       "             cl1       cl2       cl3       cl4       cl5\n",
       "first  -1.382272 -0.286808  0.503992 -1.352474 -0.535485\n",
       "second  0.343436  0.198736 -0.009042  0.899137  0.924316\n",
       "third   0.909569 -0.535093 -2.672892 -1.813985 -2.176855\n",
       "fourth  0.214363  0.364521  0.588193 -0.492224  2.099656"
      ]
     },
     "execution_count": 66,
     "metadata": {},
     "output_type": "execute_result"
    }
   ],
   "source": [
    "print(note := \" let us create a Dataframe from numbers and provide user defined index and coloum names\")\n",
    "print()\n",
    "df = pd.DataFrame(np.random.randn(20).reshape(4,5), index = ['first','second', 'third','fourth'], \n",
    "                  columns=['cl1', 'cl2', 'cl3','cl4','cl5'])\n",
    "df"
   ]
  },
  {
   "cell_type": "code",
   "execution_count": 67,
   "metadata": {},
   "outputs": [
    {
     "name": "stdout",
     "output_type": "stream",
     "text": [
      " we can reindex the DataFrame\n",
      " and can use the fill_value option \n"
     ]
    },
    {
     "data": {
      "text/html": [
       "<div>\n",
       "<style scoped>\n",
       "    .dataframe tbody tr th:only-of-type {\n",
       "        vertical-align: middle;\n",
       "    }\n",
       "\n",
       "    .dataframe tbody tr th {\n",
       "        vertical-align: top;\n",
       "    }\n",
       "\n",
       "    .dataframe thead th {\n",
       "        text-align: right;\n",
       "    }\n",
       "</style>\n",
       "<table border=\"1\" class=\"dataframe\">\n",
       "  <thead>\n",
       "    <tr style=\"text-align: right;\">\n",
       "      <th></th>\n",
       "      <th>cl1</th>\n",
       "      <th>cl2</th>\n",
       "      <th>cl3</th>\n",
       "      <th>cl4</th>\n",
       "      <th>cl5</th>\n",
       "    </tr>\n",
       "  </thead>\n",
       "  <tbody>\n",
       "    <tr>\n",
       "      <th>first</th>\n",
       "      <td>-1.382272</td>\n",
       "      <td>-0.286808</td>\n",
       "      <td>0.503992</td>\n",
       "      <td>-1.352474</td>\n",
       "      <td>-0.535485</td>\n",
       "    </tr>\n",
       "    <tr>\n",
       "      <th>second</th>\n",
       "      <td>0.343436</td>\n",
       "      <td>0.198736</td>\n",
       "      <td>-0.009042</td>\n",
       "      <td>0.899137</td>\n",
       "      <td>0.924316</td>\n",
       "    </tr>\n",
       "    <tr>\n",
       "      <th>third</th>\n",
       "      <td>0.909569</td>\n",
       "      <td>-0.535093</td>\n",
       "      <td>-2.672892</td>\n",
       "      <td>-1.813985</td>\n",
       "      <td>-2.176855</td>\n",
       "    </tr>\n",
       "    <tr>\n",
       "      <th>fourth</th>\n",
       "      <td>0.214363</td>\n",
       "      <td>0.364521</td>\n",
       "      <td>0.588193</td>\n",
       "      <td>-0.492224</td>\n",
       "      <td>2.099656</td>\n",
       "    </tr>\n",
       "    <tr>\n",
       "      <th>fifth</th>\n",
       "      <td>10.000000</td>\n",
       "      <td>10.000000</td>\n",
       "      <td>10.000000</td>\n",
       "      <td>10.000000</td>\n",
       "      <td>10.000000</td>\n",
       "    </tr>\n",
       "  </tbody>\n",
       "</table>\n",
       "</div>"
      ],
      "text/plain": [
       "              cl1        cl2        cl3        cl4        cl5\n",
       "first   -1.382272  -0.286808   0.503992  -1.352474  -0.535485\n",
       "second   0.343436   0.198736  -0.009042   0.899137   0.924316\n",
       "third    0.909569  -0.535093  -2.672892  -1.813985  -2.176855\n",
       "fourth   0.214363   0.364521   0.588193  -0.492224   2.099656\n",
       "fifth   10.000000  10.000000  10.000000  10.000000  10.000000"
      ]
     },
     "execution_count": 67,
     "metadata": {},
     "output_type": "execute_result"
    }
   ],
   "source": [
    "print(note := \" we can reindex the DataFrame\")\n",
    "print()\n",
    "print(note := \" and can use the fill_value option \")\n",
    "print()\n",
    "ndf = pd.DataFrame.reindex(df, index = ['first','second', 'third','fourth', 'fifth'], fill_value=10)\n",
    "ndf"
   ]
  },
  {
   "cell_type": "code",
   "execution_count": 68,
   "metadata": {},
   "outputs": [
    {
     "name": "stdout",
     "output_type": "stream",
     "text": [
      " we can reindex by using the dataframe object too\n",
      " we can also change the coloums \n"
     ]
    },
    {
     "data": {
      "text/html": [
       "<div>\n",
       "<style scoped>\n",
       "    .dataframe tbody tr th:only-of-type {\n",
       "        vertical-align: middle;\n",
       "    }\n",
       "\n",
       "    .dataframe tbody tr th {\n",
       "        vertical-align: top;\n",
       "    }\n",
       "\n",
       "    .dataframe thead th {\n",
       "        text-align: right;\n",
       "    }\n",
       "</style>\n",
       "<table border=\"1\" class=\"dataframe\">\n",
       "  <thead>\n",
       "    <tr style=\"text-align: right;\">\n",
       "      <th></th>\n",
       "      <th>cl1</th>\n",
       "      <th>cl2</th>\n",
       "      <th>cl3</th>\n",
       "      <th>cl4</th>\n",
       "      <th>cl5</th>\n",
       "      <th>cl6</th>\n",
       "    </tr>\n",
       "  </thead>\n",
       "  <tbody>\n",
       "    <tr>\n",
       "      <th>first</th>\n",
       "      <td>-1.382272</td>\n",
       "      <td>-0.286808</td>\n",
       "      <td>0.503992</td>\n",
       "      <td>-1.352474</td>\n",
       "      <td>-0.535485</td>\n",
       "      <td>10.0</td>\n",
       "    </tr>\n",
       "    <tr>\n",
       "      <th>second</th>\n",
       "      <td>0.343436</td>\n",
       "      <td>0.198736</td>\n",
       "      <td>-0.009042</td>\n",
       "      <td>0.899137</td>\n",
       "      <td>0.924316</td>\n",
       "      <td>10.0</td>\n",
       "    </tr>\n",
       "    <tr>\n",
       "      <th>third</th>\n",
       "      <td>0.909569</td>\n",
       "      <td>-0.535093</td>\n",
       "      <td>-2.672892</td>\n",
       "      <td>-1.813985</td>\n",
       "      <td>-2.176855</td>\n",
       "      <td>10.0</td>\n",
       "    </tr>\n",
       "    <tr>\n",
       "      <th>fourth</th>\n",
       "      <td>0.214363</td>\n",
       "      <td>0.364521</td>\n",
       "      <td>0.588193</td>\n",
       "      <td>-0.492224</td>\n",
       "      <td>2.099656</td>\n",
       "      <td>10.0</td>\n",
       "    </tr>\n",
       "    <tr>\n",
       "      <th>fifth</th>\n",
       "      <td>10.000000</td>\n",
       "      <td>10.000000</td>\n",
       "      <td>10.000000</td>\n",
       "      <td>10.000000</td>\n",
       "      <td>10.000000</td>\n",
       "      <td>10.0</td>\n",
       "    </tr>\n",
       "  </tbody>\n",
       "</table>\n",
       "</div>"
      ],
      "text/plain": [
       "              cl1        cl2        cl3        cl4        cl5   cl6\n",
       "first   -1.382272  -0.286808   0.503992  -1.352474  -0.535485  10.0\n",
       "second   0.343436   0.198736  -0.009042   0.899137   0.924316  10.0\n",
       "third    0.909569  -0.535093  -2.672892  -1.813985  -2.176855  10.0\n",
       "fourth   0.214363   0.364521   0.588193  -0.492224   2.099656  10.0\n",
       "fifth   10.000000  10.000000  10.000000  10.000000  10.000000  10.0"
      ]
     },
     "execution_count": 68,
     "metadata": {},
     "output_type": "execute_result"
    }
   ],
   "source": [
    "print(note := \" we can reindex by using the dataframe object too\")\n",
    "print()\n",
    "print(note := \" we can also change the coloums \")\n",
    "print()\n",
    "ndf = df.reindex(index = ['first','second', 'third','fourth', 'fifth'], columns = ['cl1', 'cl2', 'cl3','cl4','cl5', 'cl6'], fill_value=10)\n",
    "ndf"
   ]
  },
  {
   "cell_type": "markdown",
   "metadata": {},
   "source": [
    "### more of series "
   ]
  },
  {
   "cell_type": "code",
   "execution_count": 69,
   "metadata": {},
   "outputs": [
    {
     "data": {
      "text/plain": [
       "a    0.910548\n",
       "c    0.032130\n",
       "d    0.514590\n",
       "e    0.789566\n",
       "b    0.897456\n",
       "dtype: float64"
      ]
     },
     "execution_count": 69,
     "metadata": {},
     "output_type": "execute_result"
    }
   ],
   "source": [
    "some_series = pd.Series(np.random.rand(5), index=['a','c','d','e','b'])\n",
    "some_series"
   ]
  },
  {
   "cell_type": "code",
   "execution_count": 70,
   "metadata": {},
   "outputs": [
    {
     "data": {
      "text/plain": [
       "a    0.910548\n",
       "d    0.514590\n",
       "e    0.789566\n",
       "b    0.897456\n",
       "dtype: float64"
      ]
     },
     "execution_count": 70,
     "metadata": {},
     "output_type": "execute_result"
    }
   ],
   "source": [
    "some_series[some_series>.5]"
   ]
  },
  {
   "cell_type": "code",
   "execution_count": 71,
   "metadata": {},
   "outputs": [
    {
     "name": "stdout",
     "output_type": "stream",
     "text": [
      " we can update a value in the series\n"
     ]
    },
    {
     "data": {
      "text/plain": [
       "a    1.00000\n",
       "c    0.03213\n",
       "d    1.00000\n",
       "e    1.00000\n",
       "b    1.00000\n",
       "dtype: float64"
      ]
     },
     "execution_count": 71,
     "metadata": {},
     "output_type": "execute_result"
    }
   ],
   "source": [
    "print(note := \" we can update a value in the series\")\n",
    "print()\n",
    "some_series[some_series>.5] = 1\n",
    "some_series"
   ]
  },
  {
   "cell_type": "code",
   "execution_count": 72,
   "metadata": {},
   "outputs": [
    {
     "data": {
      "text/plain": [
       "a    1.0\n",
       "d    1.0\n",
       "dtype: float64"
      ]
     },
     "execution_count": 72,
     "metadata": {},
     "output_type": "execute_result"
    }
   ],
   "source": [
    "some_series[['a','d']]\n"
   ]
  },
  {
   "cell_type": "code",
   "execution_count": 73,
   "metadata": {},
   "outputs": [
    {
     "data": {
      "text/plain": [
       "a    1.0\n",
       "e    1.0\n",
       "dtype: float64"
      ]
     },
     "execution_count": 73,
     "metadata": {},
     "output_type": "execute_result"
    }
   ],
   "source": [
    "some_series[[0,3]]"
   ]
  },
  {
   "cell_type": "code",
   "execution_count": 74,
   "metadata": {},
   "outputs": [
    {
     "name": "stdout",
     "output_type": "stream",
     "text": [
      " we can sort the index of the series\n"
     ]
    },
    {
     "data": {
      "text/plain": [
       "a    1.00000\n",
       "b    1.00000\n",
       "c    0.03213\n",
       "d    1.00000\n",
       "e    1.00000\n",
       "dtype: float64"
      ]
     },
     "execution_count": 74,
     "metadata": {},
     "output_type": "execute_result"
    }
   ],
   "source": [
    "print(note := \" we can sort the index of the series\")\n",
    "print()\n",
    "some_series = some_series.sort_index()\n",
    "some_series"
   ]
  },
  {
   "cell_type": "code",
   "execution_count": 75,
   "metadata": {},
   "outputs": [
    {
     "name": "stdout",
     "output_type": "stream",
     "text": [
      " we can also sort the series based on the values\n"
     ]
    },
    {
     "data": {
      "text/plain": [
       "c    0.03213\n",
       "a    1.00000\n",
       "b    1.00000\n",
       "d    1.00000\n",
       "e    1.00000\n",
       "dtype: float64"
      ]
     },
     "execution_count": 75,
     "metadata": {},
     "output_type": "execute_result"
    }
   ],
   "source": [
    "print(note := \" we can also sort the series based on the values\")\n",
    "print()\n",
    "some_series.sort_values()"
   ]
  },
  {
   "cell_type": "code",
   "execution_count": 76,
   "metadata": {},
   "outputs": [
    {
     "name": "stdout",
     "output_type": "stream",
     "text": [
      "we can use rank to get the ranking of values, showing the order of values \n",
      " when we run sort etc, we shall have the values in order of rank\n"
     ]
    },
    {
     "data": {
      "text/plain": [
       "a    3.5\n",
       "b    3.5\n",
       "c    1.0\n",
       "d    3.5\n",
       "e    3.5\n",
       "dtype: float64"
      ]
     },
     "execution_count": 76,
     "metadata": {},
     "output_type": "execute_result"
    }
   ],
   "source": [
    "print(note := \"we can use rank to get the ranking of values, showing the order of values \")\n",
    "print()\n",
    "print(note := \" when we run sort etc, we shall have the values in order of rank\")\n",
    "print()\n",
    "some_series.rank()"
   ]
  },
  {
   "cell_type": "code",
   "execution_count": 77,
   "metadata": {},
   "outputs": [
    {
     "name": "stdout",
     "output_type": "stream",
     "text": [
      " we can also sort them in ascending order\n"
     ]
    },
    {
     "data": {
      "text/plain": [
       "c    0.03213\n",
       "a    1.00000\n",
       "b    1.00000\n",
       "d    1.00000\n",
       "e    1.00000\n",
       "dtype: float64"
      ]
     },
     "execution_count": 77,
     "metadata": {},
     "output_type": "execute_result"
    }
   ],
   "source": [
    "print(note := \" we can also sort them in ascending order\")\n",
    "print()\n",
    "some_series.sort_values(ascending=True)"
   ]
  },
  {
   "cell_type": "code",
   "execution_count": 78,
   "metadata": {},
   "outputs": [
    {
     "name": "stdout",
     "output_type": "stream",
     "text": [
      " we can use drop to remove a value from the series, remember that new series is created \n"
     ]
    },
    {
     "data": {
      "text/plain": [
       "a    1.0\n",
       "b    1.0\n",
       "d    1.0\n",
       "e    1.0\n",
       "dtype: float64"
      ]
     },
     "execution_count": 78,
     "metadata": {},
     "output_type": "execute_result"
    }
   ],
   "source": [
    "print(note := \" we can use drop to remove a value from the series, remember that new series is created \")\n",
    "print()\n",
    "nss = some_series.drop('c')\n",
    "nss"
   ]
  },
  {
   "cell_type": "code",
   "execution_count": 79,
   "metadata": {},
   "outputs": [
    {
     "data": {
      "text/plain": [
       "a    0.061675\n",
       "b    0.666872\n",
       "c    0.306409\n",
       "d    0.409942\n",
       "e    0.451962\n",
       "f    0.234448\n",
       "dtype: float64"
      ]
     },
     "execution_count": 79,
     "metadata": {},
     "output_type": "execute_result"
    }
   ],
   "source": [
    "some_series_1 = pd.Series(np.random.rand(6), index=['a','b','c','d','e','f'])\n",
    "print()\n",
    "some_series_1"
   ]
  },
  {
   "cell_type": "code",
   "execution_count": 80,
   "metadata": {},
   "outputs": [
    {
     "name": "stdout",
     "output_type": "stream",
     "text": [
      " we can do scalar operation on the series \n"
     ]
    },
    {
     "data": {
      "text/plain": [
       "a    0.123349\n",
       "b    1.333744\n",
       "c    0.612817\n",
       "d    0.819883\n",
       "e    0.903924\n",
       "f    0.468897\n",
       "dtype: float64"
      ]
     },
     "execution_count": 80,
     "metadata": {},
     "output_type": "execute_result"
    }
   ],
   "source": [
    "print(note := \" we can do scalar operation on the series \")\n",
    "print()\n",
    "some_series_2 = some_series_1*2\n",
    "some_series_2"
   ]
  },
  {
   "cell_type": "code",
   "execution_count": 81,
   "metadata": {},
   "outputs": [
    {
     "data": {
      "text/plain": [
       "a   -0.876651\n",
       "b    0.333744\n",
       "c   -0.387183\n",
       "d   -0.180117\n",
       "e   -0.096076\n",
       "f   -0.531103\n",
       "dtype: float64"
      ]
     },
     "execution_count": 81,
     "metadata": {},
     "output_type": "execute_result"
    }
   ],
   "source": [
    "some_series_2 = some_series_2 - 1\n",
    "some_series_2"
   ]
  },
  {
   "cell_type": "code",
   "execution_count": 82,
   "metadata": {},
   "outputs": [
    {
     "name": "stdout",
     "output_type": "stream",
     "text": [
      " we can add two series \n"
     ]
    },
    {
     "data": {
      "text/plain": [
       "a   -0.814976\n",
       "b    1.000616\n",
       "c   -0.080774\n",
       "d    0.229825\n",
       "e    0.355887\n",
       "f   -0.296655\n",
       "dtype: float64"
      ]
     },
     "execution_count": 82,
     "metadata": {},
     "output_type": "execute_result"
    }
   ],
   "source": [
    "print(note := \" we can add two series \")\n",
    "print()\n",
    "some_series_2 + some_series_1"
   ]
  },
  {
   "cell_type": "code",
   "execution_count": 83,
   "metadata": {},
   "outputs": [
    {
     "name": "stdout",
     "output_type": "stream",
     "text": [
      " but only when we have same index names can we see the result, else we shall see NaN\n"
     ]
    },
    {
     "data": {
      "text/plain": [
       "a    0.123349\n",
       "b    1.333744\n",
       "c   -0.355053\n",
       "d    0.819883\n",
       "e    0.903924\n",
       "f         NaN\n",
       "dtype: float64"
      ]
     },
     "execution_count": 83,
     "metadata": {},
     "output_type": "execute_result"
    }
   ],
   "source": [
    "print(note := \" but only when we have same index names can we see the result, else we shall see NaN\")\n",
    "print()\n",
    "some_series + some_series_2"
   ]
  },
  {
   "cell_type": "code",
   "execution_count": 84,
   "metadata": {},
   "outputs": [
    {
     "name": "stdout",
     "output_type": "stream",
     "text": [
      " we can use the pct_chnage to get the percentage change between series values\n"
     ]
    },
    {
     "data": {
      "text/plain": [
       "a          NaN\n",
       "b     0.000000\n",
       "c    -0.967870\n",
       "d    30.123624\n",
       "e     0.000000\n",
       "dtype: float64"
      ]
     },
     "execution_count": 84,
     "metadata": {},
     "output_type": "execute_result"
    }
   ],
   "source": [
    "print(note := \" we can use the pct_chnage to get the percentage change between series values\")\n",
    "print()\n",
    "new_s = some_series.pct_change()\n",
    "new_s"
   ]
  },
  {
   "cell_type": "code",
   "execution_count": 85,
   "metadata": {},
   "outputs": [
    {
     "name": "stdout",
     "output_type": "stream",
     "text": [
      " we can use isnull to get the NaN values \n"
     ]
    },
    {
     "data": {
      "text/plain": [
       "a     True\n",
       "b    False\n",
       "c    False\n",
       "d    False\n",
       "e    False\n",
       "dtype: bool"
      ]
     },
     "execution_count": 85,
     "metadata": {},
     "output_type": "execute_result"
    }
   ],
   "source": [
    "print(note := \" we can use isnull to get the NaN values \")\n",
    "print()\n",
    "new_s.isnull()"
   ]
  },
  {
   "cell_type": "code",
   "execution_count": 86,
   "metadata": {},
   "outputs": [
    {
     "name": "stdout",
     "output_type": "stream",
     "text": [
      " we can directly drop the Nan values by dropna\n"
     ]
    },
    {
     "data": {
      "text/plain": [
       "b     0.000000\n",
       "c    -0.967870\n",
       "d    30.123624\n",
       "e     0.000000\n",
       "dtype: float64"
      ]
     },
     "execution_count": 86,
     "metadata": {},
     "output_type": "execute_result"
    }
   ],
   "source": [
    "print(note := \" we can directly drop the Nan values by dropna\")\n",
    "print()\n",
    "new_s = new_s.dropna()\n",
    "new_s"
   ]
  },
  {
   "cell_type": "code",
   "execution_count": 87,
   "metadata": {},
   "outputs": [
    {
     "data": {
      "text/plain": [
       "-0.9678700652730327"
      ]
     },
     "execution_count": 87,
     "metadata": {},
     "output_type": "execute_result"
    }
   ],
   "source": [
    "new_s.min()"
   ]
  },
  {
   "cell_type": "code",
   "execution_count": 88,
   "metadata": {},
   "outputs": [
    {
     "data": {
      "text/plain": [
       "30.1236237638752"
      ]
     },
     "execution_count": 88,
     "metadata": {},
     "output_type": "execute_result"
    }
   ],
   "source": [
    "new_s.max()"
   ]
  },
  {
   "cell_type": "code",
   "execution_count": 89,
   "metadata": {},
   "outputs": [
    {
     "data": {
      "text/plain": [
       "15.229959375053827"
      ]
     },
     "execution_count": 89,
     "metadata": {},
     "output_type": "execute_result"
    }
   ],
   "source": [
    "new_s.std()"
   ]
  },
  {
   "cell_type": "code",
   "execution_count": 90,
   "metadata": {},
   "outputs": [
    {
     "data": {
      "text/plain": [
       "7.288938424650542"
      ]
     },
     "execution_count": 90,
     "metadata": {},
     "output_type": "execute_result"
    }
   ],
   "source": [
    "new_s.mean()"
   ]
  },
  {
   "cell_type": "code",
   "execution_count": 91,
   "metadata": {},
   "outputs": [
    {
     "name": "stdout",
     "output_type": "stream",
     "text": [
      " series supports describe that can be used to get some basic stats of data\n"
     ]
    },
    {
     "data": {
      "text/plain": [
       "count     4.000000\n",
       "mean      7.288938\n",
       "std      15.229959\n",
       "min      -0.967870\n",
       "25%      -0.241968\n",
       "50%       0.000000\n",
       "75%       7.530906\n",
       "max      30.123624\n",
       "dtype: float64"
      ]
     },
     "execution_count": 91,
     "metadata": {},
     "output_type": "execute_result"
    }
   ],
   "source": [
    "print(note := \" series supports describe that can be used to get some basic stats of data\")\n",
    "print()\n",
    "new_s.describe()"
   ]
  },
  {
   "cell_type": "markdown",
   "metadata": {},
   "source": [
    "### more of dataframe "
   ]
  },
  {
   "cell_type": "code",
   "execution_count": 92,
   "metadata": {},
   "outputs": [
    {
     "data": {
      "text/html": [
       "<div>\n",
       "<style scoped>\n",
       "    .dataframe tbody tr th:only-of-type {\n",
       "        vertical-align: middle;\n",
       "    }\n",
       "\n",
       "    .dataframe tbody tr th {\n",
       "        vertical-align: top;\n",
       "    }\n",
       "\n",
       "    .dataframe thead th {\n",
       "        text-align: right;\n",
       "    }\n",
       "</style>\n",
       "<table border=\"1\" class=\"dataframe\">\n",
       "  <thead>\n",
       "    <tr style=\"text-align: right;\">\n",
       "      <th></th>\n",
       "      <th>c1</th>\n",
       "      <th>c2</th>\n",
       "      <th>c3</th>\n",
       "      <th>c4</th>\n",
       "      <th>c5</th>\n",
       "    </tr>\n",
       "  </thead>\n",
       "  <tbody>\n",
       "    <tr>\n",
       "      <th>a</th>\n",
       "      <td>0.774619</td>\n",
       "      <td>0.236447</td>\n",
       "      <td>0.879229</td>\n",
       "      <td>0.073653</td>\n",
       "      <td>0.724922</td>\n",
       "    </tr>\n",
       "    <tr>\n",
       "      <th>b</th>\n",
       "      <td>0.931094</td>\n",
       "      <td>0.595232</td>\n",
       "      <td>0.048746</td>\n",
       "      <td>0.001396</td>\n",
       "      <td>0.206756</td>\n",
       "    </tr>\n",
       "    <tr>\n",
       "      <th>c</th>\n",
       "      <td>0.339759</td>\n",
       "      <td>0.788861</td>\n",
       "      <td>0.371098</td>\n",
       "      <td>0.635688</td>\n",
       "      <td>0.235639</td>\n",
       "    </tr>\n",
       "    <tr>\n",
       "      <th>d</th>\n",
       "      <td>0.305573</td>\n",
       "      <td>0.239135</td>\n",
       "      <td>0.185057</td>\n",
       "      <td>0.968995</td>\n",
       "      <td>0.538801</td>\n",
       "    </tr>\n",
       "  </tbody>\n",
       "</table>\n",
       "</div>"
      ],
      "text/plain": [
       "         c1        c2        c3        c4        c5\n",
       "a  0.774619  0.236447  0.879229  0.073653  0.724922\n",
       "b  0.931094  0.595232  0.048746  0.001396  0.206756\n",
       "c  0.339759  0.788861  0.371098  0.635688  0.235639\n",
       "d  0.305573  0.239135  0.185057  0.968995  0.538801"
      ]
     },
     "execution_count": 92,
     "metadata": {},
     "output_type": "execute_result"
    }
   ],
   "source": [
    "some_df = pd.DataFrame(np.random.rand(20).reshape(4,5), index=['a','b','c','d'], columns=['c1','c2','c3','c4','c5'])\n",
    "some_df"
   ]
  },
  {
   "cell_type": "code",
   "execution_count": 93,
   "metadata": {},
   "outputs": [
    {
     "name": "stdout",
     "output_type": "stream",
     "text": [
      " axis value is 0 for row, i.e. the default behaviour\n"
     ]
    },
    {
     "data": {
      "text/html": [
       "<div>\n",
       "<style scoped>\n",
       "    .dataframe tbody tr th:only-of-type {\n",
       "        vertical-align: middle;\n",
       "    }\n",
       "\n",
       "    .dataframe tbody tr th {\n",
       "        vertical-align: top;\n",
       "    }\n",
       "\n",
       "    .dataframe thead th {\n",
       "        text-align: right;\n",
       "    }\n",
       "</style>\n",
       "<table border=\"1\" class=\"dataframe\">\n",
       "  <thead>\n",
       "    <tr style=\"text-align: right;\">\n",
       "      <th></th>\n",
       "      <th>c1</th>\n",
       "      <th>c2</th>\n",
       "      <th>c3</th>\n",
       "      <th>c4</th>\n",
       "      <th>c5</th>\n",
       "    </tr>\n",
       "  </thead>\n",
       "  <tbody>\n",
       "    <tr>\n",
       "      <th>b</th>\n",
       "      <td>0.931094</td>\n",
       "      <td>0.595232</td>\n",
       "      <td>0.048746</td>\n",
       "      <td>0.001396</td>\n",
       "      <td>0.206756</td>\n",
       "    </tr>\n",
       "    <tr>\n",
       "      <th>c</th>\n",
       "      <td>0.339759</td>\n",
       "      <td>0.788861</td>\n",
       "      <td>0.371098</td>\n",
       "      <td>0.635688</td>\n",
       "      <td>0.235639</td>\n",
       "    </tr>\n",
       "    <tr>\n",
       "      <th>d</th>\n",
       "      <td>0.305573</td>\n",
       "      <td>0.239135</td>\n",
       "      <td>0.185057</td>\n",
       "      <td>0.968995</td>\n",
       "      <td>0.538801</td>\n",
       "    </tr>\n",
       "  </tbody>\n",
       "</table>\n",
       "</div>"
      ],
      "text/plain": [
       "         c1        c2        c3        c4        c5\n",
       "b  0.931094  0.595232  0.048746  0.001396  0.206756\n",
       "c  0.339759  0.788861  0.371098  0.635688  0.235639\n",
       "d  0.305573  0.239135  0.185057  0.968995  0.538801"
      ]
     },
     "execution_count": 93,
     "metadata": {},
     "output_type": "execute_result"
    }
   ],
   "source": [
    "print(note := \" axis value is 0 for row, i.e. the default behaviour\")\n",
    "print()\n",
    "some_df.drop('a', axis=0)"
   ]
  },
  {
   "cell_type": "code",
   "execution_count": 94,
   "metadata": {},
   "outputs": [
    {
     "data": {
      "text/html": [
       "<div>\n",
       "<style scoped>\n",
       "    .dataframe tbody tr th:only-of-type {\n",
       "        vertical-align: middle;\n",
       "    }\n",
       "\n",
       "    .dataframe tbody tr th {\n",
       "        vertical-align: top;\n",
       "    }\n",
       "\n",
       "    .dataframe thead th {\n",
       "        text-align: right;\n",
       "    }\n",
       "</style>\n",
       "<table border=\"1\" class=\"dataframe\">\n",
       "  <thead>\n",
       "    <tr style=\"text-align: right;\">\n",
       "      <th></th>\n",
       "      <th>c1</th>\n",
       "      <th>c2</th>\n",
       "      <th>c4</th>\n",
       "      <th>c5</th>\n",
       "    </tr>\n",
       "  </thead>\n",
       "  <tbody>\n",
       "    <tr>\n",
       "      <th>a</th>\n",
       "      <td>0.774619</td>\n",
       "      <td>0.236447</td>\n",
       "      <td>0.073653</td>\n",
       "      <td>0.724922</td>\n",
       "    </tr>\n",
       "    <tr>\n",
       "      <th>b</th>\n",
       "      <td>0.931094</td>\n",
       "      <td>0.595232</td>\n",
       "      <td>0.001396</td>\n",
       "      <td>0.206756</td>\n",
       "    </tr>\n",
       "    <tr>\n",
       "      <th>c</th>\n",
       "      <td>0.339759</td>\n",
       "      <td>0.788861</td>\n",
       "      <td>0.635688</td>\n",
       "      <td>0.235639</td>\n",
       "    </tr>\n",
       "    <tr>\n",
       "      <th>d</th>\n",
       "      <td>0.305573</td>\n",
       "      <td>0.239135</td>\n",
       "      <td>0.968995</td>\n",
       "      <td>0.538801</td>\n",
       "    </tr>\n",
       "  </tbody>\n",
       "</table>\n",
       "</div>"
      ],
      "text/plain": [
       "         c1        c2        c4        c5\n",
       "a  0.774619  0.236447  0.073653  0.724922\n",
       "b  0.931094  0.595232  0.001396  0.206756\n",
       "c  0.339759  0.788861  0.635688  0.235639\n",
       "d  0.305573  0.239135  0.968995  0.538801"
      ]
     },
     "execution_count": 94,
     "metadata": {},
     "output_type": "execute_result"
    }
   ],
   "source": [
    "some_df.drop('c3', axis=1)"
   ]
  },
  {
   "cell_type": "code",
   "execution_count": 95,
   "metadata": {},
   "outputs": [
    {
     "name": "stdout",
     "output_type": "stream",
     "text": [
      " we can select the data by col index\n"
     ]
    },
    {
     "data": {
      "text/plain": [
       "a    0.774619\n",
       "b    0.931094\n",
       "c    0.339759\n",
       "d    0.305573\n",
       "Name: c1, dtype: float64"
      ]
     },
     "execution_count": 95,
     "metadata": {},
     "output_type": "execute_result"
    }
   ],
   "source": [
    "print(note := \" we can select the data by col index\")\n",
    "print()\n",
    "some_df['c1']"
   ]
  },
  {
   "cell_type": "code",
   "execution_count": 96,
   "metadata": {},
   "outputs": [
    {
     "name": "stdout",
     "output_type": "stream",
     "text": [
      " we can use the condition to select relevant data\n"
     ]
    },
    {
     "data": {
      "text/html": [
       "<div>\n",
       "<style scoped>\n",
       "    .dataframe tbody tr th:only-of-type {\n",
       "        vertical-align: middle;\n",
       "    }\n",
       "\n",
       "    .dataframe tbody tr th {\n",
       "        vertical-align: top;\n",
       "    }\n",
       "\n",
       "    .dataframe thead th {\n",
       "        text-align: right;\n",
       "    }\n",
       "</style>\n",
       "<table border=\"1\" class=\"dataframe\">\n",
       "  <thead>\n",
       "    <tr style=\"text-align: right;\">\n",
       "      <th></th>\n",
       "      <th>c1</th>\n",
       "      <th>c2</th>\n",
       "      <th>c3</th>\n",
       "      <th>c4</th>\n",
       "      <th>c5</th>\n",
       "    </tr>\n",
       "  </thead>\n",
       "  <tbody>\n",
       "    <tr>\n",
       "      <th>a</th>\n",
       "      <td>0.774619</td>\n",
       "      <td>0.236447</td>\n",
       "      <td>0.879229</td>\n",
       "      <td>0.073653</td>\n",
       "      <td>0.724922</td>\n",
       "    </tr>\n",
       "  </tbody>\n",
       "</table>\n",
       "</div>"
      ],
      "text/plain": [
       "         c1        c2        c3        c4        c5\n",
       "a  0.774619  0.236447  0.879229  0.073653  0.724922"
      ]
     },
     "execution_count": 96,
     "metadata": {},
     "output_type": "execute_result"
    }
   ],
   "source": [
    "print(note := \" we can use the condition to select relevant data\")\n",
    "print()\n",
    "some_df[some_df['c3']>.5]"
   ]
  },
  {
   "cell_type": "code",
   "execution_count": 97,
   "metadata": {},
   "outputs": [
    {
     "name": "stdout",
     "output_type": "stream",
     "text": [
      " which is same as using loc\n"
     ]
    },
    {
     "data": {
      "text/html": [
       "<div>\n",
       "<style scoped>\n",
       "    .dataframe tbody tr th:only-of-type {\n",
       "        vertical-align: middle;\n",
       "    }\n",
       "\n",
       "    .dataframe tbody tr th {\n",
       "        vertical-align: top;\n",
       "    }\n",
       "\n",
       "    .dataframe thead th {\n",
       "        text-align: right;\n",
       "    }\n",
       "</style>\n",
       "<table border=\"1\" class=\"dataframe\">\n",
       "  <thead>\n",
       "    <tr style=\"text-align: right;\">\n",
       "      <th></th>\n",
       "      <th>c1</th>\n",
       "      <th>c2</th>\n",
       "      <th>c3</th>\n",
       "      <th>c4</th>\n",
       "      <th>c5</th>\n",
       "    </tr>\n",
       "  </thead>\n",
       "  <tbody>\n",
       "    <tr>\n",
       "      <th>a</th>\n",
       "      <td>0.774619</td>\n",
       "      <td>0.236447</td>\n",
       "      <td>0.879229</td>\n",
       "      <td>0.073653</td>\n",
       "      <td>0.724922</td>\n",
       "    </tr>\n",
       "  </tbody>\n",
       "</table>\n",
       "</div>"
      ],
      "text/plain": [
       "         c1        c2        c3        c4        c5\n",
       "a  0.774619  0.236447  0.879229  0.073653  0.724922"
      ]
     },
     "execution_count": 97,
     "metadata": {},
     "output_type": "execute_result"
    }
   ],
   "source": [
    "print(note := \" which is same as using loc\")\n",
    "print()\n",
    "some_df.loc[some_df['c3']>.5]"
   ]
  },
  {
   "cell_type": "code",
   "execution_count": 98,
   "metadata": {},
   "outputs": [
    {
     "name": "stdout",
     "output_type": "stream",
     "text": [
      " we can also do conditional on the entire dataframe\n"
     ]
    },
    {
     "data": {
      "text/html": [
       "<div>\n",
       "<style scoped>\n",
       "    .dataframe tbody tr th:only-of-type {\n",
       "        vertical-align: middle;\n",
       "    }\n",
       "\n",
       "    .dataframe tbody tr th {\n",
       "        vertical-align: top;\n",
       "    }\n",
       "\n",
       "    .dataframe thead th {\n",
       "        text-align: right;\n",
       "    }\n",
       "</style>\n",
       "<table border=\"1\" class=\"dataframe\">\n",
       "  <thead>\n",
       "    <tr style=\"text-align: right;\">\n",
       "      <th></th>\n",
       "      <th>c1</th>\n",
       "      <th>c2</th>\n",
       "      <th>c3</th>\n",
       "      <th>c4</th>\n",
       "      <th>c5</th>\n",
       "    </tr>\n",
       "  </thead>\n",
       "  <tbody>\n",
       "    <tr>\n",
       "      <th>a</th>\n",
       "      <td>True</td>\n",
       "      <td>True</td>\n",
       "      <td>True</td>\n",
       "      <td>False</td>\n",
       "      <td>True</td>\n",
       "    </tr>\n",
       "    <tr>\n",
       "      <th>b</th>\n",
       "      <td>True</td>\n",
       "      <td>True</td>\n",
       "      <td>False</td>\n",
       "      <td>False</td>\n",
       "      <td>True</td>\n",
       "    </tr>\n",
       "    <tr>\n",
       "      <th>c</th>\n",
       "      <td>True</td>\n",
       "      <td>True</td>\n",
       "      <td>True</td>\n",
       "      <td>True</td>\n",
       "      <td>True</td>\n",
       "    </tr>\n",
       "    <tr>\n",
       "      <th>d</th>\n",
       "      <td>True</td>\n",
       "      <td>True</td>\n",
       "      <td>False</td>\n",
       "      <td>True</td>\n",
       "      <td>True</td>\n",
       "    </tr>\n",
       "  </tbody>\n",
       "</table>\n",
       "</div>"
      ],
      "text/plain": [
       "     c1    c2     c3     c4    c5\n",
       "a  True  True   True  False  True\n",
       "b  True  True  False  False  True\n",
       "c  True  True   True   True  True\n",
       "d  True  True  False   True  True"
      ]
     },
     "execution_count": 98,
     "metadata": {},
     "output_type": "execute_result"
    }
   ],
   "source": [
    "print(note := \" we can also do conditional on the entire dataframe\")\n",
    "print()\n",
    "some_df > .2"
   ]
  },
  {
   "cell_type": "code",
   "execution_count": 99,
   "metadata": {},
   "outputs": [
    {
     "name": "stdout",
     "output_type": "stream",
     "text": [
      " we can do the scalar operation on the dataframe\n"
     ]
    },
    {
     "data": {
      "text/html": [
       "<div>\n",
       "<style scoped>\n",
       "    .dataframe tbody tr th:only-of-type {\n",
       "        vertical-align: middle;\n",
       "    }\n",
       "\n",
       "    .dataframe tbody tr th {\n",
       "        vertical-align: top;\n",
       "    }\n",
       "\n",
       "    .dataframe thead th {\n",
       "        text-align: right;\n",
       "    }\n",
       "</style>\n",
       "<table border=\"1\" class=\"dataframe\">\n",
       "  <thead>\n",
       "    <tr style=\"text-align: right;\">\n",
       "      <th></th>\n",
       "      <th>c1</th>\n",
       "      <th>c2</th>\n",
       "      <th>c3</th>\n",
       "      <th>c4</th>\n",
       "      <th>c5</th>\n",
       "    </tr>\n",
       "  </thead>\n",
       "  <tbody>\n",
       "    <tr>\n",
       "      <th>a</th>\n",
       "      <td>1.774619</td>\n",
       "      <td>1.236447</td>\n",
       "      <td>1.879229</td>\n",
       "      <td>1.073653</td>\n",
       "      <td>1.724922</td>\n",
       "    </tr>\n",
       "    <tr>\n",
       "      <th>b</th>\n",
       "      <td>1.931094</td>\n",
       "      <td>1.595232</td>\n",
       "      <td>1.048746</td>\n",
       "      <td>1.001396</td>\n",
       "      <td>1.206756</td>\n",
       "    </tr>\n",
       "    <tr>\n",
       "      <th>c</th>\n",
       "      <td>1.339759</td>\n",
       "      <td>1.788861</td>\n",
       "      <td>1.371098</td>\n",
       "      <td>1.635688</td>\n",
       "      <td>1.235639</td>\n",
       "    </tr>\n",
       "    <tr>\n",
       "      <th>d</th>\n",
       "      <td>1.305573</td>\n",
       "      <td>1.239135</td>\n",
       "      <td>1.185057</td>\n",
       "      <td>1.968995</td>\n",
       "      <td>1.538801</td>\n",
       "    </tr>\n",
       "  </tbody>\n",
       "</table>\n",
       "</div>"
      ],
      "text/plain": [
       "         c1        c2        c3        c4        c5\n",
       "a  1.774619  1.236447  1.879229  1.073653  1.724922\n",
       "b  1.931094  1.595232  1.048746  1.001396  1.206756\n",
       "c  1.339759  1.788861  1.371098  1.635688  1.235639\n",
       "d  1.305573  1.239135  1.185057  1.968995  1.538801"
      ]
     },
     "execution_count": 99,
     "metadata": {},
     "output_type": "execute_result"
    }
   ],
   "source": [
    "print(note := \" we can do the scalar operation on the dataframe\")\n",
    "print()\n",
    "some_df_1 = some_df + 1\n",
    "some_df_1"
   ]
  },
  {
   "cell_type": "code",
   "execution_count": 100,
   "metadata": {},
   "outputs": [
    {
     "name": "stdout",
     "output_type": "stream",
     "text": [
      " we can add two dataframes\n"
     ]
    },
    {
     "data": {
      "text/html": [
       "<div>\n",
       "<style scoped>\n",
       "    .dataframe tbody tr th:only-of-type {\n",
       "        vertical-align: middle;\n",
       "    }\n",
       "\n",
       "    .dataframe tbody tr th {\n",
       "        vertical-align: top;\n",
       "    }\n",
       "\n",
       "    .dataframe thead th {\n",
       "        text-align: right;\n",
       "    }\n",
       "</style>\n",
       "<table border=\"1\" class=\"dataframe\">\n",
       "  <thead>\n",
       "    <tr style=\"text-align: right;\">\n",
       "      <th></th>\n",
       "      <th>c1</th>\n",
       "      <th>c2</th>\n",
       "      <th>c3</th>\n",
       "      <th>c4</th>\n",
       "      <th>c5</th>\n",
       "    </tr>\n",
       "  </thead>\n",
       "  <tbody>\n",
       "    <tr>\n",
       "      <th>a</th>\n",
       "      <td>2.549239</td>\n",
       "      <td>1.472894</td>\n",
       "      <td>2.758458</td>\n",
       "      <td>1.147306</td>\n",
       "      <td>2.449843</td>\n",
       "    </tr>\n",
       "    <tr>\n",
       "      <th>b</th>\n",
       "      <td>2.862187</td>\n",
       "      <td>2.190463</td>\n",
       "      <td>1.097492</td>\n",
       "      <td>1.002791</td>\n",
       "      <td>1.413511</td>\n",
       "    </tr>\n",
       "    <tr>\n",
       "      <th>c</th>\n",
       "      <td>1.679519</td>\n",
       "      <td>2.577722</td>\n",
       "      <td>1.742195</td>\n",
       "      <td>2.271375</td>\n",
       "      <td>1.471278</td>\n",
       "    </tr>\n",
       "    <tr>\n",
       "      <th>d</th>\n",
       "      <td>1.611145</td>\n",
       "      <td>1.478269</td>\n",
       "      <td>1.370113</td>\n",
       "      <td>2.937990</td>\n",
       "      <td>2.077601</td>\n",
       "    </tr>\n",
       "  </tbody>\n",
       "</table>\n",
       "</div>"
      ],
      "text/plain": [
       "         c1        c2        c3        c4        c5\n",
       "a  2.549239  1.472894  2.758458  1.147306  2.449843\n",
       "b  2.862187  2.190463  1.097492  1.002791  1.413511\n",
       "c  1.679519  2.577722  1.742195  2.271375  1.471278\n",
       "d  1.611145  1.478269  1.370113  2.937990  2.077601"
      ]
     },
     "execution_count": 100,
     "metadata": {},
     "output_type": "execute_result"
    }
   ],
   "source": [
    "print(note := \" we can add two dataframes\")\n",
    "print()\n",
    "some_df_2 = some_df_1 + some_df\n",
    "some_df_2"
   ]
  },
  {
   "cell_type": "code",
   "execution_count": 101,
   "metadata": {},
   "outputs": [
    {
     "name": "stdout",
     "output_type": "stream",
     "text": [
      " if the row/col numners doesnt match than we shall see the NaN\n",
      " subset of row/col data shall be shown \n"
     ]
    },
    {
     "data": {
      "text/html": [
       "<div>\n",
       "<style scoped>\n",
       "    .dataframe tbody tr th:only-of-type {\n",
       "        vertical-align: middle;\n",
       "    }\n",
       "\n",
       "    .dataframe tbody tr th {\n",
       "        vertical-align: top;\n",
       "    }\n",
       "\n",
       "    .dataframe thead th {\n",
       "        text-align: right;\n",
       "    }\n",
       "</style>\n",
       "<table border=\"1\" class=\"dataframe\">\n",
       "  <thead>\n",
       "    <tr style=\"text-align: right;\">\n",
       "      <th></th>\n",
       "      <th>c1</th>\n",
       "      <th>c2</th>\n",
       "      <th>c3</th>\n",
       "      <th>c4</th>\n",
       "      <th>c5</th>\n",
       "    </tr>\n",
       "  </thead>\n",
       "  <tbody>\n",
       "    <tr>\n",
       "      <th>a</th>\n",
       "      <td>3.323858</td>\n",
       "      <td>1.709342</td>\n",
       "      <td>3.637687</td>\n",
       "      <td>1.220959</td>\n",
       "      <td>3.174765</td>\n",
       "    </tr>\n",
       "    <tr>\n",
       "      <th>b</th>\n",
       "      <td>NaN</td>\n",
       "      <td>NaN</td>\n",
       "      <td>NaN</td>\n",
       "      <td>NaN</td>\n",
       "      <td>NaN</td>\n",
       "    </tr>\n",
       "    <tr>\n",
       "      <th>c</th>\n",
       "      <td>NaN</td>\n",
       "      <td>NaN</td>\n",
       "      <td>NaN</td>\n",
       "      <td>NaN</td>\n",
       "      <td>NaN</td>\n",
       "    </tr>\n",
       "    <tr>\n",
       "      <th>d</th>\n",
       "      <td>NaN</td>\n",
       "      <td>NaN</td>\n",
       "      <td>NaN</td>\n",
       "      <td>NaN</td>\n",
       "      <td>NaN</td>\n",
       "    </tr>\n",
       "  </tbody>\n",
       "</table>\n",
       "</div>"
      ],
      "text/plain": [
       "         c1        c2        c3        c4        c5\n",
       "a  3.323858  1.709342  3.637687  1.220959  3.174765\n",
       "b       NaN       NaN       NaN       NaN       NaN\n",
       "c       NaN       NaN       NaN       NaN       NaN\n",
       "d       NaN       NaN       NaN       NaN       NaN"
      ]
     },
     "execution_count": 101,
     "metadata": {},
     "output_type": "execute_result"
    }
   ],
   "source": [
    "print(note := \" if the row/col numners doesnt match than we shall see the NaN\")\n",
    "print(note := \" subset of row/col data shall be shown \") \n",
    "print()\n",
    "some_df_2 + some_df[some_df['c3']>.5]"
   ]
  },
  {
   "cell_type": "code",
   "execution_count": 102,
   "metadata": {},
   "outputs": [
    {
     "name": "stdout",
     "output_type": "stream",
     "text": [
      "we can use the add function to fill some value instread of NaN\n"
     ]
    },
    {
     "data": {
      "text/html": [
       "<div>\n",
       "<style scoped>\n",
       "    .dataframe tbody tr th:only-of-type {\n",
       "        vertical-align: middle;\n",
       "    }\n",
       "\n",
       "    .dataframe tbody tr th {\n",
       "        vertical-align: top;\n",
       "    }\n",
       "\n",
       "    .dataframe thead th {\n",
       "        text-align: right;\n",
       "    }\n",
       "</style>\n",
       "<table border=\"1\" class=\"dataframe\">\n",
       "  <thead>\n",
       "    <tr style=\"text-align: right;\">\n",
       "      <th></th>\n",
       "      <th>c1</th>\n",
       "      <th>c2</th>\n",
       "      <th>c3</th>\n",
       "      <th>c4</th>\n",
       "      <th>c5</th>\n",
       "    </tr>\n",
       "  </thead>\n",
       "  <tbody>\n",
       "    <tr>\n",
       "      <th>a</th>\n",
       "      <td>3.323858</td>\n",
       "      <td>1.709342</td>\n",
       "      <td>3.637687</td>\n",
       "      <td>1.220959</td>\n",
       "      <td>3.174765</td>\n",
       "    </tr>\n",
       "    <tr>\n",
       "      <th>b</th>\n",
       "      <td>2.862187</td>\n",
       "      <td>2.190463</td>\n",
       "      <td>1.097492</td>\n",
       "      <td>1.002791</td>\n",
       "      <td>1.413511</td>\n",
       "    </tr>\n",
       "    <tr>\n",
       "      <th>c</th>\n",
       "      <td>1.679519</td>\n",
       "      <td>2.577722</td>\n",
       "      <td>1.742195</td>\n",
       "      <td>2.271375</td>\n",
       "      <td>1.471278</td>\n",
       "    </tr>\n",
       "    <tr>\n",
       "      <th>d</th>\n",
       "      <td>1.611145</td>\n",
       "      <td>1.478269</td>\n",
       "      <td>1.370113</td>\n",
       "      <td>2.937990</td>\n",
       "      <td>2.077601</td>\n",
       "    </tr>\n",
       "  </tbody>\n",
       "</table>\n",
       "</div>"
      ],
      "text/plain": [
       "         c1        c2        c3        c4        c5\n",
       "a  3.323858  1.709342  3.637687  1.220959  3.174765\n",
       "b  2.862187  2.190463  1.097492  1.002791  1.413511\n",
       "c  1.679519  2.577722  1.742195  2.271375  1.471278\n",
       "d  1.611145  1.478269  1.370113  2.937990  2.077601"
      ]
     },
     "execution_count": 102,
     "metadata": {},
     "output_type": "execute_result"
    }
   ],
   "source": [
    "print(note := \"we can use the add function to fill some value instread of NaN\")\n",
    "print()\n",
    "some_df_2.add(some_df[some_df['c3']>.5], fill_value='0')"
   ]
  },
  {
   "cell_type": "code",
   "execution_count": 103,
   "metadata": {},
   "outputs": [
    {
     "name": "stdout",
     "output_type": "stream",
     "text": [
      "we can use the loc to get the particular row\n"
     ]
    },
    {
     "data": {
      "text/plain": [
       "c1    2.549239\n",
       "c2    1.472894\n",
       "c3    2.758458\n",
       "c4    1.147306\n",
       "c5    2.449843\n",
       "Name: a, dtype: float64"
      ]
     },
     "execution_count": 103,
     "metadata": {},
     "output_type": "execute_result"
    }
   ],
   "source": [
    "print(note := \"we can use the loc to get the particular row\")\n",
    "print()\n",
    "x = some_df_2.loc['a']\n",
    "x"
   ]
  },
  {
   "cell_type": "code",
   "execution_count": 104,
   "metadata": {},
   "outputs": [
    {
     "name": "stdout",
     "output_type": "stream",
     "text": [
      "we can do operation like addition, substraction etc between dataFrame and Series\n",
      "the value of series shall be deducted from every row\n"
     ]
    },
    {
     "data": {
      "text/html": [
       "<div>\n",
       "<style scoped>\n",
       "    .dataframe tbody tr th:only-of-type {\n",
       "        vertical-align: middle;\n",
       "    }\n",
       "\n",
       "    .dataframe tbody tr th {\n",
       "        vertical-align: top;\n",
       "    }\n",
       "\n",
       "    .dataframe thead th {\n",
       "        text-align: right;\n",
       "    }\n",
       "</style>\n",
       "<table border=\"1\" class=\"dataframe\">\n",
       "  <thead>\n",
       "    <tr style=\"text-align: right;\">\n",
       "      <th></th>\n",
       "      <th>c1</th>\n",
       "      <th>c2</th>\n",
       "      <th>c3</th>\n",
       "      <th>c4</th>\n",
       "      <th>c5</th>\n",
       "    </tr>\n",
       "  </thead>\n",
       "  <tbody>\n",
       "    <tr>\n",
       "      <th>a</th>\n",
       "      <td>0.000000</td>\n",
       "      <td>0.000000</td>\n",
       "      <td>0.000000</td>\n",
       "      <td>0.000000</td>\n",
       "      <td>0.000000</td>\n",
       "    </tr>\n",
       "    <tr>\n",
       "      <th>b</th>\n",
       "      <td>0.312949</td>\n",
       "      <td>0.717569</td>\n",
       "      <td>-1.660966</td>\n",
       "      <td>-0.144515</td>\n",
       "      <td>-1.036332</td>\n",
       "    </tr>\n",
       "    <tr>\n",
       "      <th>c</th>\n",
       "      <td>-0.869720</td>\n",
       "      <td>1.104827</td>\n",
       "      <td>-1.016263</td>\n",
       "      <td>1.124069</td>\n",
       "      <td>-0.978565</td>\n",
       "    </tr>\n",
       "    <tr>\n",
       "      <th>d</th>\n",
       "      <td>-0.938094</td>\n",
       "      <td>0.005375</td>\n",
       "      <td>-1.388345</td>\n",
       "      <td>1.790684</td>\n",
       "      <td>-0.372242</td>\n",
       "    </tr>\n",
       "  </tbody>\n",
       "</table>\n",
       "</div>"
      ],
      "text/plain": [
       "         c1        c2        c3        c4        c5\n",
       "a  0.000000  0.000000  0.000000  0.000000  0.000000\n",
       "b  0.312949  0.717569 -1.660966 -0.144515 -1.036332\n",
       "c -0.869720  1.104827 -1.016263  1.124069 -0.978565\n",
       "d -0.938094  0.005375 -1.388345  1.790684 -0.372242"
      ]
     },
     "execution_count": 104,
     "metadata": {},
     "output_type": "execute_result"
    }
   ],
   "source": [
    "print(note := \"we can do operation like addition, substraction etc between dataFrame and Series\")\n",
    "print()\n",
    "print(note := \"the value of series shall be deducted from every row\")\n",
    "print()\n",
    "some_df_2 - x"
   ]
  },
  {
   "cell_type": "code",
   "execution_count": 105,
   "metadata": {},
   "outputs": [
    {
     "data": {
      "text/html": [
       "<div>\n",
       "<style scoped>\n",
       "    .dataframe tbody tr th:only-of-type {\n",
       "        vertical-align: middle;\n",
       "    }\n",
       "\n",
       "    .dataframe tbody tr th {\n",
       "        vertical-align: top;\n",
       "    }\n",
       "\n",
       "    .dataframe thead th {\n",
       "        text-align: right;\n",
       "    }\n",
       "</style>\n",
       "<table border=\"1\" class=\"dataframe\">\n",
       "  <thead>\n",
       "    <tr style=\"text-align: right;\">\n",
       "      <th></th>\n",
       "      <th>c1</th>\n",
       "      <th>c2</th>\n",
       "      <th>c3</th>\n",
       "      <th>c4</th>\n",
       "      <th>c5</th>\n",
       "    </tr>\n",
       "  </thead>\n",
       "  <tbody>\n",
       "    <tr>\n",
       "      <th>a</th>\n",
       "      <td>0</td>\n",
       "      <td>1</td>\n",
       "      <td>2</td>\n",
       "      <td>3</td>\n",
       "      <td>4</td>\n",
       "    </tr>\n",
       "    <tr>\n",
       "      <th>b</th>\n",
       "      <td>5</td>\n",
       "      <td>6</td>\n",
       "      <td>7</td>\n",
       "      <td>8</td>\n",
       "      <td>9</td>\n",
       "    </tr>\n",
       "    <tr>\n",
       "      <th>c</th>\n",
       "      <td>10</td>\n",
       "      <td>11</td>\n",
       "      <td>12</td>\n",
       "      <td>13</td>\n",
       "      <td>14</td>\n",
       "    </tr>\n",
       "    <tr>\n",
       "      <th>d</th>\n",
       "      <td>15</td>\n",
       "      <td>16</td>\n",
       "      <td>17</td>\n",
       "      <td>18</td>\n",
       "      <td>19</td>\n",
       "    </tr>\n",
       "    <tr>\n",
       "      <th>e</th>\n",
       "      <td>20</td>\n",
       "      <td>21</td>\n",
       "      <td>22</td>\n",
       "      <td>23</td>\n",
       "      <td>24</td>\n",
       "    </tr>\n",
       "    <tr>\n",
       "      <th>f</th>\n",
       "      <td>25</td>\n",
       "      <td>26</td>\n",
       "      <td>27</td>\n",
       "      <td>28</td>\n",
       "      <td>29</td>\n",
       "    </tr>\n",
       "  </tbody>\n",
       "</table>\n",
       "</div>"
      ],
      "text/plain": [
       "   c1  c2  c3  c4  c5\n",
       "a   0   1   2   3   4\n",
       "b   5   6   7   8   9\n",
       "c  10  11  12  13  14\n",
       "d  15  16  17  18  19\n",
       "e  20  21  22  23  24\n",
       "f  25  26  27  28  29"
      ]
     },
     "execution_count": 105,
     "metadata": {},
     "output_type": "execute_result"
    }
   ],
   "source": [
    "new_df = pd.DataFrame(np.arange(30).reshape(6,5), index=['a','b','c','d','e','f'], columns=['c1','c2','c3','c4','c5'])\n",
    "new_df"
   ]
  },
  {
   "cell_type": "code",
   "execution_count": 106,
   "metadata": {},
   "outputs": [
    {
     "name": "stdout",
     "output_type": "stream",
     "text": [
      "pandas supports sum operation\n",
      "default behaviour is to sum all the cols\n"
     ]
    },
    {
     "data": {
      "text/plain": [
       "c1    75\n",
       "c2    81\n",
       "c3    87\n",
       "c4    93\n",
       "c5    99\n",
       "dtype: int64"
      ]
     },
     "execution_count": 106,
     "metadata": {},
     "output_type": "execute_result"
    }
   ],
   "source": [
    "print(note := \"pandas supports sum operation\")\n",
    "print(note := \"default behaviour is to sum all the cols\")\n",
    "print()\n",
    "new_df.sum()"
   ]
  },
  {
   "cell_type": "code",
   "execution_count": 107,
   "metadata": {},
   "outputs": [
    {
     "name": "stdout",
     "output_type": "stream",
     "text": [
      "we can specify the axis as 1 to do sum based on rows\n"
     ]
    },
    {
     "data": {
      "text/plain": [
       "a     10\n",
       "b     35\n",
       "c     60\n",
       "d     85\n",
       "e    110\n",
       "f    135\n",
       "dtype: int64"
      ]
     },
     "execution_count": 107,
     "metadata": {},
     "output_type": "execute_result"
    }
   ],
   "source": [
    "print(note := \"we can specify the axis as 1 to do sum based on rows\")\n",
    "print()\n",
    "new_df.sum(axis=1)"
   ]
  },
  {
   "cell_type": "code",
   "execution_count": 108,
   "metadata": {},
   "outputs": [
    {
     "name": "stdout",
     "output_type": "stream",
     "text": [
      "we can pass the axis to get min of each row, here we using default\n"
     ]
    },
    {
     "data": {
      "text/plain": [
       "c1    0\n",
       "c2    1\n",
       "c3    2\n",
       "c4    3\n",
       "c5    4\n",
       "dtype: int64"
      ]
     },
     "execution_count": 108,
     "metadata": {},
     "output_type": "execute_result"
    }
   ],
   "source": [
    "print(note := \"we can pass the axis to get min of each row, here we using default\")\n",
    "print()\n",
    "new_df.min()"
   ]
  },
  {
   "cell_type": "code",
   "execution_count": 109,
   "metadata": {},
   "outputs": [
    {
     "name": "stdout",
     "output_type": "stream",
     "text": [
      "we can also get the max values\n"
     ]
    },
    {
     "data": {
      "text/plain": [
       "a     4\n",
       "b     9\n",
       "c    14\n",
       "d    19\n",
       "e    24\n",
       "f    29\n",
       "dtype: int64"
      ]
     },
     "execution_count": 109,
     "metadata": {},
     "output_type": "execute_result"
    }
   ],
   "source": [
    "print(note := \"we can also get the max values\")\n",
    "print()\n",
    "new_df.max(axis=1)"
   ]
  },
  {
   "cell_type": "code",
   "execution_count": 110,
   "metadata": {},
   "outputs": [
    {
     "name": "stdout",
     "output_type": "stream",
     "text": [
      "we can get the index information for the minimum value\n"
     ]
    },
    {
     "data": {
      "text/plain": [
       "c1    a\n",
       "c2    a\n",
       "c3    a\n",
       "c4    a\n",
       "c5    a\n",
       "dtype: object"
      ]
     },
     "execution_count": 110,
     "metadata": {},
     "output_type": "execute_result"
    }
   ],
   "source": [
    "print(note := \"we can get the index information for the minimum value\")\n",
    "print()\n",
    "new_df.idxmin()"
   ]
  },
  {
   "cell_type": "code",
   "execution_count": 111,
   "metadata": {},
   "outputs": [
    {
     "name": "stdout",
     "output_type": "stream",
     "text": [
      "we can get the index information for the max values\n"
     ]
    },
    {
     "data": {
      "text/plain": [
       "a    c5\n",
       "b    c5\n",
       "c    c5\n",
       "d    c5\n",
       "e    c5\n",
       "f    c5\n",
       "dtype: object"
      ]
     },
     "execution_count": 111,
     "metadata": {},
     "output_type": "execute_result"
    }
   ],
   "source": [
    "print(note := \"we can get the index information for the max values\")\n",
    "print()\n",
    "new_df.idxmax(axis=1)"
   ]
  },
  {
   "cell_type": "code",
   "execution_count": 112,
   "metadata": {},
   "outputs": [
    {
     "data": {
      "text/plain": [
       "c1    9.354143\n",
       "c2    9.354143\n",
       "c3    9.354143\n",
       "c4    9.354143\n",
       "c5    9.354143\n",
       "dtype: float64"
      ]
     },
     "execution_count": 112,
     "metadata": {},
     "output_type": "execute_result"
    }
   ],
   "source": [
    "new_df.std()"
   ]
  },
  {
   "cell_type": "code",
   "execution_count": 113,
   "metadata": {},
   "outputs": [
    {
     "name": "stdout",
     "output_type": "stream",
     "text": [
      "pandas also has a descrive function, which shows us some basic statistic information about the dataframe\n"
     ]
    },
    {
     "data": {
      "text/html": [
       "<div>\n",
       "<style scoped>\n",
       "    .dataframe tbody tr th:only-of-type {\n",
       "        vertical-align: middle;\n",
       "    }\n",
       "\n",
       "    .dataframe tbody tr th {\n",
       "        vertical-align: top;\n",
       "    }\n",
       "\n",
       "    .dataframe thead th {\n",
       "        text-align: right;\n",
       "    }\n",
       "</style>\n",
       "<table border=\"1\" class=\"dataframe\">\n",
       "  <thead>\n",
       "    <tr style=\"text-align: right;\">\n",
       "      <th></th>\n",
       "      <th>c1</th>\n",
       "      <th>c2</th>\n",
       "      <th>c3</th>\n",
       "      <th>c4</th>\n",
       "      <th>c5</th>\n",
       "    </tr>\n",
       "  </thead>\n",
       "  <tbody>\n",
       "    <tr>\n",
       "      <th>count</th>\n",
       "      <td>6.000000</td>\n",
       "      <td>6.000000</td>\n",
       "      <td>6.000000</td>\n",
       "      <td>6.000000</td>\n",
       "      <td>6.000000</td>\n",
       "    </tr>\n",
       "    <tr>\n",
       "      <th>mean</th>\n",
       "      <td>12.500000</td>\n",
       "      <td>13.500000</td>\n",
       "      <td>14.500000</td>\n",
       "      <td>15.500000</td>\n",
       "      <td>16.500000</td>\n",
       "    </tr>\n",
       "    <tr>\n",
       "      <th>std</th>\n",
       "      <td>9.354143</td>\n",
       "      <td>9.354143</td>\n",
       "      <td>9.354143</td>\n",
       "      <td>9.354143</td>\n",
       "      <td>9.354143</td>\n",
       "    </tr>\n",
       "    <tr>\n",
       "      <th>min</th>\n",
       "      <td>0.000000</td>\n",
       "      <td>1.000000</td>\n",
       "      <td>2.000000</td>\n",
       "      <td>3.000000</td>\n",
       "      <td>4.000000</td>\n",
       "    </tr>\n",
       "    <tr>\n",
       "      <th>25%</th>\n",
       "      <td>6.250000</td>\n",
       "      <td>7.250000</td>\n",
       "      <td>8.250000</td>\n",
       "      <td>9.250000</td>\n",
       "      <td>10.250000</td>\n",
       "    </tr>\n",
       "    <tr>\n",
       "      <th>50%</th>\n",
       "      <td>12.500000</td>\n",
       "      <td>13.500000</td>\n",
       "      <td>14.500000</td>\n",
       "      <td>15.500000</td>\n",
       "      <td>16.500000</td>\n",
       "    </tr>\n",
       "    <tr>\n",
       "      <th>75%</th>\n",
       "      <td>18.750000</td>\n",
       "      <td>19.750000</td>\n",
       "      <td>20.750000</td>\n",
       "      <td>21.750000</td>\n",
       "      <td>22.750000</td>\n",
       "    </tr>\n",
       "    <tr>\n",
       "      <th>max</th>\n",
       "      <td>25.000000</td>\n",
       "      <td>26.000000</td>\n",
       "      <td>27.000000</td>\n",
       "      <td>28.000000</td>\n",
       "      <td>29.000000</td>\n",
       "    </tr>\n",
       "  </tbody>\n",
       "</table>\n",
       "</div>"
      ],
      "text/plain": [
       "              c1         c2         c3         c4         c5\n",
       "count   6.000000   6.000000   6.000000   6.000000   6.000000\n",
       "mean   12.500000  13.500000  14.500000  15.500000  16.500000\n",
       "std     9.354143   9.354143   9.354143   9.354143   9.354143\n",
       "min     0.000000   1.000000   2.000000   3.000000   4.000000\n",
       "25%     6.250000   7.250000   8.250000   9.250000  10.250000\n",
       "50%    12.500000  13.500000  14.500000  15.500000  16.500000\n",
       "75%    18.750000  19.750000  20.750000  21.750000  22.750000\n",
       "max    25.000000  26.000000  27.000000  28.000000  29.000000"
      ]
     },
     "execution_count": 113,
     "metadata": {},
     "output_type": "execute_result"
    }
   ],
   "source": [
    "print(note := \"pandas also has a descrive function, which shows us some basic statistic information about the dataframe\")\n",
    "print()\n",
    "new_df.describe()"
   ]
  },
  {
   "cell_type": "markdown",
   "metadata": {},
   "source": [
    "# That's all folks !!!"
   ]
  },
  {
   "cell_type": "code",
   "execution_count": null,
   "metadata": {},
   "outputs": [],
   "source": [
    "print(note := \"we started with numpy basics\")\n",
    "print(note := \"we learned about pandas dataframe and pandas series\")\n",
    "print(note := \"in next session we will work on ukbb csv data and apply our learning from this session\")"
   ]
  }
 ],
 "metadata": {
  "kernelspec": {
   "display_name": "Python 3",
   "language": "python",
   "name": "python3"
  },
  "language_info": {
   "codemirror_mode": {
    "name": "ipython",
    "version": 3
   },
   "file_extension": ".py",
   "mimetype": "text/x-python",
   "name": "python",
   "nbconvert_exporter": "python",
   "pygments_lexer": "ipython3",
   "version": "3.9.0"
  }
 },
 "nbformat": 4,
 "nbformat_minor": 4
}
