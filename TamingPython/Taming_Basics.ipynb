{
 "cells": [
  {
   "cell_type": "code",
   "execution_count": 1,
   "metadata": {},
   "outputs": [
    {
     "name": "stdout",
     "output_type": "stream",
     "text": [
      "Hello World!!\n",
      "Hello World!!\n",
      "\n",
      "We are using python with version as  3.9.0\n"
     ]
    }
   ],
   "source": [
    "print(note := \"Hello World!!\")\n",
    "# we will use/abuse walrus operator \n",
    "print(note)\n",
    "print()\n",
    "import platform\n",
    "print(note := \"We are using python with version as \" , platform.python_version())\n"
   ]
  },
  {
   "cell_type": "markdown",
   "metadata": {},
   "source": [
    "## Conditional "
   ]
  },
  {
   "cell_type": "code",
   "execution_count": 42,
   "metadata": {},
   "outputs": [
    {
     "name": "stdout",
     "output_type": "stream",
     "text": [
      "python has support for conditional construct via if-elif-else and ternary operator\n",
      "lets create three objects\n",
      "1\n",
      "2\n",
      "3\n",
      "we know the type of above object, they should be int\n",
      "<class 'int'> <class 'int'> <class 'int'>\n"
     ]
    }
   ],
   "source": [
    "print(note := 'python has support for conditional construct via if-elif-else and ternary operator')\n",
    "\n",
    "print(note := 'lets create three objects')\n",
    "print(one := 1)\n",
    "print(two := 2)\n",
    "print(three := 3)\n",
    "\n",
    "print(note := \"we know the type of above object, they should be int\")\n",
    "print(type(one),type(two),type(three))"
   ]
  },
  {
   "cell_type": "code",
   "execution_count": 3,
   "metadata": {},
   "outputs": [
    {
     "name": "stdout",
     "output_type": "stream",
     "text": [
      "lets compare the above objects via simple if/else conditional\n",
      "two is greater than one\n"
     ]
    }
   ],
   "source": [
    "print(note := 'lets compare the above objects via simple if/else conditional')\n",
    "if two > one:\n",
    "    print(note := 'two is greater than one')\n",
    "else:\n",
    "    print(note := 'two is smaller or equal to one')\n",
    "\n",
    "\n"
   ]
  },
  {
   "cell_type": "code",
   "execution_count": 4,
   "metadata": {},
   "outputs": [
    {
     "name": "stdout",
     "output_type": "stream",
     "text": [
      "we can also nest the if-else conditional\n",
      "two is greater than one\n",
      "three is greater than two\n"
     ]
    }
   ],
   "source": [
    "print(note := 'we can also nest the if-else conditional')\n",
    "\n",
    "if two > one:\n",
    "    print(note := 'two is greater than one')\n",
    "    if three > two:\n",
    "        print(note := 'three is greater than two')\n",
    "    else:\n",
    "        print(note := 'three is smaller or equal to two')\n",
    "else:\n",
    "    print(note := 'two is smaller or equal to one')\n",
    "\n"
   ]
  },
  {
   "cell_type": "code",
   "execution_count": 5,
   "metadata": {},
   "outputs": [
    {
     "name": "stdout",
     "output_type": "stream",
     "text": [
      "we can change the above nested if else to elif conditional\n",
      "two is greater than one\n",
      "three is greater than two\n"
     ]
    }
   ],
   "source": [
    "print(note := 'we can change the above nested if else to elif conditional')\n",
    "\n",
    "if two <= one:\n",
    "    print(note := 'two is smaller or equal to one')\n",
    "elif three <= two:\n",
    "    print(note := 'three is smaller or equal to two')\n",
    "else:\n",
    "    print(note := 'two is greater than one')\n",
    "    print(note := 'three is greater than two')\n",
    "\n"
   ]
  },
  {
   "cell_type": "code",
   "execution_count": 44,
   "metadata": {},
   "outputs": [
    {
     "name": "stdout",
     "output_type": "stream",
     "text": [
      "we can also use the logicial operators like and, or, not\n",
      "before we use them just have a quick look at them\n",
      "\n",
      "And is only true when both values are true\n",
      "True\n",
      "False\n",
      "False\n",
      "False\n",
      "\n",
      "or is only false when both values are false\n",
      "True\n",
      "True\n",
      "True\n",
      "False\n",
      "\n",
      "not will reverse the result\n",
      "False\n",
      "True\n",
      "\n",
      "the above result matches the truth tables\n"
     ]
    }
   ],
   "source": [
    "print(note := \"we can also use the logicial operators like and, or, not\")\n",
    "print(note := \"before we use them just have a quick look at them\")\n",
    "print()\n",
    "\n",
    "print(note := \"And is only true when both values are true\")\n",
    "print(True and True)\n",
    "print(True and False)\n",
    "print(False and True)\n",
    "print(False and False)\n",
    "print()\n",
    "\n",
    "print(note := \"or is only false when both values are false\")\n",
    "print(True or True)\n",
    "print(True or False)\n",
    "print(False or True)\n",
    "print(False or False)\n",
    "print()\n",
    "\n",
    "print(note := \"not will reverse the result\")\n",
    "print(not (True or True))\n",
    "print(not (True and False))\n",
    "print()\n",
    "\n",
    "print(note:= \"the above result matches the truth tables\")\n",
    "\n",
    "\n"
   ]
  },
  {
   "cell_type": "code",
   "execution_count": 45,
   "metadata": {},
   "outputs": [
    {
     "name": "stdout",
     "output_type": "stream",
     "text": [
      "but there is a dirty, or rather beautiful, secret in world of python!!!\n",
      "\n",
      "For and python returns the first value if it evaluates to false, otherwise it returns the second value.\n",
      "None\n",
      "True\n",
      "{}\n",
      "None\n",
      "\n",
      "For or python returns the first value if it evaluates to true, otherwise it returns the second value.\n",
      "true\n",
      "false\n",
      "['0']\n",
      "[]\n",
      "\n"
     ]
    }
   ],
   "source": [
    "print(note:= \"but there is a dirty, or rather beautiful, secret in world of python!!!\")\n",
    "print()\n",
    "# remember from previous lessons ?\n",
    "# that only empty string is False\n",
    "# and None is False \n",
    "# empty data structures are false \n",
    "print(note:= \"For and python returns the first value if it evaluates to false, \\\n",
    "otherwise it returns the second value.\")\n",
    "# f and t\n",
    "print(None and 'true')\n",
    "# t and t\n",
    "print('false' and True)\n",
    "# f and t \n",
    "print({} and ['0'])\n",
    "# f and f\n",
    "print(None and [])\n",
    "print()\n",
    "\n",
    "print(note:= \"For or python returns the first value if it evaluates to true, \\\n",
    "otherwise it returns the second value.\")\n",
    "# f or t\n",
    "print(None or 'true')\n",
    "# t or t\n",
    "print('false' or True)\n",
    "# f or t \n",
    "print({} or ['0'])\n",
    "# f or f \n",
    "print(None or [])\n",
    "print()"
   ]
  },
  {
   "cell_type": "code",
   "execution_count": 46,
   "metadata": {},
   "outputs": [
    {
     "name": "stdout",
     "output_type": "stream",
     "text": [
      "two is greater than one\n",
      "three is greater than two\n",
      "\n",
      "one is smaller than either two or three\n",
      "\n",
      "two is greater than one\n",
      "three is greater than two\n"
     ]
    }
   ],
   "source": [
    "# we can also do round brackets around the conditions \n",
    "# sometimes that makes the code easier to read \n",
    "# this is personal choice\n",
    "if two>one and three>two:\n",
    "    print(note := 'two is greater than one')\n",
    "    print(note := 'three is greater than two')\n",
    "else:\n",
    "    print(note := 'two is smaller or equal to one')\n",
    "    print(note := 'three is smaller or equal to two')\n",
    "\n",
    "print()\n",
    "\n",
    "if (one < two) or (one < three) :\n",
    "    print(note:='one is smaller than either two or three')\n",
    "elif (one < two) and (one < three):\n",
    "    print(note:='one is smaller than both two or three')\n",
    "else:\n",
    "    print(note := \"one is the greatest!!!\")\n",
    "\n",
    "print()\n",
    "\n",
    "if not(two<one and three<one):\n",
    "    print(note := 'two is greater than one')\n",
    "    print(note := 'three is greater than two')\n",
    "\n",
    "\n",
    "    "
   ]
  },
  {
   "cell_type": "code",
   "execution_count": 8,
   "metadata": {},
   "outputs": [
    {
     "name": "stdout",
     "output_type": "stream",
     "text": [
      "if i could teach you only one thing about python than itwould be that everything is an object in the world of python\n",
      "int values are also object created from class objects\n",
      "type of above object are\n",
      "\n",
      "<class 'int'>\n",
      "<class 'int'>\n",
      "<class 'int'>\n",
      "\n",
      "['__abs__', '__add__', '__and__', '__bool__', '__ceil__', '__class__', '__delattr__', '__dir__', '__divmod__', '__doc__', '__eq__', '__float__', '__floor__', '__floordiv__', '__format__', '__ge__', '__getattribute__', '__getnewargs__', '__gt__', '__hash__', '__index__', '__init__', '__init_subclass__', '__int__', '__invert__', '__le__', '__lshift__', '__lt__', '__mod__', '__mul__', '__ne__', '__neg__', '__new__', '__or__', '__pos__', '__pow__', '__radd__', '__rand__', '__rdivmod__', '__reduce__', '__reduce_ex__', '__repr__', '__rfloordiv__', '__rlshift__', '__rmod__', '__rmul__', '__ror__', '__round__', '__rpow__', '__rrshift__', '__rshift__', '__rsub__', '__rtruediv__', '__rxor__', '__setattr__', '__sizeof__', '__str__', '__sub__', '__subclasshook__', '__truediv__', '__trunc__', '__xor__', 'as_integer_ratio', 'bit_length', 'conjugate', 'denominator', 'from_bytes', 'imag', 'numerator', 'real', 'to_bytes']\n"
     ]
    }
   ],
   "source": [
    "print(note := 'if i could teach you only one thing about python than it\\\n",
    "would be that everything is an object in the world of python')\n",
    "print(note := 'int values are also object created from class objects')\n",
    "print(note := 'type of above object are')\n",
    "print()\n",
    "print(note := type(one))\n",
    "print(note := type(two))\n",
    "print(note := type(three))\n",
    "print()\n",
    "print(dir(int))"
   ]
  },
  {
   "cell_type": "code",
   "execution_count": 9,
   "metadata": {},
   "outputs": [
    {
     "name": "stdout",
     "output_type": "stream",
     "text": [
      "for standard types python creates lots of internal functions which are mapped to different operations\n",
      "\n",
      "False\n",
      "True\n",
      "so if you create your own custom class you can add __le__ functionto it so that one can use '<=' operator with objects of those class\n",
      "\n",
      "True\n",
      "False\n",
      "add __lt__ function so that one can use '<' operator with objects of those class\n",
      "\n",
      "True\n",
      "False\n",
      "add __gt__ function so that one can use '>' operator with objects of those class\n",
      "\n",
      "True\n",
      "True\n",
      "add __gt__ function so that one can use '>=' operator with objects of those class\n",
      "\n",
      "True\n",
      "False\n",
      "add __ne__ function so that one can use '!=' operator with objects of those class\n",
      "\n",
      "True\n",
      "False\n",
      "add __eq__ function so that one can use '==' operator with objects of those class\n",
      "\n"
     ]
    }
   ],
   "source": [
    "print(note := 'for standard types python creates lots of internal functions \\\n",
    "which are mapped to different operations')\n",
    "print()\n",
    "\n",
    "print(two.__le__(1))\n",
    "print(two.__le__(2))\n",
    "print(note := \"so if you create your own custom class you can add __le__ function\\\n",
    "to it so that one can use '<=' operator with objects of those class\")\n",
    "print()\n",
    "\n",
    "print(two.__lt__(three))\n",
    "print(two.__lt__(two))\n",
    "print(note := \"add __lt__ function so that one can use '<' operator with objects of those class\")\n",
    "print()\n",
    "\n",
    "print(three.__gt__(two))\n",
    "print(one.__gt__(two))\n",
    "print(note := \"add __gt__ function so that one can use '>' operator with objects of those class\")\n",
    "print()\n",
    "\n",
    "print(three.__ge__(int('1')))\n",
    "print(one.__ge__(int('1')))\n",
    "print(note := \"add __gt__ function so that one can use '>=' operator with objects of those class\")\n",
    "print()\n",
    "\n",
    "print(int(2.0).__ne__(three))\n",
    "print(int(3.0).__ne__(three))\n",
    "print(note := \"add __ne__ function so that one can use '!=' operator with objects of those class\")\n",
    "print()\n",
    "\n",
    "print(int('2').__eq__(two))\n",
    "print(two.__eq__(one))\n",
    "print(note := \"add __eq__ function so that one can use '==' operator with objects of those class\")\n",
    "print()\n"
   ]
  },
  {
   "cell_type": "code",
   "execution_count": 10,
   "metadata": {},
   "outputs": [
    {
     "name": "stdout",
     "output_type": "stream",
     "text": [
      "when we apply one operator after another, its basically calling respective functions in order\n",
      "True\n",
      "\n",
      "True\n",
      "\n",
      "True\n",
      "\n",
      "True\n",
      "\n"
     ]
    }
   ],
   "source": [
    "print(note := \"when we apply one operator after another, its basically calling respective functions in order\")\n",
    "assert three == one + two \n",
    "print(three.__eq__(one.__add__(two)))\n",
    "print()\n",
    "\n",
    "assert one == three - two \n",
    "print(one.__eq__(three.__sub__(two)))\n",
    "print()\n",
    "\n",
    "assert three == two*two - one\n",
    "print(three.__eq__(two.__mul__(two).__sub__(one)))\n",
    "print()\n",
    "\n",
    "assert one == (three*two - two*two)/two \n",
    "print(one.__eq__((three.__mul__(two).__sub__(two.__mul__(two))).__floordiv__(two)))\n",
    "print()\n"
   ]
  },
  {
   "cell_type": "code",
   "execution_count": 11,
   "metadata": {},
   "outputs": [
    {
     "name": "stdout",
     "output_type": "stream",
     "text": [
      "python also supports \"X if (condition) else Y\" \n",
      "two is greater than one\n",
      "\n",
      "two is smaller than three\n"
     ]
    }
   ],
   "source": [
    "print(note := 'python also supports \"X if (condition) else Y\" ')\n",
    "print(note := 'two is greater than one') if (two > one) else print(note := 'two is smaller or equal to one')\n",
    "print()\n",
    "print(note := 'two is smaller than three') if (two < three) else print(note := 'two is greater than three')\n"
   ]
  },
  {
   "cell_type": "markdown",
   "metadata": {},
   "source": [
    "## loop "
   ]
  },
  {
   "cell_type": "code",
   "execution_count": 12,
   "metadata": {},
   "outputs": [
    {
     "name": "stdout",
     "output_type": "stream",
     "text": [
      "\"This is an Object\"\n",
      "We can use \"id(object)\" to get memory address of object\n",
      "0x7fe1f0b8a490\n",
      "\n",
      "<class 'str'>\n",
      "\n",
      "doing dir on object is a good habit, it will always teach to something about that object\n",
      "['__add__', '__class__', '__contains__', '__delattr__', '__dir__', '__doc__', '__eq__', '__format__', '__ge__', '__getattribute__', '__getitem__', '__getnewargs__', '__gt__', '__hash__', '__init__', '__init_subclass__', '__iter__', '__le__', '__len__', '__lt__', '__mod__', '__mul__', '__ne__', '__new__', '__reduce__', '__reduce_ex__', '__repr__', '__rmod__', '__rmul__', '__setattr__', '__sizeof__', '__str__', '__subclasshook__', 'capitalize', 'casefold', 'center', 'count', 'encode', 'endswith', 'expandtabs', 'find', 'format', 'format_map', 'index', 'isalnum', 'isalpha', 'isascii', 'isdecimal', 'isdigit', 'isidentifier', 'islower', 'isnumeric', 'isprintable', 'isspace', 'istitle', 'isupper', 'join', 'ljust', 'lower', 'lstrip', 'maketrans', 'partition', 'removeprefix', 'removesuffix', 'replace', 'rfind', 'rindex', 'rjust', 'rpartition', 'rsplit', 'rstrip', 'split', 'splitlines', 'startswith', 'strip', 'swapcase', 'title', 'translate', 'upper', 'zfill']\n"
     ]
    }
   ],
   "source": [
    "# notice the play of doubles quotes and single quotes \n",
    "print(someobject := '\"This is an Object\"')\n",
    "\n",
    "print(note := 'We can use \"id(object)\" to get memory address of object')\n",
    "# hex will returns the result in hexadecimal \n",
    "print(add_obj := hex(id(someobject)))\n",
    "print()\n",
    "print(type(someobject))\n",
    "print()\n",
    "print(note := \"doing dir on object is a good habit, it will always teach to something about that object\")\n",
    "print(dir(str))"
   ]
  },
  {
   "cell_type": "code",
   "execution_count": 13,
   "metadata": {},
   "outputs": [
    {
     "name": "stdout",
     "output_type": "stream",
     "text": [
      "We can use \"len(object)\" to detect length in python\n",
      "19\n"
     ]
    }
   ],
   "source": [
    "print(note := 'We can use \"len(object)\" to detect length in python')\n",
    "print(len_object := len(someobject))\n",
    "# why does the below line works ? because len function calls/maps to __len__ method\n",
    "# we shall look at this thing in more detail later\n",
    "# assert can be used to ensure expected state in a program\n",
    "assert len(someobject) == someobject.__len__()\n"
   ]
  },
  {
   "cell_type": "code",
   "execution_count": 14,
   "metadata": {},
   "outputs": [
    {
     "name": "stdout",
     "output_type": "stream",
     "text": [
      "length in python is of type\n",
      "<class 'int'>\n",
      "\n",
      "('below for loop shall print one value at a time of the object ', '\"This is an Object\"', ' that has total length of ', 19)\n",
      "\" - T - h - i - s -   - i - s -   - a - n -   - O - b - j - e - c - t - \" - "
     ]
    }
   ],
   "source": [
    "print(note := 'length in python is of type')\n",
    "print(type(len_object))\n",
    "\n",
    "print()\n",
    "\n",
    "print(note := ('below for loop shall print one value at a time of the object ', \n",
    "               someobject, \n",
    "               ' that has total length of ',\n",
    "               len_object)\n",
    "               )\n",
    "\n",
    "# we create a local variable that gets new value in each iteration\n",
    "# here we also change the end symbol to a specific value \n",
    "for c in someobject:\n",
    "    print(c, end=\" - \")\n",
    "\n"
   ]
  },
  {
   "cell_type": "code",
   "execution_count": 15,
   "metadata": {},
   "outputs": [
    {
     "name": "stdout",
     "output_type": "stream",
     "text": [
      "but why does for loop works for strings?\n",
      "\n",
      "because string objects have __iter__ implemented but not the int\n",
      "check the dir output of string and int\n",
      "\"\n",
      "T\n",
      "h\n",
      "i\n",
      "s\n",
      " \n",
      "i\n",
      "s\n",
      " \n",
      "a\n",
      "n\n",
      " \n",
      "O\n",
      "b\n",
      "j\n",
      "e\n",
      "c\n",
      "t\n",
      "\"\n",
      "so all objects that have __iter__ implemented can be used with for loop with standard \"for in\" syntax \n"
     ]
    }
   ],
   "source": [
    "print(note := \"but why does for loop works for strings?\")\n",
    "\n",
    "'''\n",
    "# we will look at try error later, but for now imagine except\n",
    "# TypeError is handling the scenario when we get TypeError\n",
    "try:\n",
    "    for i in 10:\n",
    "        print(i)\n",
    "except TypeError:\n",
    "    print(\"why does this happen?\")\n",
    "'''\n",
    "\n",
    "\n",
    "print(note := \"\")\n",
    "print(note := \"because string objects have __iter__ implemented but not the int\")\n",
    "print(note := \"check the dir output of string and int\")\n",
    "\n",
    "it = someobject.__iter__()\n",
    "print(it.__next__())\n",
    "print(it.__next__())\n",
    "print(it.__next__())\n",
    "print(it.__next__())\n",
    "print(it.__next__())\n",
    "print(it.__next__())\n",
    "print(it.__next__())\n",
    "print(it.__next__())\n",
    "print(it.__next__())\n",
    "print(it.__next__())\n",
    "print(it.__next__())\n",
    "print(it.__next__())\n",
    "print(it.__next__())\n",
    "print(it.__next__())\n",
    "print(it.__next__())\n",
    "print(it.__next__())\n",
    "print(it.__next__())\n",
    "print(it.__next__())\n",
    "print(it.__next__())\n",
    "\n",
    "print(note := 'so all objects that have __iter__ implemented can be used with \\\n",
    "for loop with standard \"for in\" syntax ')\n"
   ]
  },
  {
   "cell_type": "code",
   "execution_count": 16,
   "metadata": {},
   "outputs": [
    {
     "name": "stdout",
     "output_type": "stream",
     "text": [
      "we can also do following for loop, if we want to get count too\n",
      "\n",
      "0 \" -->1 T -->2 h -->3 i -->4 s -->5   -->6 i -->7 s -->8   -->9 a -->10 n -->11   -->12 O -->13 b -->14 j -->15 e -->16 c -->17 t -->18 \" -->\n"
     ]
    }
   ],
   "source": [
    "print(note := 'we can also do following for loop, if we want to get count too')\n",
    "print()\n",
    "\n",
    "i = 0\n",
    "for c in someobject:\n",
    "    print(i, c, end=\" -->\")\n",
    "    i = i + 1\n",
    "i = None\n",
    "print()\n",
    "\n"
   ]
  },
  {
   "cell_type": "code",
   "execution_count": 17,
   "metadata": {},
   "outputs": [
    {
     "name": "stdout",
     "output_type": "stream",
     "text": [
      "Or we can use the following approach to get the counter too \n",
      "\n",
      "0 \" *** 1 T *** 2 h *** 3 i *** 4 s *** 5   *** 6 i *** 7 s *** 8   *** 9 a *** 10 n *** 11   *** 12 O *** 13 b *** 14 j *** 15 e *** 16 c *** 17 t *** 18 \" *** \n",
      "again enumerate shall work only when the object is iterable\n"
     ]
    }
   ],
   "source": [
    "print(note := 'Or we can use the following approach to get the counter too ')\n",
    "print()\n",
    "\n",
    "for i, c in enumerate(someobject):\n",
    "    print(str(i) + ' ' + c, end=\" *** \")\n",
    "\n",
    "print()\n",
    "print(note := 'again enumerate shall work only when the object is iterable')"
   ]
  },
  {
   "cell_type": "code",
   "execution_count": 18,
   "metadata": {},
   "outputs": [
    {
     "name": "stdout",
     "output_type": "stream",
     "text": [
      "we can also use the while loop to get the similar result\n",
      "0\t\"\t*\n",
      "1\tT\t*\n",
      "2\th\t*\n",
      "3\ti\t*\n",
      "4\ts\t*\n",
      "5\t \t*\n",
      "6\ti\t*\n",
      "7\ts\t*\n",
      "8\t \t*\n",
      "9\ta\t*\n",
      "10\tn\t*\n",
      "11\t \t*\n",
      "12\tO\t*\n",
      "13\tb\t*\n",
      "14\tj\t*\n",
      "15\te\t*\n",
      "16\tc\t*\n",
      "17\tt\t*\n",
      "18\t\"\t*\n",
      "\n",
      "but while loop is not same as for loop \n",
      "we shall rarely use the while loop, for is very powerful in python...because of its inherit connection with iterables \n",
      "so in nutshell for loop can be used on any object that is iterable\n"
     ]
    }
   ],
   "source": [
    "print(note := 'we can also use the while loop to get the similar result')\n",
    "i = 0\n",
    "while i < len_object:\n",
    "    print(str(i) + '\\t' + someobject[i], end=\"\\t*\")\n",
    "    print()\n",
    "    i += 1\n",
    "i = None\n",
    "print()\n",
    "\n",
    "print(note := 'but while loop is not same as for loop ')\n",
    "print(note := 'we shall rarely use the while loop, for is very powerful in python...\\\n",
    "because of its inherit connection with iterables ')\n",
    "print(note := 'so in nutshell for loop can be used on any object that is iterable')\n"
   ]
  },
  {
   "cell_type": "code",
   "execution_count": 19,
   "metadata": {},
   "outputs": [
    {
     "name": "stdout",
     "output_type": "stream",
     "text": [
      "python has a \"range\" function to get ordered integer\n",
      "range(0, 19)\n",
      "\" is  at index 0\n",
      "T is  at index 1\n",
      "h is  at index 2\n",
      "i is  at index 3\n",
      "s is  at index 4\n",
      "  is  at index 5\n",
      "i is  at index 6\n",
      "s is  at index 7\n",
      "  is  at index 8\n",
      "a is  at index 9\n",
      "n is  at index 10\n",
      "  is  at index 11\n",
      "O is  at index 12\n",
      "b is  at index 13\n",
      "j is  at index 14\n",
      "e is  at index 15\n",
      "c is  at index 16\n",
      "t is  at index 17\n",
      "\" is  at index 18\n",
      "\n"
     ]
    }
   ],
   "source": [
    "print(note := 'python has a \"range\" function to get ordered integer')\n",
    "\n",
    "# default step value is 1\n",
    "print(ranger := range(0, len_object))\n",
    "\n",
    "for i in ranger:\n",
    "    print(someobject[i] + ' is  at index ' + str(i))\n",
    "\n",
    "print()\n"
   ]
  },
  {
   "cell_type": "code",
   "execution_count": 20,
   "metadata": {},
   "outputs": [
    {
     "name": "stdout",
     "output_type": "stream",
     "text": [
      "range(0, 19)\n",
      "\" is  at index 0\n",
      "T is  at index 1\n",
      "h is  at index 2\n",
      "i is  at index 3\n",
      "s is  at index 4\n",
      "  is  at index 5\n",
      "i is  at index 6\n",
      "s is  at index 7\n",
      "  is  at index 8\n",
      "a is  at index 9\n",
      "n is  at index 10\n",
      "  is  at index 11\n",
      "O is  at index 12\n",
      "b is  at index 13\n",
      "j is  at index 14\n",
      "e is  at index 15\n",
      "c is  at index 16\n",
      "t is  at index 17\n",
      "\" is  at index 18\n",
      "\n"
     ]
    }
   ],
   "source": [
    "# default start is 0\n",
    "print(ranger := range(len_object))\n",
    "\n",
    "for i in ranger:\n",
    "    print(someobject[i] + ' is  at index ' + str(i))\n",
    "\n",
    "print()\n"
   ]
  },
  {
   "cell_type": "code",
   "execution_count": 21,
   "metadata": {},
   "outputs": [
    {
     "name": "stdout",
     "output_type": "stream",
     "text": [
      "We get a new range with step value as 2\n",
      "range(0, 19, 2)\n",
      "\" is  at index 0\n",
      "h is  at index 2\n",
      "s is  at index 4\n",
      "i is  at index 6\n",
      "  is  at index 8\n",
      "n is  at index 10\n",
      "O is  at index 12\n",
      "j is  at index 14\n",
      "c is  at index 16\n",
      "\" is  at index 18\n",
      "\n"
     ]
    }
   ],
   "source": [
    "print(note := 'We get a new range with step value as 2')\n",
    "print(ranger := range(0, len_object, 2))\n",
    "\n",
    "for i in ranger:\n",
    "    print(someobject[i] + ' is  at index ' + str(i))\n",
    "\n",
    "print()\n"
   ]
  },
  {
   "cell_type": "code",
   "execution_count": 22,
   "metadata": {},
   "outputs": [
    {
     "name": "stdout",
     "output_type": "stream",
     "text": [
      "we can have loop within loop\n",
      "Level is  0\n",
      "\tRow number is 0\n",
      "\tRow number is 1\n",
      "Level is  1\n",
      "\tRow number is 0\n",
      "\tRow number is 1\n",
      "\n"
     ]
    }
   ],
   "source": [
    "print(note := 'we can have loop within loop')\n",
    "\n",
    "for l in range(0, 2):\n",
    "    # we need not to form a single string, we can pass different types to print\n",
    "    # separated by the commas\n",
    "    print('Level is ', l)\n",
    "    for r in range(0, 2):\n",
    "        print('\\tRow number is', r)\n",
    "\n",
    "\n",
    "print()\n"
   ]
  },
  {
   "cell_type": "code",
   "execution_count": 23,
   "metadata": {},
   "outputs": [
    {
     "name": "stdout",
     "output_type": "stream",
     "text": [
      "\n",
      "as many level as we want, but remember the complexity. the more layers of loop you have the more the time complexity\n",
      "Level is  0\n",
      "\tRow number is 0\n",
      "\t\tCol no is  0\n",
      "\t\tCol no is  1\n",
      "\t\tCol no is  2\n",
      "\tRow number is 1\n",
      "\t\tCol no is  0\n",
      "\t\tCol no is  1\n",
      "\t\tCol no is  2\n",
      "Level is  1\n",
      "\tRow number is 0\n",
      "\t\tCol no is  0\n",
      "\t\tCol no is  1\n",
      "\t\tCol no is  2\n",
      "\tRow number is 1\n",
      "\t\tCol no is  0\n",
      "\t\tCol no is  1\n",
      "\t\tCol no is  2\n",
      "\n"
     ]
    }
   ],
   "source": [
    "print()\n",
    "\n",
    "print(note := 'as many level as we want, but remember the complexity. \\\n",
    "the more layers of loop you have the more the time complexity')\n",
    "\n",
    "for l in range(0, 2):\n",
    "    # we need not to form a single string, we can pass different types to print\n",
    "    # separated by the commas\n",
    "    print('Level is ', l)\n",
    "    for r in range(0, 2):\n",
    "        print('\\tRow number is', r)\n",
    "        for c in range(0, 3):\n",
    "            print('\\t\\tCol no is ', c)\n",
    "\n",
    "print()\n"
   ]
  },
  {
   "cell_type": "code",
   "execution_count": 24,
   "metadata": {},
   "outputs": [
    {
     "name": "stdout",
     "output_type": "stream",
     "text": [
      "Lets also touch list comprehension again, as its widly used\n",
      "\n",
      "list comprehension is used to create list in run time\n",
      "[0, 1, 4, 9, 16]\n",
      "\n",
      "we can have multiple for loops in context of list comprehension\n",
      "['a', 'aa', 'aaa', 'b', 'bb', 'bbb', 'c', 'cc', 'ccc']\n",
      "\n",
      "[[1, 2], [3, 2], [1, 3], [2, 3], [1, 4], [2, 4], [3, 4]]\n",
      "\n"
     ]
    }
   ],
   "source": [
    "print(note := \"Lets also touch list comprehension again, as its widly used\")\n",
    "print()\n",
    "print(note := \"list comprehension is used to create list in run time\")\n",
    "l = [i*i for i in range(5)]\n",
    "print(l)\n",
    "print()\n",
    "print(note := \"we can have multiple for loops in context of list comprehension\")\n",
    "l1 = [i*j for j in ['a','b','c'] for i in range(1,4)]\n",
    "print(l1)\n",
    "print()\n",
    "l2 = [[i,j] for j in range(2,5) for i in range(1,4) if i!=j]\n",
    "print(l2)\n",
    "print()"
   ]
  },
  {
   "cell_type": "markdown",
   "metadata": {},
   "source": [
    "## Break continue  pass"
   ]
  },
  {
   "cell_type": "code",
   "execution_count": 25,
   "metadata": {},
   "outputs": [
    {
     "name": "stdout",
     "output_type": "stream",
     "text": [
      "python supports break, continue and pass\n",
      "\n",
      "pass is ignoted by python, so pass does nothin, so why python has it?\n",
      "\n",
      "it can be used is as a place-holder for a function or conditional body when you are working on new code,allowing you to keep thinking at a more abstract level. It is also used to create minimal class \n"
     ]
    }
   ],
   "source": [
    "print(note := 'python supports break, continue and pass')\n",
    "print()\n",
    "\n",
    "print(note := 'pass is ignoted by python, so pass does nothin, so why python has it?')\n",
    "\n",
    "for i in range(3):\n",
    "    pass \n",
    "\n",
    "def nothing():\n",
    "    pass \n",
    "\n",
    "nothing()\n",
    "\n",
    "\n",
    "print()\n",
    "print(note := 'it can be used is as a place-holder for a function or \\\n",
    "conditional body when you are working on new code,\\\n",
    "allowing you to keep thinking at a more abstract level. \\\n",
    "It is also used to create minimal class ')\n",
    "\n",
    "\n"
   ]
  },
  {
   "cell_type": "code",
   "execution_count": 26,
   "metadata": {},
   "outputs": [
    {
     "name": "stdout",
     "output_type": "stream",
     "text": [
      "Below loop will stop when i = 5\n",
      "\n",
      "we have found a multiple of 5\n",
      "5\n",
      "we have decided to break away from loop\n",
      "\n"
     ]
    }
   ],
   "source": [
    "print(note := 'Below loop will stop when i = 5')\n",
    "print()\n",
    "# we have 5 and 10 as multiple of 5 in range(1,11)\n",
    "for i in range(1, 11):\n",
    "    # although we can do comparison like below\n",
    "    if i % 5 == 0:\n",
    "        print(note := 'we have found a multiple of 5')\n",
    "        print(i)\n",
    "        print(note := 'we have decided to break away from loop')\n",
    "        break\n",
    "\n",
    "print()"
   ]
  },
  {
   "cell_type": "code",
   "execution_count": 27,
   "metadata": {},
   "outputs": [
    {
     "name": "stdout",
     "output_type": "stream",
     "text": [
      "Below loop will detect both 5 and 10 as multiple of 5\n",
      "\n",
      "we have found a multiple of 5\n",
      "5\n",
      "we have decided to continue\n",
      "\n",
      "we have found a multiple of 5\n",
      "10\n",
      "we have decided to continue\n",
      "\n",
      "\n"
     ]
    }
   ],
   "source": [
    "print(note := 'Below loop will detect both 5 and 10 as multiple of 5')\n",
    "print()\n",
    "for i in range(1, 11):\n",
    "    # but we can rely on the truthiness behaviour\n",
    "    # this format is more recommended\n",
    "    if not i % 5:\n",
    "        print(note := 'we have found a multiple of 5')\n",
    "        print(i)\n",
    "        print(note := 'we have decided to continue')\n",
    "        print()\n",
    "        continue\n",
    "\n",
    "print()\n"
   ]
  },
  {
   "cell_type": "code",
   "execution_count": 28,
   "metadata": {},
   "outputs": [
    {
     "name": "stdout",
     "output_type": "stream",
     "text": [
      "We can use the else clause with the loop too i.e. with for and while\n",
      "\n",
      "1\n",
      "2\n",
      "3\n",
      "4\n",
      "this shall be executed regardless, as there is no break in the loop\n",
      "\n"
     ]
    }
   ],
   "source": [
    "print(note := 'We can use the else clause with the loop too i.e. with for and while')\n",
    "print()\n",
    "for i in range(1, 5):\n",
    "        print(i)\n",
    "else:\n",
    "    print(note := 'this shall be executed regardless, as there is no break in the loop')\n",
    "\n",
    "print()"
   ]
  },
  {
   "cell_type": "code",
   "execution_count": 29,
   "metadata": {},
   "outputs": [
    {
     "name": "stdout",
     "output_type": "stream",
     "text": [
      "else clause will only be executed if we don`t hit the break statements\n",
      "we did not find any multiple of 12, and we will print this\n",
      "\n"
     ]
    }
   ],
   "source": [
    "print(note := 'else clause will only be executed if we don`t hit the break statements')\n",
    "for i in range(1, 11):\n",
    "    # not reverses the state from True to False, and vice versa\n",
    "    if not i % 12:\n",
    "        print(note := 'we will not find multiple of 12, as we used range(1,11)')\n",
    "        print(i)\n",
    "        print(note := 'we have decided to break away from loop')\n",
    "        break\n",
    "else:\n",
    "    print(note := 'we did not find any multiple of 12, and we will print this')\n",
    "\n",
    "print()\n"
   ]
  },
  {
   "cell_type": "code",
   "execution_count": 30,
   "metadata": {},
   "outputs": [
    {
     "name": "stdout",
     "output_type": "stream",
     "text": [
      "we have found a multiple of 10\n",
      "10\n",
      "we have decided to break away from loop, and end clause wont be executed\n",
      "\n"
     ]
    }
   ],
   "source": [
    "for i in range(1, 11):\n",
    "    if not i % 10:\n",
    "        print(note := 'we have found a multiple of 10')\n",
    "        print(i)\n",
    "        print(note := 'we have decided to break away from loop, and end clause wont be executed')\n",
    "        break\n",
    "else:\n",
    "    print(note := 'we did find multiple of 10, but else shall not be hit')\n",
    "\n",
    "print()"
   ]
  },
  {
   "cell_type": "code",
   "execution_count": 31,
   "metadata": {},
   "outputs": [
    {
     "name": "stdout",
     "output_type": "stream",
     "text": [
      "with continue statements the same behavior will not be seen, and we will hit the else statements regardless, so else is always executed unless we hit a break :) \n",
      "this shall be executed regardless, as there is no break in the loop\n"
     ]
    }
   ],
   "source": [
    "print( note := 'with continue statements the same behavior will not be seen, \\\n",
    "and we will hit the else statements regardless, so else is always executed unless we hit a break :) ')\n",
    "\n",
    "for i in range(1, 11):\n",
    "    if i % 12 == 0:\n",
    "        print(note := 'we will not find the mutiple of 12, as we used range(1,11)')\n",
    "        print(i)\n",
    "        print(note := 'we have decided to continue')\n",
    "        continue\n",
    "else:\n",
    "    print(note := 'this shall be executed regardless, as there is no break in the loop')\n",
    "\n"
   ]
  },
  {
   "cell_type": "code",
   "execution_count": 32,
   "metadata": {},
   "outputs": [
    {
     "name": "stdout",
     "output_type": "stream",
     "text": [
      "let us see the behaviour of break/else with multilevel loop\n",
      "\n",
      "we are at level  0\n",
      "\twe have found multiple of 2\n",
      "\t 2\n",
      "\twhat would happen if we break?\n",
      "\twe break away from the inner loop as expected\n",
      "\n",
      "but we shall not break from the outer loop\n",
      "\n",
      "we are at level  1\n",
      "\twe have found multiple of 2\n",
      "\t 2\n",
      "\twhat would happen if we break?\n",
      "\twe break away from the inner loop as expected\n",
      "\n",
      "but we shall not break from the outer loop\n",
      "\n"
     ]
    }
   ],
   "source": [
    "print(note := 'let us see the behaviour of break/else with multilevel loop')\n",
    "\n",
    "for l in range(0, 2):\n",
    "    print()\n",
    "    print('we are at level ', l)\n",
    "    for r in range(1, 5):\n",
    "        if not r % 2:\n",
    "            print(note := '\\twe have found multiple of 2')\n",
    "            print('\\t', r)\n",
    "            print(note := '\\twhat would happen if we break?')\n",
    "            print(note := '\\twe break away from the inner loop as expected')\n",
    "            print()\n",
    "            break\n",
    "    else:\n",
    "        print(note := '\\tAs inner loop hits break, we shall not see this ')\n",
    "    \n",
    "    print(note := 'but we shall not break from the outer loop')\n",
    "\n",
    "print()\n"
   ]
  },
  {
   "cell_type": "code",
   "execution_count": 33,
   "metadata": {},
   "outputs": [
    {
     "name": "stdout",
     "output_type": "stream",
     "text": [
      "\n",
      "we are at level  0\n",
      "\twe have found multiple of 2\n",
      "\t 2\n",
      "\twe would keep on continuing the loop as expected\n",
      "\n",
      "\twe have found multiple of 2\n",
      "\t 4\n",
      "\twe would keep on continuing the loop as expected\n",
      "\n",
      "\tAs inner has no break, we shall see this\n",
      "\tthis break shall exit the outer loop, and thus we execute only outer loop only once \n",
      "\n",
      "\n"
     ]
    }
   ],
   "source": [
    "for l in range(0, 3):\n",
    "    print()\n",
    "    print('we are at level ', l)\n",
    "    for r in range(1, 5):\n",
    "        if not r % 2:\n",
    "            print(note := '\\twe have found multiple of 2')\n",
    "            print('\\t', r)\n",
    "            print(note := '\\twe would keep on continuing the loop as expected')\n",
    "            print()\n",
    "            continue\n",
    "    else:\n",
    "        print(note := '\\tAs inner has no break, we shall see this')\n",
    "        print(note := '\\tthis break shall exit the outer loop, and thus we execute only outer loop only once ')\n",
    "        print()\n",
    "        break\n",
    "\n",
    "print()"
   ]
  },
  {
   "cell_type": "markdown",
   "metadata": {},
   "source": [
    "##  try-catch-else-finally "
   ]
  },
  {
   "cell_type": "code",
   "execution_count": 34,
   "metadata": {},
   "outputs": [
    {
     "name": "stdout",
     "output_type": "stream",
     "text": [
      "lets create a string\n",
      "this is a string\n",
      "this shall be executed\n",
      "No exception was raised this time, we will execute the else block\n",
      "finally is always be executed\n",
      "\n"
     ]
    }
   ],
   "source": [
    "print(note := 'lets create a string')\n",
    "print(some_string := 'this is a string')\n",
    "\n",
    "try:\n",
    "    # index starts from 0 thus len -1\n",
    "    if some_string[len(some_string) - 1] == 'g':\n",
    "        print(note := 'this shall be executed')\n",
    "except IndexError:\n",
    "    print(note := 'if we have the Index error this shall be executed')\n",
    "except ValueError:\n",
    "    print(note := 'if we have the Value error this shall be executed')\n",
    "# else should always follow all the except clauses \n",
    "# \n",
    "else:\n",
    "    print('No exception was raised this time, we will execute the else block')\n",
    "finally:\n",
    "    print(note := 'finally is always be executed')\n",
    "    print(note := 'it is a good place to delete the variables, or other clean up actions')\n",
    "\n",
    "print()\n"
   ]
  },
  {
   "cell_type": "code",
   "execution_count": 35,
   "metadata": {},
   "outputs": [
    {
     "name": "stdout",
     "output_type": "stream",
     "text": [
      "We will get the Index error\n",
      "finally is always be executed\n",
      "\n"
     ]
    }
   ],
   "source": [
    "try:\n",
    "    # this will case the index error as we overshoot the length of string\n",
    "    if some_string[len(some_string)] == 'g':\n",
    "        print(note := 'this shall not be executed')\n",
    "except IndexError:\n",
    "    print(note := 'We will get the Index error')\n",
    "else:\n",
    "    print('exception was raised this time, we shall not execute the else block')\n",
    "finally:\n",
    "    print(note := 'finally is always be executed')\n",
    "    print(note := 'it is a good place to delete the variables, or other clean up actions')\n",
    "\n",
    "print()"
   ]
  },
  {
   "cell_type": "code",
   "execution_count": 36,
   "metadata": {},
   "outputs": [
    {
     "name": "stdout",
     "output_type": "stream",
     "text": [
      "we can also use raise to force a specfic error to be raise\n"
     ]
    },
    {
     "ename": "ValueError",
     "evalue": "TamingPython",
     "output_type": "error",
     "traceback": [
      "\u001b[0;31m---------------------------------------------------------------------------\u001b[0m",
      "\u001b[0;31mValueError\u001b[0m                                Traceback (most recent call last)",
      "\u001b[0;32m<ipython-input-36-56f499667297>\u001b[0m in \u001b[0;36m<module>\u001b[0;34m\u001b[0m\n\u001b[1;32m      1\u001b[0m \u001b[0mprint\u001b[0m\u001b[0;34m(\u001b[0m\u001b[0mnote\u001b[0m \u001b[0;34m:=\u001b[0m \u001b[0;34m\"we can also use raise to force a specfic error to be raise\"\u001b[0m\u001b[0;34m)\u001b[0m\u001b[0;34m\u001b[0m\u001b[0;34m\u001b[0m\u001b[0m\n\u001b[1;32m      2\u001b[0m \u001b[0;34m\u001b[0m\u001b[0m\n\u001b[0;32m----> 3\u001b[0;31m \u001b[0;32mraise\u001b[0m \u001b[0mValueError\u001b[0m\u001b[0;34m(\u001b[0m\u001b[0;34m'TamingPython'\u001b[0m\u001b[0;34m)\u001b[0m\u001b[0;34m\u001b[0m\u001b[0;34m\u001b[0m\u001b[0m\n\u001b[0m",
      "\u001b[0;31mValueError\u001b[0m: TamingPython"
     ]
    }
   ],
   "source": [
    "print(note := \"we can also use raise to force a specfic error to be raise\")\n",
    "\n",
    "# raise ValueError('TamingPython')"
   ]
  },
  {
   "cell_type": "code",
   "execution_count": 40,
   "metadata": {},
   "outputs": [
    {
     "name": "stdout",
     "output_type": "stream",
     "text": [
      "we can explictly print the stack\n",
      "we can use raise to forward the handling of exception to the outer functions\n",
      "\n",
      "string index out of range\n",
      "\n",
      "(<class 'IndexError'>, IndexError('string index out of range'), <traceback object at 0x7fe1f0b4e7c0>)\n",
      "\n",
      "remeber finally is always be executed\n",
      "it is a good place to delete the variables, or other clean up actions\n"
     ]
    }
   ],
   "source": [
    "import sys\n",
    "print(note := \"we can explictly print the stack\")\n",
    "print(note := \"we can use raise to forward the handling of exception to the outer functions\")\n",
    "print()\n",
    "\n",
    "try:\n",
    "    # this will case the index error as we overshoot the length of string\n",
    "    if some_string[len(some_string)] == 'g':\n",
    "        print(note := 'this shall not be executed')\n",
    "except IndexError as err:\n",
    "    print(err)\n",
    "    print()\n",
    "    print(sys.exc_info())\n",
    "    print()\n",
    "    # raise \n",
    "except:\n",
    "    print(\"Unexpected error:\", sys.exc_info()[0])\n",
    "    raise\n",
    "else:\n",
    "    print('exception was raised this time, we shall not execute the else block') \n",
    "finally:\n",
    "    print(note := 'remeber finally is always be executed')\n",
    "    print(note := 'it is a good place to delete the variables, or other clean up actions')\n",
    "\n",
    "\n"
   ]
  },
  {
   "cell_type": "code",
   "execution_count": null,
   "metadata": {},
   "outputs": [],
   "source": []
  }
 ],
 "metadata": {
  "kernelspec": {
   "display_name": "Python 3",
   "language": "python",
   "name": "python3"
  },
  "language_info": {
   "codemirror_mode": {
    "name": "ipython",
    "version": 3
   },
   "file_extension": ".py",
   "mimetype": "text/x-python",
   "name": "python",
   "nbconvert_exporter": "python",
   "pygments_lexer": "ipython3",
   "version": "3.9.0"
  }
 },
 "nbformat": 4,
 "nbformat_minor": 4
}
