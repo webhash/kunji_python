{
 "cells": [
  {
   "cell_type": "code",
   "execution_count": 1,
   "metadata": {},
   "outputs": [
    {
     "name": "stdout",
     "output_type": "stream",
     "text": [
      "Hello World!!\n",
      "Hello World!!\n",
      "\n",
      "We are using python with version as  3.9.0\n"
     ]
    }
   ],
   "source": [
    "print(note := \"Hello World!!\")\n",
    "# we will use/abuse walrus operator \n",
    "print(note)\n",
    "print()\n",
    "import platform\n",
    "print(note := \"We are using python with version as \" , platform.python_version())"
   ]
  },
  {
   "cell_type": "code",
   "execution_count": 2,
   "metadata": {},
   "outputs": [
    {
     "name": "stdout",
     "output_type": "stream",
     "text": [
      "In This session we will learn about Mutable and Immutable types while learning about different inbuilt python data structures and types\n"
     ]
    }
   ],
   "source": [
    "print(note := \"In This session we will learn about Mutable and Immutable types \\\n",
    "while learning about different inbuilt python data structures and types\")"
   ]
  },
  {
   "cell_type": "markdown",
   "metadata": {},
   "source": [
    "## Lets first have a look at the basic types "
   ]
  },
  {
   "cell_type": "code",
   "execution_count": 3,
   "metadata": {},
   "outputs": [
    {
     "name": "stdout",
     "output_type": "stream",
     "text": [
      "If i have to utter only one things about python thenit will be that everything in python is an object\n",
      "\n",
      "As everything in python is an object, there is an overhead\n"
     ]
    }
   ],
   "source": [
    "import sys\n",
    "print(note := 'If i have to utter only one things about python then\\\n",
    "it will be that everything in python is an object')\n",
    "print()\n",
    "print(note := 'As everything in python is an object, there is an overhead')"
   ]
  },
  {
   "cell_type": "code",
   "execution_count": 4,
   "metadata": {},
   "outputs": [
    {
     "name": "stdout",
     "output_type": "stream",
     "text": [
      "lets first have a look at the most basic type that is int\n",
      "\n",
      "we can either create an int via int() i.e. int constructor \n",
      "<class 'int'>\n"
     ]
    }
   ],
   "source": [
    "print(note := 'lets first have a look at the most basic type that is int')\n",
    "print()\n",
    "print(\"we can either create an int via int() i.e. int constructor \")\n",
    "x = int()\n",
    "print(type(x))"
   ]
  },
  {
   "cell_type": "code",
   "execution_count": 5,
   "metadata": {},
   "outputs": [
    {
     "name": "stdout",
     "output_type": "stream",
     "text": [
      "or we can assign an int type value to a variable and python will automatically pick the type as int \n",
      "<class 'int'>\n"
     ]
    }
   ],
   "source": [
    "print(note := \"or we can assign an int type value to a variable \\\n",
    "and python will automatically pick the type as int \")\n",
    "y = 1000\n",
    "print(type(y))"
   ]
  },
  {
   "cell_type": "code",
   "execution_count": 6,
   "metadata": {},
   "outputs": [
    {
     "name": "stdout",
     "output_type": "stream",
     "text": [
      "An int is though 4 byte but we get a much bigger space usage, because of the overhead\n",
      "28\n",
      "\n",
      "For a variable with no value assigned we can see the 4 byte difference\n",
      "24\n",
      "\n"
     ]
    }
   ],
   "source": [
    "print(note := 'An int is though 4 byte but we get a much bigger space usage, because of the overhead')\n",
    "print(sys.getsizeof(y))\n",
    "print()\n",
    "print(note := 'For a variable with no value assigned we can see the 4 byte difference')\n",
    "print(sys.getsizeof(x))\n",
    "print()"
   ]
  },
  {
   "cell_type": "code",
   "execution_count": 7,
   "metadata": {},
   "outputs": [
    {
     "name": "stdout",
     "output_type": "stream",
     "text": [
      "so bigger number means more storage space\n",
      "\n",
      "<class 'int'>\n",
      "160\n"
     ]
    }
   ],
   "source": [
    "print(note := 'so bigger number means more storage space')\n",
    "print()\n",
    "z = 1000 ** 100\n",
    "print(type(z))\n",
    "print(sys.getsizeof(z))"
   ]
  },
  {
   "cell_type": "code",
   "execution_count": 8,
   "metadata": {},
   "outputs": [
    {
     "name": "stdout",
     "output_type": "stream",
     "text": [
      "python also supports the _  in numbers to make them more readable\n",
      "1000000000 can be hard to read, but  1000_000_000 is as easy as it comes\n",
      "\n",
      "1000000000\n",
      "<class 'int'>\n",
      "28\n"
     ]
    }
   ],
   "source": [
    "print(note := 'python also supports the _  in numbers to make them more readable')\n",
    "print(note := '1000000000 can be hard to read, but  1000_000_000 is as easy as it comes')\n",
    "print()\n",
    "a = 1000_000_000\n",
    "print(a)\n",
    "print(type(a))\n",
    "print(sys.getsizeof(a))\n"
   ]
  },
  {
   "cell_type": "code",
   "execution_count": 9,
   "metadata": {},
   "outputs": [
    {
     "name": "stdout",
     "output_type": "stream",
     "text": [
      "int * int shall give us another int\n",
      "<class 'int'>\n",
      "\n",
      "int / int shall give us float\n",
      "<class 'float'>\n",
      "\n",
      "int // int i.e the floor operation shall give us int\n",
      "<class 'int'>\n",
      "\n",
      "int % int i.e the modulo operation shall give us int\n",
      "<class 'int'>\n",
      "\n",
      "Remember this from school days ? a = b * (a // b) + a % b\n"
     ]
    }
   ],
   "source": [
    "print(note := 'int * int shall give us another int')\n",
    "print(type(z * y))\n",
    "print()\n",
    "print(note := 'int / int shall give us float')\n",
    "print(type(z / y))\n",
    "print()\n",
    "print(note := 'int // int i.e the floor operation shall give us int')\n",
    "print(type(z // y))\n",
    "print()\n",
    "print(note := 'int % int i.e the modulo operation shall give us int')\n",
    "print(type(z % y))\n",
    "print()\n",
    "print(note := 'Remember this from school days ? a = b * (a // b) + a % b')\n",
    "assert z == (y * (z // y) + z % y)"
   ]
  },
  {
   "cell_type": "code",
   "execution_count": 10,
   "metadata": {},
   "outputs": [
    {
     "name": "stdout",
     "output_type": "stream",
     "text": [
      "good habit to discover more about python is to always run dir() on the things/object you are working on\n",
      "int type supports many functionality like\n",
      "['__abs__', '__add__', '__and__', '__bool__', '__ceil__', '__class__', '__delattr__', '__dir__', '__divmod__', '__doc__', '__eq__', '__float__', '__floor__', '__floordiv__', '__format__', '__ge__', '__getattribute__', '__getnewargs__', '__gt__', '__hash__', '__index__', '__init__', '__init_subclass__', '__int__', '__invert__', '__le__', '__lshift__', '__lt__', '__mod__', '__mul__', '__ne__', '__neg__', '__new__', '__or__', '__pos__', '__pow__', '__radd__', '__rand__', '__rdivmod__', '__reduce__', '__reduce_ex__', '__repr__', '__rfloordiv__', '__rlshift__', '__rmod__', '__rmul__', '__ror__', '__round__', '__rpow__', '__rrshift__', '__rshift__', '__rsub__', '__rtruediv__', '__rxor__', '__setattr__', '__sizeof__', '__str__', '__sub__', '__subclasshook__', '__truediv__', '__trunc__', '__xor__', 'as_integer_ratio', 'bit_length', 'conjugate', 'denominator', 'from_bytes', 'imag', 'numerator', 'real', 'to_bytes']\n"
     ]
    }
   ],
   "source": [
    "print(note := 'good habit to discover more about python is to always run \\\n",
    "dir() on the things/object you are working on')\n",
    "print(note := 'int type supports many functionality like')\n",
    "print(dir(int))"
   ]
  },
  {
   "cell_type": "code",
   "execution_count": 11,
   "metadata": {},
   "outputs": [
    {
     "name": "stdout",
     "output_type": "stream",
     "text": [
      "int constructor is smart ... converts floats/fractions to int\n",
      "\n",
      "int type need not be a number of base 10, python has constructor to initiate the int with different type of base\n",
      "\n",
      "but when we create a number of diff base wehave to pass the string representation of the number\n",
      "\n",
      "21\n",
      "\n",
      "21\n",
      "\n"
     ]
    }
   ],
   "source": [
    "print(note := 'int constructor is smart ... converts floats/fractions to int')\n",
    "print()\n",
    "assert int(1.9) == int(1)\n",
    "\n",
    "\n",
    "print(note := 'int type need not be a number of base 10, python has \\\n",
    "constructor to initiate the int with different type of base')\n",
    "print()\n",
    "\n",
    "print(note := 'but when we create a number of diff base we\\\n",
    "have to pass the string representation of the number')\n",
    "print()\n",
    "\n",
    "b1 = int('10101', 2)\n",
    "print(b1)\n",
    "print()\n",
    "b2 = int('10101', base=2)\n",
    "print(b2)\n",
    "print()\n",
    "assert b1 == b2 "
   ]
  },
  {
   "cell_type": "code",
   "execution_count": 12,
   "metadata": {},
   "outputs": [
    {
     "name": "stdout",
     "output_type": "stream",
     "text": [
      "python uses English letters for higher bases, and they are case insensitive\n",
      "\n"
     ]
    }
   ],
   "source": [
    "print(note := 'python uses English letters for higher bases, and they are case insensitive')\n",
    "print()\n",
    "h1 = int('EAF', 18)\n",
    "h2 = int('eaf', base=18)\n",
    "assert h1 == h2"
   ]
  },
  {
   "cell_type": "code",
   "execution_count": 13,
   "metadata": {},
   "outputs": [
    {
     "name": "stdout",
     "output_type": "stream",
     "text": [
      "we also have built in base representation to make life of programmer easier\n",
      "\n",
      "hex  starts with 0x / 0X\n",
      "0x64\n",
      "\n",
      "bin starts with 0b / 0B\n",
      "0b1100100\n",
      "\n",
      "oct starts with 0o / 0O\n",
      "0o144\n",
      "\n"
     ]
    }
   ],
   "source": [
    "print(note := 'we also have built in base representation to make life of programmer easier')\n",
    "print()\n",
    "print(note := 'hex  starts with 0x / 0X')\n",
    "print(hex(100))\n",
    "print()\n",
    "print(note := 'bin starts with 0b / 0B')\n",
    "print(bin(100))\n",
    "print()\n",
    "print(note := 'oct starts with 0o / 0O')\n",
    "print(oct(100))\n",
    "print()"
   ]
  },
  {
   "cell_type": "code",
   "execution_count": 14,
   "metadata": {},
   "outputs": [
    {
     "name": "stdout",
     "output_type": "stream",
     "text": [
      "we can use the 0x, 0b, 0o to specify the number of particular base\n",
      "underscores are supported, just dont use them at the start of the number\n",
      "\n",
      "0xFF == 255\n",
      "0b_11_11 == 15\n",
      "0o76 == 62\n"
     ]
    }
   ],
   "source": [
    "print(note := 'we can use the 0x, 0b, 0o to specify the number of particular base')\n",
    "print(note := 'underscores are supported, just dont use them at the start of the number')\n",
    "print()\n",
    "h = '0xFF'\n",
    "b = '0b_11_11'\n",
    "o = '0o76'\n",
    "print(h, end=' == ')\n",
    "print(int(h, 16))\n",
    "print(b, end=' == ')\n",
    "print(int(b, 2))\n",
    "print(o, end=' == ')\n",
    "print(int(o, 8))"
   ]
  },
  {
   "cell_type": "code",
   "execution_count": 15,
   "metadata": {},
   "outputs": [
    {
     "name": "stdout",
     "output_type": "stream",
     "text": [
      "int object are immutable - but what does that means ?\n",
      "lets check the addres of var variable\n",
      "0x7fef3f388270\n",
      "\n",
      "lets do addition of 1 to var\n",
      "lets again check the addres of var variable\n",
      "0x7fef3b621930\n"
     ]
    }
   ],
   "source": [
    "print(note := \"int object are immutable - but what does that means ?\")\n",
    "var = 1000\n",
    "print(note := \"lets check the addres of var variable\")\n",
    "print(oa := hex(id(var)))\n",
    "print()\n",
    "print(note := \"lets do addition of 1 to var\")\n",
    "var=+1\n",
    "print(note := \"lets again check the addres of var variable\")\n",
    "print(na := hex(id(var)))\n",
    "assert oa != na"
   ]
  },
  {
   "cell_type": "code",
   "execution_count": 16,
   "metadata": {},
   "outputs": [
    {
     "name": "stdout",
     "output_type": "stream",
     "text": [
      "as soon as we tried to modify an int object python would create new object rather than changing the old object\n",
      "\n",
      "this in nutshell is the immutable behaviour of an object/data type/ data structure\n"
     ]
    }
   ],
   "source": [
    "print( note := \"as soon as we tried to modify an int object python \\\n",
    "would create new object rather than changing the old object\")\n",
    "print()\n",
    "print( note:= \"this in nutshell is the immutable behaviour of an object/data type/ data structure\")"
   ]
  },
  {
   "cell_type": "code",
   "execution_count": 17,
   "metadata": {},
   "outputs": [
    {
     "name": "stdout",
     "output_type": "stream",
     "text": [
      "python also supports the boolean type\n",
      "t is if type  <class 'bool'>  and has address as  0x100f57270\n",
      "f is of type  <class 'bool'>  and has address as  0x100f57548\n",
      "True and false will point to a fixed memory address,when we do comparision the result would be True/false pointing to same memory address\n",
      "0x100f57270\n",
      "0x100f57548\n"
     ]
    }
   ],
   "source": [
    "print(note := 'python also supports the boolean type')\n",
    "t = True\n",
    "f = False\n",
    "print('t is if type ', type(t), ' and has address as ', hex(id(t)))\n",
    "print('f is of type ', type(f), ' and has address as ', hex(id(f)))\n",
    "print( note := 'True and false will point to a fixed memory address,\\\n",
    "when we do comparision the result would be True/false pointing to same memory address')\n",
    "print(hex(id(10 > 1)))\n",
    "print(hex(id(10 < 1)))\n",
    "assert hex(id(t)) == hex(id(10 > 1))\n",
    "assert hex(id(f)) == hex(id(10 < 1))"
   ]
  },
  {
   "cell_type": "code",
   "execution_count": 18,
   "metadata": {},
   "outputs": [
    {
     "name": "stdout",
     "output_type": "stream",
     "text": [
      "python has the function issubclass to check if one class is a subclass of another\n",
      "\n",
      "bool is subclass of int, and if we convert them to int we shall get 1 and 0\n",
      "1\n",
      "0\n",
      "True\n",
      "False\n",
      "True and False are instance of bool, and by inheritance are also instance of int\n"
     ]
    }
   ],
   "source": [
    "print(note := 'python has the function issubclass to check if one class is a subclass of another')\n",
    "print()\n",
    "if issubclass(bool, int):\n",
    "    print(note := 'bool is subclass of int, and if we convert them to int we shall get 1 and 0')\n",
    "    print(int(t))\n",
    "    print(int(f))\n",
    "    print(t)\n",
    "    print(f)\n",
    "    if isinstance(t, int) and isinstance(f, bool):\n",
    "        print(note := 'True and False are instance of bool, and by inheritance are also instance of int')\n"
   ]
  },
  {
   "cell_type": "code",
   "execution_count": 19,
   "metadata": {},
   "outputs": [
    {
     "name": "stdout",
     "output_type": "stream",
     "text": [
      "bool of non zero value returns True, and zero value returns False\n",
      "True True True False False\n",
      "\n",
      "but the above behavior happens because int, float have __bool__ implemented\n",
      "True True True\n",
      "\n",
      "we will further look at this aspect when we touch strings\n"
     ]
    }
   ],
   "source": [
    "print(note := 'bool of non zero value returns True, and zero value returns False')\n",
    "print(bool(1), bool(-1), bool(0.5), bool(None), bool(0))\n",
    "print()\n",
    "print(note := 'but the above behavior happens because int, float have __bool__ implemented')\n",
    "print((1).__bool__(), (-1).__bool__(), (0.5).__bool__())\n",
    "print()\n",
    "\n",
    "print(note := 'we will further look at this aspect when we touch strings')"
   ]
  },
  {
   "cell_type": "code",
   "execution_count": 20,
   "metadata": {},
   "outputs": [
    {
     "name": "stdout",
     "output_type": "stream",
     "text": [
      "now quickly have a look at the float types\n",
      "\n",
      "we can create float by either the float() constructor\n",
      "<class 'float'>\n",
      "24\n"
     ]
    }
   ],
   "source": [
    "print(note := 'now quickly have a look at the float types')\n",
    "print()\n",
    "print(note := 'we can create float by either the float() constructor')\n",
    "f = float()\n",
    "print(type(f))\n",
    "print(sys.getsizeof(f))"
   ]
  },
  {
   "cell_type": "code",
   "execution_count": 21,
   "metadata": {},
   "outputs": [
    {
     "name": "stdout",
     "output_type": "stream",
     "text": [
      "or we can assign a float value to varaible and let python take care of calling the constructer\n",
      "24\n",
      "\n",
      "notice how size of float didnt change like int,its all internal detail based on the float representation\n"
     ]
    }
   ],
   "source": [
    "print(note := 'or we can assign a float value to varaible and let python take care of calling the constructer')\n",
    "pi = 3.141592653589793238462643383279502884197169399375105820974944592307816406286208998628034825342117067982148086513282306647093844609550582231725359408128481\n",
    "print(sys.getsizeof(pi))\n",
    "print()\n",
    "print(note := 'notice how size of float didnt change like int,\\\n",
    "its all internal detail based on the float representation')\n"
   ]
  },
  {
   "cell_type": "code",
   "execution_count": 22,
   "metadata": {},
   "outputs": [
    {
     "name": "stdout",
     "output_type": "stream",
     "text": [
      "unlike int float has a single constructor that takes anumber or string representation of number and returns a float value\n",
      "1.0\n",
      "1.0\n",
      "1.7\n",
      "1.7\n",
      "1000.7\n"
     ]
    }
   ],
   "source": [
    "print(note := 'unlike int float has a single constructor that takes a\\\n",
    "number or string representation of number and returns a float value')\n",
    "\n",
    "print(float(1))\n",
    "print(float('1'))\n",
    "print(float(1.7))\n",
    "print(float('1.7'))\n",
    "print(float(1_000.7))"
   ]
  },
  {
   "cell_type": "code",
   "execution_count": 23,
   "metadata": {},
   "outputs": [
    {
     "name": "stdout",
     "output_type": "stream",
     "text": [
      "float type supports many functionality like, like i said beforealways run dir on object to peak inside\n",
      "['__abs__', '__add__', '__bool__', '__ceil__', '__class__', '__delattr__', '__dir__', '__divmod__', '__doc__', '__eq__', '__float__', '__floor__', '__floordiv__', '__format__', '__ge__', '__getattribute__', '__getformat__', '__getnewargs__', '__gt__', '__hash__', '__init__', '__init_subclass__', '__int__', '__le__', '__lt__', '__mod__', '__mul__', '__ne__', '__neg__', '__new__', '__pos__', '__pow__', '__radd__', '__rdivmod__', '__reduce__', '__reduce_ex__', '__repr__', '__rfloordiv__', '__rmod__', '__rmul__', '__round__', '__rpow__', '__rsub__', '__rtruediv__', '__set_format__', '__setattr__', '__sizeof__', '__str__', '__sub__', '__subclasshook__', '__truediv__', '__trunc__', 'as_integer_ratio', 'conjugate', 'fromhex', 'hex', 'imag', 'is_integer', 'real']\n"
     ]
    }
   ],
   "source": [
    "print(note := 'float type supports many functionality like, like i said before\\\n",
    "always run dir on object to peak inside')\n",
    "print(dir(float))"
   ]
  },
  {
   "cell_type": "code",
   "execution_count": 24,
   "metadata": {},
   "outputs": [
    {
     "name": "stdout",
     "output_type": "stream",
     "text": [
      "0.3333333333333333 == (6004799503160661, 18014398509481984)\n",
      "0.33 == (5944751508129055, 18014398509481984)\n"
     ]
    }
   ],
   "source": [
    "f1 = float(1 / 3)\n",
    "f2 = float('.33')\n",
    "print(f1, end=' == ')\n",
    "print(f1.as_integer_ratio())\n",
    "print(f2, end=' == ')\n",
    "print(f2.as_integer_ratio())\n"
   ]
  },
  {
   "cell_type": "code",
   "execution_count": 25,
   "metadata": {},
   "outputs": [
    {
     "name": "stdout",
     "output_type": "stream",
     "text": [
      "3.142857142857143\n",
      "we can`t pass a string with fraction like `22/7` to float\n"
     ]
    }
   ],
   "source": [
    "print(float(22 / 7))\n",
    "\n",
    "try:\n",
    "    float('22/7')\n",
    "except ValueError:\n",
    "    print('we can`t pass a string with fraction like `22/7` to float')\n",
    "\n"
   ]
  },
  {
   "cell_type": "code",
   "execution_count": 26,
   "metadata": {},
   "outputs": [
    {
     "name": "stdout",
     "output_type": "stream",
     "text": [
      "float doesnt necessarily have the exact representation for all numbers, the magic of ration of 2s come into picture\n",
      "Floating-point numbers are represented in computer hardware as base 2 (binary) fractions.\n",
      "though two numbers should have same value but if wecheck out enough precision point, we will see the difference\n",
      "0.30000000000000004\n",
      "0.3\n"
     ]
    }
   ],
   "source": [
    "print(note := 'float doesnt necessarily have the exact representation for all numbers, \\\n",
    "the magic of ration of 2s come into picture')\n",
    "print(note := 'Floating-point numbers are represented in \\\n",
    "computer hardware as base 2 (binary) fractions.')\n",
    "\n",
    "fa = 0.1 + 0.1 + 0.1\n",
    "fb = 0.3\n",
    "print( note := 'though two numbers should have same value but if we\\\n",
    "check out enough precision point, we will see the difference')\n",
    "print(fa)\n",
    "print(fb)\n",
    "assert fa != fb"
   ]
  },
  {
   "cell_type": "code",
   "execution_count": 27,
   "metadata": {},
   "outputs": [
    {
     "name": "stdout",
     "output_type": "stream",
     "text": [
      "the difference is quite apparent if we get the fraction representation of float value\n",
      "0.30000000000000004 == (1351079888211149, 4503599627370496)\n",
      "0.3 == (5404319552844595, 18014398509481984)\n",
      "\n"
     ]
    }
   ],
   "source": [
    "print(note := 'the difference is quite apparent if we get the fraction representation of float value')\n",
    "print(fa, end=' == ')\n",
    "print(fa.as_integer_ratio())\n",
    "print(fb, end=' == ')\n",
    "print(fb.as_integer_ratio())\n",
    "print()"
   ]
  },
  {
   "cell_type": "code",
   "execution_count": 28,
   "metadata": {},
   "outputs": [
    {
     "name": "stdout",
     "output_type": "stream",
     "text": [
      "we can use the `round` function for approximate comparison\n",
      "\n",
      "0.3 == 0.3\n"
     ]
    }
   ],
   "source": [
    "print(note := 'we can use the `round` function for approximate comparison')\n",
    "print()\n",
    "assert round(fa, 8) == round(fb, 8)\n",
    "print(round(fa, 8), end=' == ')\n",
    "print(round(fb, 8))"
   ]
  },
  {
   "cell_type": "code",
   "execution_count": 29,
   "metadata": {},
   "outputs": [
    {
     "name": "stdout",
     "output_type": "stream",
     "text": [
      "float types are also immutable, that means if we change the value of a float types,python will point to a new float object\n",
      "\n",
      "0x7fef3f388150\n",
      "\n",
      "0x7fef3f2f1e30\n",
      "\n"
     ]
    }
   ],
   "source": [
    "print(note := 'float types are also immutable, that means if we change the value of a float types,\\\n",
    "python will point to a new float object')\n",
    "print()\n",
    "sf = 2.14\n",
    "print(hex(id(sf)))\n",
    "print()\n",
    "sf+=1.0\n",
    "print(hex(id(sf)))\n",
    "print()"
   ]
  },
  {
   "cell_type": "code",
   "execution_count": 30,
   "metadata": {},
   "outputs": [
    {
     "name": "stdout",
     "output_type": "stream",
     "text": [
      "now we will look at the strings\n",
      "\n",
      "either we can create the string via constuctor\n",
      "<class 'str'>\n",
      "0x7fef3b64f670\n",
      "or we can use let python do the work\n",
      "<class 'str'>\n",
      "0x7fef3b64f670\n"
     ]
    }
   ],
   "source": [
    "print(note := 'now we will look at the strings')\n",
    "print()\n",
    "\n",
    "print(note := 'either we can create the string via constuctor')\n",
    "a = str()\n",
    "print(type(a))\n",
    "print(hex(id(a)))\n",
    "\n",
    "print(note := 'or we can use let python do the work')\n",
    "b = ''\n",
    "print(type(b))\n",
    "print(hex(id(b)))\n",
    "\n",
    "\n",
    "\n"
   ]
  },
  {
   "cell_type": "code",
   "execution_count": 31,
   "metadata": {},
   "outputs": [
    {
     "name": "stdout",
     "output_type": "stream",
     "text": [
      "python do lot of optimization, one of them is string interning\n",
      "same stings would points to same address\n",
      "\n",
      "love\n",
      "love\n",
      "0x7fef3f3bd8b0\n",
      "0x7fef3f3bd8b0\n"
     ]
    }
   ],
   "source": [
    "print(note := 'python do lot of optimization, one of them is string interning')\n",
    "print(note := 'same stings would points to same address')\n",
    "print()\n",
    "\n",
    "a = \"love\"\n",
    "b = \"love\"\n",
    "\n",
    "print(a)\n",
    "print(b)\n",
    "print(hex(id(a)))\n",
    "print(hex(id(b)))\n",
    "\n",
    "\n"
   ]
  },
  {
   "cell_type": "code",
   "execution_count": 32,
   "metadata": {},
   "outputs": [
    {
     "name": "stdout",
     "output_type": "stream",
     "text": [
      "we can do addition on the strings\n",
      "lovelife\n",
      "lovelife\n",
      "\n",
      "as both strings have same content thry will point to same address\n",
      "0x7fef3f3bf5b0\n",
      "0x7fef3f3bf4f0\n"
     ]
    }
   ],
   "source": [
    "print(note := 'we can do addition on the strings')\n",
    "\n",
    "a+='life'\n",
    "b+='life'\n",
    "print(a)\n",
    "print(b)\n",
    "print()\n",
    "print(note := 'as both strings have same content thry will point to same address')\n",
    "print(hex(id(a)))\n",
    "print(hex(id(b)))"
   ]
  },
  {
   "cell_type": "code",
   "execution_count": 33,
   "metadata": {},
   "outputs": [
    {
     "name": "stdout",
     "output_type": "stream",
     "text": [
      "['__add__', '__class__', '__contains__', '__delattr__', '__dir__', '__doc__', '__eq__', '__format__', '__ge__', '__getattribute__', '__getitem__', '__getnewargs__', '__gt__', '__hash__', '__init__', '__init_subclass__', '__iter__', '__le__', '__len__', '__lt__', '__mod__', '__mul__', '__ne__', '__new__', '__reduce__', '__reduce_ex__', '__repr__', '__rmod__', '__rmul__', '__setattr__', '__sizeof__', '__str__', '__subclasshook__', 'capitalize', 'casefold', 'center', 'count', 'encode', 'endswith', 'expandtabs', 'find', 'format', 'format_map', 'index', 'isalnum', 'isalpha', 'isascii', 'isdecimal', 'isdigit', 'isidentifier', 'islower', 'isnumeric', 'isprintable', 'isspace', 'istitle', 'isupper', 'join', 'ljust', 'lower', 'lstrip', 'maketrans', 'partition', 'removeprefix', 'removesuffix', 'replace', 'rfind', 'rindex', 'rjust', 'rpartition', 'rsplit', 'rstrip', 'split', 'splitlines', 'startswith', 'strip', 'swapcase', 'title', 'translate', 'upper', 'zfill']\n",
      "\n",
      "str doesnt implement the __bool__ function, and return the default value of True for non-empty string\n",
      "\n",
      "False True True\n",
      "This is called truthy and falsy behavior based on emptyness of a data structure,we shall check it futher later\n"
     ]
    }
   ],
   "source": [
    "print(dir(str))\n",
    "print()\n",
    "\n",
    "try:\n",
    "    print(('0').__bool__())\n",
    "except AttributeError:\n",
    "    print(\n",
    "        note := 'str doesnt implement the __bool__ function, and return the default value of True for non-empty string')\n",
    "\n",
    "print()\n",
    "print(bool(''), bool('0'), bool('1'))\n",
    "print(note := 'This is called truthy and falsy behavior based on emptyness of a data structure,\\\n",
    "we shall check it futher later')\n",
    "\n"
   ]
  },
  {
   "cell_type": "markdown",
   "metadata": {},
   "source": [
    "## Lets look at the higher level data structures "
   ]
  },
  {
   "cell_type": "code",
   "execution_count": 34,
   "metadata": {},
   "outputs": [
    {
     "name": "stdout",
     "output_type": "stream",
     "text": [
      "Python has many inbuilt higher level data structures to make life of programmer easy\n",
      "lets look at lists first\n",
      "we can create the list either by using the list() function\n",
      "<class 'list'>\n",
      "\n",
      "or we can use the square brackets [] to create one\n",
      "<class 'list'>\n",
      "\n",
      "they are allocated their own memory space\n",
      "0x7fef3f3bf200\n",
      "0x7fef3f279cc0\n"
     ]
    }
   ],
   "source": [
    "\n",
    "print(note := 'Python has many inbuilt higher level data structures to make life of programmer easy')\n",
    "\n",
    "print(note := 'lets look at lists first')\n",
    "\n",
    "print(note := 'we can create the list either by using the list() function')\n",
    "some_list1 = list()\n",
    "print(type(some_list1))\n",
    "print()\n",
    "\n",
    "print(note := 'or we can use the square brackets [] to create one')\n",
    "some_list2 = []\n",
    "print(type(some_list2))\n",
    "print()\n",
    "\n",
    "print(note := \"they are allocated their own memory space\")\n",
    "print(hex(id(some_list1)))\n",
    "print(hex(id(some_list2)))"
   ]
  },
  {
   "cell_type": "code",
   "execution_count": 35,
   "metadata": {},
   "outputs": [
    {
     "name": "stdout",
     "output_type": "stream",
     "text": [
      "and you guessed it right ...list are mutable, i.e. we can change their content inplace\n",
      "\n",
      "Lets take the address of the list\n",
      "0x7fef3f3bf200\n",
      "\n",
      "now add few items top this list\n",
      "\n",
      "we have added different type of items to list, one is string, other is int\n",
      "['yes', 1]\n",
      "\n",
      "the address of list remains the same\n",
      "0x7fef3f3bf200\n"
     ]
    }
   ],
   "source": [
    "print(note := 'and you guessed it right ...list are mutable, i.e. we can change their content inplace')\n",
    "print()\n",
    "print(note := 'Lets take the address of the list')\n",
    "print(some_list_add1 := hex(id(some_list1)))\n",
    "print()\n",
    "print(note := 'now add few items top this list')\n",
    "some_list1.append('yes')\n",
    "some_list1.append(1)\n",
    "print()\n",
    "print(note := 'we have added different type of items to list, one is string, other is int')\n",
    "print(some_list1)\n",
    "print()\n",
    "print(note := 'the address of list remains the same')\n",
    "print(hex(id(some_list1)))\n",
    "assert some_list_add1 == hex(id(some_list1))"
   ]
  },
  {
   "cell_type": "code",
   "execution_count": 36,
   "metadata": {},
   "outputs": [
    {
     "name": "stdout",
     "output_type": "stream",
     "text": [
      "but please note that concatenating the list would change the address as+ creates a new copy of list and assign to the variable\n",
      "['yes', 1, 'no']\n",
      "0x7fef3f0c97c0\n",
      "\n",
      "['yes', 1]\n",
      "0x7fef3f3bf200\n",
      "\n",
      "what all function does list supports?\n",
      "append\n",
      "clear\n",
      "copy\n",
      "count\n",
      "extend\n",
      "index\n",
      "insert\n",
      "pop\n",
      "remove\n",
      "reverse\n",
      "sort\n"
     ]
    }
   ],
   "source": [
    "print( note := 'but please note that concatenating the list would change the address as\\\n",
    "+ creates a new copy of list and assign to the variable')\n",
    "some_list2 = some_list1 + ['no']\n",
    "print(some_list2)\n",
    "print(hex(id(some_list2)))\n",
    "print()\n",
    "print(some_list1)\n",
    "print(some_list_add1)\n",
    "assert hex(id(some_list2)) != some_list_add1\n",
    "\n",
    "\n",
    "print()\n",
    "print(note := 'what all function does list supports?')\n",
    "for item in dir(some_list1):\n",
    "    if not ('__' in item):\n",
    "        print(item)\n"
   ]
  },
  {
   "cell_type": "code",
   "execution_count": 37,
   "metadata": {},
   "outputs": [
    {
     "name": "stdout",
     "output_type": "stream",
     "text": [
      "lets have a look at one concrete example of mutability and immutability, especially in context of functions\n",
      "0x7fef3f3aeb70\n",
      "0x7fef3f367140\n",
      "\n",
      "we are inside the function my_func\n",
      "0x7fef3f3aeb70\n",
      "0x7fef3f367140\n",
      "\n",
      "lovelifealways\n",
      "['love', 'life', 'always']\n",
      "\n",
      "0x7fef3f37ae30\n",
      "0x7fef3f367140\n",
      "done with function my_func\n",
      "\n",
      "lovelife\n",
      "['love', 'life', 'always']\n",
      "\n",
      "0x7fef3f3aeb70\n",
      "0x7fef3f367140\n",
      "\n",
      "in the above example the list, a mutable type, in global space got updated as it was updated inside the fuction\n",
      "but the string which immutable has no impact in the global context for the changes done inside the fuction\n"
     ]
    }
   ],
   "source": [
    "print(note := 'lets have a look at one concrete example of mutability and immutability, especially in context of functions')\n",
    "\n",
    "sstr = \"lovelife\"\n",
    "print(hex(id(sstr)))\n",
    "\n",
    "slist = ['love', 'life']\n",
    "print(hex(id(slist)))\n",
    "     \n",
    "print()\n",
    "\n",
    "def my_func(string, listed):\n",
    "    print(\"we are inside the function my_func\")\n",
    "    print(hex(id(string)))\n",
    "    print(hex(id(listed)))\n",
    "    print()\n",
    "    string+='always'\n",
    "    print(string)\n",
    "    listed.append('always')\n",
    "    print(listed)\n",
    "    print()\n",
    "    print(hex(id(string)))\n",
    "    print(hex(id(listed)))\n",
    "    print(\"done with function my_func\")\n",
    "\n",
    "my_func(sstr, slist)\n",
    "print()\n",
    "print(sstr)\n",
    "print(slist)\n",
    "print()\n",
    "print(hex(id(sstr)))\n",
    "print(hex(id(slist)))\n",
    "\n",
    "print()\n",
    "print(note := \"in the above example the list, a mutable type, in global space got updated as it was updated inside the fuction\")\n",
    "print(note := \"but the string which immutable has no impact in the global context for the changes done inside the fuction\")"
   ]
  },
  {
   "cell_type": "code",
   "execution_count": 38,
   "metadata": {},
   "outputs": [
    {
     "name": "stdout",
     "output_type": "stream",
     "text": [
      "lets look dict now ... my favorite data structure\n",
      "\n",
      "we can create the dict either by using the dict() function\n",
      "<class 'dict'>\n",
      "0x7fef3f3bfc00\n",
      "\n",
      "or we can use the curly brackets {} to create one\n",
      "<class 'dict'>\n",
      "\n"
     ]
    }
   ],
   "source": [
    "print(note := 'lets look dict now ... my favorite data structure')\n",
    "print()\n",
    "print(note := 'we can create the dict either by using the dict() function')\n",
    "some_dict1 = dict()\n",
    "print(type(some_dict1))\n",
    "print(some_dict_add1 := hex(id(some_dict1)))\n",
    "print()\n",
    "print(note := 'or we can use the curly brackets {} to create one')\n",
    "some_dict2 = {}\n",
    "print(type(some_dict1))\n",
    "print()"
   ]
  },
  {
   "cell_type": "code",
   "execution_count": 39,
   "metadata": {},
   "outputs": [
    {
     "name": "stdout",
     "output_type": "stream",
     "text": [
      "dict are also mutable, i.e. we can change the content of them\n",
      "{'yes': 0, 'no': 1}\n",
      "0x7fef3f3bfc00\n",
      "\n"
     ]
    }
   ],
   "source": [
    "print(note := 'dict are also mutable, i.e. we can change the content of them')\n",
    "some_dict1['yes'] = 0\n",
    "some_dict1['no'] = 1\n",
    "print(some_dict1)\n",
    "print(hex(id(some_dict1)))\n",
    "assert some_dict_add1 == hex(id(some_dict1))\n",
    "print()\n"
   ]
  },
  {
   "cell_type": "code",
   "execution_count": 40,
   "metadata": {},
   "outputs": [
    {
     "name": "stdout",
     "output_type": "stream",
     "text": [
      "again and again and yet the address will remain the same\n",
      "{'yes': 1, 'no': 0}\n",
      "0x7fef3f3bfc00\n",
      "\n"
     ]
    }
   ],
   "source": [
    "print(note := 'again and again and yet the address will remain the same')\n",
    "some_dict1['yes'] = 1\n",
    "some_dict1['no'] = 0\n",
    "print(some_dict1)\n",
    "print(hex(id(some_dict1)))\n",
    "assert some_dict_add1 == hex(id(some_dict1))\n",
    "print()"
   ]
  },
  {
   "cell_type": "code",
   "execution_count": 41,
   "metadata": {},
   "outputs": [
    {
     "name": "stdout",
     "output_type": "stream",
     "text": [
      "what all function does dict supports?\n",
      "clear\n",
      "copy\n",
      "fromkeys\n",
      "get\n",
      "items\n",
      "keys\n",
      "pop\n",
      "popitem\n",
      "setdefault\n",
      "update\n",
      "values\n"
     ]
    }
   ],
   "source": [
    "print(note := 'what all function does dict supports?')\n",
    "for item in dir(some_dict1):\n",
    "    if not ('__' in item):\n",
    "        print(item)\n"
   ]
  },
  {
   "cell_type": "code",
   "execution_count": 42,
   "metadata": {},
   "outputs": [
    {
     "name": "stdout",
     "output_type": "stream",
     "text": [
      "lets have a look at the set\n",
      "sets are mutable\n",
      "\n",
      "we can create the sets either by using the set() function\n",
      "\n",
      "set()\n",
      "<class 'set'>\n",
      "0x7fef3f35c4a0\n",
      "\n",
      "{1, 2, 3}\n",
      "0x7fef3f35c4a0\n",
      "\n"
     ]
    }
   ],
   "source": [
    "print(note := 'lets have a look at the set')\n",
    "print(note := 'sets are mutable')\n",
    "print()\n",
    "print(note := 'we can create the sets either by using the set() function')\n",
    "some_set1 = set()\n",
    "print()\n",
    "print(some_set1)\n",
    "print(type(some_set1))\n",
    "print(hex(id(some_set1)))\n",
    "print()\n",
    "some_set1.add(1)\n",
    "some_set1.add(2)\n",
    "some_set1.add(3)\n",
    "# set contains only the unique items \n",
    "# we will not see two 1s in out set \n",
    "some_set1.add(1)\n",
    "print(some_set1)\n",
    "print(hex(id(some_set1)))\n",
    "print()"
   ]
  },
  {
   "cell_type": "code",
   "execution_count": 43,
   "metadata": {},
   "outputs": [
    {
     "name": "stdout",
     "output_type": "stream",
     "text": [
      "we can also create set by using the {} brackets\n",
      "we we do not add some values to {} python will assume that you wanted to create an empty dict\n",
      "\n",
      "{'maybe', 'no', 'yes'}\n",
      "<class 'set'>\n",
      "0x7fef3f35c740\n",
      "{1, 2, 3, 'yes', 'no', 'maybe'}\n",
      "0x7fef3f35c740\n",
      "\n"
     ]
    }
   ],
   "source": [
    "print(note := 'we can also create set by using the {} brackets')\n",
    "print(note := 'we we do not add some values to {} python will assume that you wanted to create an empty dict')\n",
    "some_set2 = {'yes', 'no', 'maybe'}\n",
    "print()\n",
    "print(some_set2)\n",
    "print(type(some_set2))\n",
    "print(hex(id(some_set2)))\n",
    "assert type(some_set2) == type(some_set1)\n",
    "\n",
    "some_set2.add(1)\n",
    "some_set2.add(2)\n",
    "some_set2.add(3)\n",
    "print(some_set2)\n",
    "print(hex(id(some_set2)))\n",
    "print()\n"
   ]
  },
  {
   "cell_type": "code",
   "execution_count": 44,
   "metadata": {},
   "outputs": [
    {
     "name": "stdout",
     "output_type": "stream",
     "text": [
      "what all function does set supports?\n",
      "add\n",
      "clear\n",
      "copy\n",
      "difference\n",
      "difference_update\n",
      "discard\n",
      "intersection\n",
      "intersection_update\n",
      "isdisjoint\n",
      "issubset\n",
      "issuperset\n",
      "pop\n",
      "remove\n",
      "symmetric_difference\n",
      "symmetric_difference_update\n",
      "union\n",
      "update\n"
     ]
    }
   ],
   "source": [
    "print(note := 'what all function does set supports?')\n",
    "for item in dir(some_set1):\n",
    "    if not ('__' in item):\n",
    "        print(item)"
   ]
  },
  {
   "cell_type": "code",
   "execution_count": 45,
   "metadata": {},
   "outputs": [
    {
     "name": "stdout",
     "output_type": "stream",
     "text": [
      "now finally lets have a look at the tuples\n",
      "tuples are immutable like strings\n",
      "we can create the tuple either by using the tuple() function\n",
      "\n",
      "()\n",
      "<class 'tuple'>\n",
      "we can not change the above empty tuple, but we can point the \"empty_tuple\" to new tuple/data type\n",
      "\n"
     ]
    }
   ],
   "source": [
    "print(note := 'now finally lets have a look at the tuples')\n",
    "print(note := 'tuples are immutable like strings')\n",
    "print(note := 'we can create the tuple either by using the tuple() function')\n",
    "print()\n",
    "empty_tuple = tuple()\n",
    "print(empty_tuple)\n",
    "print(type(empty_tuple))\n",
    "print(note := 'we can not change the above empty tuple, but we can point the \"empty_tuple\" to new tuple/data type')\n",
    "print()"
   ]
  },
  {
   "cell_type": "code",
   "execution_count": 46,
   "metadata": {},
   "outputs": [
    {
     "name": "stdout",
     "output_type": "stream",
     "text": [
      "we can create tuple by using the () brackets and values separated by comma\n",
      "\n",
      "('yes', 'no', 'maybe')\n",
      "<class 'tuple'>\n",
      "0x7fef3f34e3c0\n",
      "\n"
     ]
    }
   ],
   "source": [
    "print(note := 'we can create tuple by using the () brackets and values separated by comma')\n",
    "print()\n",
    "some_tuple = ('yes', 'no', 'maybe')\n",
    "print(some_tuple)\n",
    "print(type(some_tuple))\n",
    "print(hex(id(some_tuple)))\n",
    "print()"
   ]
  },
  {
   "cell_type": "code",
   "execution_count": 47,
   "metadata": {},
   "outputs": [
    {
     "name": "stdout",
     "output_type": "stream",
     "text": [
      "we can create tuple by using the just the comma separated values\n",
      "\n",
      "('yes', 'no', 'maybe', 'really?')\n",
      "<class 'tuple'>\n",
      "0x7fef3f334810\n"
     ]
    }
   ],
   "source": [
    "print(note := 'we can create tuple by using the just the comma separated values')\n",
    "print()\n",
    "some_tuple = 'yes', 'no', 'maybe', 'really?'\n",
    "print(some_tuple)\n",
    "print(type(some_tuple))\n",
    "print(hex(id(some_tuple)))"
   ]
  },
  {
   "cell_type": "code",
   "execution_count": 48,
   "metadata": {},
   "outputs": [
    {
     "name": "stdout",
     "output_type": "stream",
     "text": [
      "so for tuples , is important than ()\n",
      "below we shall create an int and not the tuple\n",
      "<class 'int'>\n",
      "\n",
      "if we insert the comma we shall have the tuple\n",
      "<class 'tuple'>\n",
      "\n",
      " and as mentioned before we can remove the brackets too\n",
      "<class 'tuple'>\n",
      "\n"
     ]
    }
   ],
   "source": [
    "print(note := 'so for tuples , is important than ()')\n",
    "print(note := 'below we shall create an int and not the tuple')\n",
    "test_tuple = (1)\n",
    "print(type(test_tuple))\n",
    "assert type(test_tuple) != type(some_tuple)\n",
    "print()\n",
    "print(note := 'if we insert the comma we shall have the tuple')\n",
    "test_tuple = (1,)\n",
    "print(type(test_tuple))\n",
    "assert type(test_tuple) == type(some_tuple)\n",
    "print()\n",
    "print(note := ' and as mentioned before we can remove the brackets too')\n",
    "test_tuple = 1,\n",
    "print(type(test_tuple))\n",
    "assert type(test_tuple) == type(some_tuple)\n",
    "print()\n"
   ]
  },
  {
   "cell_type": "code",
   "execution_count": 49,
   "metadata": {},
   "outputs": [
    {
     "name": "stdout",
     "output_type": "stream",
     "text": [
      "what all function does tuples supports?\n",
      "count\n",
      "index\n"
     ]
    }
   ],
   "source": [
    "print(note := 'what all function does tuples supports?')\n",
    "for item in dir(some_tuple):\n",
    "    if not ('__' in item):\n",
    "        print(item)"
   ]
  },
  {
   "cell_type": "code",
   "execution_count": 52,
   "metadata": {},
   "outputs": [
    {
     "name": "stdout",
     "output_type": "stream",
     "text": [
      "lets look at another scenario with mutable and immutable in context of function\n",
      "[1, 2, 3, 4, '5']\n",
      "{'no', 'really', 'yes'}\n"
     ]
    }
   ],
   "source": [
    "print( note:= 'lets look at another scenario with mutable and immutable in context of function')\n",
    "# both set and list are mutable \n",
    "sl = [1,2,3,4]\n",
    "ss = {'yes', 'no'}\n",
    "\n",
    "# tuple is immutable that is we can't modify it \n",
    "# which basically translates to that we an't add more item to this tuple\n",
    "st = ( sl, ss )\n",
    "\n",
    "def modify(t):\n",
    "    # we can't modify the touple itself, but can modify the mutable ds inside it \n",
    "    t[0].append('5')\n",
    "    t[1].add('really')\n",
    "\n",
    "modify(st)\n",
    "\n",
    "# and we an see the impact on the global list and set created earlier \n",
    "print(sl)\n",
    "print(ss)"
   ]
  },
  {
   "cell_type": "code",
   "execution_count": 53,
   "metadata": {},
   "outputs": [
    {
     "name": "stdout",
     "output_type": "stream",
     "text": [
      "and finally coming back to the truthy and falsy behaviour in python\n",
      "\n",
      "An empty sequence type object or mapping type is Falsy, a non-empty one is truthy\n",
      "\n",
      "True False\n",
      "True False\n",
      "True False\n",
      "True False\n"
     ]
    }
   ],
   "source": [
    "print( note:= 'and finally coming back to the truthy and falsy behaviour in python')\n",
    "print()\n",
    "print(note := 'An empty sequence type object or mapping type is Falsy, a non-empty one is truthy')\n",
    "print()\n",
    "print(bool([1]), bool([]))\n",
    "print(bool({'yes'}), bool({}))\n",
    "print(bool(('yes',)), bool(tuple()))\n",
    "print(bool({'yes':'no'}), bool(set()))\n"
   ]
  },
  {
   "cell_type": "markdown",
   "metadata": {},
   "source": [
    "## That's all folks "
   ]
  },
  {
   "cell_type": "code",
   "execution_count": null,
   "metadata": {},
   "outputs": [],
   "source": []
  }
 ],
 "metadata": {
  "kernelspec": {
   "display_name": "Python 3",
   "language": "python",
   "name": "python3"
  },
  "language_info": {
   "codemirror_mode": {
    "name": "ipython",
    "version": 3
   },
   "file_extension": ".py",
   "mimetype": "text/x-python",
   "name": "python",
   "nbconvert_exporter": "python",
   "pygments_lexer": "ipython3",
   "version": "3.9.0"
  }
 },
 "nbformat": 4,
 "nbformat_minor": 4
}
