{
 "cells": [
  {
   "cell_type": "code",
   "execution_count": 1,
   "metadata": {},
   "outputs": [
    {
     "name": "stdout",
     "output_type": "stream",
     "text": [
      "Hello World!!\n",
      "Hello World!!\n",
      "\n",
      "We are using python with version as  3.9.0\n"
     ]
    }
   ],
   "source": [
    "print(note := \"Hello World!!\")\n",
    "# we will use/abuse walrus operator \n",
    "print(note)\n",
    "print()\n",
    "import platform\n",
    "print(note := \"We are using python with version as \" , platform.python_version())\n",
    "import sys"
   ]
  },
  {
   "cell_type": "code",
   "execution_count": 2,
   "metadata": {},
   "outputs": [
    {
     "name": "stdout",
     "output_type": "stream",
     "text": [
      "In This session we will learn about Mutable and Immutable types while learning about different inbuilt python data structures and types,and will also peek under the hood\n"
     ]
    }
   ],
   "source": [
    "print(note := \"In This session we will learn about Mutable and Immutable types \\\n",
    "while learning about different inbuilt python data structures and types,\\\n",
    "and will also peek under the hood\")"
   ]
  },
  {
   "cell_type": "markdown",
   "metadata": {},
   "source": [
    "## Lets first have a look at the basic types "
   ]
  },
  {
   "cell_type": "code",
   "execution_count": 3,
   "metadata": {},
   "outputs": [
    {
     "name": "stdout",
     "output_type": "stream",
     "text": [
      "If I have to utter only one things about python thenit will be that everything in python is an object\n",
      "\n"
     ]
    }
   ],
   "source": [
    "print(note := 'If I have to utter only one things about python then\\\n",
    "it will be that everything in python is an object')\n",
    "print()"
   ]
  },
  {
   "cell_type": "code",
   "execution_count": 4,
   "metadata": {},
   "outputs": [
    {
     "name": "stdout",
     "output_type": "stream",
     "text": [
      "lets first have a look at the most basic type that is int\n",
      "\n",
      "we can either create an int via int() i.e. int constructor,this is the approach with object oriented languages take\n",
      "\n",
      "<class 'int'>\n"
     ]
    }
   ],
   "source": [
    "print(note := 'lets first have a look at the most basic type that is int')\n",
    "print()\n",
    "print(\"we can either create an int via int() i.e. int constructor,\\\n",
    "this is the approach with object oriented languages take\")\n",
    "print()\n",
    "x = int()\n",
    "print(type(x))"
   ]
  },
  {
   "cell_type": "code",
   "execution_count": 5,
   "metadata": {},
   "outputs": [
    {
     "name": "stdout",
     "output_type": "stream",
     "text": [
      "or we can assign an int type value to a variable and python will automatically pick the type as int,this is the ducktyping approach\n",
      "\n",
      "<class 'int'>\n"
     ]
    }
   ],
   "source": [
    "print(note := \"or we can assign an int type value to a variable \\\n",
    "and python will automatically pick the type as int,\\\n",
    "this is the ducktyping approach\")\n",
    "print()\n",
    "y = 1000\n",
    "print(type(y))"
   ]
  },
  {
   "cell_type": "code",
   "execution_count": 6,
   "metadata": {},
   "outputs": [
    {
     "name": "stdout",
     "output_type": "stream",
     "text": [
      "As everything in python is an object, there is an overhead even for the simplest of the things\n",
      "\n",
      "An int is though 4 byte but we get a much bigger space usage, because of the overhead\n",
      "28\n",
      "\n",
      "For a variable with no value assigned we can see the 4 byte difference\n",
      "24\n",
      "\n"
     ]
    }
   ],
   "source": [
    "print(note := 'As everything in python is an object, there is an overhead even for the simplest of the things')\n",
    "print()\n",
    "print(note := 'An int is though 4 byte but we get a much bigger space usage, because of the overhead')\n",
    "print(sys.getsizeof(y))\n",
    "print()\n",
    "print(note := 'For a variable with no value assigned we can see the 4 byte difference')\n",
    "print(sys.getsizeof(x))\n",
    "print()"
   ]
  },
  {
   "cell_type": "code",
   "execution_count": 7,
   "metadata": {},
   "outputs": [
    {
     "name": "stdout",
     "output_type": "stream",
     "text": [
      "so that means the bigger number needs more storage space\n",
      "\n",
      "<class 'int'>\n",
      "60\n"
     ]
    }
   ],
   "source": [
    "print(note := 'so that means the bigger number needs more storage space')\n",
    "print()\n",
    "# ** is the exponential operator\n",
    "z = 10000 ** 20\n",
    "print(type(z))\n",
    "print(sys.getsizeof(z))"
   ]
  },
  {
   "cell_type": "code",
   "execution_count": 8,
   "metadata": {},
   "outputs": [
    {
     "name": "stdout",
     "output_type": "stream",
     "text": [
      "python also supports the _  in numbers to make them more readable\n",
      "1000000000 can be hard to read, but  1000_000_000 is as easy as it comes\n",
      "\n",
      "1000000000\n",
      "<class 'int'>\n",
      "28\n"
     ]
    }
   ],
   "source": [
    "print(note := 'python also supports the _  in numbers to make them more readable')\n",
    "print(note := '1000000000 can be hard to read, but  1000_000_000 is as easy as it comes')\n",
    "print()\n",
    "a = 1000_000_000\n",
    "print(a)\n",
    "print(type(a))\n",
    "print(sys.getsizeof(a))\n"
   ]
  },
  {
   "cell_type": "code",
   "execution_count": 9,
   "metadata": {},
   "outputs": [
    {
     "name": "stdout",
     "output_type": "stream",
     "text": [
      "int * int shall give us another int\n",
      "100000000000000000000000000000000000000000000000000000000000000000000000000000000000\n",
      "<class 'int'>\n",
      "\n",
      "int / int shall give us float\n",
      "1e+77\n",
      "<class 'float'>\n",
      "\n",
      "100000000000000000000000000000000000000000000000000000000000000000000000000000\n",
      "int // int i.e the floor operation shall give us int\n",
      "<class 'int'>\n",
      "\n",
      "0\n",
      "int % int i.e the modulo operation shall give us int\n",
      "<class 'int'>\n",
      "\n",
      "Remember this from school days ?\n",
      "a = b * (a // b) + a % b\n",
      "above shall always be true\n"
     ]
    }
   ],
   "source": [
    "print(note := 'int * int shall give us another int')\n",
    "print(z*y)\n",
    "print(type(z * y))\n",
    "print()\n",
    "\n",
    "print(note := 'int / int shall give us float')\n",
    "print(z/y)\n",
    "print(type(z / y))\n",
    "print()\n",
    "\n",
    "print(z//y)\n",
    "print(note := 'int // int i.e the floor operation shall give us int')\n",
    "print(type(z // y))\n",
    "print()\n",
    "\n",
    "print(z%y)\n",
    "print(note := 'int % int i.e the modulo operation shall give us int')\n",
    "print(type(z % y))\n",
    "print()\n",
    "\n",
    "print(note := 'Remember this from school days ?')\n",
    "print(note := 'a = b * (a // b) + a % b')\n",
    "print(note := 'above shall always be true')\n",
    "assert z == (y * (z // y) + z % y)"
   ]
  },
  {
   "cell_type": "code",
   "execution_count": 10,
   "metadata": {},
   "outputs": [
    {
     "name": "stdout",
     "output_type": "stream",
     "text": [
      "good habit to discover more about objects in python is to always run dir() on the things/object you are working on\n",
      "\n",
      "int type supports many functionality like\n",
      "['__abs__', '__add__', '__and__', '__bool__', '__ceil__', '__class__', '__delattr__', '__dir__', '__divmod__', '__doc__', '__eq__', '__float__', '__floor__', '__floordiv__', '__format__', '__ge__', '__getattribute__', '__getnewargs__', '__gt__', '__hash__', '__index__', '__init__', '__init_subclass__', '__int__', '__invert__', '__le__', '__lshift__', '__lt__', '__mod__', '__mul__', '__ne__', '__neg__', '__new__', '__or__', '__pos__', '__pow__', '__radd__', '__rand__', '__rdivmod__', '__reduce__', '__reduce_ex__', '__repr__', '__rfloordiv__', '__rlshift__', '__rmod__', '__rmul__', '__ror__', '__round__', '__rpow__', '__rrshift__', '__rshift__', '__rsub__', '__rtruediv__', '__rxor__', '__setattr__', '__sizeof__', '__str__', '__sub__', '__subclasshook__', '__truediv__', '__trunc__', '__xor__', 'as_integer_ratio', 'bit_length', 'conjugate', 'denominator', 'from_bytes', 'imag', 'numerator', 'real', 'to_bytes']\n"
     ]
    }
   ],
   "source": [
    "print(note := 'good habit to discover more about objects in python is to always run \\\n",
    "dir() on the things/object you are working on')\n",
    "print()\n",
    "\n",
    "print(note := 'int type supports many functionality like')\n",
    "print(dir(int))"
   ]
  },
  {
   "cell_type": "code",
   "execution_count": 11,
   "metadata": {},
   "outputs": [
    {
     "name": "stdout",
     "output_type": "stream",
     "text": [
      "int constructor is smart ... converts floats/fractions to int\n",
      "\n",
      "\n",
      "int type need not be a number of base 10, python has constructor to initiate the int with different type of base\n",
      "\n",
      "but when we create a number of diff base wehave to pass the string representation of the number\n",
      "\n",
      "21\n",
      "\n",
      "21\n",
      "\n"
     ]
    }
   ],
   "source": [
    "print(note := 'int constructor is smart ... converts floats/fractions to int')\n",
    "print()\n",
    "\n",
    "assert int(1.9) == int(1)\n",
    "assert int(4/3) == int(1)\n",
    "\n",
    "print()\n",
    "print(note := 'int type need not be a number of base 10, python has \\\n",
    "constructor to initiate the int with different type of base')\n",
    "print()\n",
    "\n",
    "print(note := 'but when we create a number of diff base we\\\n",
    "have to pass the string representation of the number')\n",
    "print()\n",
    "\n",
    "b1 = int('10101', 2)\n",
    "print(b1)\n",
    "print()\n",
    "\n",
    "b2 = int('10101', base=2)\n",
    "print(b2)\n",
    "print()\n",
    "\n",
    "assert b1 == b2 "
   ]
  },
  {
   "cell_type": "code",
   "execution_count": 12,
   "metadata": {},
   "outputs": [
    {
     "name": "stdout",
     "output_type": "stream",
     "text": [
      "python uses English letters for higher bases, and they are case insensitive\n",
      "\n",
      "4731 4731\n"
     ]
    }
   ],
   "source": [
    "print(note := 'python uses English letters for higher bases, and they are case insensitive')\n",
    "print()\n",
    "\n",
    "h1 = int('EAF', 18)\n",
    "h2 = int('eaf', base=18)\n",
    "assert h1 == h2\n",
    "\n",
    "print(h1, h2)"
   ]
  },
  {
   "cell_type": "code",
   "execution_count": 13,
   "metadata": {},
   "outputs": [
    {
     "name": "stdout",
     "output_type": "stream",
     "text": [
      "we also have built in base representation to make life of programmer easier\n",
      "\n",
      "hex  starts with 0x / 0X\n",
      "0x64\n",
      "\n",
      "bin starts with 0b / 0B\n",
      "0b1100100\n",
      "\n",
      "oct starts with 0o / 0O\n",
      "0o144\n",
      "\n"
     ]
    }
   ],
   "source": [
    "print(note := 'we also have built in base representation to make life of programmer easier')\n",
    "print()\n",
    "\n",
    "print(note := 'hex  starts with 0x / 0X')\n",
    "print(hex(100))\n",
    "print()\n",
    "\n",
    "print(note := 'bin starts with 0b / 0B')\n",
    "print(bin(100))\n",
    "print()\n",
    "\n",
    "print(note := 'oct starts with 0o / 0O')\n",
    "print(oct(100))\n",
    "print()"
   ]
  },
  {
   "cell_type": "code",
   "execution_count": 14,
   "metadata": {},
   "outputs": [
    {
     "name": "stdout",
     "output_type": "stream",
     "text": [
      "we can use the 0x, 0b, 0o to specify the number of particular base\n",
      "underscores are supported, just dont use them at the start of the number\n",
      "\n",
      "0xFF == 255\n",
      "\n",
      "0b_11_11 == 15\n",
      "\n",
      "0o76 == 62\n",
      "\n"
     ]
    }
   ],
   "source": [
    "print(note := 'we can use the 0x, 0b, 0o to specify the number of particular base')\n",
    "print(note := 'underscores are supported, just dont use them at the start of the number')\n",
    "print()\n",
    "\n",
    "h = '0xFF'\n",
    "# underscores works even here\n",
    "b = '0b_11_11'\n",
    "o = '0o76'\n",
    "\n",
    "# end specify the 'end of line' character you want to specify \n",
    "print(h, end=' == ')\n",
    "print(int(h, 16))\n",
    "print()\n",
    "\n",
    "print(b, end=' == ')\n",
    "print(int(b, 2))\n",
    "print()\n",
    "\n",
    "print(o, end=' == ')\n",
    "print(int(o, 8))\n",
    "print()"
   ]
  },
  {
   "cell_type": "code",
   "execution_count": 57,
   "metadata": {},
   "outputs": [
    {
     "name": "stdout",
     "output_type": "stream",
     "text": [
      "int object are immutable - but what does that means ?\n",
      "below statement internally translate to var pointing to an int object with 1000 as values\n",
      "\n",
      "below statement internally translate to b_var pointing to the same int object as that of var\n",
      "\n",
      "lets check the addres of var and b_var variable, both should be same\n",
      "0x7fd229d51290\n",
      "0x7fd229d51290\n",
      "\n",
      "lets do addition of 1 to var\n",
      "\n",
      "lets again check the address of var variable\n",
      "0x7fd229d21930\n",
      "\n",
      "now the var variable is pointing to new int object in the memory\n"
     ]
    }
   ],
   "source": [
    "print(note := \"int object are immutable - but what does that means ?\")\n",
    "print(note := \"below statement internally translate to var pointing to an int object with 1000 as values\")\n",
    "var = 200\n",
    "print()\n",
    "\n",
    "print(note := \"below statement internally translate to b_var pointing to the same int object as that of var\")\n",
    "b_var = var\n",
    "print()\n",
    "\n",
    "print(note := \"lets check the addres of var and b_var variable, both should be same\")\n",
    "print(oa := hex(id(var)))\n",
    "print(ob := hex(id(b_var)))\n",
    "assert oa == ob\n",
    "print()\n",
    "\n",
    "print(note := \"lets do addition of 1 to var\")\n",
    "var=+1\n",
    "print()\n",
    "\n",
    "print(note := \"lets again check the address of var variable\")\n",
    "print(na := hex(id(var)))\n",
    "print()\n",
    "\n",
    "print(note := \"now the var variable is pointing to new int object in the memory\")\n",
    "assert oa != na\n"
   ]
  },
  {
   "cell_type": "code",
   "execution_count": 61,
   "metadata": {},
   "outputs": [
    {
     "name": "stdout",
     "output_type": "stream",
     "text": [
      "when we assigned b_var = var, b_var was pointing to the int object with 1000 value\n",
      "200\n",
      "\n",
      "when we changed the value of var, var pointed to new int object,but b_var remains pointing to int object with 1000 value\n",
      "\n",
      "lets check the addres of b_var variable\n",
      "0x7fd229d51290\n",
      "\n",
      "python does optimization for integers ... called integer interning\n",
      "same integer values would/should have same address, what range of numbers shall be interned will depend on the complier/platform used\n",
      "\n",
      "200\n",
      "0x7fd229d51290\n",
      "\n"
     ]
    }
   ],
   "source": [
    "print(note := \"when we assigned b_var = var, b_var was pointing to the int object with 1000 value\")\n",
    "print(b_var)\n",
    "print()\n",
    "\n",
    "print(note := \"when we changed the value of var, var pointed to new int object,\\\n",
    "but b_var remains pointing to int object with 1000 value\")\n",
    "print()\n",
    "\n",
    "print(note := \"lets check the addres of b_var variable\")\n",
    "print(hex(id(b_var)))\n",
    "print()\n",
    "\n",
    "assert ob == hex(id(b_var))\n",
    "assert oa == hex(id(b_var))\n",
    "\n",
    "print(note := \"python does optimization for integers ... called integer interning\")\n",
    "print(note := \"same integer values would/should have same address, \\\n",
    "what range of numbers shall be interned will depend on the complier/platform used\")\n",
    "print()\n",
    "c_var = 200\n",
    "print(c_var)\n",
    "print(hex(id(c_var)))\n",
    "print()"
   ]
  },
  {
   "cell_type": "code",
   "execution_count": 62,
   "metadata": {},
   "outputs": [
    {
     "name": "stdout",
     "output_type": "stream",
     "text": [
      "as soon as we tried to modify an int object python would create/assign new object rather than changing the data in old object\n",
      "\n",
      "this in nutshell is the immutable behaviour of an object/data type/data structure\n",
      "\n"
     ]
    }
   ],
   "source": [
    "print(note := \"as soon as we tried to modify an int object python \\\n",
    "would create/assign new object rather than changing the data in old object\")\n",
    "print()\n",
    "\n",
    "print(note:= \"this in nutshell is the immutable behaviour of an object/data type/data structure\")\n",
    "print()"
   ]
  },
  {
   "cell_type": "code",
   "execution_count": 18,
   "metadata": {},
   "outputs": [
    {
     "name": "stdout",
     "output_type": "stream",
     "text": [
      "python also supports the boolean type\n",
      "\n",
      "t is if type  <class 'bool'>  and has address as  0x10a213270\n",
      "f is of type  <class 'bool'>  and has address as  0x10a213548\n",
      "\n",
      "True and false will always point to a fixed memory address,i.e. python has fixed true and false location in the memory\n",
      "\n",
      "so when we do comparision the result would be True/false pointingto same memory address/fixed object\n",
      "\n",
      "0x10a213270\n",
      "0x10a213548\n",
      "\n"
     ]
    }
   ],
   "source": [
    "print(note := 'python also supports the boolean type')\n",
    "t = True\n",
    "f = False\n",
    "print()\n",
    "\n",
    "print('t is if type ', type(t), ' and has address as ', hex(id(t)))\n",
    "print('f is of type ', type(f), ' and has address as ', hex(id(f)))\n",
    "print()\n",
    "\n",
    "print(note := 'True and false will always point to a fixed memory address,\\\n",
    "i.e. python has fixed true and false location in the memory')\n",
    "print()\n",
    "\n",
    "print(note:= 'so when we do comparision the result would be True/false pointing\\\n",
    "to same memory address/fixed object')\n",
    "print()\n",
    "print(hex(id(10 > 1)))\n",
    "print(hex(id(10 < 1)))\n",
    "print()\n",
    "\n",
    "assert hex(id(t)) == hex(id(10 > 1))\n",
    "assert hex(id(f)) == hex(id(10 < 1))"
   ]
  },
  {
   "cell_type": "code",
   "execution_count": 19,
   "metadata": {},
   "outputs": [
    {
     "name": "stdout",
     "output_type": "stream",
     "text": [
      "python has the function issubclass and isinstance to check if one class is a subclass of another\n",
      "this translates to similiar concepts in other object oriented programming languages like inheritance\n",
      "\n",
      "bool is subclass of int, and if we convert them to int we shall get 1 and 0\n",
      "\n",
      "1\n",
      "True\n",
      "\n",
      "0\n",
      "False\n",
      "\n",
      "True and False are instance of bool, and by inheritance are also instance of int\n"
     ]
    }
   ],
   "source": [
    "print(note := 'python has the function issubclass and isinstance to check if one class is a subclass of another')\n",
    "print(note := 'this translates to similiar concepts in other object oriented programming languages like inheritance')\n",
    "print()\n",
    "\n",
    "if issubclass(bool, int):\n",
    "    print(note := 'bool is subclass of int, and if we convert them to int we shall get 1 and 0')\n",
    "    print()\n",
    "    \n",
    "    print(int(t))\n",
    "    print(t)\n",
    "    print()\n",
    "    \n",
    "    print(int(f))\n",
    "    print(f)\n",
    "    print()\n",
    "    \n",
    "    if isinstance(t, int) and isinstance(f, bool):\n",
    "        print(note := 'True and False are instance of bool, and by inheritance are also instance of int')\n"
   ]
  },
  {
   "cell_type": "code",
   "execution_count": 63,
   "metadata": {},
   "outputs": [
    {
     "name": "stdout",
     "output_type": "stream",
     "text": [
      "bool of non zero value returns True, and zero value returns False\n",
      "True True True False False\n",
      "\n",
      "but the above behavior happens because int, float have __bool__ implemented, refer back to dir of int\n",
      "\n",
      "True True True\n",
      "\n",
      "if we are creating own class and if we add __bool__ to the class, bool would map to this method/attribute\n",
      "we will look at it when we have session about the classes in python\n",
      "\n",
      "we will further look at bool behaviour when we touch strings and other data structures\n",
      "\n"
     ]
    }
   ],
   "source": [
    "print(note := 'bool of non zero value returns True, and zero value returns False')\n",
    "print(bool(1), bool(-1), bool(0.5), bool(None), bool(0))\n",
    "print()\n",
    "\n",
    "print(note := 'but the above behavior happens because int, float have __bool__ implemented,\\\n",
    " refer back to dir of int')\n",
    "print()\n",
    "print((1).__bool__(), (-1).__bool__(), (0.5).__bool__())\n",
    "print()\n",
    "\n",
    "print(note:= 'if we are creating own class and if we add __bool__ to the class, bool would map to this method/attribute')\n",
    "print(note:= 'we will look at it when we have session about the classes in python')\n",
    "print()\n",
    "\n",
    "print(note := 'we will further look at bool behaviour when we touch strings and other data structures')\n",
    "print()"
   ]
  },
  {
   "cell_type": "code",
   "execution_count": 21,
   "metadata": {},
   "outputs": [
    {
     "name": "stdout",
     "output_type": "stream",
     "text": [
      "Now quickly have a look at the float types\n",
      "\n",
      "we can create float by either the float() constructor\n",
      "<class 'float'>\n",
      "24\n",
      "\n"
     ]
    }
   ],
   "source": [
    "print(note := 'Now quickly have a look at the float types')\n",
    "print()\n",
    "\n",
    "print(note := 'we can create float by either the float() constructor')\n",
    "f = float()\n",
    "print(type(f))\n",
    "print(sys.getsizeof(f))\n",
    "print()"
   ]
  },
  {
   "cell_type": "code",
   "execution_count": 22,
   "metadata": {},
   "outputs": [
    {
     "name": "stdout",
     "output_type": "stream",
     "text": [
      "or we can assign a float value to varaible and let python take care of calling the constructer\n",
      "24\n",
      "\n",
      "notice how size of float didnt change like int, its all the internal detail based on the float representation\n",
      "\n"
     ]
    }
   ],
   "source": [
    "print(note := 'or we can assign a float value to varaible and let python take care of calling the constructer')\n",
    "pi = 3.141592653589793238462643383279502884197169399375105820974944592307816406286208998628034825342117067982148086513282306647093844609550582231725359408128481\n",
    "print(sys.getsizeof(pi))\n",
    "print()\n",
    "\n",
    "print(note := 'notice how size of float didnt change like int,\\\n",
    " its all the internal detail based on the float representation')\n",
    "print()"
   ]
  },
  {
   "cell_type": "code",
   "execution_count": 23,
   "metadata": {},
   "outputs": [
    {
     "name": "stdout",
     "output_type": "stream",
     "text": [
      "unlike int float has a single constructor that takes a number or string representation of number and returns a float value\n",
      "\n",
      "1.0\n",
      "1.0\n",
      "1.7\n",
      "1.7\n",
      "1000.7\n",
      "\n"
     ]
    }
   ],
   "source": [
    "print(note := 'unlike int float has a single constructor that takes a\\\n",
    " number or string representation of number and returns a float value')\n",
    "print()\n",
    "\n",
    "print(float(1))\n",
    "print(float('1'))\n",
    "print(float(1.7))\n",
    "print(float('1.7'))\n",
    "# we can use underscore in the integer part of number\n",
    "print(float(1_000.7))\n",
    "print()"
   ]
  },
  {
   "cell_type": "code",
   "execution_count": 24,
   "metadata": {},
   "outputs": [
    {
     "name": "stdout",
     "output_type": "stream",
     "text": [
      "float type supports many functionality, like i said before always run \"dir\" on object to peak inside, its a good habit and almost always reveals something new about objects\n",
      "\n",
      "['__abs__', '__add__', '__bool__', '__ceil__', '__class__', '__delattr__', '__dir__', '__divmod__', '__doc__', '__eq__', '__float__', '__floor__', '__floordiv__', '__format__', '__ge__', '__getattribute__', '__getformat__', '__getnewargs__', '__gt__', '__hash__', '__init__', '__init_subclass__', '__int__', '__le__', '__lt__', '__mod__', '__mul__', '__ne__', '__neg__', '__new__', '__pos__', '__pow__', '__radd__', '__rdivmod__', '__reduce__', '__reduce_ex__', '__repr__', '__rfloordiv__', '__rmod__', '__rmul__', '__round__', '__rpow__', '__rsub__', '__rtruediv__', '__set_format__', '__setattr__', '__sizeof__', '__str__', '__sub__', '__subclasshook__', '__truediv__', '__trunc__', 'as_integer_ratio', 'conjugate', 'fromhex', 'hex', 'imag', 'is_integer', 'real']\n",
      "\n",
      "float also implements __bool__ that is called when we do bool()\n",
      "\n"
     ]
    }
   ],
   "source": [
    "print(note := 'float type supports many functionality, like i said before\\\n",
    " always run \"dir\" on object to peak inside, its a good habit and almost always reveals something new about objects')\n",
    "print()\n",
    "\n",
    "print(dir(float))\n",
    "print()\n",
    "\n",
    "print(note := 'float also implements __bool__ that is called when we do bool()')\n",
    "print()"
   ]
  },
  {
   "cell_type": "code",
   "execution_count": 25,
   "metadata": {},
   "outputs": [
    {
     "name": "stdout",
     "output_type": "stream",
     "text": [
      "we can get the float number as the integer ratio, refer to above dir of float\n",
      "\n",
      "0.3333333333333333 == (6004799503160661, 18014398509481984)\n",
      "\n",
      "0.33 == (5944751508129055, 18014398509481984)\n",
      "\n",
      "we can check if float value is basically an int\n",
      "\n",
      "False\n",
      "False\n",
      "\n",
      "True\n",
      "\n"
     ]
    }
   ],
   "source": [
    "print(note := 'we can get the float number as the integer ratio, refer to above dir of float')\n",
    "f1 = float(1 / 3)\n",
    "f2 = float('.33')\n",
    "print()\n",
    "\n",
    "print(f1, end=' == ')\n",
    "print(f1.as_integer_ratio())\n",
    "print()\n",
    "\n",
    "print(f2, end=' == ')\n",
    "print(f2.as_integer_ratio())\n",
    "print()\n",
    "\n",
    "print(note := 'we can check if float value is basically an int')\n",
    "print()\n",
    "print(f1.is_integer())\n",
    "print(f2.is_integer())\n",
    "print()\n",
    "f3 = 1.0\n",
    "print(f3.is_integer())\n",
    "print()\n"
   ]
  },
  {
   "cell_type": "code",
   "execution_count": 26,
   "metadata": {},
   "outputs": [
    {
     "name": "stdout",
     "output_type": "stream",
     "text": [
      "3.142857142857143\n",
      "\n",
      "we can`t pass a string with fractions , i.e. string representation like `22/7` to float\n",
      "\n"
     ]
    }
   ],
   "source": [
    "print(float(22 / 7))\n",
    "print()\n",
    "\n",
    "try:\n",
    "    float('22/7')\n",
    "except ValueError:\n",
    "    print('we can`t pass a string with fractions , i.e. string representation like `22/7` to float')\n",
    "print()\n"
   ]
  },
  {
   "cell_type": "code",
   "execution_count": 27,
   "metadata": {},
   "outputs": [
    {
     "name": "stdout",
     "output_type": "stream",
     "text": [
      "float doesnt necessarily have the exact representation for all numbers, the magic of ratio of 2s come into picture\n",
      "\n",
      "Floating-point numbers are represented in computer hardware as base 2 (binary) fractions.\n",
      "\n",
      "though the above two numbers should have same value but if wecheck out enough precision point, we will see the difference\n",
      "\n",
      "0.30000000000000004\n",
      "0.3\n",
      "\n"
     ]
    }
   ],
   "source": [
    "print(note := 'float doesnt necessarily have the exact representation for all numbers, \\\n",
    "the magic of ratio of 2s come into picture')\n",
    "print()\n",
    "\n",
    "print(note := 'Floating-point numbers are represented in \\\n",
    "computer hardware as base 2 (binary) fractions.')\n",
    "print()\n",
    "\n",
    "fa = 0.1 + 0.1 + 0.1\n",
    "fb = 0.3\n",
    "print(note := 'though the above two numbers should have same value but if we\\\n",
    "check out enough precision point, we will see the difference')\n",
    "print()\n",
    "\n",
    "print(fa)\n",
    "print(fb)\n",
    "assert fa != fb\n",
    "print()"
   ]
  },
  {
   "cell_type": "code",
   "execution_count": 28,
   "metadata": {},
   "outputs": [
    {
     "name": "stdout",
     "output_type": "stream",
     "text": [
      "This difference is quite apparent if we get the fraction representation of float value\n",
      "\n",
      "0.30000000000000004 == (1351079888211149, 4503599627370496)\n",
      "\n",
      "0.3 == (5404319552844595, 18014398509481984)\n",
      "\n"
     ]
    }
   ],
   "source": [
    "print(note := 'This difference is quite apparent if we get the fraction representation of float value')\n",
    "print()\n",
    "\n",
    "print(fa, end=' == ')\n",
    "print(fa.as_integer_ratio())\n",
    "print()\n",
    "\n",
    "print(fb, end=' == ')\n",
    "print(fb.as_integer_ratio())\n",
    "print()"
   ]
  },
  {
   "cell_type": "code",
   "execution_count": 29,
   "metadata": {},
   "outputs": [
    {
     "name": "stdout",
     "output_type": "stream",
     "text": [
      "But we can use the `round` function for approximate comparison, again refer to dir of float\n",
      "\n",
      "0.3 == 0.3\n",
      "\n"
     ]
    }
   ],
   "source": [
    "print(note := 'But we can use the `round` function for approximate comparison, again refer to dir of float')\n",
    "print()\n",
    "\n",
    "assert round(fa, 8) == round(fb, 8)\n",
    "print(round(fa, 8), end=' == ')\n",
    "print(round(fb, 8))\n",
    "print()\n"
   ]
  },
  {
   "cell_type": "code",
   "execution_count": 30,
   "metadata": {},
   "outputs": [
    {
     "name": "stdout",
     "output_type": "stream",
     "text": [
      "coming back to mutable and immitable behaviour... float types are also immutable, that means if we change the value of a float types,python will point the variable refernce to a new float object\n",
      "\n",
      "0x7fd22db22590\n",
      "\n",
      "0x7fd22dc800f0\n",
      "\n"
     ]
    }
   ],
   "source": [
    "print(note := 'coming back to mutable and immitable behaviour... \\\n",
    "float types are also immutable, that means if we change the value of a float types,\\\n",
    "python will point the variable refernce to a new float object')\n",
    "print()\n",
    "\n",
    "sf = 2.14\n",
    "print(hex(id(sf)))\n",
    "print()\n",
    "\n",
    "sf+=1.0\n",
    "print(hex(id(sf)))\n",
    "print()"
   ]
  },
  {
   "cell_type": "code",
   "execution_count": 31,
   "metadata": {},
   "outputs": [
    {
     "name": "stdout",
     "output_type": "stream",
     "text": [
      "now we will look at the strings\n",
      "\n",
      "either we can create the string via constuctor\n",
      "<class 'str'>\n",
      "0x7fd229d4f670\n",
      "\n",
      "or we can use let python do the work\n",
      "<class 'str'>\n",
      "0x7fd229d4f670\n",
      "\n"
     ]
    }
   ],
   "source": [
    "print(note := 'now we will look at the strings')\n",
    "print()\n",
    "\n",
    "print(note := 'either we can create the string via constuctor')\n",
    "a = str()\n",
    "# we can also do str('') with same result\n",
    "print(type(a))\n",
    "print(aa:= hex(id(a)))\n",
    "print()\n",
    "\n",
    "print(note := 'or we can use let python do the work')\n",
    "b = ''\n",
    "print(type(b))\n",
    "print( ab := hex(id(b)))\n",
    "print()\n",
    "\n",
    "\n"
   ]
  },
  {
   "cell_type": "code",
   "execution_count": 32,
   "metadata": {},
   "outputs": [
    {
     "name": "stdout",
     "output_type": "stream",
     "text": [
      "did you notice how both address are same?\n",
      "python do lot of optimization to make things run faster, one of them is string interning\n",
      "we will surely look at optimization that python does in future sessions\n",
      "\n",
      "same stings would/can point to same address,how this behaviour actually implemented depends on the compiler/platform\n",
      "\n",
      "love*\n",
      "0x7fd22dc81a30\n",
      "\n",
      "love*\n",
      "0x7fd22dc81d30\n",
      "\n",
      "they may or may not have same adress but they will have same hash value\n",
      "\n",
      "these hash values are used by dict to find the keys,and to ensure we dont have duplicate keys ever in our dict\n",
      "this is also used by sets to ensure we never have duplicate items in the sets\n",
      "\n",
      "0x4bfc68d029d3fbe5\n",
      "0x4bfc68d029d3fbe5\n",
      "\n"
     ]
    }
   ],
   "source": [
    "print(note := 'did you notice how both address are same?')\n",
    "print(note := 'python do lot of optimization to make things run faster, one of them is string interning')\n",
    "print(note := 'we will surely look at optimization that python does in future sessions')\n",
    "print()\n",
    "\n",
    "print(note := 'same stings would/can point to same address,\\\n",
    "how this behaviour actually implemented depends on the compiler/platform')\n",
    "print()\n",
    "\n",
    "a = a + \"love*\"\n",
    "b = b + \"love*\"\n",
    "\n",
    "print(a)\n",
    "print(hex(id(a)))\n",
    "# when we change the value of the a to \"love\" we get a new address \n",
    "assert aa !=  hex(id(a))\n",
    "print()\n",
    "\n",
    "print(b)\n",
    "print(hex(id(b)))\n",
    "# when we change the value of the b to \"love\" we get a new address \n",
    "assert ab != hex(id(b))\n",
    "print()\n",
    "\n",
    "print(note:= 'they may or may not have same adress but they will have same hash value')\n",
    "print()\n",
    "print(note:= 'these hash values are used by dict to find the keys,\\\n",
    "and to ensure we dont have duplicate keys ever in our dict')\n",
    "print(note:= 'this is also used by sets to ensure we never have duplicate items in the sets')\n",
    "print()\n",
    "\n",
    "print(hex(hash(b)))\n",
    "print(hex(hash(a)))\n",
    "print()"
   ]
  },
  {
   "cell_type": "code",
   "execution_count": 33,
   "metadata": {},
   "outputs": [
    {
     "name": "stdout",
     "output_type": "stream",
     "text": [
      "so basically strings are also immutable in python\n",
      "\n",
      "we can use shorter form to do addition on the strings\n",
      "\n",
      "love*life\n",
      "0x7fd22dc77970\n",
      "\n",
      "love*life\n",
      "0x7fd22dc7cef0\n",
      "\n",
      "they may or may not have same adress but they will have same hash value\n",
      "-0xefa240d714eab84\n",
      "-0xefa240d714eab84\n",
      "\n"
     ]
    }
   ],
   "source": [
    "print(note := 'so basically strings are also immutable in python')\n",
    "print()\n",
    "\n",
    "print(note := 'we can use shorter form to do addition on the strings')\n",
    "a+='life'\n",
    "b+='life'\n",
    "print()\n",
    "\n",
    "print(a)\n",
    "print(hex(id(a)))\n",
    "print()\n",
    "\n",
    "print(b)\n",
    "print(hex(id(b)))\n",
    "print()\n",
    "\n",
    "\n",
    "print(note:= 'they may or may not have same adress but they will have same hash value')\n",
    "print(hex(hash(a)))\n",
    "print(hex(hash(b)))\n",
    "print() "
   ]
  },
  {
   "cell_type": "code",
   "execution_count": 34,
   "metadata": {},
   "outputs": [
    {
     "name": "stdout",
     "output_type": "stream",
     "text": [
      "again ... always do dir on the objects .. you will learn something new about that object\n",
      "\n",
      "['__add__', '__class__', '__contains__', '__delattr__', '__dir__', '__doc__', '__eq__', '__format__', '__ge__', '__getattribute__', '__getitem__', '__getnewargs__', '__gt__', '__hash__', '__init__', '__init_subclass__', '__iter__', '__le__', '__len__', '__lt__', '__mod__', '__mul__', '__ne__', '__new__', '__reduce__', '__reduce_ex__', '__repr__', '__rmod__', '__rmul__', '__setattr__', '__sizeof__', '__str__', '__subclasshook__', 'capitalize', 'casefold', 'center', 'count', 'encode', 'endswith', 'expandtabs', 'find', 'format', 'format_map', 'index', 'isalnum', 'isalpha', 'isascii', 'isdecimal', 'isdigit', 'isidentifier', 'islower', 'isnumeric', 'isprintable', 'isspace', 'istitle', 'isupper', 'join', 'ljust', 'lower', 'lstrip', 'maketrans', 'partition', 'removeprefix', 'removesuffix', 'replace', 'rfind', 'rindex', 'rjust', 'rpartition', 'rsplit', 'rstrip', 'split', 'splitlines', 'startswith', 'strip', 'swapcase', 'title', 'translate', 'upper', 'zfill']\n",
      "\n"
     ]
    }
   ],
   "source": [
    "print(note:= 'again ... always do dir on the objects .. you will learn something new about that object')\n",
    "print()\n",
    "\n",
    "print(dir(str))\n",
    "print()\n"
   ]
  },
  {
   "cell_type": "code",
   "execution_count": 35,
   "metadata": {},
   "outputs": [
    {
     "name": "stdout",
     "output_type": "stream",
     "text": [
      "coming back to bool behaviour in respect to strings\n",
      "\n",
      "str doesnt implement the __bool__ function,    and thus return the default value of True for non-empty string\n",
      "\n",
      "False True True\n",
      "\n",
      "This is called truthyness and falsyness behavior based on emptyness of a data structure,we shall check it further later\n",
      "\n"
     ]
    }
   ],
   "source": [
    "print(note:= 'coming back to bool behaviour in respect to strings')\n",
    "print()\n",
    "\n",
    "try:\n",
    "    print(('0').__bool__())\n",
    "except AttributeError:\n",
    "    print(note := 'str doesnt implement the __bool__ function,\\\n",
    "    and thus return the default value of True for non-empty string')\n",
    "\n",
    "print()\n",
    "print(bool(''), bool('0'), bool('1'))\n",
    "print()\n",
    "\n",
    "print(note := 'This is called truthyness and falsyness behavior based on emptyness of a data structure,\\\n",
    "we shall check it further later')\n",
    "print()"
   ]
  },
  {
   "cell_type": "markdown",
   "metadata": {},
   "source": [
    "## Lets look at the higher level data structures "
   ]
  },
  {
   "cell_type": "code",
   "execution_count": 36,
   "metadata": {},
   "outputs": [
    {
     "name": "stdout",
     "output_type": "stream",
     "text": [
      "Python has many inbuilt higher level data structures to make life of programmer easy\n",
      "\n",
      "lets look at lists first\n",
      "\n",
      "we can create the list either by using the list() function\n",
      "<class 'list'>\n",
      "\n",
      "or we can use the square brackets [] to create one\n",
      "<class 'list'>\n",
      "\n",
      "they are allocated their own memory space, notice how this behaviour is different from strings etc.\n",
      "0x7fd22dc6d7c0\n",
      "0x7fd22dc7c340\n",
      "\n"
     ]
    }
   ],
   "source": [
    "\n",
    "print(note := 'Python has many inbuilt higher level data structures to make life of programmer easy')\n",
    "print()\n",
    "\n",
    "print(note := 'lets look at lists first')\n",
    "print()\n",
    "\n",
    "print(note := 'we can create the list either by using the list() function')\n",
    "some_list1 = list()\n",
    "print(type(some_list1))\n",
    "print()\n",
    "\n",
    "print(note := 'or we can use the square brackets [] to create one')\n",
    "some_list2 = []\n",
    "print(type(some_list2))\n",
    "print()\n",
    "\n",
    "print(note := \"they are allocated their own memory space, notice how this behaviour is different from strings etc.\")\n",
    "print(hex(id(some_list1)))\n",
    "print(hex(id(some_list2)))\n",
    "print()"
   ]
  },
  {
   "cell_type": "code",
   "execution_count": 37,
   "metadata": {},
   "outputs": [
    {
     "name": "stdout",
     "output_type": "stream",
     "text": [
      "and you guessed it right ...list are mutable, i.e. we can change their content inplace\n",
      "\n",
      "Lets take the address of the list\n",
      "0x7fd22dc6d7c0\n",
      "\n",
      "now add few items top this list\n",
      "\n",
      "we have added different type of items to list, one is string, other is int\n",
      "['yes', 1]\n",
      "\n",
      "the address of list remains the same\n",
      "0x7fd22dc6d7c0\n",
      "\n"
     ]
    }
   ],
   "source": [
    "print(note := 'and you guessed it right ...list are mutable, i.e. we can change their content inplace')\n",
    "print()\n",
    "\n",
    "print(note := 'Lets take the address of the list')\n",
    "print(some_list_add1 := hex(id(some_list1)))\n",
    "print()\n",
    "\n",
    "print(note := 'now add few items top this list')\n",
    "some_list1.append('yes')\n",
    "some_list1.append(1)\n",
    "print()\n",
    "\n",
    "print(note := 'we have added different type of items to list, one is string, other is int')\n",
    "print(some_list1)\n",
    "print()\n",
    "\n",
    "print(note := 'the address of list remains the same')\n",
    "print(hex(id(some_list1)))\n",
    "assert some_list_add1 == hex(id(some_list1))\n",
    "print()"
   ]
  },
  {
   "cell_type": "code",
   "execution_count": 38,
   "metadata": {},
   "outputs": [
    {
     "name": "stdout",
     "output_type": "stream",
     "text": [
      "but please note that concatenating the list would change the address as+ creates a new copy of list and assign to the variable\n",
      "\n",
      "['yes', 1, 'no']\n",
      "0x7fd22dbf9e40\n",
      "\n",
      "['yes', 1]\n",
      "0x7fd22dc6d7c0\n",
      "\n",
      "\n",
      "what all function does list supports?\n",
      "\n",
      "append\n",
      "clear\n",
      "copy\n",
      "count\n",
      "extend\n",
      "index\n",
      "insert\n",
      "pop\n",
      "remove\n",
      "reverse\n",
      "sort\n",
      "\n"
     ]
    }
   ],
   "source": [
    "print(note := 'but please note that concatenating the list would change the address as\\\n",
    "+ creates a new copy of list and assign to the variable')\n",
    "print()\n",
    "\n",
    "some_list2 = some_list1 + ['no']\n",
    "print(some_list2)\n",
    "print(hex(id(some_list2)))\n",
    "print()\n",
    "\n",
    "print(some_list1)\n",
    "print(some_list_add1)\n",
    "assert hex(id(some_list2)) != some_list_add1\n",
    "print()\n",
    "\n",
    "\n",
    "print()\n",
    "print(note := 'what all function does list supports?')\n",
    "print()\n",
    "for item in dir(some_list1):\n",
    "    if not ('__' in item):\n",
    "        print(item)\n",
    "print()"
   ]
  },
  {
   "cell_type": "code",
   "execution_count": 39,
   "metadata": {},
   "outputs": [
    {
     "name": "stdout",
     "output_type": "stream",
     "text": [
      "lets have a look at one concrete example of mutability and immutability,especially in context of functions\n",
      "\n",
      "this is an important concept to grasp, and would save you from unintentional bugs\n",
      "\n",
      "\n",
      "content before we call function my_func\n",
      "string  lovelife\n",
      "list  ['love', 'life']\n",
      "\n",
      "address before we call function my_func\n",
      "string address  0x7fd22dc63cf0\n",
      "list address  0x7fd22dc694c0\n",
      "\n",
      "calling my_func now \n",
      "\n",
      "my_func:: we are inside the function my_func\n",
      "my_func:: Address of string and list\n",
      "my_func:: string add  0x7fd22dc63cf0\n",
      "my_func:: list add  0x7fd22dc694c0\n",
      "\n",
      "my_func:: string  lovelifealways\n",
      "\n",
      "my_func:: list  ['love', 'life', 'always']\n",
      "\n",
      "my_func::  Address of string and list\n",
      "my_func:: string add  0x7fd22dc71670\n",
      "my_func:: list add  0x7fd22dc694c0\n",
      "\n",
      "my_func:: done with function my_func\n",
      "\n",
      "content after we call function my_func\n",
      "string  lovelife\n",
      "list  ['love', 'life', 'always']\n",
      "\n",
      "address after we call function my_func\n",
      "string address  0x7fd22dc63cf0\n",
      "list address  0x7fd22dc694c0\n",
      "\n",
      "In the above example the list, a mutable type, in global space got updated as its refernce was used/updated inside the fuction\n",
      "\n",
      "but the string which immutable had no impact whatsoverin the global context for the changes done inside the fuction, the refernce or variable name in global space kept on pointing to original object/memory location assigned to it\n",
      "\n"
     ]
    }
   ],
   "source": [
    "print(note := 'lets have a look at one concrete example of mutability and immutability,\\\n",
    "especially in context of functions')\n",
    "print()\n",
    "\n",
    "print(note := 'this is an important concept to grasp, and would save you from unintentional bugs')\n",
    "print()\n",
    "\n",
    "sstr = \"lovelife\"\n",
    "slist = ['love', 'life']\n",
    "print()\n",
    "\n",
    "print(\"content before we call function my_func\")\n",
    "print('string ', sstr)\n",
    "print('list ', slist)\n",
    "print()\n",
    "\n",
    "print(\"address before we call function my_func\")\n",
    "print('string address ', hex(id(sstr)))\n",
    "print('list address ', hex(id(slist)))\n",
    "print()\n",
    "\n",
    "def my_func(string, listed):\n",
    "    \n",
    "    print(\"my_func:: we are inside the function my_func\")\n",
    "    print(\"my_func:: Address of string and list\")\n",
    "    print(\"my_func:: string add \", hex(id(string)))\n",
    "    print(\"my_func:: list add \", hex(id(listed)))\n",
    "    print()\n",
    "    \n",
    "    string+='always'\n",
    "    print('my_func:: string ', string)\n",
    "    print()\n",
    "    \n",
    "    listed.append('always')\n",
    "    print('my_func:: list ', listed)\n",
    "    print()\n",
    "    \n",
    "    print(\"my_func::  Address of string and list\")\n",
    "    print('my_func:: string add ', hex(id(string)))\n",
    "    print('my_func:: list add ', hex(id(listed)))\n",
    "    print()\n",
    "    \n",
    "    print(\"my_func:: done with function my_func\")\n",
    "\n",
    "print(note:= 'calling my_func now ')\n",
    "print()\n",
    "my_func(sstr, slist)\n",
    "\n",
    "print()\n",
    "print(\"content after we call function my_func\")\n",
    "print('string ', sstr)\n",
    "print('list ', slist)\n",
    "print()\n",
    "\n",
    "print(\"address after we call function my_func\")\n",
    "print('string address ', hex(id(sstr)))\n",
    "print('list address ', hex(id(slist)))\n",
    "print()\n",
    "\n",
    "\n",
    "\n",
    "print(note := \"In the above example the list, a mutable type, \\\n",
    "in global space got updated as its refernce was used/updated inside the fuction\")\n",
    "print()\n",
    "\n",
    "print(note := \"but the string which immutable had no impact whatsover\\\n",
    "in the global context for the changes done inside the fuction, \\\n",
    "the refernce or variable name in global space kept on pointing to original object/memory location assigned to it\")\n",
    "print()"
   ]
  },
  {
   "cell_type": "code",
   "execution_count": 64,
   "metadata": {},
   "outputs": [
    {
     "name": "stdout",
     "output_type": "stream",
     "text": [
      "remeber the last session ? we talked about global?lets have a look at same in context of immutable and mutable objects\n",
      "\n",
      "\n",
      "content before we call function\n",
      "string  lovelife\n",
      "list  ['love', 'life']\n",
      "\n",
      "address before we call function\n",
      "string address  0x7fd22dc85230\n",
      "list address  0x7fd22dc81980\n",
      "\n",
      "calling my_func_2 now \n",
      "\n",
      "my_func_2 :: we are inside the function my_func_2\n",
      "my_func_2 :: Address of string and list\n",
      "my_func_2 ::  0x7fd22dc85230\n",
      "my_func_2 ::  0x7fd22dc81980\n",
      "\n",
      "my_func_2 ::  updating string\n",
      "my_func_2 ::  string  lovelifealways\n",
      "\n",
      "my_func_2 ::  updating list\n",
      "my_func_2 :: list  ['love', 'life', 'always']\n",
      "\n",
      "my_func_2 ::  Address of updated string and list\n",
      "my_func_2 ::  string address  0x7fd22dc0f370\n",
      "my_func_2 ::  list address  0x7fd22dc81980\n",
      "\n",
      "my_func_2 ::  done with function my_func_2\n",
      "\n",
      "content after we call function\n",
      "string  lovelifealways\n",
      "list  ['love', 'life', 'always']\n",
      "\n",
      "address after we call function\n",
      "string address  0x7fd22dc0f370\n",
      "list address  0x7fd22dc81980\n",
      "\n",
      "\n",
      "we told python to update the value in global context and thus we see the change even for the variable in global context ,i.e. for refernce ( or variable name) to immutable object it updated the refernce\n"
     ]
    }
   ],
   "source": [
    "print(note := 'remeber the last session ? we talked about global?\\\n",
    "lets have a look at same in context of immutable and mutable objects')\n",
    "print()\n",
    "\n",
    "sstr = \"lovelife\"\n",
    "slist = ['love', 'life']\n",
    "\n",
    "print()\n",
    "print(\"content before we call function\")\n",
    "print('string ', sstr)\n",
    "print('list ', slist)\n",
    "print()\n",
    "\n",
    "print(\"address before we call function\")\n",
    "print('string address ', hex(id(sstr)))\n",
    "print('list address ', hex(id(slist)))\n",
    "print()\n",
    "\n",
    "def my_func_2():\n",
    "    global sstr \n",
    "    # we are not specifying the slist as global\n",
    "    # python would search for the definition outside the function and \n",
    "    # will find one , and as list are mutable the data would be changed\n",
    "    print(\"my_func_2 :: we are inside the function my_func_2\")\n",
    "    print(\"my_func_2 :: Address of string and list\")\n",
    "    print('my_func_2 :: ', hex(id(sstr)))\n",
    "    print('my_func_2 :: ', hex(id(slist)))\n",
    "    print()\n",
    "    \n",
    "    print('my_func_2 ::  updating string')\n",
    "    sstr+='always'\n",
    "    print('my_func_2 ::  string ', sstr)\n",
    "    print()\n",
    "    \n",
    "    print('my_func_2 ::  updating list')\n",
    "    slist.append('always')\n",
    "    print('my_func_2 :: list ', slist)\n",
    "    print()\n",
    "    \n",
    "    print(\"my_func_2 ::  Address of updated string and list\")\n",
    "    print('my_func_2 ::  string address ', hex(id(sstr)))\n",
    "    print('my_func_2 ::  list address ', hex(id(slist)))\n",
    "    print()\n",
    "    \n",
    "    print(\"my_func_2 ::  done with function my_func_2\")\n",
    "\n",
    "print(note:= 'calling my_func_2 now ')\n",
    "print()\n",
    "my_func_2()\n",
    "\n",
    "print()\n",
    "print(\"content after we call function\")\n",
    "print('string ', sstr)\n",
    "print('list ', slist)\n",
    "print()\n",
    "\n",
    "print(\"address after we call function\")\n",
    "print('string address ', hex(id(sstr)))\n",
    "print('list address ', hex(id(slist)))\n",
    "print()\n",
    "\n",
    "print()\n",
    "print(note := \"we told python to update the value in global context and \\\n",
    "thus we see the change even for the variable in global context ,\\\n",
    "i.e. for refernce ( or variable name) to immutable object it updated the refernce\")"
   ]
  },
  {
   "cell_type": "code",
   "execution_count": 41,
   "metadata": {},
   "outputs": [
    {
     "name": "stdout",
     "output_type": "stream",
     "text": [
      "lets have a look at dict(or hash tables) now ... my favorite data structure\n",
      "\n",
      "we can create the dict either by using the dict() function\n",
      "<class 'dict'>\n",
      "0x7fd22dcc1480\n",
      "\n",
      "or we can use the curly brackets {} to create one\n",
      "<class 'dict'>\n",
      "0x7fd22db7dec0\n",
      "\n",
      "both dicts are allocated their own memory space i.e space for the object in memory\n",
      "\n",
      "just to reiterate name of variables are references to objects allocated in memory\n",
      "\n"
     ]
    }
   ],
   "source": [
    "print(note := 'lets have a look at dict(or hash tables) now ... my favorite data structure')\n",
    "print()\n",
    "\n",
    "print(note := 'we can create the dict either by using the dict() function')\n",
    "some_dict1 = dict()\n",
    "print(type(some_dict1))\n",
    "print(some_dict_add1 := hex(id(some_dict1)))\n",
    "print()\n",
    "\n",
    "print(note := 'or we can use the curly brackets {} to create one')\n",
    "some_dict2 = {}\n",
    "print(type(some_dict2))\n",
    "print(hex(id(some_dict2)))\n",
    "print()\n",
    "\n",
    "print(note := \"both dicts are allocated their own memory space i.e space for the object in memory\")\n",
    "print()\n",
    "\n",
    "some_dict3 = some_dict1\n",
    "print(note := \"just to reiterate name of variables are references to objects allocated in memory\")\n",
    "assert some_dict_add1 == hex(id(some_dict3))\n",
    "print()"
   ]
  },
  {
   "cell_type": "code",
   "execution_count": 42,
   "metadata": {},
   "outputs": [
    {
     "name": "stdout",
     "output_type": "stream",
     "text": [
      "dict are also mutable, i.e. we can change the content of them, i.e. the content in the object itself changes\n",
      "\n",
      "{'yes': 0, 'no': 1}\n",
      "\n",
      "0x7fd22dcc1480\n",
      "\n",
      "the reference we had created for some_dict1 i.e. some_dict3 would keep on refering to same object, and we can use it to access the data of some_dict1\n",
      "\n",
      "{'yes': 0, 'no': 1}\n",
      "0x7fd22dcc1480\n",
      "\n",
      "\n",
      "{'yes': 0, 'no': 1, 'maybe': -1}\n",
      "\n"
     ]
    }
   ],
   "source": [
    "print(note := 'dict are also mutable, i.e. we can change the content of them, \\\n",
    "i.e. the content in the object itself changes')\n",
    "print()\n",
    "\n",
    "some_dict1['yes'] = 0\n",
    "some_dict1['no'] = 1\n",
    "print(some_dict1)\n",
    "print()\n",
    "print(hex(id(some_dict1)))\n",
    "print()\n",
    "\n",
    "print(note := \"the reference we had created for some_dict1 i.e. \\\n",
    "some_dict3 would keep on refering to same object, \\\n",
    "and we can use it to access the data of some_dict1\")\n",
    "print()\n",
    "\n",
    "print(some_dict3)\n",
    "print(hex(id(some_dict3)))\n",
    "print()\n",
    "\n",
    "some_dict3['maybe'] = -1\n",
    "print()\n",
    "\n",
    "print(some_dict1)\n",
    "assert some_dict_add1 == hex(id(some_dict1))\n",
    "assert some_dict_add1 == hex(id(some_dict3))\n",
    "print()\n"
   ]
  },
  {
   "cell_type": "code",
   "execution_count": 43,
   "metadata": {},
   "outputs": [
    {
     "name": "stdout",
     "output_type": "stream",
     "text": [
      "though this is rhetorical but we can change the content again and again and yet the address will remain the same\n",
      "\n",
      "\n",
      "{'yes': 1, 'no': 0, 'maybe': -1}\n",
      "0x7fd22dcc1480\n",
      "\n",
      "{'yes': 1, 'no': 0, 'maybe': -1}\n",
      "0x7fd22dcc1480\n",
      "\n"
     ]
    }
   ],
   "source": [
    "print(note := 'though this is rhetorical but we can change the content \\\n",
    "again and again and yet the address will remain the same')\n",
    "print()\n",
    "some_dict1['yes'] = 1\n",
    "some_dict1['no'] = 0\n",
    "print()\n",
    "print(some_dict1)\n",
    "print(hex(id(some_dict1)))\n",
    "print()\n",
    "print(some_dict3)\n",
    "print(hex(id(some_dict3)))\n",
    "print()\n",
    "assert some_dict_add1 == hex(id(some_dict1))\n",
    "assert some_dict_add1 == hex(id(some_dict3))"
   ]
  },
  {
   "cell_type": "code",
   "execution_count": 44,
   "metadata": {},
   "outputs": [
    {
     "name": "stdout",
     "output_type": "stream",
     "text": [
      "what all function does dict supports?\n",
      "\n",
      "clear\n",
      "copy\n",
      "fromkeys\n",
      "get\n",
      "items\n",
      "keys\n",
      "pop\n",
      "popitem\n",
      "setdefault\n",
      "update\n",
      "values\n"
     ]
    }
   ],
   "source": [
    "print(note := 'what all function does dict supports?')\n",
    "print()\n",
    "for item in dir(some_dict1):\n",
    "    if not ('__' in item):\n",
    "        print(item)\n"
   ]
  },
  {
   "cell_type": "code",
   "execution_count": 45,
   "metadata": {},
   "outputs": [
    {
     "name": "stdout",
     "output_type": "stream",
     "text": [
      "lets have a look at the set\n",
      "sets are also mutable\n",
      "\n",
      "we can create the sets either by using the set() function\n",
      "\n",
      "set()\n",
      "<class 'set'>\n",
      "0x7fd22dc57820\n",
      "\n",
      "\n",
      "we will not see the duplicated values entered in the set, thats the mathematical definetion of set\n",
      "{'no', 1, 'yes', 'maybe'}\n",
      "0x7fd22dc57820\n",
      "\n"
     ]
    }
   ],
   "source": [
    "print(note := 'lets have a look at the set')\n",
    "print(note := 'sets are also mutable')\n",
    "print()\n",
    "\n",
    "print(note := 'we can create the sets either by using the set() function')\n",
    "print()\n",
    "\n",
    "some_set1 = set()\n",
    "print(some_set1)\n",
    "print(type(some_set1))\n",
    "print(hex(id(some_set1)))\n",
    "print()\n",
    "\n",
    "some_set1.add('yes')\n",
    "some_set1.add('no')\n",
    "some_set1.add('maybe')\n",
    "some_set1.add(1)\n",
    "# set contains only the unique items \n",
    "# we will not see two 1s in out set \n",
    "some_set1.add(1)\n",
    "some_set1.add('no')\n",
    "print()\n",
    "\n",
    "print(note:= 'we will not see the duplicated values entered in the set, \\\n",
    "thats the mathematical definetion of set')\n",
    "print(some_set1)\n",
    "print(hex(id(some_set1)))\n",
    "print()\n"
   ]
  },
  {
   "cell_type": "code",
   "execution_count": 46,
   "metadata": {},
   "outputs": [
    {
     "name": "stdout",
     "output_type": "stream",
     "text": [
      "we can also create set by using the {} brackets\n",
      "but remember that if we do not add some values to {} python will assume that you wanted to create an empty dict, refer to empty dict created in dict section\n",
      "\n",
      "\n",
      "{'no', 'yes'}\n",
      "<class 'set'>\n",
      "0x7fd22dc572e0\n",
      "\n",
      "0x7fd22dc572e0\n",
      "\n"
     ]
    }
   ],
   "source": [
    "print(note := 'we can also create set by using the {} brackets')\n",
    "print(note := 'but remember that if we do not add some values to {} \\\n",
    "python will assume that you wanted to create an empty dict, refer to empty dict created in dict section')\n",
    "print()\n",
    "\n",
    "some_set2 = {'yes', 'no'}\n",
    "print()\n",
    "\n",
    "print(some_set2)\n",
    "print(type(some_set2))\n",
    "print(hex(id(some_set2)))\n",
    "assert type(some_set2) == type(some_set1)\n",
    "print()\n",
    "\n",
    "some_set2.add(1)\n",
    "some_set2.add(2)\n",
    "some_set2.add(3)\n",
    "print(hex(id(some_set2)))\n",
    "print()\n"
   ]
  },
  {
   "cell_type": "code",
   "execution_count": 47,
   "metadata": {},
   "outputs": [
    {
     "name": "stdout",
     "output_type": "stream",
     "text": [
      "please note that almost all default datatypes have __hash__ implement,set uses these hash function internally to ensure that we dont add duplicates to set, refer to dir of int, float, bool\n",
      "\n",
      "0x1\n",
      "0x1\n",
      "\n",
      "0x217a32f04675b069\n",
      "0x217a32f04675b069\n",
      "\n",
      "higher level datatypes might not have hash implement\n",
      "higher level datatypes might not have hash implement\n"
     ]
    }
   ],
   "source": [
    "print(note:= 'please note that almost all default datatypes have __hash__ implement,\\\n",
    "set uses these hash function internally to ensure \\\n",
    "that we dont add duplicates to set, refer to dir of int, float, bool')\n",
    "print()\n",
    "\n",
    "print(hex(hash(1)))\n",
    "# here we are calling the internal function rather that using hash function\n",
    "# that would internally map to the __hash__ implemented by the object \n",
    "print(hex(int(1).__hash__()))\n",
    "print()\n",
    "\n",
    "print(hex(hash('no')))\n",
    "# here we are calling the internal function rather that using hash function\n",
    "# that would internally map to the __hash__ implemented by the object \n",
    "print(hex(str('no').__hash__()))\n",
    "print()\n",
    "\n",
    "\n",
    "try :\n",
    "    hash(some_set2)\n",
    "except TypeError:\n",
    "    print(\"higher level datatypes might not have hash implement\")\n",
    "\n",
    "try :\n",
    "    hash(dict())\n",
    "except TypeError:\n",
    "    print(\"higher level datatypes might not have hash implement\")"
   ]
  },
  {
   "cell_type": "code",
   "execution_count": 48,
   "metadata": {},
   "outputs": [
    {
     "name": "stdout",
     "output_type": "stream",
     "text": [
      "what all function does set supports?\n",
      "\n",
      "add\n",
      "clear\n",
      "copy\n",
      "difference\n",
      "difference_update\n",
      "discard\n",
      "intersection\n",
      "intersection_update\n",
      "isdisjoint\n",
      "issubset\n",
      "issuperset\n",
      "pop\n",
      "remove\n",
      "symmetric_difference\n",
      "symmetric_difference_update\n",
      "union\n",
      "update\n"
     ]
    }
   ],
   "source": [
    "print(note := 'what all function does set supports?')\n",
    "print()\n",
    "for item in dir(some_set1):\n",
    "    if not ('__' in item):\n",
    "        print(item)"
   ]
  },
  {
   "cell_type": "code",
   "execution_count": 49,
   "metadata": {},
   "outputs": [
    {
     "name": "stdout",
     "output_type": "stream",
     "text": [
      "now finally lets have a look at the tuples\n",
      "tuples are immutable like strings\n",
      "we can create the tuple either by using the tuple() function\n",
      "\n",
      "()\n",
      "<class 'tuple'>\n",
      "\n",
      "we can not change the above empty tuple, but we can point the reference \"empty_tuple\" to new tuple/data type\n",
      "\n"
     ]
    }
   ],
   "source": [
    "print(note := 'now finally lets have a look at the tuples')\n",
    "print(note := 'tuples are immutable like strings')\n",
    "print(note := 'we can create the tuple either by using the tuple() function')\n",
    "print()\n",
    "\n",
    "empty_tuple = tuple()\n",
    "print(empty_tuple)\n",
    "print(type(empty_tuple))\n",
    "print()\n",
    "\n",
    "print(note := 'we can not change the above empty tuple, but we can point the reference \"empty_tuple\" to new tuple/data type')\n",
    "print()"
   ]
  },
  {
   "cell_type": "code",
   "execution_count": 50,
   "metadata": {},
   "outputs": [
    {
     "name": "stdout",
     "output_type": "stream",
     "text": [
      "we can create tuple by using the () brackets and values separated by comma\n",
      "\n",
      "('yes', 'no', 'maybe')\n",
      "<class 'tuple'>\n",
      "\n"
     ]
    }
   ],
   "source": [
    "print(note := 'we can create tuple by using the () brackets and values separated by comma')\n",
    "print()\n",
    "\n",
    "some_tuple = ('yes', 'no', 'maybe')\n",
    "print(some_tuple)\n",
    "print(type(some_tuple))\n",
    "print()"
   ]
  },
  {
   "cell_type": "code",
   "execution_count": 51,
   "metadata": {},
   "outputs": [
    {
     "name": "stdout",
     "output_type": "stream",
     "text": [
      "we can create tuple by using the just the comma separated values\n",
      "\n",
      "and also tuple allows duplicate items\n",
      "\n",
      "('yes', 'no', 'maybe', 'really?', 'yes', 'no', 'maybe')\n",
      "<class 'tuple'>\n"
     ]
    }
   ],
   "source": [
    "print(note := 'we can create tuple by using the just the comma separated values')\n",
    "print()\n",
    "\n",
    "print(note := 'and also tuple allows duplicate items')\n",
    "print()\n",
    "\n",
    "some_tuple = 'yes', 'no', 'maybe', 'really?', 'yes', 'no', 'maybe'\n",
    "print(some_tuple)\n",
    "print(type(some_tuple))"
   ]
  },
  {
   "cell_type": "code",
   "execution_count": 52,
   "metadata": {},
   "outputs": [
    {
     "name": "stdout",
     "output_type": "stream",
     "text": [
      "to create tuples , is more important than ()\n",
      "\n",
      "below we shall create an int and not the tuple\n",
      "<class 'int'>\n",
      "\n",
      "if we insert the comma we shall have the tuple\n",
      "<class 'tuple'>\n",
      "\n",
      " and as mentioned before we can remove the brackets too\n",
      "<class 'tuple'>\n",
      "\n"
     ]
    }
   ],
   "source": [
    "print(note := 'to create tuples , is more important than ()')\n",
    "print()\n",
    "\n",
    "print(note := 'below we shall create an int and not the tuple')\n",
    "test_tuple = (1)\n",
    "print(type(test_tuple))\n",
    "assert type(test_tuple) != type(some_tuple)\n",
    "print()\n",
    "\n",
    "print(note := 'if we insert the comma we shall have the tuple')\n",
    "test_tuple = (1,)\n",
    "print(type(test_tuple))\n",
    "assert type(test_tuple) == type(some_tuple)\n",
    "print()\n",
    "\n",
    "print(note := ' and as mentioned before we can remove the brackets too')\n",
    "test_tuple = 1,\n",
    "print(type(test_tuple))\n",
    "assert type(test_tuple) == type(some_tuple)\n",
    "print()\n"
   ]
  },
  {
   "cell_type": "code",
   "execution_count": 53,
   "metadata": {},
   "outputs": [
    {
     "name": "stdout",
     "output_type": "stream",
     "text": [
      "what all function does tuples supports?\n",
      "\n",
      "count\n",
      "index\n",
      "\n",
      "count shall return the count of number of matching elements\n",
      "2\n",
      "\n",
      "index shall return the first index of the element\n",
      "1\n"
     ]
    }
   ],
   "source": [
    "print(note := 'what all function does tuples supports?')\n",
    "print()\n",
    "for item in dir(some_tuple):\n",
    "    if not ('__' in item):\n",
    "        print(item)\n",
    "\n",
    "print()\n",
    "\n",
    "print(note := 'count shall return the count of number of matching elements')\n",
    "print(some_tuple.count('yes'))\n",
    "\n",
    "print()\n",
    "print(note := 'index shall return the first index of the element')\n",
    "print(some_tuple.index('no'))"
   ]
  },
  {
   "cell_type": "code",
   "execution_count": 54,
   "metadata": {},
   "outputs": [
    {
     "name": "stdout",
     "output_type": "stream",
     "text": [
      "lets look at another scenario with mutable and immutable in context of function\n",
      "we will use tuples to show an important aspect about immutability of tuples\n",
      "\n",
      "tuple values before calling modify function\n",
      "([1, 2, 3, 4], {'no', 'yes'}, {'yes': 1, 'no': 0})\n",
      "\n",
      "tuple values after calling modify function\n",
      "([1, 2, 3, 4, '5'], {'no', 'really', 'yes'}, {'yes': 1, 'no': 0, 'maybe': -1})\n"
     ]
    }
   ],
   "source": [
    "print(note:= 'lets look at another scenario with mutable and immutable in context of function')\n",
    "print(note:= 'we will use tuples to show an important aspect about immutability of tuples')\n",
    "print()\n",
    "\n",
    "# as mentioned earlier set, list and dict are mutable \n",
    "sl = [1,2,3,4]\n",
    "ss = {'yes', 'no'}\n",
    "sd = {'yes':1, 'no': 0}\n",
    "\n",
    "# tuples are immutable that is we can't modify it \n",
    "# which basically translates to that we can't add more item to this tuple\n",
    "st = ( sl, ss, sd )\n",
    "\n",
    "print(note:= \"tuple values before calling modify function\") \n",
    "print(st)\n",
    "print()\n",
    "\n",
    "def modify(t):\n",
    "    # we can't modify the tuple itself, but we can modify the mutable objects inside it \n",
    "    t[0].append('5')\n",
    "    t[1].add('really')\n",
    "    t[2].update({'maybe': -1}) \n",
    "\n",
    "modify(st)\n",
    "\n",
    "print(note:= \"tuple values after calling modify function\") \n",
    "print(st)\n",
    "\n",
    "# and we an see the impact on the global list and set created earlier "
   ]
  },
  {
   "cell_type": "code",
   "execution_count": 55,
   "metadata": {},
   "outputs": [
    {
     "name": "stdout",
     "output_type": "stream",
     "text": [
      "and finally coming back to the truthy and falsy behaviour in python\n",
      "\n",
      "An empty sequence type object or mapping type is Falsy, a non-empty one is truthy\n",
      "\n",
      "for list\n",
      "True False\n",
      "\n",
      "for set\n",
      "True False\n",
      "\n",
      "for tuple\n",
      "True False\n",
      "\n",
      "for dict\n",
      "True False\n",
      "\n"
     ]
    }
   ],
   "source": [
    "print(note:= 'and finally coming back to the truthy and falsy behaviour in python')\n",
    "print()\n",
    "print(note := 'An empty sequence type object or mapping type is Falsy, a non-empty one is truthy')\n",
    "print()\n",
    "\n",
    "print(note := 'for list')\n",
    "print(bool([1]), bool([]))\n",
    "print()\n",
    "\n",
    "print(note := 'for set')\n",
    "print(bool({'yes'}), bool({}))\n",
    "print()\n",
    "\n",
    "print(note := 'for tuple')\n",
    "print(bool(('yes',)), bool(tuple()))\n",
    "print()\n",
    "\n",
    "print(note := 'for dict')\n",
    "print(bool({'yes':'no'}), bool(dict()))\n",
    "print()\n"
   ]
  },
  {
   "cell_type": "markdown",
   "metadata": {},
   "source": [
    "## That's all folks "
   ]
  },
  {
   "cell_type": "code",
   "execution_count": 56,
   "metadata": {},
   "outputs": [
    {
     "name": "stdout",
     "output_type": "stream",
     "text": [
      "we learned about how we can use the constructers to create datatypes,like other languages like java etc\n",
      "\n",
      "we learned about int, float, bool, list, dict, set and tuples\n",
      "\n",
      "we learned about the difference between mutable and immutable in context of different inbuilt datatypes/datastructures\n",
      "\n",
      "we learned about mutable and immutable behaviour in context of functions\n",
      "\n",
      "and we also learned about the truthyness and falsyness behaviour\n",
      "\n",
      "Hope you all enjoyed this session!!!\n",
      "\n",
      "\n",
      "That's all folks\n"
     ]
    }
   ],
   "source": [
    "print(note:= \"we learned about how we can use the constructers to create datatypes,\\\n",
    "like other languages like java etc\")\n",
    "print()\n",
    "print(note:= \"we learned about int, float, bool, list, dict, set and tuples\")\n",
    "print()\n",
    "print(note:= \"we learned about the difference between mutable and immutable \\\n",
    "in context of different inbuilt datatypes/datastructures\")\n",
    "print()\n",
    "print(note:= \"we learned about mutable and immutable behaviour in context of functions\")\n",
    "print()\n",
    "print(note:= \"and we also learned about the truthyness and falsyness behaviour\")\n",
    "print()\n",
    "print(note:= \"Hope you all enjoyed this session!!!\")\n",
    "print()\n",
    "print()\n",
    "print(note:= \"That's all folks\")"
   ]
  }
 ],
 "metadata": {
  "kernelspec": {
   "display_name": "Python 3",
   "language": "python",
   "name": "python3"
  },
  "language_info": {
   "codemirror_mode": {
    "name": "ipython",
    "version": 3
   },
   "file_extension": ".py",
   "mimetype": "text/x-python",
   "name": "python",
   "nbconvert_exporter": "python",
   "pygments_lexer": "ipython3",
   "version": "3.9.0"
  }
 },
 "nbformat": 4,
 "nbformat_minor": 4
}
