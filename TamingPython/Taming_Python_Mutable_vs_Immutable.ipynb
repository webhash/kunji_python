{
 "cells": [
  {
   "cell_type": "code",
   "execution_count": 1,
   "metadata": {},
   "outputs": [
    {
     "name": "stdout",
     "output_type": "stream",
     "text": [
      "Hello World!!\n",
      "Hello World!!\n",
      "\n",
      "We are using python with version as  3.9.0\n"
     ]
    }
   ],
   "source": [
    "print(note := \"Hello World!!\")\n",
    "# we will use/abuse walrus operator \n",
    "print(note)\n",
    "print()\n",
    "import platform\n",
    "print(note := \"We are using python with version as \" , platform.python_version())"
   ]
  },
  {
   "cell_type": "code",
   "execution_count": 2,
   "metadata": {},
   "outputs": [
    {
     "name": "stdout",
     "output_type": "stream",
     "text": [
      "In This session we will learn about Mutable and Immutable types while learning about different inbuilt python data structures and types\n"
     ]
    }
   ],
   "source": [
    "print(note := \"In This session we will learn about Mutable and Immutable types \\\n",
    "while learning about different inbuilt python data structures and types\")"
   ]
  },
  {
   "cell_type": "markdown",
   "metadata": {},
   "source": [
    "## Lets first have a look at the basic types "
   ]
  },
  {
   "cell_type": "code",
   "execution_count": 3,
   "metadata": {},
   "outputs": [
    {
     "name": "stdout",
     "output_type": "stream",
     "text": [
      "If i have to utter only one things about python thenit will be that everything in python is an object\n",
      "\n",
      "As everything in python is an object, there is an overhead\n"
     ]
    }
   ],
   "source": [
    "import sys\n",
    "print(note := 'If i have to utter only one things about python then\\\n",
    "it will be that everything in python is an object')\n",
    "print()\n",
    "print(note := 'As everything in python is an object, there is an overhead')"
   ]
  },
  {
   "cell_type": "code",
   "execution_count": 4,
   "metadata": {},
   "outputs": [
    {
     "name": "stdout",
     "output_type": "stream",
     "text": [
      "lets first have a look at the most basic type that is int\n",
      "\n",
      "we can either create an int via int() i.e. int constructor \n",
      "<class 'int'>\n"
     ]
    }
   ],
   "source": [
    "print(note := 'lets first have a look at the most basic type that is int')\n",
    "print()\n",
    "print(\"we can either create an int via int() i.e. int constructor \")\n",
    "x = int()\n",
    "print(type(x))"
   ]
  },
  {
   "cell_type": "code",
   "execution_count": 5,
   "metadata": {},
   "outputs": [
    {
     "name": "stdout",
     "output_type": "stream",
     "text": [
      "or we can assign an int type value to a variable and python will automatically pick the type as int \n",
      "<class 'int'>\n"
     ]
    }
   ],
   "source": [
    "print(note := \"or we can assign an int type value to a variable \\\n",
    "and python will automatically pick the type as int \")\n",
    "y = 1000\n",
    "print(type(y))"
   ]
  },
  {
   "cell_type": "code",
   "execution_count": 6,
   "metadata": {},
   "outputs": [
    {
     "name": "stdout",
     "output_type": "stream",
     "text": [
      "An int is though 4 byte but we get a much bigger space usage, because of the overhead\n",
      "28\n",
      "\n",
      "For a variable with no value assigned we can see the 4 byte difference\n",
      "24\n",
      "\n"
     ]
    }
   ],
   "source": [
    "print(note := 'An int is though 4 byte but we get a much bigger space usage, because of the overhead')\n",
    "print(sys.getsizeof(y))\n",
    "print()\n",
    "print(note := 'For a variable with no value assigned we can see the 4 byte difference')\n",
    "print(sys.getsizeof(x))\n",
    "print()"
   ]
  },
  {
   "cell_type": "code",
   "execution_count": 54,
   "metadata": {},
   "outputs": [
    {
     "name": "stdout",
     "output_type": "stream",
     "text": [
      "so bigger number means more storage space\n",
      "\n",
      "<class 'int'>\n",
      "60\n"
     ]
    }
   ],
   "source": [
    "print(note := 'so bigger number means more storage space')\n",
    "print()\n",
    "# this is the exponential operator **\n",
    "z = 10000 ** 20\n",
    "print(type(z))\n",
    "print(sys.getsizeof(z))"
   ]
  },
  {
   "cell_type": "code",
   "execution_count": 55,
   "metadata": {},
   "outputs": [
    {
     "name": "stdout",
     "output_type": "stream",
     "text": [
      "python also supports the _  in numbers to make them more readable\n",
      "1000000000 can be hard to read, but  1000_000_000 is as easy as it comes\n",
      "\n",
      "1000000000\n",
      "<class 'int'>\n",
      "28\n"
     ]
    }
   ],
   "source": [
    "print(note := 'python also supports the _  in numbers to make them more readable')\n",
    "print(note := '1000000000 can be hard to read, but  1000_000_000 is as easy as it comes')\n",
    "print()\n",
    "a = 1000_000_000\n",
    "print(a)\n",
    "print(type(a))\n",
    "print(sys.getsizeof(a))\n"
   ]
  },
  {
   "cell_type": "code",
   "execution_count": 56,
   "metadata": {},
   "outputs": [
    {
     "name": "stdout",
     "output_type": "stream",
     "text": [
      "int * int shall give us another int\n",
      "100000000000000000000000000000000000000000000000000000000000000000000000000000000000\n",
      "<class 'int'>\n",
      "\n",
      "int / int shall give us float\n",
      "1e+77\n",
      "<class 'float'>\n",
      "\n",
      "100000000000000000000000000000000000000000000000000000000000000000000000000000\n",
      "int // int i.e the floor operation shall give us int\n",
      "<class 'int'>\n",
      "\n",
      "0\n",
      "int % int i.e the modulo operation shall give us int\n",
      "<class 'int'>\n",
      "\n",
      "Remember this from school days ? a = b * (a // b) + a % b\n"
     ]
    }
   ],
   "source": [
    "print(note := 'int * int shall give us another int')\n",
    "print(z*y)\n",
    "print(type(z * y))\n",
    "print()\n",
    "print(note := 'int / int shall give us float')\n",
    "print(z/y)\n",
    "print(type(z / y))\n",
    "print()\n",
    "print(z//y)\n",
    "print(note := 'int // int i.e the floor operation shall give us int')\n",
    "print(type(z // y))\n",
    "print()\n",
    "print(z%y)\n",
    "print(note := 'int % int i.e the modulo operation shall give us int')\n",
    "print(type(z % y))\n",
    "print()\n",
    "print(note := 'Remember this from school days ? a = b * (a // b) + a % b')\n",
    "assert z == (y * (z // y) + z % y)"
   ]
  },
  {
   "cell_type": "code",
   "execution_count": 10,
   "metadata": {},
   "outputs": [
    {
     "name": "stdout",
     "output_type": "stream",
     "text": [
      "good habit to discover more about python is to always run dir() on the things/object you are working on\n",
      "int type supports many functionality like\n",
      "['__abs__', '__add__', '__and__', '__bool__', '__ceil__', '__class__', '__delattr__', '__dir__', '__divmod__', '__doc__', '__eq__', '__float__', '__floor__', '__floordiv__', '__format__', '__ge__', '__getattribute__', '__getnewargs__', '__gt__', '__hash__', '__index__', '__init__', '__init_subclass__', '__int__', '__invert__', '__le__', '__lshift__', '__lt__', '__mod__', '__mul__', '__ne__', '__neg__', '__new__', '__or__', '__pos__', '__pow__', '__radd__', '__rand__', '__rdivmod__', '__reduce__', '__reduce_ex__', '__repr__', '__rfloordiv__', '__rlshift__', '__rmod__', '__rmul__', '__ror__', '__round__', '__rpow__', '__rrshift__', '__rshift__', '__rsub__', '__rtruediv__', '__rxor__', '__setattr__', '__sizeof__', '__str__', '__sub__', '__subclasshook__', '__truediv__', '__trunc__', '__xor__', 'as_integer_ratio', 'bit_length', 'conjugate', 'denominator', 'from_bytes', 'imag', 'numerator', 'real', 'to_bytes']\n"
     ]
    }
   ],
   "source": [
    "print(note := 'good habit to discover more about python is to always run \\\n",
    "dir() on the things/object you are working on')\n",
    "print(note := 'int type supports many functionality like')\n",
    "print(dir(int))"
   ]
  },
  {
   "cell_type": "code",
   "execution_count": 11,
   "metadata": {},
   "outputs": [
    {
     "name": "stdout",
     "output_type": "stream",
     "text": [
      "int constructor is smart ... converts floats/fractions to int\n",
      "\n",
      "int type need not be a number of base 10, python has constructor to initiate the int with different type of base\n",
      "\n",
      "but when we create a number of diff base wehave to pass the string representation of the number\n",
      "\n",
      "21\n",
      "\n",
      "21\n",
      "\n"
     ]
    }
   ],
   "source": [
    "print(note := 'int constructor is smart ... converts floats/fractions to int')\n",
    "print()\n",
    "assert int(1.9) == int(1)\n",
    "\n",
    "\n",
    "print(note := 'int type need not be a number of base 10, python has \\\n",
    "constructor to initiate the int with different type of base')\n",
    "print()\n",
    "\n",
    "print(note := 'but when we create a number of diff base we\\\n",
    "have to pass the string representation of the number')\n",
    "print()\n",
    "\n",
    "b1 = int('10101', 2)\n",
    "print(b1)\n",
    "print()\n",
    "b2 = int('10101', base=2)\n",
    "print(b2)\n",
    "print()\n",
    "assert b1 == b2 "
   ]
  },
  {
   "cell_type": "code",
   "execution_count": 58,
   "metadata": {},
   "outputs": [
    {
     "name": "stdout",
     "output_type": "stream",
     "text": [
      "python uses English letters for higher bases, and they are case insensitive\n",
      "\n",
      "4731 4731\n"
     ]
    }
   ],
   "source": [
    "print(note := 'python uses English letters for higher bases, and they are case insensitive')\n",
    "print()\n",
    "h1 = int('EAF', 18)\n",
    "h2 = int('eaf', base=18)\n",
    "assert h1 == h2\n",
    "print(h1, h2)"
   ]
  },
  {
   "cell_type": "code",
   "execution_count": 13,
   "metadata": {},
   "outputs": [
    {
     "name": "stdout",
     "output_type": "stream",
     "text": [
      "we also have built in base representation to make life of programmer easier\n",
      "\n",
      "hex  starts with 0x / 0X\n",
      "0x64\n",
      "\n",
      "bin starts with 0b / 0B\n",
      "0b1100100\n",
      "\n",
      "oct starts with 0o / 0O\n",
      "0o144\n",
      "\n"
     ]
    }
   ],
   "source": [
    "print(note := 'we also have built in base representation to make life of programmer easier')\n",
    "print()\n",
    "print(note := 'hex  starts with 0x / 0X')\n",
    "print(hex(100))\n",
    "print()\n",
    "print(note := 'bin starts with 0b / 0B')\n",
    "print(bin(100))\n",
    "print()\n",
    "print(note := 'oct starts with 0o / 0O')\n",
    "print(oct(100))\n",
    "print()"
   ]
  },
  {
   "cell_type": "code",
   "execution_count": 59,
   "metadata": {},
   "outputs": [
    {
     "name": "stdout",
     "output_type": "stream",
     "text": [
      "we can use the 0x, 0b, 0o to specify the number of particular base\n",
      "underscores are supported, just dont use them at the start of the number\n",
      "\n",
      "0xFF == 255\n",
      "0b_11_11 == 15\n",
      "0o76 == 62\n"
     ]
    }
   ],
   "source": [
    "print(note := 'we can use the 0x, 0b, 0o to specify the number of particular base')\n",
    "print(note := 'underscores are supported, just dont use them at the start of the number')\n",
    "print()\n",
    "h = '0xFF'\n",
    "b = '0b_11_11'\n",
    "o = '0o76'\n",
    "print(h, end=' == ')\n",
    "print(int(h, 16))\n",
    "print(b, end=' == ')\n",
    "print(int(b, 2))\n",
    "print(o, end=' == ')\n",
    "print(int(o, 8))"
   ]
  },
  {
   "cell_type": "code",
   "execution_count": 68,
   "metadata": {},
   "outputs": [
    {
     "name": "stdout",
     "output_type": "stream",
     "text": [
      "int object are immutable - but what does that means ?\n",
      "below statement internally translate to var pointing to an int object with 1000 as values\n",
      "lets check the addres of var abd b_var variable\n",
      "0x7f89b6c81d10\n",
      "0x7f89b6c81d10\n",
      "\n",
      "lets do addition of 1 to var\n",
      "lets again check the addres of var variable\n",
      "0x7f89b2d21930\n"
     ]
    }
   ],
   "source": [
    "print(note := \"int object are immutable - but what does that means ?\")\n",
    "print(note := \"below statement internally translate to var pointing to an int object with 1000 as values\")\n",
    "var = 1000\n",
    "# we also assign b_var the same value as var \n",
    "b_var = var\n",
    "print(note := \"lets check the addres of var abd b_var variable\")\n",
    "print(oa := hex(id(var)))\n",
    "print(ob := hex(id(b_var)))\n",
    "print()\n",
    "print(note := \"lets do addition of 1 to var\")\n",
    "var=+1\n",
    "print(note := \"lets again check the addres of var variable\")\n",
    "print(na := hex(id(var)))\n",
    "assert oa != na"
   ]
  },
  {
   "cell_type": "code",
   "execution_count": 69,
   "metadata": {},
   "outputs": [
    {
     "name": "stdout",
     "output_type": "stream",
     "text": [
      "when we assigned b_var = var, v_var was pointing to the int object with 1000 value\n",
      "1000\n",
      "\n",
      "when we changed the value of var, var pointed to new int object, but b_var remain pointing to int object with 1000 value\n",
      "lets check the addres of b_var variable\n",
      "0x7f89b6c81d10\n"
     ]
    }
   ],
   "source": [
    "print(note := \"when we assigned b_var = var, v_var was pointing to the int object with 1000 value\")\n",
    "print(b_var)\n",
    "print()\n",
    "print(note := \"when we changed the value of var, var pointed to new int object, but b_var remain pointing to int object with 1000 value\")\n",
    "print(note := \"lets check the addres of b_var variable\")\n",
    "print(hex(id(b_var)))\n",
    "assert ob == hex(id(b_var))\n",
    "assert oa == hex(id(b_var))"
   ]
  },
  {
   "cell_type": "code",
   "execution_count": 16,
   "metadata": {},
   "outputs": [
    {
     "name": "stdout",
     "output_type": "stream",
     "text": [
      "as soon as we tried to modify an int object python would create new object rather than changing the old object\n",
      "\n",
      "this in nutshell is the immutable behaviour of an object/data type/ data structure\n"
     ]
    }
   ],
   "source": [
    "print( note := \"as soon as we tried to modify an int object python \\\n",
    "would create new object rather than changing the old object\")\n",
    "print()\n",
    "print( note:= \"this in nutshell is the immutable behaviour of an object/data type/ data structure\")"
   ]
  },
  {
   "cell_type": "code",
   "execution_count": 71,
   "metadata": {},
   "outputs": [
    {
     "name": "stdout",
     "output_type": "stream",
     "text": [
      "python also supports the boolean type\n",
      "t is if type  <class 'bool'>  and has address as  0x108fb7270\n",
      "f is of type  <class 'bool'>  and has address as  0x108fb7548\n",
      "\n",
      "True and false will point to a fixed memory address,when we do comparision the result would be True/false pointing to same memory address\n",
      "0x108fb7270\n",
      "0x108fb7548\n",
      "\n"
     ]
    }
   ],
   "source": [
    "print(note := 'python also supports the boolean type')\n",
    "t = True\n",
    "f = False\n",
    "print('t is if type ', type(t), ' and has address as ', hex(id(t)))\n",
    "print('f is of type ', type(f), ' and has address as ', hex(id(f)))\n",
    "print()\n",
    "print( note := 'True and false will point to a fixed memory address,\\\n",
    "when we do comparision the result would be True/false pointing to same memory address')\n",
    "print(hex(id(10 > 1)))\n",
    "print(hex(id(10 < 1)))\n",
    "print()\n",
    "assert hex(id(t)) == hex(id(10 > 1))\n",
    "assert hex(id(f)) == hex(id(10 < 1))"
   ]
  },
  {
   "cell_type": "code",
   "execution_count": 18,
   "metadata": {},
   "outputs": [
    {
     "name": "stdout",
     "output_type": "stream",
     "text": [
      "python has the function issubclass to check if one class is a subclass of another\n",
      "\n",
      "bool is subclass of int, and if we convert them to int we shall get 1 and 0\n",
      "1\n",
      "0\n",
      "True\n",
      "False\n",
      "True and False are instance of bool, and by inheritance are also instance of int\n"
     ]
    }
   ],
   "source": [
    "print(note := 'python has the function issubclass to check if one class is a subclass of another')\n",
    "print()\n",
    "if issubclass(bool, int):\n",
    "    print(note := 'bool is subclass of int, and if we convert them to int we shall get 1 and 0')\n",
    "    print(int(t))\n",
    "    print(int(f))\n",
    "    print(t)\n",
    "    print(f)\n",
    "    if isinstance(t, int) and isinstance(f, bool):\n",
    "        print(note := 'True and False are instance of bool, and by inheritance are also instance of int')\n"
   ]
  },
  {
   "cell_type": "code",
   "execution_count": 19,
   "metadata": {},
   "outputs": [
    {
     "name": "stdout",
     "output_type": "stream",
     "text": [
      "bool of non zero value returns True, and zero value returns False\n",
      "True True True False False\n",
      "\n",
      "but the above behavior happens because int, float have __bool__ implemented\n",
      "True True True\n",
      "\n",
      "we will further look at this aspect when we touch strings\n"
     ]
    }
   ],
   "source": [
    "print(note := 'bool of non zero value returns True, and zero value returns False')\n",
    "print(bool(1), bool(-1), bool(0.5), bool(None), bool(0))\n",
    "print()\n",
    "print(note := 'but the above behavior happens because int, float have __bool__ implemented')\n",
    "print((1).__bool__(), (-1).__bool__(), (0.5).__bool__())\n",
    "print()\n",
    "\n",
    "print(note := 'we will further look at this aspect when we touch strings')"
   ]
  },
  {
   "cell_type": "code",
   "execution_count": 20,
   "metadata": {},
   "outputs": [
    {
     "name": "stdout",
     "output_type": "stream",
     "text": [
      "now quickly have a look at the float types\n",
      "\n",
      "we can create float by either the float() constructor\n",
      "<class 'float'>\n",
      "24\n"
     ]
    }
   ],
   "source": [
    "print(note := 'now quickly have a look at the float types')\n",
    "print()\n",
    "print(note := 'we can create float by either the float() constructor')\n",
    "f = float()\n",
    "print(type(f))\n",
    "print(sys.getsizeof(f))"
   ]
  },
  {
   "cell_type": "code",
   "execution_count": 21,
   "metadata": {},
   "outputs": [
    {
     "name": "stdout",
     "output_type": "stream",
     "text": [
      "or we can assign a float value to varaible and let python take care of calling the constructer\n",
      "24\n",
      "\n",
      "notice how size of float didnt change like int,its all internal detail based on the float representation\n"
     ]
    }
   ],
   "source": [
    "print(note := 'or we can assign a float value to varaible and let python take care of calling the constructer')\n",
    "pi = 3.141592653589793238462643383279502884197169399375105820974944592307816406286208998628034825342117067982148086513282306647093844609550582231725359408128481\n",
    "print(sys.getsizeof(pi))\n",
    "print()\n",
    "print(note := 'notice how size of float didnt change like int,\\\n",
    "its all internal detail based on the float representation')\n"
   ]
  },
  {
   "cell_type": "code",
   "execution_count": 22,
   "metadata": {},
   "outputs": [
    {
     "name": "stdout",
     "output_type": "stream",
     "text": [
      "unlike int float has a single constructor that takes anumber or string representation of number and returns a float value\n",
      "1.0\n",
      "1.0\n",
      "1.7\n",
      "1.7\n",
      "1000.7\n"
     ]
    }
   ],
   "source": [
    "print(note := 'unlike int float has a single constructor that takes a\\\n",
    "number or string representation of number and returns a float value')\n",
    "\n",
    "print(float(1))\n",
    "print(float('1'))\n",
    "print(float(1.7))\n",
    "print(float('1.7'))\n",
    "print(float(1_000.7))"
   ]
  },
  {
   "cell_type": "code",
   "execution_count": 23,
   "metadata": {},
   "outputs": [
    {
     "name": "stdout",
     "output_type": "stream",
     "text": [
      "float type supports many functionality like, like i said beforealways run dir on object to peak inside\n",
      "['__abs__', '__add__', '__bool__', '__ceil__', '__class__', '__delattr__', '__dir__', '__divmod__', '__doc__', '__eq__', '__float__', '__floor__', '__floordiv__', '__format__', '__ge__', '__getattribute__', '__getformat__', '__getnewargs__', '__gt__', '__hash__', '__init__', '__init_subclass__', '__int__', '__le__', '__lt__', '__mod__', '__mul__', '__ne__', '__neg__', '__new__', '__pos__', '__pow__', '__radd__', '__rdivmod__', '__reduce__', '__reduce_ex__', '__repr__', '__rfloordiv__', '__rmod__', '__rmul__', '__round__', '__rpow__', '__rsub__', '__rtruediv__', '__set_format__', '__setattr__', '__sizeof__', '__str__', '__sub__', '__subclasshook__', '__truediv__', '__trunc__', 'as_integer_ratio', 'conjugate', 'fromhex', 'hex', 'imag', 'is_integer', 'real']\n"
     ]
    }
   ],
   "source": [
    "print(note := 'float type supports many functionality like, like i said before\\\n",
    "always run dir on object to peak inside')\n",
    "print(dir(float))"
   ]
  },
  {
   "cell_type": "code",
   "execution_count": 24,
   "metadata": {},
   "outputs": [
    {
     "name": "stdout",
     "output_type": "stream",
     "text": [
      "0.3333333333333333 == (6004799503160661, 18014398509481984)\n",
      "0.33 == (5944751508129055, 18014398509481984)\n"
     ]
    }
   ],
   "source": [
    "f1 = float(1 / 3)\n",
    "f2 = float('.33')\n",
    "print(f1, end=' == ')\n",
    "print(f1.as_integer_ratio())\n",
    "print(f2, end=' == ')\n",
    "print(f2.as_integer_ratio())\n"
   ]
  },
  {
   "cell_type": "code",
   "execution_count": 25,
   "metadata": {},
   "outputs": [
    {
     "name": "stdout",
     "output_type": "stream",
     "text": [
      "3.142857142857143\n",
      "we can`t pass a string with fraction like `22/7` to float\n"
     ]
    }
   ],
   "source": [
    "print(float(22 / 7))\n",
    "\n",
    "try:\n",
    "    float('22/7')\n",
    "except ValueError:\n",
    "    print('we can`t pass a string with fraction like `22/7` to float')\n",
    "\n"
   ]
  },
  {
   "cell_type": "code",
   "execution_count": 26,
   "metadata": {},
   "outputs": [
    {
     "name": "stdout",
     "output_type": "stream",
     "text": [
      "float doesnt necessarily have the exact representation for all numbers, the magic of ration of 2s come into picture\n",
      "Floating-point numbers are represented in computer hardware as base 2 (binary) fractions.\n",
      "though two numbers should have same value but if wecheck out enough precision point, we will see the difference\n",
      "0.30000000000000004\n",
      "0.3\n"
     ]
    }
   ],
   "source": [
    "print(note := 'float doesnt necessarily have the exact representation for all numbers, \\\n",
    "the magic of ratio of 2s come into picture')\n",
    "print(note := 'Floating-point numbers are represented in \\\n",
    "computer hardware as base 2 (binary) fractions.')\n",
    "\n",
    "fa = 0.1 + 0.1 + 0.1\n",
    "fb = 0.3\n",
    "print( note := 'though two numbers should have same value but if we\\\n",
    "check out enough precision point, we will see the difference')\n",
    "print(fa)\n",
    "print(fb)\n",
    "assert fa != fb"
   ]
  },
  {
   "cell_type": "code",
   "execution_count": 27,
   "metadata": {},
   "outputs": [
    {
     "name": "stdout",
     "output_type": "stream",
     "text": [
      "the difference is quite apparent if we get the fraction representation of float value\n",
      "0.30000000000000004 == (1351079888211149, 4503599627370496)\n",
      "0.3 == (5404319552844595, 18014398509481984)\n",
      "\n"
     ]
    }
   ],
   "source": [
    "print(note := 'the difference is quite apparent if we get the fraction representation of float value')\n",
    "print(fa, end=' == ')\n",
    "print(fa.as_integer_ratio())\n",
    "print(fb, end=' == ')\n",
    "print(fb.as_integer_ratio())\n",
    "print()"
   ]
  },
  {
   "cell_type": "code",
   "execution_count": 28,
   "metadata": {},
   "outputs": [
    {
     "name": "stdout",
     "output_type": "stream",
     "text": [
      "we can use the `round` function for approximate comparison\n",
      "\n",
      "0.3 == 0.3\n"
     ]
    }
   ],
   "source": [
    "print(note := 'we can use the `round` function for approximate comparison')\n",
    "print()\n",
    "assert round(fa, 8) == round(fb, 8)\n",
    "print(round(fa, 8), end=' == ')\n",
    "print(round(fb, 8))"
   ]
  },
  {
   "cell_type": "code",
   "execution_count": 29,
   "metadata": {},
   "outputs": [
    {
     "name": "stdout",
     "output_type": "stream",
     "text": [
      "float types are also immutable, that means if we change the value of a float types,python will point to a new float object\n",
      "\n",
      "0x7f89b6c81230\n",
      "\n",
      "0x7f89b6c81570\n",
      "\n"
     ]
    }
   ],
   "source": [
    "print(note := 'float types are also immutable, that means if we change the value of a float types,\\\n",
    "python will point to a new float object')\n",
    "print()\n",
    "sf = 2.14\n",
    "print(hex(id(sf)))\n",
    "print()\n",
    "sf+=1.0\n",
    "print(hex(id(sf)))\n",
    "print()"
   ]
  },
  {
   "cell_type": "code",
   "execution_count": 88,
   "metadata": {},
   "outputs": [
    {
     "name": "stdout",
     "output_type": "stream",
     "text": [
      "now we will look at the strings\n",
      "\n",
      "either we can create the string via constuctor\n",
      "<class 'str'>\n",
      "0x7f89b2d4f670\n",
      "or we can use let python do the work\n",
      "<class 'str'>\n",
      "0x7f89b2d4f670\n"
     ]
    }
   ],
   "source": [
    "print(note := 'now we will look at the strings')\n",
    "print()\n",
    "\n",
    "print(note := 'either we can create the string via constuctor')\n",
    "a = str()\n",
    "# we can also do str('') with same result\n",
    "print(type(a))\n",
    "print(aa:= hex(id(a)))\n",
    "\n",
    "print(note := 'or we can use let python do the work')\n",
    "b = ''\n",
    "print(type(b))\n",
    "print( ab := hex(id(b)))\n",
    "\n",
    "\n",
    "\n"
   ]
  },
  {
   "cell_type": "code",
   "execution_count": 95,
   "metadata": {},
   "outputs": [
    {
     "name": "stdout",
     "output_type": "stream",
     "text": [
      "did you notice how both address are same?\n",
      "python do lot of optimization, one of them is string interning\n",
      "same stings would/can point to same address,how this behaviour actually implemented depends on the compiler/platform\n",
      "\n",
      "love\n",
      "0x7f89b6c37970\n",
      "\n",
      "love\n",
      "0x7f89b6c37970\n",
      "\n",
      "they might not have same adress but they will have same hash value, these hash values are used\n",
      "by dict to find the keys, and to ensure we dont have duplicate keys ever in our dict \n",
      "\n",
      "0x3b5eca93fff96f2e\n",
      "0x3b5eca93fff96f2e\n"
     ]
    }
   ],
   "source": [
    "print(note := 'did you notice how both address are same?')\n",
    "print(note := 'python do lot of optimization, one of them is string interning')\n",
    "print(note := 'same stings would/can point to same address,\\\n",
    "how this behaviour actually implemented depends on the compiler/platform')\n",
    "print()\n",
    "\n",
    "a = \"love\"\n",
    "b = \"love\"\n",
    "\n",
    "print(a)\n",
    "print(hex(id(a)))\n",
    "\n",
    "assert aa !=  hex(id(a))\n",
    "print()\n",
    "print(b)\n",
    "print(hex(id(b)))\n",
    "\n",
    "assert ab != hex(id(b))\n",
    "print()\n",
    "print( note:= 'they might not have same adress but they will have same hash value, these hash values are used')\n",
    "print( note:= 'by dict to find the keys, and to ensure we dont have duplicate keys ever in our dict ')\n",
    "print()\n",
    "print(hex(hash(b)))\n",
    "print(hex(hash(a)))"
   ]
  },
  {
   "cell_type": "code",
   "execution_count": 96,
   "metadata": {},
   "outputs": [
    {
     "name": "stdout",
     "output_type": "stream",
     "text": [
      "strings are also immutable in python\n",
      "\n",
      "we can do addition on the strings\n",
      "lovelife\n",
      "0x7f89b6c7fa30\n",
      "\n",
      "lovelife\n",
      "0x7f89b6d632f0\n",
      "\n",
      "-0x784a8a3e7091bb4e\n",
      "-0x784a8a3e7091bb4e\n"
     ]
    }
   ],
   "source": [
    "print(note := 'strings are also immutable in python')\n",
    "print()\n",
    "print(note := 'we can do addition on the strings')\n",
    "a+='life'\n",
    "b+='life'\n",
    "print(a)\n",
    "print(hex(id(a)))\n",
    "print()\n",
    "print(b)\n",
    "print(hex(id(b)))\n",
    "print()\n",
    "print(hex(hash(a)))\n",
    "print(hex(hash(b)))"
   ]
  },
  {
   "cell_type": "code",
   "execution_count": 98,
   "metadata": {},
   "outputs": [
    {
     "name": "stdout",
     "output_type": "stream",
     "text": [
      "always do dir on the objects .. you will learn something about that object\n",
      "['__add__', '__class__', '__contains__', '__delattr__', '__dir__', '__doc__', '__eq__', '__format__', '__ge__', '__getattribute__', '__getitem__', '__getnewargs__', '__gt__', '__hash__', '__init__', '__init_subclass__', '__iter__', '__le__', '__len__', '__lt__', '__mod__', '__mul__', '__ne__', '__new__', '__reduce__', '__reduce_ex__', '__repr__', '__rmod__', '__rmul__', '__setattr__', '__sizeof__', '__str__', '__subclasshook__', 'capitalize', 'casefold', 'center', 'count', 'encode', 'endswith', 'expandtabs', 'find', 'format', 'format_map', 'index', 'isalnum', 'isalpha', 'isascii', 'isdecimal', 'isdigit', 'isidentifier', 'islower', 'isnumeric', 'isprintable', 'isspace', 'istitle', 'isupper', 'join', 'ljust', 'lower', 'lstrip', 'maketrans', 'partition', 'removeprefix', 'removesuffix', 'replace', 'rfind', 'rindex', 'rjust', 'rpartition', 'rsplit', 'rstrip', 'split', 'splitlines', 'startswith', 'strip', 'swapcase', 'title', 'translate', 'upper', 'zfill']\n",
      "\n"
     ]
    }
   ],
   "source": [
    "print( note:= 'always do dir on the objects .. you will learn something about that object')\n",
    "print(dir(str))\n",
    "print()\n"
   ]
  },
  {
   "cell_type": "code",
   "execution_count": 99,
   "metadata": {},
   "outputs": [
    {
     "name": "stdout",
     "output_type": "stream",
     "text": [
      "str doesnt implement the __bool__ function,    and thus return the default value of True for non-empty string\n",
      "\n",
      "False True True\n",
      "This is called truthy and falsy behavior based on emptyness of a data structure,we shall check it futher later\n"
     ]
    }
   ],
   "source": [
    "try:\n",
    "    print(('0').__bool__())\n",
    "except AttributeError:\n",
    "    print(note := 'str doesnt implement the __bool__ function,\\\n",
    "    and thus return the default value of True for non-empty string')\n",
    "\n",
    "print()\n",
    "print(bool(''), bool('0'), bool('1'))\n",
    "print(note := 'This is called truthy and falsy behavior based on emptyness of a data structure,\\\n",
    "we shall check it further later')"
   ]
  },
  {
   "cell_type": "markdown",
   "metadata": {},
   "source": [
    "## Lets look at the higher level data structures "
   ]
  },
  {
   "cell_type": "code",
   "execution_count": 100,
   "metadata": {},
   "outputs": [
    {
     "name": "stdout",
     "output_type": "stream",
     "text": [
      "Python has many inbuilt higher level data structures to make life of programmer easy\n",
      "lets look at lists first\n",
      "we can create the list either by using the list() function\n",
      "<class 'list'>\n",
      "\n",
      "or we can use the square brackets [] to create one\n",
      "<class 'list'>\n",
      "\n",
      "they are allocated their own memory space\n",
      "0x7f89b6d68f40\n",
      "0x7f89b6cadc40\n"
     ]
    }
   ],
   "source": [
    "\n",
    "print(note := 'Python has many inbuilt higher level data structures to make life of programmer easy')\n",
    "\n",
    "print(note := 'lets look at lists first')\n",
    "\n",
    "print(note := 'we can create the list either by using the list() function')\n",
    "some_list1 = list()\n",
    "print(type(some_list1))\n",
    "print()\n",
    "\n",
    "print(note := 'or we can use the square brackets [] to create one')\n",
    "some_list2 = []\n",
    "print(type(some_list2))\n",
    "print()\n",
    "\n",
    "print(note := \"they are allocated their own memory space\")\n",
    "print(hex(id(some_list1)))\n",
    "print(hex(id(some_list2)))"
   ]
  },
  {
   "cell_type": "code",
   "execution_count": 35,
   "metadata": {},
   "outputs": [
    {
     "name": "stdout",
     "output_type": "stream",
     "text": [
      "and you guessed it right ...list are mutable, i.e. we can change their content inplace\n",
      "\n",
      "Lets take the address of the list\n",
      "0x7f89b6cadc40\n",
      "\n",
      "now add few items top this list\n",
      "\n",
      "we have added different type of items to list, one is string, other is int\n",
      "['yes', 1]\n",
      "\n",
      "the address of list remains the same\n",
      "0x7f89b6cadc40\n"
     ]
    }
   ],
   "source": [
    "print(note := 'and you guessed it right ...list are mutable, i.e. we can change their content inplace')\n",
    "print()\n",
    "print(note := 'Lets take the address of the list')\n",
    "print(some_list_add1 := hex(id(some_list1)))\n",
    "print()\n",
    "print(note := 'now add few items top this list')\n",
    "some_list1.append('yes')\n",
    "some_list1.append(1)\n",
    "print()\n",
    "print(note := 'we have added different type of items to list, one is string, other is int')\n",
    "print(some_list1)\n",
    "print()\n",
    "print(note := 'the address of list remains the same')\n",
    "print(hex(id(some_list1)))\n",
    "assert some_list_add1 == hex(id(some_list1))"
   ]
  },
  {
   "cell_type": "code",
   "execution_count": 36,
   "metadata": {},
   "outputs": [
    {
     "name": "stdout",
     "output_type": "stream",
     "text": [
      "but please note that concatenating the list would change the address as+ creates a new copy of list and assign to the variable\n",
      "['yes', 1, 'no']\n",
      "0x7f89b6a7d880\n",
      "\n",
      "['yes', 1]\n",
      "0x7f89b6cadc40\n",
      "\n",
      "what all function does list supports?\n",
      "append\n",
      "clear\n",
      "copy\n",
      "count\n",
      "extend\n",
      "index\n",
      "insert\n",
      "pop\n",
      "remove\n",
      "reverse\n",
      "sort\n"
     ]
    }
   ],
   "source": [
    "print( note := 'but please note that concatenating the list would change the address as\\\n",
    "+ creates a new copy of list and assign to the variable')\n",
    "some_list2 = some_list1 + ['no']\n",
    "print(some_list2)\n",
    "print(hex(id(some_list2)))\n",
    "print()\n",
    "print(some_list1)\n",
    "print(some_list_add1)\n",
    "assert hex(id(some_list2)) != some_list_add1\n",
    "\n",
    "\n",
    "print()\n",
    "print(note := 'what all function does list supports?')\n",
    "for item in dir(some_list1):\n",
    "    if not ('__' in item):\n",
    "        print(item)\n"
   ]
  },
  {
   "cell_type": "code",
   "execution_count": 104,
   "metadata": {},
   "outputs": [
    {
     "name": "stdout",
     "output_type": "stream",
     "text": [
      "lets have a look at one concrete example of mutability and immutability,especially in context of functions\n",
      "\n",
      "content before we call function\n",
      "lovelife\n",
      "['love', 'life']\n",
      "\n",
      "address before we call function\n",
      "0x7f89b6c378f0\n",
      "0x7f89b6c14680\n",
      "\n",
      "we are inside the function my_func\n",
      "Address of string and list\n",
      "0x7f89b6c378f0\n",
      "0x7f89b6c14680\n",
      "\n",
      "lovelifealways\n",
      "['love', 'life', 'always']\n",
      "\n",
      "Address of string and list\n",
      "0x7f89b6c6ccf0\n",
      "0x7f89b6c14680\n",
      "\n",
      "done with function my_func\n",
      "\n",
      "content after we call function\n",
      "lovelife\n",
      "['love', 'life', 'always']\n",
      "\n",
      "address after we call function\n",
      "0x7f89b6c378f0\n",
      "0x7f89b6c14680\n",
      "\n",
      "\n",
      "in the above example the list, a mutable type, in global space got updated as it was updated inside the fuction\n",
      "but the string which immutable has no impact in the global context for the changes done inside the fuction\n"
     ]
    }
   ],
   "source": [
    "print(note := 'lets have a look at one concrete example of mutability and immutability,\\\n",
    "especially in context of functions')\n",
    "\n",
    "sstr = \"lovelife\"\n",
    "\n",
    "slist = ['love', 'life']\n",
    "\n",
    "print()\n",
    "print(\"content before we call function\")\n",
    "print(sstr)\n",
    "print(slist)\n",
    "print()\n",
    "print(\"address before we call function\")\n",
    "print(hex(id(sstr)))\n",
    "print(hex(id(slist)))\n",
    "print()\n",
    "\n",
    "def my_func(string, listed):\n",
    "    print(\"we are inside the function my_func\")\n",
    "    print(\"Address of string and list\")\n",
    "    print(hex(id(string)))\n",
    "    print(hex(id(listed)))\n",
    "    print()\n",
    "    string+='always'\n",
    "    print(string)\n",
    "    listed.append('always')\n",
    "    print(listed)\n",
    "    print()\n",
    "    print(\"Address of string and list\")\n",
    "    print(hex(id(string)))\n",
    "    print(hex(id(listed)))\n",
    "    print()\n",
    "    print(\"done with function my_func\")\n",
    "\n",
    "my_func(sstr, slist)\n",
    "\n",
    "print()\n",
    "print(\"content after we call function\")\n",
    "print(sstr)\n",
    "print(slist)\n",
    "print()\n",
    "print(\"address after we call function\")\n",
    "print(hex(id(sstr)))\n",
    "print(hex(id(slist)))\n",
    "print()\n",
    "\n",
    "print()\n",
    "print(note := \"in the above example the list, a mutable type, in global space got updated as it was updated inside the fuction\")\n",
    "print(note := \"but the string which immutable has no impact in the global context for the changes done inside the fuction\")"
   ]
  },
  {
   "cell_type": "code",
   "execution_count": 106,
   "metadata": {},
   "outputs": [
    {
     "name": "stdout",
     "output_type": "stream",
     "text": [
      "remeber the last session ? we talked about global and local and non local ?\n",
      "\n",
      "content before we call function\n",
      "lovelife\n",
      "['love', 'life']\n",
      "\n",
      "address before we call function\n",
      "0x7f89b6c378f0\n",
      "0x7f89b6cad940\n",
      "\n",
      "we are inside the function my_func\n",
      "Address of string and list\n",
      "0x7f89b6c378f0\n",
      "0x7f89b6cad940\n",
      "\n",
      "lovelifealways\n",
      "['love', 'life', 'always']\n",
      "\n",
      "Address of string and list\n",
      "0x7f89b6d220b0\n",
      "0x7f89b6cad940\n",
      "\n",
      "done with function my_func\n",
      "\n",
      "content after we call function\n",
      "lovelifealways\n",
      "['love', 'life', 'always']\n",
      "\n",
      "address after we call function\n",
      "0x7f89b6d220b0\n",
      "0x7f89b6cad940\n",
      "\n",
      "\n",
      "we told python to update the value in global context and thus we see the change\n"
     ]
    }
   ],
   "source": [
    "print(note := 'remeber the last session ? we talked about global and local and non local ?')\n",
    "\n",
    "sstr = \"lovelife\"\n",
    "\n",
    "slist = ['love', 'life']\n",
    "\n",
    "print()\n",
    "print(\"content before we call function\")\n",
    "print(sstr)\n",
    "print(slist)\n",
    "print()\n",
    "print(\"address before we call function\")\n",
    "print(hex(id(sstr)))\n",
    "print(hex(id(slist)))\n",
    "print()\n",
    "\n",
    "def my_func():\n",
    "    global sstr \n",
    "    global slist\n",
    "    print(\"we are inside the function my_func\")\n",
    "    print(\"Address of string and list\")\n",
    "    print(hex(id(sstr)))\n",
    "    print(hex(id(slist)))\n",
    "    print()\n",
    "    sstr+='always'\n",
    "    print(sstr)\n",
    "    slist.append('always')\n",
    "    print(slist)\n",
    "    print()\n",
    "    print(\"Address of string and list\")\n",
    "    print(hex(id(sstr)))\n",
    "    print(hex(id(slist)))\n",
    "    print()\n",
    "    print(\"done with function my_func\")\n",
    "\n",
    "my_func()\n",
    "\n",
    "print()\n",
    "print(\"content after we call function\")\n",
    "print(sstr)\n",
    "print(slist)\n",
    "print()\n",
    "print(\"address after we call function\")\n",
    "print(hex(id(sstr)))\n",
    "print(hex(id(slist)))\n",
    "print()\n",
    "\n",
    "print()\n",
    "print(note := \"we told python to update the value in global context and thus we see the change\")"
   ]
  },
  {
   "cell_type": "code",
   "execution_count": 107,
   "metadata": {},
   "outputs": [
    {
     "name": "stdout",
     "output_type": "stream",
     "text": [
      "lets look dict now ... my favorite data structure\n",
      "\n",
      "we can create the dict either by using the dict() function\n",
      "<class 'dict'>\n",
      "0x7f89b6d69340\n",
      "\n",
      "or we can use the curly brackets {} to create one\n",
      "<class 'dict'>\n",
      "0x7f89b6a76e00\n",
      "\n"
     ]
    }
   ],
   "source": [
    "print(note := 'lets look dict now ... my favorite data structure')\n",
    "print()\n",
    "print(note := 'we can create the dict either by using the dict() function')\n",
    "some_dict1 = dict()\n",
    "print(type(some_dict1))\n",
    "print(some_dict_add1 := hex(id(some_dict1)))\n",
    "print()\n",
    "print(note := 'or we can use the curly brackets {} to create one')\n",
    "some_dict2 = {}\n",
    "print(type(some_dict2))\n",
    "print(hex(id(some_dict2)))\n",
    "print()"
   ]
  },
  {
   "cell_type": "code",
   "execution_count": 108,
   "metadata": {},
   "outputs": [
    {
     "name": "stdout",
     "output_type": "stream",
     "text": [
      "dict are also mutable, i.e. we can change the content of them, i.e. the conetent in the memory of the object itself changes\n",
      "{'yes': 0, 'no': 1}\n",
      "0x7f89b6d69340\n",
      "\n"
     ]
    }
   ],
   "source": [
    "print(note := 'dict are also mutable, i.e. we can change the content of them, i.e. the conetent in the memory of the object itself changes')\n",
    "some_dict1['yes'] = 0\n",
    "some_dict1['no'] = 1\n",
    "print(some_dict1)\n",
    "print(hex(id(some_dict1)))\n",
    "assert some_dict_add1 == hex(id(some_dict1))\n",
    "print()\n"
   ]
  },
  {
   "cell_type": "code",
   "execution_count": 109,
   "metadata": {},
   "outputs": [
    {
     "name": "stdout",
     "output_type": "stream",
     "text": [
      "we can change the content again and again and yet the address will remain the same\n",
      "{'yes': 1, 'no': 0}\n",
      "0x7f89b6d69340\n",
      "\n"
     ]
    }
   ],
   "source": [
    "print(note := 'we can change the content again and again and yet the address will remain the same')\n",
    "some_dict1['yes'] = 1\n",
    "some_dict1['no'] = 0\n",
    "print(some_dict1)\n",
    "print(hex(id(some_dict1)))\n",
    "assert some_dict_add1 == hex(id(some_dict1))\n",
    "print()"
   ]
  },
  {
   "cell_type": "code",
   "execution_count": 41,
   "metadata": {},
   "outputs": [
    {
     "name": "stdout",
     "output_type": "stream",
     "text": [
      "what all function does dict supports?\n",
      "clear\n",
      "copy\n",
      "fromkeys\n",
      "get\n",
      "items\n",
      "keys\n",
      "pop\n",
      "popitem\n",
      "setdefault\n",
      "update\n",
      "values\n"
     ]
    }
   ],
   "source": [
    "print(note := 'what all function does dict supports?')\n",
    "for item in dir(some_dict1):\n",
    "    if not ('__' in item):\n",
    "        print(item)\n"
   ]
  },
  {
   "cell_type": "code",
   "execution_count": 137,
   "metadata": {},
   "outputs": [
    {
     "name": "stdout",
     "output_type": "stream",
     "text": [
      "lets have a look at the set\n",
      "sets are also mutable\n",
      "\n",
      "we can create the sets either by using the set() function\n",
      "\n",
      "set()\n",
      "<class 'set'>\n",
      "0x7f89b6c56820\n",
      "\n",
      "\n",
      "all datatypes have hash implement,set also uses the hash function internally to ensure that we dont add duplicates to set\n",
      "\n",
      "0x1\n",
      "0x1\n",
      "-0x50528e762ce716bb\n",
      "-0x50528e762ce716bb\n",
      "\n",
      "{'yes', 1, 'no'}\n",
      "0x7f89b6c56820\n",
      "\n"
     ]
    }
   ],
   "source": [
    "print(note := 'lets have a look at the set')\n",
    "print(note := 'sets are also mutable')\n",
    "print()\n",
    "print(note := 'we can create the sets either by using the set() function')\n",
    "some_set1 = set()\n",
    "print()\n",
    "print(some_set1)\n",
    "print(type(some_set1))\n",
    "print(hex(id(some_set1)))\n",
    "print()\n",
    "some_set1.add('yes')\n",
    "some_set1.add('no')\n",
    "some_set1.add(1)\n",
    "# set contains only the unique items \n",
    "# we will not see two 1s in out set \n",
    "some_set1.add(1)\n",
    "some_set1.add('no')\n",
    "print()\n",
    "print( note:= 'all datatypes have hash implement,\\\n",
    "set also uses the hash function internally to ensure that we dont add duplicates to set')\n",
    "print()\n",
    "print(hex(hash(1)))\n",
    "print(hex(int(1).__hash__()))\n",
    "print(hex(hash('no')))\n",
    "print(hex(str('no').__hash__()))\n",
    "print()\n",
    "print(some_set1)\n",
    "print(hex(id(some_set1)))\n",
    "print()"
   ]
  },
  {
   "cell_type": "code",
   "execution_count": 119,
   "metadata": {},
   "outputs": [
    {
     "name": "stdout",
     "output_type": "stream",
     "text": [
      "we can also create set by using the {} brackets\n",
      "but remember that if we do not add some values to {} python will assume that you wanted to create an empty dict\n",
      "\n",
      "{'yes', 'no', 'maybe'}\n",
      "<class 'set'>\n",
      "0x7f89b6c56200\n",
      "\n",
      "{1, 2, 3, 'no', 'maybe', 'yes'}\n",
      "0x7f89b6c56200\n",
      "\n"
     ]
    }
   ],
   "source": [
    "print(note := 'we can also create set by using the {} brackets')\n",
    "print(note := 'but remember that if we do not add some values to {} python will assume that you wanted to create an empty dict')\n",
    "some_set2 = {'yes', 'no', 'maybe'}\n",
    "print()\n",
    "print(some_set2)\n",
    "print(type(some_set2))\n",
    "print(hex(id(some_set2)))\n",
    "assert type(some_set2) == type(some_set1)\n",
    "print()\n",
    "some_set2.add(1)\n",
    "some_set2.add(2)\n",
    "some_set2.add(3)\n",
    "print(some_set2)\n",
    "print(hex(id(some_set2)))\n",
    "print()\n"
   ]
  },
  {
   "cell_type": "code",
   "execution_count": 120,
   "metadata": {},
   "outputs": [
    {
     "name": "stdout",
     "output_type": "stream",
     "text": [
      "what all function does set supports?\n",
      "add\n",
      "clear\n",
      "copy\n",
      "difference\n",
      "difference_update\n",
      "discard\n",
      "intersection\n",
      "intersection_update\n",
      "isdisjoint\n",
      "issubset\n",
      "issuperset\n",
      "pop\n",
      "remove\n",
      "symmetric_difference\n",
      "symmetric_difference_update\n",
      "union\n",
      "update\n"
     ]
    }
   ],
   "source": [
    "print(note := 'what all function does set supports?')\n",
    "for item in dir(some_set1):\n",
    "    if not ('__' in item):\n",
    "        print(item)"
   ]
  },
  {
   "cell_type": "code",
   "execution_count": 45,
   "metadata": {},
   "outputs": [
    {
     "name": "stdout",
     "output_type": "stream",
     "text": [
      "now finally lets have a look at the tuples\n",
      "tuples are immutable like strings\n",
      "we can create the tuple either by using the tuple() function\n",
      "\n",
      "()\n",
      "<class 'tuple'>\n",
      "we can not change the above empty tuple, but we can point the \"empty_tuple\" to new tuple/data type\n",
      "\n"
     ]
    }
   ],
   "source": [
    "print(note := 'now finally lets have a look at the tuples')\n",
    "print(note := 'tuples are immutable like strings')\n",
    "print(note := 'we can create the tuple either by using the tuple() function')\n",
    "print()\n",
    "empty_tuple = tuple()\n",
    "print(empty_tuple)\n",
    "print(type(empty_tuple))\n",
    "print(note := 'we can not change the above empty tuple, but we can point the \"empty_tuple\" to new tuple/data type')\n",
    "print()"
   ]
  },
  {
   "cell_type": "code",
   "execution_count": 121,
   "metadata": {},
   "outputs": [
    {
     "name": "stdout",
     "output_type": "stream",
     "text": [
      "we can create tuple by using the () brackets and values separated by comma\n",
      "\n",
      "('yes', 'no', 'maybe')\n",
      "<class 'tuple'>\n",
      "0x7f89b6c84040\n",
      "\n"
     ]
    }
   ],
   "source": [
    "print(note := 'we can create tuple by using the () brackets and values separated by comma')\n",
    "print()\n",
    "some_tuple = ('yes', 'no', 'maybe')\n",
    "print(some_tuple)\n",
    "print(type(some_tuple))\n",
    "print(hex(id(some_tuple)))\n",
    "print()"
   ]
  },
  {
   "cell_type": "code",
   "execution_count": 122,
   "metadata": {},
   "outputs": [
    {
     "name": "stdout",
     "output_type": "stream",
     "text": [
      "we can create tuple by using the just the comma separated values\n",
      "\n",
      "('yes', 'no', 'maybe', 'really?')\n",
      "<class 'tuple'>\n",
      "0x7f89b6d6e9a0\n"
     ]
    }
   ],
   "source": [
    "print(note := 'we can create tuple by using the just the comma separated values')\n",
    "print()\n",
    "some_tuple = 'yes', 'no', 'maybe', 'really?'\n",
    "print(some_tuple)\n",
    "print(type(some_tuple))\n",
    "print(hex(id(some_tuple)))"
   ]
  },
  {
   "cell_type": "code",
   "execution_count": 123,
   "metadata": {},
   "outputs": [
    {
     "name": "stdout",
     "output_type": "stream",
     "text": [
      "so for tuples , is more important than ()\n",
      "below we shall create an int and not the tuple\n",
      "<class 'int'>\n",
      "\n",
      "if we insert the comma we shall have the tuple\n",
      "<class 'tuple'>\n",
      "\n",
      " and as mentioned before we can remove the brackets too\n",
      "<class 'tuple'>\n",
      "\n"
     ]
    }
   ],
   "source": [
    "print(note := 'so for tuples , is more important than ()')\n",
    "print(note := 'below we shall create an int and not the tuple')\n",
    "test_tuple = (1)\n",
    "print(type(test_tuple))\n",
    "assert type(test_tuple) != type(some_tuple)\n",
    "print()\n",
    "print(note := 'if we insert the comma we shall have the tuple')\n",
    "test_tuple = (1,)\n",
    "print(type(test_tuple))\n",
    "assert type(test_tuple) == type(some_tuple)\n",
    "print()\n",
    "print(note := ' and as mentioned before we can remove the brackets too')\n",
    "test_tuple = 1,\n",
    "print(type(test_tuple))\n",
    "assert type(test_tuple) == type(some_tuple)\n",
    "print()\n"
   ]
  },
  {
   "cell_type": "code",
   "execution_count": 49,
   "metadata": {},
   "outputs": [
    {
     "name": "stdout",
     "output_type": "stream",
     "text": [
      "what all function does tuples supports?\n",
      "count\n",
      "index\n"
     ]
    }
   ],
   "source": [
    "print(note := 'what all function does tuples supports?')\n",
    "for item in dir(some_tuple):\n",
    "    if not ('__' in item):\n",
    "        print(item)"
   ]
  },
  {
   "cell_type": "code",
   "execution_count": 132,
   "metadata": {},
   "outputs": [
    {
     "name": "stdout",
     "output_type": "stream",
     "text": [
      "lets look at another scenario with mutable and immutable in context of function\n",
      "[1, 2, 3, 4, '5']\n",
      "{'yes', 'no', 'really'}\n",
      "{'yes': 1, 'no': 0, 'maybe': -1}\n"
     ]
    }
   ],
   "source": [
    "print( note:= 'lets look at another scenario with mutable and immutable in context of function')\n",
    "# both set and list are mutable \n",
    "sl = [1,2,3,4]\n",
    "ss = {'yes', 'no'}\n",
    "sd = {'yes':1, 'no': 0}\n",
    "\n",
    "# tuple is immutable that is we can't modify it \n",
    "# which basically translates to that we can't add more item to this tuple\n",
    "st = ( sl, ss, sd )\n",
    "\n",
    "def modify(t):\n",
    "    # we can't modify the touple itself, but can modify the mutable ds inside it \n",
    "    t[0].append('5')\n",
    "    t[1].add('really')\n",
    "    t[2].update({'maybe': -1}) \n",
    "\n",
    "modify(st)\n",
    "\n",
    "# and we an see the impact on the global list and set created earlier \n",
    "print(sl)\n",
    "print(ss)\n",
    "print(sd)"
   ]
  },
  {
   "cell_type": "code",
   "execution_count": 51,
   "metadata": {},
   "outputs": [
    {
     "name": "stdout",
     "output_type": "stream",
     "text": [
      "and finally coming back to the truthy and falsy behaviour in python\n",
      "\n",
      "An empty sequence type object or mapping type is Falsy, a non-empty one is truthy\n",
      "\n",
      "True False\n",
      "True False\n",
      "True False\n",
      "True False\n"
     ]
    }
   ],
   "source": [
    "print( note:= 'and finally coming back to the truthy and falsy behaviour in python')\n",
    "print()\n",
    "print(note := 'An empty sequence type object or mapping type is Falsy, a non-empty one is truthy')\n",
    "print()\n",
    "print(bool([1]), bool([]))\n",
    "print(bool({'yes'}), bool({}))\n",
    "print(bool(('yes',)), bool(tuple()))\n",
    "print(bool({'yes':'no'}), bool(set()))\n"
   ]
  },
  {
   "cell_type": "markdown",
   "metadata": {},
   "source": [
    "## That's all folks "
   ]
  },
  {
   "cell_type": "code",
   "execution_count": 136,
   "metadata": {},
   "outputs": [
    {
     "name": "stdout",
     "output_type": "stream",
     "text": [
      "we learned about how we can use the constructers to create datatypes, like other languages like java etc\n",
      "we learned about int, float, bool, dict, set, tuples\n",
      "we learned about the difference between mutable and immutable\n",
      "we learned about mutable and immutable behaviour in context of functions\n",
      "and we also learned about the truthyness and falsyness behaviour\n",
      "\n",
      "hope you all enjoyed the session!!!\n",
      "\n",
      "That's all folks\n"
     ]
    }
   ],
   "source": [
    "print( note:= \"we learned about how we can use the constructers to create datatypes, like other languages like java etc\")\n",
    "print( note:= \"we learned about int, float, bool, dict, set, tuples\")\n",
    "print( note:= \"we learned about the difference between mutable and immutable\")\n",
    "print( note:= \"we learned about mutable and immutable behaviour in context of functions\")\n",
    "print( note:= \"and we also learned about the truthyness and falsyness behaviour\")\n",
    "print()\n",
    "print( note:= \"Hope you all enjoyed the session!!!\")\n",
    "print()\n",
    "print( note:= \"That's all folks\")"
   ]
  },
  {
   "cell_type": "code",
   "execution_count": null,
   "metadata": {},
   "outputs": [],
   "source": []
  }
 ],
 "metadata": {
  "kernelspec": {
   "display_name": "Python 3",
   "language": "python",
   "name": "python3"
  },
  "language_info": {
   "codemirror_mode": {
    "name": "ipython",
    "version": 3
   },
   "file_extension": ".py",
   "mimetype": "text/x-python",
   "name": "python",
   "nbconvert_exporter": "python",
   "pygments_lexer": "ipython3",
   "version": "3.9.0"
  }
 },
 "nbformat": 4,
 "nbformat_minor": 4
}
